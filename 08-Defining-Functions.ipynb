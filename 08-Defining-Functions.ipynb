{
  "nbformat": 4,
  "nbformat_minor": 0,
  "metadata": {
    "anaconda-cloud": {},
    "kernelspec": {
      "display_name": "Python 3",
      "language": "python",
      "name": "python3"
    },
    "language_info": {
      "codemirror_mode": {
        "name": "ipython",
        "version": 3
      },
      "file_extension": ".py",
      "mimetype": "text/x-python",
      "name": "python",
      "nbconvert_exporter": "python",
      "pygments_lexer": "ipython3",
      "version": "3.5.1"
    },
    "colab": {
      "name": "08-Defining-Functions.ipynb",
      "provenance": [],
      "include_colab_link": true
    }
  },
  "cells": [
    {
      "cell_type": "markdown",
      "metadata": {
        "id": "view-in-github",
        "colab_type": "text"
      },
      "source": [
        "<a href=\"https://colab.research.google.com/github/MasakazuNaganuma/WhirlwindTourOfPython/blob/master/08-Defining-Functions.ipynb\" target=\"_parent\"><img src=\"https://colab.research.google.com/assets/colab-badge.svg\" alt=\"Open In Colab\"/></a>"
      ]
    },
    {
      "cell_type": "markdown",
      "metadata": {
        "id": "dfuotTdFijUF",
        "colab_type": "text"
      },
      "source": [
        "<!--BOOK_INFORMATION-->\n",
        "<img align=\"left\" style=\"padding-right:10px;\" src=\"https://github.com/MasakazuNaganuma/WhirlwindTourOfPython/blob/master/fig/cover-small.jpg?raw=1\">\n",
        "*This notebook contains an excerpt from the [Whirlwind Tour of Python](http://www.oreilly.com/programming/free/a-whirlwind-tour-of-python.csp) by Jake VanderPlas; the content is available [on GitHub](https://github.com/jakevdp/WhirlwindTourOfPython).*\n",
        "\n",
        "*The text and code are released under the [CC0](https://github.com/jakevdp/WhirlwindTourOfPython/blob/master/LICENSE) license; see also the companion project, the [Python Data Science Handbook](https://github.com/jakevdp/PythonDataScienceHandbook).*\n"
      ]
    },
    {
      "cell_type": "markdown",
      "metadata": {
        "id": "mRNMiFPrijUG",
        "colab_type": "text"
      },
      "source": [
        "<!--NAVIGATION-->\n",
        "< [Control Flow](07-Control-Flow-Statements.ipynb) | [Contents](Index.ipynb) | [Errors and Exceptions](09-Errors-and-Exceptions.ipynb) >"
      ]
    },
    {
      "cell_type": "markdown",
      "metadata": {
        "id": "Foj00EQzijUH",
        "colab_type": "text"
      },
      "source": [
        "# 関数の定義と使用法\n",
        "# Defining and Using Functions\n"
      ]
    },
    {
      "cell_type": "markdown",
      "metadata": {
        "id": "lK31msQtijUI",
        "colab_type": "text"
      },
      "source": [
        "So far, our scripts have been simple, single-use code blocks.\n",
        "One way to organize our Python code and to make it more readable and reusable is to factor-out useful pieces into reusable *functions*.\n",
        "Here we'll cover two ways of creating functions: the ``def`` statement, useful for any type of function, and the ``lambda`` statement, useful for creating short anonymous functions.\n",
        "\n",
        "これまでのところ、私たちのスクリプトはシンプルな単一のコードブロックでした。\n",
        "Pythonのコードを整理し、より読みやすく再利用可能なものにするための一つの方法は、便利な部分を再利用可能な*関数*に分解することです。\n",
        "ここでは、関数を作成するための2つの方法について説明します： ``def`` 文はどんなタイプの関数にも使えます。"
      ]
    },
    {
      "cell_type": "markdown",
      "metadata": {
        "id": "JBLcBsOCijUJ",
        "colab_type": "text"
      },
      "source": [
        "## 関数を使う\n",
        "## Using Functions\n",
        "\n",
        "Functions are groups of code that have a name, and can be called using parentheses.\n",
        "We've seen functions before. For example, ``print`` in Python 3 is a function:\n",
        "\n",
        "関数は名前がついていて、括弧を使って呼び出すことができるコードのグループです。\n",
        "関数は以前にも見たことがあります。例えば、Python 3 の ``print`` は関数です。"
      ]
    },
    {
      "cell_type": "code",
      "metadata": {
        "id": "HNXT-Q0nijUK",
        "colab_type": "code",
        "colab": {},
        "outputId": "c47bb164-75c5-4cbb-ca97-cf87c0bfb5ca"
      },
      "source": [
        "print('abc')"
      ],
      "execution_count": 0,
      "outputs": [
        {
          "output_type": "stream",
          "text": [
            "abc\n"
          ],
          "name": "stdout"
        }
      ]
    },
    {
      "cell_type": "markdown",
      "metadata": {
        "id": "dqWlaMl2ijUP",
        "colab_type": "text"
      },
      "source": [
        "Here ``print`` is the function name, and ``'abc'`` is the function's *argument*.\n",
        "\n",
        "In addition to arguments, there are *keyword arguments* that are specified by name.\n",
        "One available keyword argument for the ``print()`` function (in Python 3) is ``sep``, which tells what character or characters should be used to separate multiple items:\n",
        "\n",
        "ここで ``print`` は関数名、``'abc'`` は関数の *引数* です。\n",
        "\n",
        "引数の他に、名前で指定される*キーワード引数*もあります。\n",
        "(Python 3では) ``print()``関数で利用可能なキーワード引数の1つは ``sep`` で、複数の項目を区切る際にどの文字を使うかを指定します。"
      ]
    },
    {
      "cell_type": "code",
      "metadata": {
        "id": "KlqOMgZAijUP",
        "colab_type": "code",
        "colab": {},
        "outputId": "fcc1fbcc-5e34-4047-f093-60311d8075a6"
      },
      "source": [
        "print(1, 2, 3)"
      ],
      "execution_count": 0,
      "outputs": [
        {
          "output_type": "stream",
          "text": [
            "1 2 3\n"
          ],
          "name": "stdout"
        }
      ]
    },
    {
      "cell_type": "code",
      "metadata": {
        "id": "Jixqpv31ijUS",
        "colab_type": "code",
        "colab": {},
        "outputId": "1c89114e-c8e7-4813-d852-0828d1689572"
      },
      "source": [
        "print(1, 2, 3, sep='--')"
      ],
      "execution_count": 0,
      "outputs": [
        {
          "output_type": "stream",
          "text": [
            "1--2--3\n"
          ],
          "name": "stdout"
        }
      ]
    },
    {
      "cell_type": "markdown",
      "metadata": {
        "id": "j2Y0Y0sXijUW",
        "colab_type": "text"
      },
      "source": [
        "When non-keyword arguments are used together with keyword arguments, the keyword arguments must come at the end.\n",
        "\n",
        "キーワード以外の引数をキーワード引数と一緒に使用する場合、キーワード引数は最後に来る必要があります。"
      ]
    },
    {
      "cell_type": "markdown",
      "metadata": {
        "id": "zMGw5kG9ijUX",
        "colab_type": "text"
      },
      "source": [
        "## 関数の定義\n",
        "## Defining Functions\n",
        "\n",
        "Functions become even more useful when we begin to define our own, organizing functionality to be used in multiple places.\n",
        "In Python, functions are defined with the ``def`` statement.\n",
        "For example, we can encapsulate a version of our Fibonacci sequence code from the previous section as follows:\n",
        "\n",
        "関数は、複数の場所で使えるように機能を整理して定義するようになると、さらに便利になります。\n",
        "Pythonでは、関数は ``def`` 文で定義されます。\n",
        "例えば、先ほどのフィボナッチ数列のコードを以下のようにカプセル化することができます。\n"
      ]
    },
    {
      "cell_type": "code",
      "metadata": {
        "id": "D6N85QJzijUX",
        "colab_type": "code",
        "colab": {}
      },
      "source": [
        "def fibonacci(N):\n",
        "    L = []\n",
        "    a, b = 0, 1\n",
        "    while len(L) < N:\n",
        "        a, b = b, a + b\n",
        "        L.append(a)\n",
        "    return L"
      ],
      "execution_count": 0,
      "outputs": []
    },
    {
      "cell_type": "markdown",
      "metadata": {
        "id": "f3sN9DcNijUa",
        "colab_type": "text"
      },
      "source": [
        "Now we have a function named ``fibonacci`` which takes a single argument ``N``, does something with this argument, and ``return``s a value; in this case, a list of the first ``N`` Fibonacci numbers:\n",
        "\n",
        "ここでは ``fibonacci`` という名前の関数があります。これは一つの引数 ``N`` を受け取り、この引数で何かを行い、 ``return`` は値を返します。"
      ]
    },
    {
      "cell_type": "code",
      "metadata": {
        "id": "MEpvQvRsijUa",
        "colab_type": "code",
        "colab": {},
        "outputId": "aeadb8d6-dd70-47ac-ad09-7c86bd0b8949"
      },
      "source": [
        "fibonacci(10)"
      ],
      "execution_count": 0,
      "outputs": [
        {
          "output_type": "execute_result",
          "data": {
            "text/plain": [
              "[1, 1, 2, 3, 5, 8, 13, 21, 34, 55]"
            ]
          },
          "metadata": {
            "tags": []
          },
          "execution_count": 5
        }
      ]
    },
    {
      "cell_type": "markdown",
      "metadata": {
        "id": "FIMkVzRQijUd",
        "colab_type": "text"
      },
      "source": [
        "If you're familiar with strongly-typed languages like ``C``, you'll immediately notice that there is no type information associated with the function inputs or outputs.\n",
        "Python functions can return any Python object, simple or compound, which means constructs that may be difficult in other languages are straightforward in Python.\n",
        "\n",
        "For example, multiple return values are simply put in a tuple, which is indicated by commas:\n",
        "\n",
        "もしあなたが ``C`` のような型付けの強い言語に慣れているなら、関数の入力や出力に型情報がないことにすぐに気づくでしょう。\n",
        "Pythonの関数はシンプルなものでも複合的なものでも、どんなPythonオブジェクトでも返すことができるので、他の言語では難しいかもしれませんが、Pythonでは簡単にできます。\n",
        "\n",
        "例えば、複数の戻り値は単純にタプルに入れられ、カンマで示されます。"
      ]
    },
    {
      "cell_type": "code",
      "metadata": {
        "id": "J20HL7lLijUe",
        "colab_type": "code",
        "colab": {},
        "outputId": "2b6ad110-b06d-4e61-f6da-b926bdca4e8d"
      },
      "source": [
        "def real_imag_conj(val):\n",
        "    return val.real, val.imag, val.conjugate()\n",
        "\n",
        "r, i, c = real_imag_conj(3 + 4j)\n",
        "print(r, i, c)"
      ],
      "execution_count": 0,
      "outputs": [
        {
          "output_type": "stream",
          "text": [
            "3.0 4.0 (3-4j)\n"
          ],
          "name": "stdout"
        }
      ]
    },
    {
      "cell_type": "markdown",
      "metadata": {
        "id": "vOzg1cBOijUg",
        "colab_type": "text"
      },
      "source": [
        "## デフォルトの引数値\n",
        "## Default Argument Values\n",
        "\n",
        "Often when defining a function, there are certain values that we want the function to use *most* of the time, but we'd also like to give the user some flexibility.\n",
        "In this case, we can use *default values* for arguments.\n",
        "Consider the ``fibonacci`` function from before.\n",
        "What if we would like the user to be able to play with the starting values?\n",
        "We could do that as follows:\n",
        "\n",
        "関数を定義する際には、関数が常に*ほとんど*使ってほしい値がありますが、ユーザーにも柔軟性を与えたいと思うことがよくあります。\n",
        "この場合、引数に *default 値* を使うことができます。\n",
        "先ほどの ``fibonacci`` 関数を考えてみましょう。\n",
        "ユーザが開始値を操作できるようにしたいとしたらどうでしょうか？\n",
        "次のようにします。"
      ]
    },
    {
      "cell_type": "code",
      "metadata": {
        "id": "D-kDw-SPijUh",
        "colab_type": "code",
        "colab": {}
      },
      "source": [
        "def fibonacci(N, a=0, b=1):\n",
        "    L = []\n",
        "    while len(L) < N:\n",
        "        a, b = b, a + b\n",
        "        L.append(a)\n",
        "    return L"
      ],
      "execution_count": 0,
      "outputs": []
    },
    {
      "cell_type": "markdown",
      "metadata": {
        "id": "arjoUYauijUk",
        "colab_type": "text"
      },
      "source": [
        "With a single argument, the result of the function call is identical to before:\n",
        "\n",
        "1つの引数で、関数呼び出しの結果は以前と同じです。\n"
      ]
    },
    {
      "cell_type": "code",
      "metadata": {
        "id": "3le9vBVGijUk",
        "colab_type": "code",
        "colab": {},
        "outputId": "14865f27-cbdc-4107-fd88-4a48ad40347c"
      },
      "source": [
        "fibonacci(10)"
      ],
      "execution_count": 0,
      "outputs": [
        {
          "output_type": "execute_result",
          "data": {
            "text/plain": [
              "[1, 1, 2, 3, 5, 8, 13, 21, 34, 55]"
            ]
          },
          "metadata": {
            "tags": []
          },
          "execution_count": 8
        }
      ]
    },
    {
      "cell_type": "markdown",
      "metadata": {
        "id": "zn_T1GUcijUm",
        "colab_type": "text"
      },
      "source": [
        "But now we can use the function to explore new things, such as the effect of new starting values:\n",
        "\n",
        "しかし、新しい開始値の効果など、新しいことを探求するためにこの関数を使うことができるようになりました。"
      ]
    },
    {
      "cell_type": "code",
      "metadata": {
        "id": "rOjOnbndijUn",
        "colab_type": "code",
        "colab": {},
        "outputId": "6c0efc16-493e-49ea-af48-e065adc51df0"
      },
      "source": [
        "fibonacci(10, 0, 2)"
      ],
      "execution_count": 0,
      "outputs": [
        {
          "output_type": "execute_result",
          "data": {
            "text/plain": [
              "[2, 2, 4, 6, 10, 16, 26, 42, 68, 110]"
            ]
          },
          "metadata": {
            "tags": []
          },
          "execution_count": 9
        }
      ]
    },
    {
      "cell_type": "markdown",
      "metadata": {
        "id": "my-zF-WUijUq",
        "colab_type": "text"
      },
      "source": [
        "The values can also be specified by name if desired, in which case the order of the named values does not matter:\n",
        "\n",
        "必要に応じて値を名前で指定することもできますが、その場合は名前のついた値の順番は問題になりません。"
      ]
    },
    {
      "cell_type": "code",
      "metadata": {
        "id": "s0rGd07WijUq",
        "colab_type": "code",
        "colab": {},
        "outputId": "ffad7ce5-8193-4665-f012-4e6f547aee33"
      },
      "source": [
        "fibonacci(10, b=3, a=1)"
      ],
      "execution_count": 0,
      "outputs": [
        {
          "output_type": "execute_result",
          "data": {
            "text/plain": [
              "[3, 4, 7, 11, 18, 29, 47, 76, 123, 199]"
            ]
          },
          "metadata": {
            "tags": []
          },
          "execution_count": 10
        }
      ]
    },
    {
      "cell_type": "markdown",
      "metadata": {
        "id": "N6vSs4UWijUs",
        "colab_type": "text"
      },
      "source": [
        "## ``*args`` と ``**kwargs``. 柔軟な引数\n",
        "## ``*args`` and ``**kwargs``: Flexible Arguments\n",
        "Sometimes you might wish to write a function in which you don't initially know how many arguments the user will pass.\n",
        "In this case, you can use the special form ``*args`` and ``**kwargs`` to catch all arguments that are passed.\n",
        "Here is an example:\n",
        "\n",
        "時には、ユーザが何個の引数を渡すかわからないような関数を書きたいと思うことがあるかもしれません。\n",
        "このような場合には ``*args`` と ``**kwargs`` という特殊な形式を使って、渡されたすべての引数をキャッチすることができます。\n",
        "以下に例を示します。"
      ]
    },
    {
      "cell_type": "code",
      "metadata": {
        "id": "dCZI82FEijUt",
        "colab_type": "code",
        "colab": {}
      },
      "source": [
        "def catch_all(*args, **kwargs):\n",
        "    print(\"args =\", args)\n",
        "    print(\"kwargs = \", kwargs)"
      ],
      "execution_count": 0,
      "outputs": []
    },
    {
      "cell_type": "code",
      "metadata": {
        "id": "spdoCFylijUw",
        "colab_type": "code",
        "colab": {},
        "outputId": "dea184aa-caae-4382-cc55-f99c9223157a"
      },
      "source": [
        "catch_all(1, 2, 3, a=4, b=5)"
      ],
      "execution_count": 0,
      "outputs": [
        {
          "output_type": "stream",
          "text": [
            "args = (1, 2, 3)\n",
            "kwargs =  {'a': 4, 'b': 5}\n"
          ],
          "name": "stdout"
        }
      ]
    },
    {
      "cell_type": "code",
      "metadata": {
        "id": "iRRTM-TtijUy",
        "colab_type": "code",
        "colab": {},
        "outputId": "341182b8-5cce-4558-c584-4a44994800d0"
      },
      "source": [
        "catch_all('a', keyword=2)"
      ],
      "execution_count": 0,
      "outputs": [
        {
          "output_type": "stream",
          "text": [
            "args = ('a',)\n",
            "kwargs =  {'keyword': 2}\n"
          ],
          "name": "stdout"
        }
      ]
    },
    {
      "cell_type": "markdown",
      "metadata": {
        "id": "3ftF-ZiIijU0",
        "colab_type": "text"
      },
      "source": [
        "Here it is not the names ``args`` and ``kwargs`` that are important, but the ``*`` characters preceding them.\n",
        "``args`` and ``kwargs`` are just the variable names often used by convention, short for \"arguments\" and \"keyword arguments\".\n",
        "The operative difference is the asterisk characters: a single ``*`` before a variable means \"expand this as a sequence\", while a double ``**`` before a variable means \"expand this as a dictionary\".\n",
        "In fact, this syntax can be used not only with the function definition, but with the function call as well!\n",
        "\n",
        "ここで重要なのは ``args`` や ``kwargs`` という名前ではなく、それらの前にある ``*`` という文字です。\n",
        "``args``と``kwargs``は規約でよく使われる変数名で、「引数」と「キーワード引数」の略です。\n",
        "操作上の違いはアスタリスク文字です。変数の前にある単一の ``*`` は「シーケンスとして展開する」ことを意味し、変数の前にある二重の ``**`` は「辞書として展開する」ことを意味します。\n",
        "実際、この構文は関数定義だけでなく、関数呼び出しでも使用できます。"
      ]
    },
    {
      "cell_type": "code",
      "metadata": {
        "id": "5TWGUnoeijU0",
        "colab_type": "code",
        "colab": {},
        "outputId": "411179a4-8484-4eca-af51-342c9ae674ca"
      },
      "source": [
        "inputs = (1, 2, 3)\n",
        "keywords = {'pi': 3.14}\n",
        "\n",
        "catch_all(*inputs, **keywords)"
      ],
      "execution_count": 0,
      "outputs": [
        {
          "output_type": "stream",
          "text": [
            "args = (1, 2, 3)\n",
            "kwargs =  {'pi': 3.14}\n"
          ],
          "name": "stdout"
        }
      ]
    },
    {
      "cell_type": "markdown",
      "metadata": {
        "id": "KMWwd3b_ijU3",
        "colab_type": "text"
      },
      "source": [
        "## 匿名 (``lambda``) 関数\n",
        "## Anonymous (``lambda``) Functions\n",
        "\n",
        "Earlier we quickly covered the most common way of defining functions, the ``def`` statement.\n",
        "You'll likely come across another way of defining short, one-off functions with the ``lambda`` statement.\n",
        "It looks something like this:\n",
        "\n",
        "先ほど、関数を定義する最も一般的な方法である ``def`` 文について簡単に説明しました。\n",
        "また、他にも ``lambda`` 文を使った短い一回限りの関数を定義する方法に出くわすこともあるでしょう。\n",
        "これは次のようなものです。"
      ]
    },
    {
      "cell_type": "code",
      "metadata": {
        "id": "MBIe_oEHijU3",
        "colab_type": "code",
        "colab": {},
        "outputId": "2156643c-7dbf-4343-ec98-2f5ee7e821a6"
      },
      "source": [
        "add = lambda x, y: x + y\n",
        "add(1, 2)"
      ],
      "execution_count": 0,
      "outputs": [
        {
          "output_type": "execute_result",
          "data": {
            "text/plain": [
              "3"
            ]
          },
          "metadata": {
            "tags": []
          },
          "execution_count": 15
        }
      ]
    },
    {
      "cell_type": "markdown",
      "metadata": {
        "id": "jQ4neje1ijU6",
        "colab_type": "text"
      },
      "source": [
        "このラムダ関数は、大まかには\n",
        "\n",
        "This lambda function is roughly equivalent to\n",
        "\n"
      ]
    },
    {
      "cell_type": "code",
      "metadata": {
        "id": "x-T7p9RbijU7",
        "colab_type": "code",
        "colab": {}
      },
      "source": [
        "def add(x, y):\n",
        "    return x + y"
      ],
      "execution_count": 0,
      "outputs": []
    },
    {
      "cell_type": "markdown",
      "metadata": {
        "id": "i7WmMQ58ijU9",
        "colab_type": "text"
      },
      "source": [
        "So why would you ever want to use such a thing?\n",
        "Primarily, it comes down to the fact that *everything is an object* in Python, even functions themselves!\n",
        "That means that functions can be passed as arguments to functions.\n",
        "\n",
        "As an example of this, suppose we have some data stored in a list of dictionaries:\n",
        "\n",
        "では、なぜそのようなものを使いたいのでしょうか？\n",
        "主に、Pythonでは*すべてのものがオブジェクト*であるという事実に起因しています。\n",
        "つまり、関数は関数の引数として渡すことができるということです。\n",
        "\n",
        "この例として、あるデータが辞書のリストに保存されているとします。"
      ]
    },
    {
      "cell_type": "code",
      "metadata": {
        "id": "AkXTaFCaijU-",
        "colab_type": "code",
        "colab": {}
      },
      "source": [
        "data = [{'first':'Guido', 'last':'Van Rossum', 'YOB':1956},\n",
        "        {'first':'Grace', 'last':'Hopper',     'YOB':1906},\n",
        "        {'first':'Alan',  'last':'Turing',     'YOB':1912}]"
      ],
      "execution_count": 0,
      "outputs": []
    },
    {
      "cell_type": "markdown",
      "metadata": {
        "id": "yjMErplyijVA",
        "colab_type": "text"
      },
      "source": [
        "Now suppose we want to sort this data.\n",
        "Python has a ``sorted`` function that does this:\n",
        "\n",
        "さて、このデータをソートしたいとしましょう。\n",
        "Pythonにはこれを行う ``sorted`` 関数があります。"
      ]
    },
    {
      "cell_type": "code",
      "metadata": {
        "id": "55-8ndA5ijVB",
        "colab_type": "code",
        "colab": {},
        "outputId": "1b38e320-bc1d-4816-9bce-eb82030de20f"
      },
      "source": [
        "sorted([2,4,3,5,1,6])"
      ],
      "execution_count": 0,
      "outputs": [
        {
          "output_type": "execute_result",
          "data": {
            "text/plain": [
              "[1, 2, 3, 4, 5, 6]"
            ]
          },
          "metadata": {
            "tags": []
          },
          "execution_count": 18
        }
      ]
    },
    {
      "cell_type": "markdown",
      "metadata": {
        "id": "735a9jd8ijVD",
        "colab_type": "text"
      },
      "source": [
        "But dictionaries are not orderable: we need a way to tell the function *how* to sort our data.\n",
        "We can do this by specifying the ``key`` function, a function which given an item returns the sorting key for that item:\n",
        "\n",
        "しかし、辞書は順番を決めることができません。\n",
        "これは ``key`` 関数を指定することで実現できます。"
      ]
    },
    {
      "cell_type": "code",
      "metadata": {
        "id": "RklPcslhijVD",
        "colab_type": "code",
        "colab": {},
        "outputId": "0f4f9ce8-56d4-4ad3-c986-14b85fb71ffb"
      },
      "source": [
        "# sort alphabetically by first name\n",
        "sorted(data, key=lambda item: item['first'])"
      ],
      "execution_count": 0,
      "outputs": [
        {
          "output_type": "execute_result",
          "data": {
            "text/plain": [
              "[{'YOB': 1912, 'first': 'Alan', 'last': 'Turing'},\n",
              " {'YOB': 1906, 'first': 'Grace', 'last': 'Hopper'},\n",
              " {'YOB': 1956, 'first': 'Guido', 'last': 'Van Rossum'}]"
            ]
          },
          "metadata": {
            "tags": []
          },
          "execution_count": 19
        }
      ]
    },
    {
      "cell_type": "code",
      "metadata": {
        "id": "jrXJTwwnijVF",
        "colab_type": "code",
        "colab": {},
        "outputId": "0e95e42f-cd07-4ae5-e34b-e2324b891431"
      },
      "source": [
        "# sort by year of birth\n",
        "sorted(data, key=lambda item: item['YOB'])"
      ],
      "execution_count": 0,
      "outputs": [
        {
          "output_type": "execute_result",
          "data": {
            "text/plain": [
              "[{'YOB': 1906, 'first': 'Grace', 'last': 'Hopper'},\n",
              " {'YOB': 1912, 'first': 'Alan', 'last': 'Turing'},\n",
              " {'YOB': 1956, 'first': 'Guido', 'last': 'Van Rossum'}]"
            ]
          },
          "metadata": {
            "tags": []
          },
          "execution_count": 20
        }
      ]
    },
    {
      "cell_type": "markdown",
      "metadata": {
        "id": "yu0_SjJwijVH",
        "colab_type": "text"
      },
      "source": [
        "While these key functions could certainly be created by the normal, ``def`` syntax, the ``lambda`` syntax is convenient for such short one-off functions like these.\n",
        "\n",
        "これらの主要な関数は通常の ``def`` 構文で作成することができますが、 ``lambda`` 構文はこのような短い単発の関数を作成するのに便利です。"
      ]
    },
    {
      "cell_type": "markdown",
      "metadata": {
        "id": "-UwdqsjTijVH",
        "colab_type": "text"
      },
      "source": [
        "<!--NAVIGATION-->\n",
        "< [Control Flow](07-Control-Flow-Statements.ipynb) | [Contents](Index.ipynb) | [Errors and Exceptions](09-Errors-and-Exceptions.ipynb) >"
      ]
    }
  ]
}