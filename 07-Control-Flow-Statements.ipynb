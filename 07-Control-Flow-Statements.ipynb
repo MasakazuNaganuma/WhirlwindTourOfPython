{
  "nbformat": 4,
  "nbformat_minor": 0,
  "metadata": {
    "anaconda-cloud": {},
    "kernelspec": {
      "display_name": "Python 3",
      "language": "python",
      "name": "python3"
    },
    "language_info": {
      "codemirror_mode": {
        "name": "ipython",
        "version": 3
      },
      "file_extension": ".py",
      "mimetype": "text/x-python",
      "name": "python",
      "nbconvert_exporter": "python",
      "pygments_lexer": "ipython3",
      "version": "3.5.1"
    },
    "colab": {
      "name": "07-Control-Flow-Statements.ipynb",
      "provenance": [],
      "include_colab_link": true
    }
  },
  "cells": [
    {
      "cell_type": "markdown",
      "metadata": {
        "id": "view-in-github",
        "colab_type": "text"
      },
      "source": [
        "<a href=\"https://colab.research.google.com/github/MasakazuNaganuma/WhirlwindTourOfPython/blob/master/07-Control-Flow-Statements.ipynb\" target=\"_parent\"><img src=\"https://colab.research.google.com/assets/colab-badge.svg\" alt=\"Open In Colab\"/></a>"
      ]
    },
    {
      "cell_type": "markdown",
      "metadata": {
        "id": "teqApYyF138J",
        "colab_type": "text"
      },
      "source": [
        "<!--BOOK_INFORMATION-->\n",
        "<img align=\"left\" style=\"padding-right:10px;\" src=\"https://github.com/MasakazuNaganuma/WhirlwindTourOfPython/blob/master/fig/cover-small.jpg?raw=1\">\n",
        "*This notebook contains an excerpt from the [Whirlwind Tour of Python](http://www.oreilly.com/programming/free/a-whirlwind-tour-of-python.csp) by Jake VanderPlas; the content is available [on GitHub](https://github.com/jakevdp/WhirlwindTourOfPython).*\n",
        "\n",
        "*The text and code are released under the [CC0](https://github.com/jakevdp/WhirlwindTourOfPython/blob/master/LICENSE) license; see also the companion project, the [Python Data Science Handbook](https://github.com/jakevdp/PythonDataScienceHandbook).*\n"
      ]
    },
    {
      "cell_type": "markdown",
      "metadata": {
        "id": "NcY7L2jx138K",
        "colab_type": "text"
      },
      "source": [
        "<!--NAVIGATION-->\n",
        "< [Built-In Data Structures](06-Built-in-Data-Structures.ipynb) | [Contents](Index.ipynb) | [Defining and Using Functions](08-Defining-Functions.ipynb) >"
      ]
    },
    {
      "cell_type": "markdown",
      "metadata": {
        "id": "5RilvEQb138L",
        "colab_type": "text"
      },
      "source": [
        "# 制御フロー\n",
        "# Control Flow"
      ]
    },
    {
      "cell_type": "markdown",
      "metadata": {
        "id": "UarOnj3y138M",
        "colab_type": "text"
      },
      "source": [
        "*Control flow* is where the rubber really meets the road in programming.\n",
        "Without it, a program is simply a list of statements that are sequentially executed.\n",
        "With control flow, you can execute certain code blocks conditionally and/or repeatedly: these basic building blocks can be combined to create surprisingly sophisticated programs!\n",
        "\n",
        "Here we'll cover *conditional statements* (including \"``if``\", \"``elif``\", and \"``else``\"), *loop statements* (including \"``for``\" and \"``while``\" and the accompanying \"``break``\", \"``continue``\", and \"``pass``\").\n",
        "\n",
        "*コントロールフロー* は、プログラミングにおいて、ゴムが実際に道路と出会うところです。\n",
        "コントロールフローなしでは、プログラムは単に連続して実行されるステートメントのリストに過ぎません。\n",
        "コントロールフローを使うと、特定のコードブロックを条件付きで繰り返し実行することができます。\n",
        "\n",
        "ここでは、*条件文*（\"``if``\", \"``elif``\", \"``else``\"を含む）、*ループ文*（\"``for``\"と \"``while``\"とそれに付随する \"``break``\", \"``continue``\"と \"``pass``\"を含む）について説明します。"
      ]
    },
    {
      "cell_type": "markdown",
      "metadata": {
        "id": "RsCss1nI138N",
        "colab_type": "text"
      },
      "source": [
        "## 条件付き文： ``if``-``elif``-``else``:\n",
        "\n",
        "## Conditional Statements: ``if``-``elif``-``else``:\n",
        "Conditional statements, often referred to as *if-then* statements, allow the programmer to execute certain pieces of code depending on some Boolean condition.\n",
        "A basic example of a Python conditional statement is this:\n",
        "\n",
        "条件文はしばしば*if-then*文とも呼ばれ、プログラマはあるブール値の条件に応じてコードを実行することができます。\n",
        "Pythonの条件文の基本的な例は以下の通りです。"
      ]
    },
    {
      "cell_type": "code",
      "metadata": {
        "id": "Rl2z-MYu138N",
        "colab_type": "code",
        "colab": {},
        "outputId": "3926b2ec-38a5-4182-d7c2-00e52e136afc"
      },
      "source": [
        "x = -15\n",
        "\n",
        "if x == 0:\n",
        "    print(x, \"is zero\")\n",
        "elif x > 0:\n",
        "    print(x, \"is positive\")\n",
        "elif x < 0:\n",
        "    print(x, \"is negative\")\n",
        "else:\n",
        "    print(x, \"is unlike anything I've ever seen...\")"
      ],
      "execution_count": 0,
      "outputs": [
        {
          "output_type": "stream",
          "text": [
            "-15 is negative\n"
          ],
          "name": "stdout"
        }
      ]
    },
    {
      "cell_type": "markdown",
      "metadata": {
        "id": "XlX2XvFn138T",
        "colab_type": "text"
      },
      "source": [
        "Note especially the use of colons (``:``) and whitespace to denote separate blocks of code.\n",
        "\n",
        "Python adopts the ``if`` and ``else`` often used in other languages; its more unique keyword is ``elif``, a contraction of \"else if\".\n",
        "In these conditional clauses, ``elif`` and ``else`` blocks are optional; additionally, you can optinally include as few or as many ``elif`` statements as you would like.\n",
        "\n",
        "特にコロン(``:``)と空白を使ってコードのブロックを表すことに注意してください。\n",
        "\n",
        "Python は他の言語でよく使われている ``if`` と ``else`` を採用しています。\n",
        "これらの条件節では、 ``elif`` と ``else`` のブロックはオプションであり、さらに ``elif`` 文をいくつでも、あるいはいくつでも好きなだけ含めることができます。"
      ]
    },
    {
      "cell_type": "markdown",
      "metadata": {
        "id": "Zu_avkzV138T",
        "colab_type": "text"
      },
      "source": [
        "## ``for`` ループ\n",
        "## ``for`` loops\n",
        "\n",
        "Loops in Python are a way to repeatedly execute some code statement.\n",
        "So, for example, if we'd like to print each of the items in a list, we can use a ``for`` loop:\n",
        "\n",
        "Pythonにおけるループとは、あるコード文を繰り返し実行する方法です。\n",
        "例えば、リストの中の各項目を表示したい場合は、``for``のループを使うことができます。"
      ]
    },
    {
      "cell_type": "code",
      "metadata": {
        "id": "uN-W_uKz138U",
        "colab_type": "code",
        "colab": {},
        "outputId": "0f739d4b-994f-4bac-f924-49404c0dff8a"
      },
      "source": [
        "for N in [2, 3, 5, 7]:\n",
        "    print(N, end=' ') # print all on same line"
      ],
      "execution_count": 0,
      "outputs": [
        {
          "output_type": "stream",
          "text": [
            "2 3 5 7 "
          ],
          "name": "stdout"
        }
      ]
    },
    {
      "cell_type": "markdown",
      "metadata": {
        "id": "pNCcI3ss138X",
        "colab_type": "text"
      },
      "source": [
        "Notice the simplicity of the ``for`` loop: we specify the variable we want to use, the sequence we want to loop over, and use the \"``in``\" operator to link them together in an intuitive and readable way.\n",
        "More precisely, the object to the right of the \"``in``\" can be any Python *iterator*.\n",
        "An iterator can be thought of as a generalized sequence, and we'll discuss them in [Iterators](10-Iterators.ipynb).\n",
        "\n",
        "For example, one of the most commonly-used iterators in Python is the ``range`` object, which generates a sequence of numbers:\n",
        "\n",
        "``for``ループのシンプルさに注目してください: 使用したい変数とループさせたいシーケンスを指定し、それらを直感的で読みやすい方法でリンクするために \"``in``\"演算子を使います。\n",
        "より正確には、\"``in``\"の右にあるオブジェクトはPythonの*iterator*です。\n",
        "イテレータは一般化されたシーケンスと考えることができ、それについては [Iterators](10-Iterators.ipynb) で説明します。\n",
        "\n",
        "例えば、Pythonで最もよく使われているイテレータの一つに ``range`` オブジェクトがあります。"
      ]
    },
    {
      "cell_type": "code",
      "metadata": {
        "id": "t3l-2owA138X",
        "colab_type": "code",
        "colab": {},
        "outputId": "34b755ad-36f6-42d5-8a79-6188ca1f4d51"
      },
      "source": [
        "for i in range(10):\n",
        "    print(i, end=' ')"
      ],
      "execution_count": 0,
      "outputs": [
        {
          "output_type": "stream",
          "text": [
            "0 1 2 3 4 5 6 7 8 9 "
          ],
          "name": "stdout"
        }
      ]
    },
    {
      "cell_type": "markdown",
      "metadata": {
        "id": "N7OpFMoP138Z",
        "colab_type": "text"
      },
      "source": [
        "Note that the range starts at zero by default, and that by convention the top of the range is not included in the output.\n",
        "Range objects can also have more complicated values:\n",
        "\n",
        "範囲はデフォルトではゼロから始まり、慣習的に範囲の先頭は出力に含まれないことに注意してください。\n",
        "範囲オブジェクトは、より複雑な値を持つこともできます。"
      ]
    },
    {
      "cell_type": "code",
      "metadata": {
        "id": "Dl0gU5_e138a",
        "colab_type": "code",
        "colab": {},
        "outputId": "09052c9b-292d-4b62-ebb9-ecbf39465f64"
      },
      "source": [
        "# range from 5 to 10\n",
        "list(range(5, 10))"
      ],
      "execution_count": 0,
      "outputs": [
        {
          "output_type": "execute_result",
          "data": {
            "text/plain": [
              "[5, 6, 7, 8, 9]"
            ]
          },
          "metadata": {
            "tags": []
          },
          "execution_count": 4
        }
      ]
    },
    {
      "cell_type": "code",
      "metadata": {
        "id": "SjI-6ldr138d",
        "colab_type": "code",
        "colab": {},
        "outputId": "41e771b1-6e2f-4f46-cffe-99fda836552e"
      },
      "source": [
        "# range from 0 to 10 by 2\n",
        "list(range(0, 10, 2))"
      ],
      "execution_count": 0,
      "outputs": [
        {
          "output_type": "execute_result",
          "data": {
            "text/plain": [
              "[0, 2, 4, 6, 8]"
            ]
          },
          "metadata": {
            "tags": []
          },
          "execution_count": 5
        }
      ]
    },
    {
      "cell_type": "markdown",
      "metadata": {
        "id": "Gl1iuy7b138g",
        "colab_type": "text"
      },
      "source": [
        "You might notice that the meaning of ``range`` arguments is very similar to the slicing syntax that we covered in [Lists](06-Built-in-Data-Structures.ipynb#Lists).\n",
        "\n",
        "Note that the behavior of ``range()`` is one of the differences between Python 2 and Python 3: in Python 2, ``range()`` produces a list, while in Python 3, ``range()`` produces an iterable object.\n",
        "\n",
        "この ``range()`` の引数の意味が、[Lists](06-Built-in-Data-Structures.ipynb#Lists)で説明したスライシング構文と非常に似ていることに気づくかもしれません。\n",
        "\n",
        "この ``range()``の振る舞いはPython 2とPython 3の違いの一つです: Python 2では ``range()``はリストを生成しますが、Python 3では ``range()``は反復可能なオブジェクトを生成します。"
      ]
    },
    {
      "cell_type": "markdown",
      "metadata": {
        "id": "wtdiezKx138g",
        "colab_type": "text"
      },
      "source": [
        "## ``while`` のループ\n",
        "## ``while`` loops\n",
        "The other type of loop in Python is a ``while`` loop, which iterates until some condition is met:\n",
        "\n",
        "Pythonのもう一つのタイプのループは ``while`` ループで、ある条件が満たされるまで反復処理を行います。"
      ]
    },
    {
      "cell_type": "code",
      "metadata": {
        "id": "o_GiN97V138h",
        "colab_type": "code",
        "colab": {},
        "outputId": "73dcdf0b-3d4e-4f6e-a9d3-83e5d5f94ca6"
      },
      "source": [
        "i = 0\n",
        "while i < 10:\n",
        "    print(i, end=' ')\n",
        "    i += 1"
      ],
      "execution_count": 0,
      "outputs": [
        {
          "output_type": "stream",
          "text": [
            "0 1 2 3 4 5 6 7 8 9 "
          ],
          "name": "stdout"
        }
      ]
    },
    {
      "cell_type": "markdown",
      "metadata": {
        "id": "CsijaU27138j",
        "colab_type": "text"
      },
      "source": [
        "The argument of the ``while`` loop is evaluated as a boolean statement, and the loop is executed until the statement evaluates to False.\n",
        "\n",
        "``while``ループの引数はブール文として評価され、その文がFalseと評価されるまでループが実行されます。"
      ]
    },
    {
      "cell_type": "markdown",
      "metadata": {
        "id": "aWLEagC4138k",
        "colab_type": "text"
      },
      "source": [
        "## ``break`` と ``continue``: ループの微調整\n",
        "## ``break`` and ``continue``: Fine-Tuning Your Loops\n",
        "\n",
        "There are two useful statements that can be used within loops to fine-tune how they are executed:\n",
        "\n",
        "- The ``break`` statement breaks-out of the loop entirely\n",
        "- The ``continue`` statement skips the remainder of the current loop, and goes to the next iteration\n",
        "\n",
        "These can be used in both ``for`` and ``while`` loops.\n",
        "\n",
        "Here is an example of using ``continue`` to print a string of odd numbers.\n",
        "In this case, the result could be accomplished just as well with an ``if-else`` statement, but sometimes the ``continue`` statement can be a more convenient way to express the idea you have in mind:\n",
        "\n",
        "ループの中には、ループの実行方法を微調整するために使える便利な文が２つあります。\n",
        "\n",
        "- ``break``文はループから完全に抜け出します。\n",
        "- ``continue``文は現在のループの残りの部分をスキップして次の反復に進みます。\n",
        "\n",
        "これらは ``for`` や ``while`` のループで使うことができます。\n",
        "\n",
        "ここでは奇数の文字列を表示するために ``continue`` を使った例を示します。\n",
        "この場合、結果は ``if-else`` 文と同じように ``continue`` 文で表現することができますが、時には ``continue`` 文の方がより便利な方法で考えていることを表現することができます。"
      ]
    },
    {
      "cell_type": "code",
      "metadata": {
        "id": "PcCrVW37138k",
        "colab_type": "code",
        "colab": {},
        "outputId": "06a3e3cb-7500-4949-81cb-e357e9118932"
      },
      "source": [
        "for n in range(20):\n",
        "    # if the remainder of n / 2 is 0, skip the rest of the loop\n",
        "    if n % 2 == 0:\n",
        "        continue\n",
        "    print(n, end=' ')"
      ],
      "execution_count": 0,
      "outputs": [
        {
          "output_type": "stream",
          "text": [
            "1 3 5 7 9 11 13 15 17 19 "
          ],
          "name": "stdout"
        }
      ]
    },
    {
      "cell_type": "markdown",
      "metadata": {
        "id": "bq_R6t4Q138m",
        "colab_type": "text"
      },
      "source": [
        "Here is an example of a ``break`` statement used for a less trivial task.\n",
        "This loop will fill a list with all Fibonacci numbers up to a certain value:\n",
        "\n",
        "ここでは、それほど些細なことではないタスクに使われる ``break`` 文の例を示します。\n",
        "このループは、ある値までのすべてのフィボナッチ数でリストを埋めていく。"
      ]
    },
    {
      "cell_type": "code",
      "metadata": {
        "id": "NPqwnmJ0138n",
        "colab_type": "code",
        "colab": {},
        "outputId": "16ed3b0e-12f7-4252-9aa0-8f8533f2b6af"
      },
      "source": [
        "a, b = 0, 1\n",
        "amax = 100\n",
        "L = []\n",
        "\n",
        "while True:\n",
        "    (a, b) = (b, a + b)\n",
        "    if a > amax:\n",
        "        break\n",
        "    L.append(a)\n",
        "\n",
        "print(L)"
      ],
      "execution_count": 0,
      "outputs": [
        {
          "output_type": "stream",
          "text": [
            "[1, 1, 2, 3, 5, 8, 13, 21, 34, 55, 89]\n"
          ],
          "name": "stdout"
        }
      ]
    },
    {
      "cell_type": "markdown",
      "metadata": {
        "id": "k_wwm6Ak138p",
        "colab_type": "text"
      },
      "source": [
        "Notice that we use a ``while True`` loop, which will loop forever unless we have a break statement!\n",
        "\n",
        "このループはbreak文がない限り永遠にループすることに注意してください。"
      ]
    },
    {
      "cell_type": "markdown",
      "metadata": {
        "id": "ZlVpvCJ4138q",
        "colab_type": "text"
      },
      "source": [
        "\n",
        "## ``else``ブロックを使ったループ\n",
        "## Loops with an ``else`` Block\n",
        "One rarely used pattern available in Python is the ``else`` statement as part of a ``for`` or ``while`` loop.\n",
        "We discussed the ``else`` block earlier: it executes if all the ``if`` and ``elif`` statements evaluate to ``False``.\n",
        "The loop-``else`` is perhaps one of the more confusingly-named statements in Python; I prefer to think of it as a ``nobreak`` statement: that is, the ``else`` block is executed only if the loop ends naturally, without encountering a ``break`` statement.\n",
        "\n",
        "As an example of where this might be useful, consider the following (non-optimized) implementation of the *Sieve of Eratosthenes*, a well-known algorithm for finding prime numbers:\n",
        "\n",
        "Pythonではあまり使われていないパターンとして、 ``for`` や ``while`` ループの一部として ``else`` 文を使うことができます。\n",
        "先ほど ``else`` ブロックについて説明しましたが、これは ``if`` と ``elif`` 文がすべて ``False`` と評価された場合に実行されます。\n",
        "``else``-ループはPythonの中でも最も紛らわしい名前の文の一つです。私はこれを ``nobreak`` 文と考えています。\n",
        "\n",
        "これが役に立つ例として、素数を求めるアルゴリズムとしてよく知られている *Sieve of Eratosthenes* の実装を考えてみましょう。"
      ]
    },
    {
      "cell_type": "code",
      "metadata": {
        "id": "2q2BP6dl138r",
        "colab_type": "code",
        "colab": {},
        "outputId": "6607e8d5-d5e1-469b-cd95-92a469dbad81"
      },
      "source": [
        "L = []\n",
        "nmax = 30\n",
        "\n",
        "for n in range(2, nmax):\n",
        "    for factor in L:\n",
        "        if n % factor == 0:\n",
        "            break\n",
        "    else: # no break\n",
        "        L.append(n)\n",
        "print(L)"
      ],
      "execution_count": 0,
      "outputs": [
        {
          "output_type": "stream",
          "text": [
            "[2, 3, 5, 7, 11, 13, 17, 19, 23, 29]\n"
          ],
          "name": "stdout"
        }
      ]
    },
    {
      "cell_type": "code",
      "metadata": {
        "colab_type": "code",
        "outputId": "720d2a3c-0045-43a2-d603-0a7cb0e8a135",
        "id": "4FlgGdr0SkDK",
        "colab": {
          "base_uri": "https://localhost:8080/",
          "height": 1000
        }
      },
      "source": [
        "L = []\n",
        "nmax = 30\n",
        "\n",
        "for n in range(2, nmax):\n",
        "    print(\"n=\",n)\n",
        "    for factor in L:\n",
        "        print(\", factor=\",factor)\n",
        "        if n % factor == 0:\n",
        "            print(\", if->\",(n%factor)==0, \", amari=\",n%factor, \", break exec.\",end=\"\\n\")\n",
        "            break\n",
        "    else: # no break\n",
        "        L.append(n)\n",
        "        print(\"no break L=\",L, end=\"\\n\")\n",
        "print(L)"
      ],
      "execution_count": 7,
      "outputs": [
        {
          "output_type": "stream",
          "text": [
            "n= 2\n",
            "no break L= [2]\n",
            "n= 3\n",
            ", factor= 2\n",
            "no break L= [2, 3]\n",
            "n= 4\n",
            ", factor= 2\n",
            ", if-> True , amari= 0 , break exec.\n",
            "n= 5\n",
            ", factor= 2\n",
            ", factor= 3\n",
            "no break L= [2, 3, 5]\n",
            "n= 6\n",
            ", factor= 2\n",
            ", if-> True , amari= 0 , break exec.\n",
            "n= 7\n",
            ", factor= 2\n",
            ", factor= 3\n",
            ", factor= 5\n",
            "no break L= [2, 3, 5, 7]\n",
            "n= 8\n",
            ", factor= 2\n",
            ", if-> True , amari= 0 , break exec.\n",
            "n= 9\n",
            ", factor= 2\n",
            ", factor= 3\n",
            ", if-> True , amari= 0 , break exec.\n",
            "n= 10\n",
            ", factor= 2\n",
            ", if-> True , amari= 0 , break exec.\n",
            "n= 11\n",
            ", factor= 2\n",
            ", factor= 3\n",
            ", factor= 5\n",
            ", factor= 7\n",
            "no break L= [2, 3, 5, 7, 11]\n",
            "n= 12\n",
            ", factor= 2\n",
            ", if-> True , amari= 0 , break exec.\n",
            "n= 13\n",
            ", factor= 2\n",
            ", factor= 3\n",
            ", factor= 5\n",
            ", factor= 7\n",
            ", factor= 11\n",
            "no break L= [2, 3, 5, 7, 11, 13]\n",
            "n= 14\n",
            ", factor= 2\n",
            ", if-> True , amari= 0 , break exec.\n",
            "n= 15\n",
            ", factor= 2\n",
            ", factor= 3\n",
            ", if-> True , amari= 0 , break exec.\n",
            "n= 16\n",
            ", factor= 2\n",
            ", if-> True , amari= 0 , break exec.\n",
            "n= 17\n",
            ", factor= 2\n",
            ", factor= 3\n",
            ", factor= 5\n",
            ", factor= 7\n",
            ", factor= 11\n",
            ", factor= 13\n",
            "no break L= [2, 3, 5, 7, 11, 13, 17]\n",
            "n= 18\n",
            ", factor= 2\n",
            ", if-> True , amari= 0 , break exec.\n",
            "n= 19\n",
            ", factor= 2\n",
            ", factor= 3\n",
            ", factor= 5\n",
            ", factor= 7\n",
            ", factor= 11\n",
            ", factor= 13\n",
            ", factor= 17\n",
            "no break L= [2, 3, 5, 7, 11, 13, 17, 19]\n",
            "n= 20\n",
            ", factor= 2\n",
            ", if-> True , amari= 0 , break exec.\n",
            "n= 21\n",
            ", factor= 2\n",
            ", factor= 3\n",
            ", if-> True , amari= 0 , break exec.\n",
            "n= 22\n",
            ", factor= 2\n",
            ", if-> True , amari= 0 , break exec.\n",
            "n= 23\n",
            ", factor= 2\n",
            ", factor= 3\n",
            ", factor= 5\n",
            ", factor= 7\n",
            ", factor= 11\n",
            ", factor= 13\n",
            ", factor= 17\n",
            ", factor= 19\n",
            "no break L= [2, 3, 5, 7, 11, 13, 17, 19, 23]\n",
            "n= 24\n",
            ", factor= 2\n",
            ", if-> True , amari= 0 , break exec.\n",
            "n= 25\n",
            ", factor= 2\n",
            ", factor= 3\n",
            ", factor= 5\n",
            ", if-> True , amari= 0 , break exec.\n",
            "n= 26\n",
            ", factor= 2\n",
            ", if-> True , amari= 0 , break exec.\n",
            "n= 27\n",
            ", factor= 2\n",
            ", factor= 3\n",
            ", if-> True , amari= 0 , break exec.\n",
            "n= 28\n",
            ", factor= 2\n",
            ", if-> True , amari= 0 , break exec.\n",
            "n= 29\n",
            ", factor= 2\n",
            ", factor= 3\n",
            ", factor= 5\n",
            ", factor= 7\n",
            ", factor= 11\n",
            ", factor= 13\n",
            ", factor= 17\n",
            ", factor= 19\n",
            ", factor= 23\n",
            "no break L= [2, 3, 5, 7, 11, 13, 17, 19, 23, 29]\n",
            "[2, 3, 5, 7, 11, 13, 17, 19, 23, 29]\n"
          ],
          "name": "stdout"
        }
      ]
    },
    {
      "cell_type": "markdown",
      "metadata": {
        "id": "HSccx_x_138u",
        "colab_type": "text"
      },
      "source": [
        "The ``else`` statement only executes if none of the factors divide the given number.\n",
        "The ``else`` statement works similarly with the ``while`` loop.\n",
        "\n",
        "``else``文は与えられた数を割る要素がない場合にのみ実行されます。\n",
        "``else``文は``while``ループと同様に動作します。"
      ]
    },
    {
      "cell_type": "markdown",
      "metadata": {
        "id": "3Mh14PHY138u",
        "colab_type": "text"
      },
      "source": [
        "<!--NAVIGATION-->\n",
        "< [Built-In Data Structures](06-Built-in-Data-Structures.ipynb) | [Contents](Index.ipynb) | [Defining and Using Functions](08-Defining-Functions.ipynb) >"
      ]
    }
  ]
}