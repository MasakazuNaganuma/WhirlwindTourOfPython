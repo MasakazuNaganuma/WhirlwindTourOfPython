{
  "nbformat": 4,
  "nbformat_minor": 0,
  "metadata": {
    "anaconda-cloud": {},
    "kernelspec": {
      "display_name": "Python 3",
      "language": "python",
      "name": "python3"
    },
    "language_info": {
      "codemirror_mode": {
        "name": "ipython",
        "version": 3
      },
      "file_extension": ".py",
      "mimetype": "text/x-python",
      "name": "python",
      "nbconvert_exporter": "python",
      "pygments_lexer": "ipython3",
      "version": "3.5.1"
    },
    "colab": {
      "name": "10-Iterators.ipynb",
      "provenance": [],
      "include_colab_link": true
    }
  },
  "cells": [
    {
      "cell_type": "markdown",
      "metadata": {
        "id": "view-in-github",
        "colab_type": "text"
      },
      "source": [
        "<a href=\"https://colab.research.google.com/github/MasakazuNaganuma/WhirlwindTourOfPython/blob/master/10-Iterators.ipynb\" target=\"_parent\"><img src=\"https://colab.research.google.com/assets/colab-badge.svg\" alt=\"Open In Colab\"/></a>"
      ]
    },
    {
      "cell_type": "markdown",
      "metadata": {
        "id": "qLw5dYIIznZt",
        "colab_type": "text"
      },
      "source": [
        "<!--BOOK_INFORMATION-->\n",
        "<img align=\"left\" style=\"padding-right:10px;\" src=\"https://github.com/MasakazuNaganuma/WhirlwindTourOfPython/blob/master/fig/cover-small.jpg?raw=1\">\n",
        "*This notebook contains an excerpt from the [Whirlwind Tour of Python](http://www.oreilly.com/programming/free/a-whirlwind-tour-of-python.csp) by Jake VanderPlas; the content is available [on GitHub](https://github.com/jakevdp/WhirlwindTourOfPython).*\n",
        "\n",
        "*The text and code are released under the [CC0](https://github.com/jakevdp/WhirlwindTourOfPython/blob/master/LICENSE) license; see also the companion project, the [Python Data Science Handbook](https://github.com/jakevdp/PythonDataScienceHandbook).*\n"
      ]
    },
    {
      "cell_type": "markdown",
      "metadata": {
        "id": "hEWt0N8uznZw",
        "colab_type": "text"
      },
      "source": [
        "<!--NAVIGATION-->\n",
        "< [Errors and Exceptions](09-Errors-and-Exceptions.ipynb) | [Contents](Index.ipynb) | [List Comprehensions](11-List-Comprehensions.ipynb) >"
      ]
    },
    {
      "cell_type": "markdown",
      "metadata": {
        "id": "pW45xW8bznZx",
        "colab_type": "text"
      },
      "source": [
        "# イテレータ\n",
        "# Iterators"
      ]
    },
    {
      "cell_type": "markdown",
      "metadata": {
        "id": "K7TZdsjAznZy",
        "colab_type": "text"
      },
      "source": [
        "Often an important piece of data analysis is repeating a similar calculation, over and over, in an automated fashion.\n",
        "For example, you may have a table of a names that you'd like to split into first and last, or perhaps of dates that you'd like to convert to some standard format.\n",
        "One of Python's answers to this is the *iterator* syntax.\n",
        "We've seen this already with the ``range`` iterator:\n",
        "\n",
        "データ分析の重要な部分は、自動化された方法で同じような計算を何度も何度も繰り返すことです。\n",
        "例えば、名前の表を最初と最後に分割したい、あるいは日付の表を何らかの標準的な形式に変換したい、といったことがあるかもしれません。\n",
        "これに対するPythonの答えの一つが*iterator*構文です。\n",
        "これはすでに ``range`` のイテレータで見てきました。"
      ]
    },
    {
      "cell_type": "code",
      "metadata": {
        "id": "5RjDSfjqznZz",
        "colab_type": "code",
        "outputId": "ef0920bd-af06-447e-fd9e-4c528d55927d",
        "colab": {}
      },
      "source": [
        "for i in range(10):\n",
        "    print(i, end=' ')"
      ],
      "execution_count": 0,
      "outputs": [
        {
          "output_type": "stream",
          "text": [
            "0 1 2 3 4 5 6 7 8 9 "
          ],
          "name": "stdout"
        }
      ]
    },
    {
      "cell_type": "markdown",
      "metadata": {
        "id": "CDR0CoYVznZ4",
        "colab_type": "text"
      },
      "source": [
        "Here we're going to dig a bit deeper.\n",
        "It turns out that in Python 3, ``range`` is not a list, but is something called an *iterator*, and learning how it works is key to understanding a wide class of very useful Python functionality.\n",
        "\n",
        "ここではもう少し深く掘り下げてみましょう。\n",
        "Python 3では、``range``はリストではなく、*iterator*と呼ばれるものであり、それがどのように動作するのかを学ぶことは、Pythonの非常に便利な機能を理解するための鍵となります。"
      ]
    },
    {
      "cell_type": "markdown",
      "metadata": {
        "id": "gR42ViSjznZ4",
        "colab_type": "text"
      },
      "source": [
        "## リストの反復処理\n",
        "## Iterating over lists\n",
        "\n",
        "Iterators are perhaps most easily understood in the concrete case of iterating through a list.\n",
        "Consider the following:\n",
        "\n",
        "イテレータは、リストを反復するという具体的なケースで最も簡単に理解できるでしょう。\n",
        "次のように考えてみてください。"
      ]
    },
    {
      "cell_type": "code",
      "metadata": {
        "id": "sSvbT0-BznZ5",
        "colab_type": "code",
        "outputId": "c9826b7f-447c-4560-c833-00c023059ed1",
        "colab": {}
      },
      "source": [
        "for value in [2, 4, 6, 8, 10]:\n",
        "    # do some operation\n",
        "    print(value + 1, end=' ')"
      ],
      "execution_count": 0,
      "outputs": [
        {
          "output_type": "stream",
          "text": [
            "3 5 7 9 11 "
          ],
          "name": "stdout"
        }
      ]
    },
    {
      "cell_type": "markdown",
      "metadata": {
        "id": "mtpAHuj6znZ8",
        "colab_type": "text"
      },
      "source": [
        "The familiar \"``for x in y``\" syntax allows us to repeat some operation for each value in the list.\n",
        "The fact that the syntax of the code is so close to its English description (\"*for [each] value in [the] list*\") is just one of the syntactic choices that makes Python such an intuitive language to learn and use.\n",
        "\n",
        "But the face-value behavior is not what's *really* happening.\n",
        "When you write something like \"``for val in L``\", the Python interpreter checks whether it has an *iterator* interface, which you can check yourself with the built-in ``iter`` function:\n",
        "\n",
        "親しみのある\"``for x in y``\"構文では、リスト内の各値に対して何らかの操作を繰り返すことができます。\n",
        "このコードの構文が英語の記述にとても近いという事実は、Pythonが直感的に学び、使うことができる言語であるための構文の選択の一つに過ぎません。\n",
        "\n",
        "しかし、表面上の値の振る舞いは、実際に起こっていることではありません。\n",
        "あなたが\"``for val in L``\"のようなことを書くとき、Pythonインタプリタはそれが*iterator*インターフェースを持っているかどうかをチェックします。"
      ]
    },
    {
      "cell_type": "code",
      "metadata": {
        "id": "EwBPSRUFznZ9",
        "colab_type": "code",
        "outputId": "e14df6c3-3f6b-42c8-8a99-9afedcd02362",
        "colab": {}
      },
      "source": [
        "iter([2, 4, 6, 8, 10])"
      ],
      "execution_count": 0,
      "outputs": [
        {
          "output_type": "execute_result",
          "data": {
            "text/plain": [
              "<list_iterator at 0x104722400>"
            ]
          },
          "metadata": {
            "tags": []
          },
          "execution_count": 3
        }
      ]
    },
    {
      "cell_type": "markdown",
      "metadata": {
        "id": "N30nBmVcznaA",
        "colab_type": "text"
      },
      "source": [
        "It is this iterator object that provides the functionality required by the ``for`` loop.\n",
        "The ``iter`` object is a container that gives you access to the next object for as long as it's valid, which can be seen with the built-in function ``next``:\n",
        "\n",
        "このイテレータオブジェクトが ``for`` ループで必要とされる機能を提供します。\n",
        "``iter``オブジェクトは有効な限り次のオブジェクトにアクセスできるようにするためのコンテナで、組み込みの関数 ``next``で見ることができます。"
      ]
    },
    {
      "cell_type": "code",
      "metadata": {
        "id": "_dGqJVT1znaA",
        "colab_type": "code",
        "colab": {}
      },
      "source": [
        "I = iter([2, 4, 6, 8, 10])"
      ],
      "execution_count": 0,
      "outputs": []
    },
    {
      "cell_type": "code",
      "metadata": {
        "id": "MHGba65AznaD",
        "colab_type": "code",
        "outputId": "204e63fb-8f52-4235-c4a4-1844a26fc33a",
        "colab": {}
      },
      "source": [
        "print(next(I))"
      ],
      "execution_count": 0,
      "outputs": [
        {
          "output_type": "stream",
          "text": [
            "2\n"
          ],
          "name": "stdout"
        }
      ]
    },
    {
      "cell_type": "code",
      "metadata": {
        "id": "yDn31ar1znaG",
        "colab_type": "code",
        "outputId": "abc49f8c-62d3-415b-bb48-e7afe089bfd0",
        "colab": {}
      },
      "source": [
        "print(next(I))"
      ],
      "execution_count": 0,
      "outputs": [
        {
          "output_type": "stream",
          "text": [
            "4\n"
          ],
          "name": "stdout"
        }
      ]
    },
    {
      "cell_type": "code",
      "metadata": {
        "id": "9MEde6OkznaI",
        "colab_type": "code",
        "outputId": "b8b7396b-c695-4e19-db73-9724fe527bff",
        "colab": {}
      },
      "source": [
        "print(next(I))"
      ],
      "execution_count": 0,
      "outputs": [
        {
          "output_type": "stream",
          "text": [
            "6\n"
          ],
          "name": "stdout"
        }
      ]
    },
    {
      "cell_type": "markdown",
      "metadata": {
        "id": "9lVBWUJvznaL",
        "colab_type": "text"
      },
      "source": [
        "What is the purpose of this level of indirection?\n",
        "Well, it turns out this is incredibly useful, because it allows Python to treat things as lists that are *not actually lists*.\n",
        "\n",
        "このレベルのインダイレクトの目的は何でしょうか？\n",
        "これは信じられないほど便利なことがわかりました。"
      ]
    },
    {
      "cell_type": "markdown",
      "metadata": {
        "id": "FJUljnY3znaL",
        "colab_type": "text"
      },
      "source": [
        "## ``range()``: リストは常にリストとは限らない\n",
        "## ``range()``: A List Is Not Always a List\n",
        "Perhaps the most common example of this indirect iteration is the ``range()`` function in Python 3 (named ``xrange()`` in Python 2), which returns not a list, but a special ``range()`` object:\n",
        "\n",
        "おそらくこの間接的な繰り返しの最も一般的な例は、Python 3の ``range()``関数(Python 2では ``xrange()``と名付けられています)で、これはリストではなく、特別な ``range()``オブジェクトを返します。"
      ]
    },
    {
      "cell_type": "code",
      "metadata": {
        "id": "rlAg8DZQznaM",
        "colab_type": "code",
        "outputId": "beca47b7-8648-4974-963b-38548038f1c6",
        "colab": {}
      },
      "source": [
        "range(10)"
      ],
      "execution_count": 0,
      "outputs": [
        {
          "output_type": "execute_result",
          "data": {
            "text/plain": [
              "range(0, 10)"
            ]
          },
          "metadata": {
            "tags": []
          },
          "execution_count": 8
        }
      ]
    },
    {
      "cell_type": "markdown",
      "metadata": {
        "id": "8GThxC66znaO",
        "colab_type": "text"
      },
      "source": [
        "``range``, like a list, exposes an iterator:\n",
        "\n",
        "``range``はリストのようにイテレータを公開します。"
      ]
    },
    {
      "cell_type": "code",
      "metadata": {
        "id": "FqPiTf9EznaP",
        "colab_type": "code",
        "outputId": "b021bfbc-5f07-43bb-daeb-6e4a50d16dcc",
        "colab": {}
      },
      "source": [
        "iter(range(10))"
      ],
      "execution_count": 0,
      "outputs": [
        {
          "output_type": "execute_result",
          "data": {
            "text/plain": [
              "<range_iterator at 0x1045a1810>"
            ]
          },
          "metadata": {
            "tags": []
          },
          "execution_count": 9
        }
      ]
    },
    {
      "cell_type": "markdown",
      "metadata": {
        "id": "S4oR-e5MznaR",
        "colab_type": "text"
      },
      "source": [
        "So Python knows to treat it *as if* it's a list:\n",
        "\n",
        "Pythonはリストであるかのように扱うことを知っています。"
      ]
    },
    {
      "cell_type": "code",
      "metadata": {
        "id": "Sy1wALOvznaS",
        "colab_type": "code",
        "outputId": "894ea4fb-59b7-4bc8-c73e-2b76963bdaea",
        "colab": {}
      },
      "source": [
        "for i in range(10):\n",
        "    print(i, end=' ')"
      ],
      "execution_count": 0,
      "outputs": [
        {
          "output_type": "stream",
          "text": [
            "0 1 2 3 4 5 6 7 8 9 "
          ],
          "name": "stdout"
        }
      ]
    },
    {
      "cell_type": "markdown",
      "metadata": {
        "id": "85m9UcQLznaU",
        "colab_type": "text"
      },
      "source": [
        "The benefit of the iterator indirection is that *the full list is never explicitly created!*\n",
        "We can see this by doing a range calculation that would overwhelm our system memory if we actually instantiated it (note that in Python 2, ``range`` creates a list, so running the following will not lead to good things!):\n",
        "\n",
        "イテレータのインダイレクトの利点は、*完全なリストが明示的に作成されることがないことです！*。\n",
        "これは、実際にインスタンス化した場合にシステムメモリを圧倒するような範囲計算を行うことでわかります(Python 2では、``range``はリストを作成するので、以下のように実行しても良い結果にはならないことに注意してください！)。"
      ]
    },
    {
      "cell_type": "code",
      "metadata": {
        "id": "KZyrh-qtznaV",
        "colab_type": "code",
        "outputId": "4dc100a3-edf7-42ac-b25d-9904e7b3c8f2",
        "colab": {}
      },
      "source": [
        "N = 10 ** 12\n",
        "for i in range(N):\n",
        "    if i >= 10: break\n",
        "    print(i, end=', ')"
      ],
      "execution_count": 0,
      "outputs": [
        {
          "output_type": "stream",
          "text": [
            "0, 1, 2, 3, 4, 5, 6, 7, 8, 9, "
          ],
          "name": "stdout"
        }
      ]
    },
    {
      "cell_type": "markdown",
      "metadata": {
        "id": "dJ7iv_SPznaX",
        "colab_type": "text"
      },
      "source": [
        "If ``range`` were to actually create that list of one trillion values, it would occupy tens of terabytes of machine memory: a waste, given the fact that we're ignoring all but the first 10 values!\n",
        "\n",
        "In fact, there's no reason that iterators ever have to end at all!\n",
        "Python's ``itertools`` library contains a ``count`` function that acts as an infinite range:\n",
        "\n",
        "もし ``range``が実際に1兆個の値のリストを作成したとしたら、それは何十テラバイトものマシンメモリを占有することになります。\n",
        "\n",
        "実際には、イテレータが終了する必要はありません。\n",
        "Python の ``itertools`` ライブラリには、無限の範囲として振る舞う ``count`` 関数があります。"
      ]
    },
    {
      "cell_type": "code",
      "metadata": {
        "id": "miqghjfeznaX",
        "colab_type": "code",
        "outputId": "62517d30-b84d-43e4-f3d2-d5c53a5860b9",
        "colab": {}
      },
      "source": [
        "from itertools import count\n",
        "\n",
        "for i in count():\n",
        "    if i >= 10:\n",
        "        break\n",
        "    print(i, end=', ')"
      ],
      "execution_count": 0,
      "outputs": [
        {
          "output_type": "stream",
          "text": [
            "0, 1, 2, 3, 4, 5, 6, 7, 8, 9, "
          ],
          "name": "stdout"
        }
      ]
    },
    {
      "cell_type": "markdown",
      "metadata": {
        "id": "2Pz9YNRcznaZ",
        "colab_type": "text"
      },
      "source": [
        "Had we not thrown-in a loop break here, it would go on happily counting until the process is manually interrupted or killed (using, for example, ``ctrl-C``).\n",
        "\n",
        "ここでループブレークを入れなければ、プロセスが手動で中断されるか（例えば、``ctrl-C``などを使って）強制終了されるまで、喜んでカウントし続けるでしょう。"
      ]
    },
    {
      "cell_type": "markdown",
      "metadata": {
        "id": "a6FdpwR7znaa",
        "colab_type": "text"
      },
      "source": [
        "## 有用なイテレータ\n",
        "## Useful Iterators\n",
        "\n",
        "This iterator syntax is used nearly universally in Python built-in types as well as the more data science-specific objects we'll explore in later sections.\n",
        "Here we'll cover some of the more useful iterators in the Python language:\n",
        "\n",
        "このイテレータ構文はPythonの組み込み型や、後のセクションで紹介するデータサイエンスに特化したオブジェクトと同様にほぼ普遍的に使用されています。\n",
        "ここでは、Python言語でより有用なイテレータのいくつかを取り上げます。"
      ]
    },
    {
      "cell_type": "markdown",
      "metadata": {
        "id": "BDbNDOegznaa",
        "colab_type": "text"
      },
      "source": [
        "### ``enumerate``\n",
        "Often you need to iterate not only the values in an array, but also keep track of the index.\n",
        "You might be tempted to do things this way:\n",
        "\n",
        "### ``enumerate``\n",
        "多くの場合、配列の値だけでなく、インデックスを追跡する必要があります。\n",
        "このようにしたいと思うかもしれません。"
      ]
    },
    {
      "cell_type": "code",
      "metadata": {
        "id": "m59EQuYAznab",
        "colab_type": "code",
        "outputId": "e47e3c14-1b96-4149-c3ef-cc03fb20349d",
        "colab": {}
      },
      "source": [
        "L = [2, 4, 6, 8, 10]\n",
        "for i in range(len(L)):\n",
        "    print(i, L[i])"
      ],
      "execution_count": 0,
      "outputs": [
        {
          "output_type": "stream",
          "text": [
            "0 2\n",
            "1 4\n",
            "2 6\n",
            "3 8\n",
            "4 10\n"
          ],
          "name": "stdout"
        }
      ]
    },
    {
      "cell_type": "markdown",
      "metadata": {
        "id": "DVD2eWPcznad",
        "colab_type": "text"
      },
      "source": [
        "Although this does work, Python provides a cleaner syntax using the ``enumerate`` iterator:\n",
        "\n",
        "これは機能しますが、Pythonでは ``enumerate`` のイテレータを使ったよりクリーンな構文を提供しています。"
      ]
    },
    {
      "cell_type": "code",
      "metadata": {
        "id": "NjMiymq0znad",
        "colab_type": "code",
        "outputId": "631ff866-f18d-4365-9e29-0a3c3e024ddd",
        "colab": {}
      },
      "source": [
        "for i, val in enumerate(L):\n",
        "    print(i, val)"
      ],
      "execution_count": 0,
      "outputs": [
        {
          "output_type": "stream",
          "text": [
            "0 2\n",
            "1 4\n",
            "2 6\n",
            "3 8\n",
            "4 10\n"
          ],
          "name": "stdout"
        }
      ]
    },
    {
      "cell_type": "markdown",
      "metadata": {
        "id": "4MPnpeGdznag",
        "colab_type": "text"
      },
      "source": [
        "This is the more \"Pythonic\" way to enumerate the indices and values in a list.\n",
        "\n",
        "これは、リスト内のインデックスと値を列挙する、より「Python的」な方法です。"
      ]
    },
    {
      "cell_type": "markdown",
      "metadata": {
        "id": "CMPWtAaJznah",
        "colab_type": "text"
      },
      "source": [
        "### ``zip``\n",
        "Other times, you may have multiple lists that you want to iterate over simultaneously.\n",
        "You could certainly iterate over the index as in the non-Pythonic example we looked at previously, but it is better to use the ``zip`` iterator, which zips together iterables:\n",
        "\n",
        "他にも、複数のリストを同時に反復処理したい場合もあるでしょう。\n",
        "前に見たPythonicではない例のようにインデックスを反復処理することもできますが、それよりも ``zip`` のイテレータを使った方が良いでしょう。"
      ]
    },
    {
      "cell_type": "code",
      "metadata": {
        "id": "yqvPIhY2znai",
        "colab_type": "code",
        "outputId": "84b554a4-5b03-450d-b7fd-3caa81915bf8",
        "colab": {}
      },
      "source": [
        "L = [2, 4, 6, 8, 10]\n",
        "R = [3, 6, 9, 12, 15]\n",
        "for lval, rval in zip(L, R):\n",
        "    print(lval, rval)"
      ],
      "execution_count": 0,
      "outputs": [
        {
          "output_type": "stream",
          "text": [
            "2 3\n",
            "4 6\n",
            "6 9\n",
            "8 12\n",
            "10 15\n"
          ],
          "name": "stdout"
        }
      ]
    },
    {
      "cell_type": "markdown",
      "metadata": {
        "id": "zGBUt-EUznal",
        "colab_type": "text"
      },
      "source": [
        "Any number of iterables can be zipped together, and if they are different lengths, the shortest will determine the length of the ``zip``.\n",
        "\n",
        "イテレータブルは何個でも一緒にzipでまとめることができ、もしそれらの長さが異なる場合は、最も短いものが``zip``の長さを決定します。"
      ]
    },
    {
      "cell_type": "markdown",
      "metadata": {
        "id": "vYTQREgQznal",
        "colab_type": "text"
      },
      "source": [
        "### ``map`` and ``filter``\n",
        "The ``map`` iterator takes a function and applies it to the values in an iterator:\n",
        "\n",
        "``map``イテレータは関数を受け取り、それをイテレータ内の値に適用します。"
      ]
    },
    {
      "cell_type": "code",
      "metadata": {
        "id": "S261ZvIMznal",
        "colab_type": "code",
        "outputId": "61eb23f4-587c-4eaa-d18e-f28791fabe00",
        "colab": {}
      },
      "source": [
        "# find the first 10 square numbers\n",
        "square = lambda x: x ** 2\n",
        "for val in map(square, range(10)):\n",
        "    print(val, end=' ')"
      ],
      "execution_count": 0,
      "outputs": [
        {
          "output_type": "stream",
          "text": [
            "0 1 4 9 16 25 36 49 64 81 "
          ],
          "name": "stdout"
        }
      ]
    },
    {
      "cell_type": "markdown",
      "metadata": {
        "id": "mx3Sa87dznan",
        "colab_type": "text"
      },
      "source": [
        "The ``filter`` iterator looks similar, except it only passes-through values for which the filter function evaluates to True:\n",
        "\n",
        "``filter``のイテレータは似ていますが、filter関数がTrueと評価される値だけを通過させることを除けば、似ています。"
      ]
    },
    {
      "cell_type": "code",
      "metadata": {
        "id": "c7ruaZuLznao",
        "colab_type": "code",
        "outputId": "66b11330-f8fb-4118-cebe-cc66bf3442ca",
        "colab": {}
      },
      "source": [
        "# find values up to 10 for which x % 2 is zero\n",
        "is_even = lambda x: x % 2 == 0\n",
        "for val in filter(is_even, range(10)):\n",
        "    print(val, end=' ')"
      ],
      "execution_count": 0,
      "outputs": [
        {
          "output_type": "stream",
          "text": [
            "0 2 4 6 8 "
          ],
          "name": "stdout"
        }
      ]
    },
    {
      "cell_type": "markdown",
      "metadata": {
        "id": "t-XlMTsYznap",
        "colab_type": "text"
      },
      "source": [
        "The ``map`` and ``filter`` functions, along with the ``reduce`` function (which lives in Python's ``functools`` module) are fundamental components of the *functional programming* style, which, while not a dominant programming style in the Python world, has its outspoken proponents (see, for example, the [pytoolz](https://toolz.readthedocs.org/en/latest/) library).\n",
        "\n",
        "``map``関数と``filter``関数、``reduce``関数（Pythonの``functools``モジュールに含まれています）は *関数型プログラミングスタイル* の基本的なコンポーネントです。"
      ]
    },
    {
      "cell_type": "markdown",
      "metadata": {
        "id": "N33X7sUbznaq",
        "colab_type": "text"
      },
      "source": [
        "### 関数の引数としてのイテレータ\n",
        "### Iterators as function arguments\n",
        "\n",
        "We saw in [``*args`` and ``**kwargs``: Flexible Arguments](#*args-and-**kwargs:-Flexible-Arguments). that ``*args`` and ``**kwargs`` can be used to pass sequences and dictionaries to functions.\n",
        "It turns out that the ``*args`` syntax works not just with sequences, but with any iterator:\n",
        "\n",
        "以前、[ ``*args`` と ``**kwargs``: Flexible Arguments](#*args-and-**kwargs:-Flexible-Arguments)で見たように、 ``*args`` と ``**kwargs`` はシーケンスや辞書を関数に渡すために使うことができることがわかりました。\n",
        "この構文はシーケンスだけでなく、任意のイテレータでも動作することがわかりました。"
      ]
    },
    {
      "cell_type": "code",
      "metadata": {
        "id": "8a82CYd-znaq",
        "colab_type": "code",
        "outputId": "e6a855a1-b27b-431e-83de-c8aafa1e762f",
        "colab": {}
      },
      "source": [
        "print(*range(10))"
      ],
      "execution_count": 0,
      "outputs": [
        {
          "output_type": "stream",
          "text": [
            "0 1 2 3 4 5 6 7 8 9\n"
          ],
          "name": "stdout"
        }
      ]
    },
    {
      "cell_type": "markdown",
      "metadata": {
        "id": "pQcecvF8znas",
        "colab_type": "text"
      },
      "source": [
        "So, for example, we can get tricky and compress the ``map`` example from before into the following:\n",
        "\n",
        "そこで、例えば、前の例の ``map`` を圧縮して以下のようにすることができます。"
      ]
    },
    {
      "cell_type": "code",
      "metadata": {
        "id": "bdSW8SDMznas",
        "colab_type": "code",
        "outputId": "f9c43cca-bb25-4071-97e0-a16a77004ded",
        "colab": {}
      },
      "source": [
        "print(*map(lambda x: x ** 2, range(10)))"
      ],
      "execution_count": 0,
      "outputs": [
        {
          "output_type": "stream",
          "text": [
            "0 1 4 9 16 25 36 49 64 81\n"
          ],
          "name": "stdout"
        }
      ]
    },
    {
      "cell_type": "markdown",
      "metadata": {
        "id": "1UEqkpFnznau",
        "colab_type": "text"
      },
      "source": [
        "Using this trick lets us answer the age-old question that comes up in Python learners' forums: why is there no ``unzip()`` function which does the opposite of ``zip()``?\n",
        "If you lock yourself in a dark closet and think about it for a while, you might realize that the opposite of ``zip()`` is... ``zip()``! The key is that ``zip()`` can zip-together any number of iterators or sequences. Observe:\n",
        "\n",
        "このトリックを使うことで、Python学習者のフォーラムに出てくる古くからの疑問に答えることができます: なぜ、``zip()``の逆のことをする ``unzip()`` 関数がないのか?\n",
        "暗いクローゼットの中に閉じこもってしばらく考えてみると、 ``zip()``の逆の機能があることに気づくかもしれません。``zip()``の反対は``...zip()``であることに気づくかもしれません。重要なのは、``zip()``は任意の数のイテレータやシーケンスをまとめて``zip()``にすることができるということです。重要なのは、``zip()``は任意の数のイテレータやシーケンスを zip 結合することができるということです。"
      ]
    },
    {
      "cell_type": "code",
      "metadata": {
        "id": "k9KHvUfeznaw",
        "colab_type": "code",
        "colab": {}
      },
      "source": [
        "L1 = (1, 2, 3, 4)\n",
        "L2 = ('a', 'b', 'c', 'd')"
      ],
      "execution_count": 0,
      "outputs": []
    },
    {
      "cell_type": "code",
      "metadata": {
        "id": "ODe5sPsWznay",
        "colab_type": "code",
        "outputId": "dde9761f-9787-45f2-93f6-59c7fedaaa83",
        "colab": {}
      },
      "source": [
        "z = zip(L1, L2)\n",
        "print(*z)"
      ],
      "execution_count": 0,
      "outputs": [
        {
          "output_type": "stream",
          "text": [
            "(1, 'a') (2, 'b') (3, 'c') (4, 'd')\n"
          ],
          "name": "stdout"
        }
      ]
    },
    {
      "cell_type": "code",
      "metadata": {
        "id": "HaNMpIP0zna0",
        "colab_type": "code",
        "outputId": "052442a6-1198-452e-f438-4be21673a536",
        "colab": {}
      },
      "source": [
        "z = zip(L1, L2)\n",
        "new_L1, new_L2 = zip(*z)\n",
        "print(new_L1, new_L2)"
      ],
      "execution_count": 0,
      "outputs": [
        {
          "output_type": "stream",
          "text": [
            "(1, 2, 3, 4) ('a', 'b', 'c', 'd')\n"
          ],
          "name": "stdout"
        }
      ]
    },
    {
      "cell_type": "markdown",
      "metadata": {
        "id": "YH_YstJszna2",
        "colab_type": "text"
      },
      "source": [
        "Ponder this for a while. If you understand why it works, you'll have come a long way in understanding Python iterators!\n",
        "\n",
        "しばらく考えてみてください。なぜそれが動作するのかを理解すれば、Pythonのイテレータを理解する上で大きな道のりを歩むことができるでしょう!"
      ]
    },
    {
      "cell_type": "markdown",
      "metadata": {
        "id": "ETbnRlpRzna3",
        "colab_type": "text"
      },
      "source": [
        "## 特化したイテレータです。``itertools``\n",
        "## Specialized Iterators: ``itertools``\n",
        "\n",
        "We briefly looked at the infinite ``range`` iterator, ``itertools.count``.\n",
        "The ``itertools`` module contains a whole host of useful iterators; it's well worth your while to explore the module to see what's available.\n",
        "As an example, consider the ``itertools.permutations`` function, which iterates over all permutations of a sequence:\n",
        "\n",
        "\n",
        "無限のイテレータ ``range`` の ``itertools.count`` を簡単に見てみました。\n",
        "``itertools``モジュールにはたくさんの便利なイテレータが含まれています。\n",
        "例として ``itertools.permutations`` 関数を考えてみましょう。"
      ]
    },
    {
      "cell_type": "code",
      "metadata": {
        "id": "aV0yib5Dzna3",
        "colab_type": "code",
        "outputId": "7325e3ea-73cf-4684-d184-29e7ff525d99",
        "colab": {}
      },
      "source": [
        "from itertools import permutations  #順列\n",
        "p = permutations(range(3))\n",
        "print(*p)"
      ],
      "execution_count": 0,
      "outputs": [
        {
          "output_type": "stream",
          "text": [
            "(0, 1, 2) (0, 2, 1) (1, 0, 2) (1, 2, 0) (2, 0, 1) (2, 1, 0)\n"
          ],
          "name": "stdout"
        }
      ]
    },
    {
      "cell_type": "markdown",
      "metadata": {
        "id": "yKHGmAhazna5",
        "colab_type": "text"
      },
      "source": [
        "Similarly, the ``itertools.combinations`` function iterates over all unique combinations of ``N`` values within a list:\n",
        "\n",
        "同様に ``itertools.comombinations`` 関数はリストの中の ``N`` の値のユニークな組み合わせをすべて処理します。"
      ]
    },
    {
      "cell_type": "code",
      "metadata": {
        "id": "YWiRpvcXzna5",
        "colab_type": "code",
        "outputId": "ece35b0e-bd4b-48ed-f62a-63da3d1a1d91",
        "colab": {}
      },
      "source": [
        "from itertools import combinations  #組合せ\n",
        "c = combinations(range(4), 2)\n",
        "print(*c)"
      ],
      "execution_count": 0,
      "outputs": [
        {
          "output_type": "stream",
          "text": [
            "(0, 1) (0, 2) (0, 3) (1, 2) (1, 3) (2, 3)\n"
          ],
          "name": "stdout"
        }
      ]
    },
    {
      "cell_type": "markdown",
      "metadata": {
        "id": "b_JTmIrPzna7",
        "colab_type": "text"
      },
      "source": [
        "Somewhat related is the ``product`` iterator, which iterates over all sets of pairs between two or more iterables:\n",
        "\n",
        "少し関連しているのが ``product`` のイテレータで，2つ以上のイテレータブルの間のすべてのペアの集合をイテレートします．"
      ]
    },
    {
      "cell_type": "code",
      "metadata": {
        "id": "QNljgKQGzna7",
        "colab_type": "code",
        "outputId": "0ccdc369-a704-4af1-d37e-3dd5afd7a89a",
        "colab": {}
      },
      "source": [
        "from itertools import product\n",
        "p = product('ab', range(3))\n",
        "print(*p)"
      ],
      "execution_count": 0,
      "outputs": [
        {
          "output_type": "stream",
          "text": [
            "('a', 0) ('a', 1) ('a', 2) ('b', 0) ('b', 1) ('b', 2)\n"
          ],
          "name": "stdout"
        }
      ]
    },
    {
      "cell_type": "markdown",
      "metadata": {
        "id": "-Y3MmEZDzna9",
        "colab_type": "text"
      },
      "source": [
        "Many more useful iterators exist in ``itertools``: the full list can be found, along with some examples, in Python's [online documentation](https://docs.python.org/3.5/library/itertools.html).\n",
        "\n",
        "``itertools``には他にも多くの便利なイテレータが存在します: Pythonの[オンラインドキュメント](https://docs.python.org/3.5/library/itertools.html)にその全リストがあります。"
      ]
    },
    {
      "cell_type": "markdown",
      "metadata": {
        "id": "uUTMSc2jzna-",
        "colab_type": "text"
      },
      "source": [
        "<!--NAVIGATION-->\n",
        "< [Errors and Exceptions](09-Errors-and-Exceptions.ipynb) | [Contents](Index.ipynb) | [List Comprehensions](11-List-Comprehensions.ipynb) >"
      ]
    }
  ]
}