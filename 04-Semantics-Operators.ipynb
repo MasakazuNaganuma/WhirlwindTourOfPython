{
  "nbformat": 4,
  "nbformat_minor": 0,
  "metadata": {
    "anaconda-cloud": {},
    "kernelspec": {
      "display_name": "Python 3",
      "language": "python",
      "name": "python3"
    },
    "language_info": {
      "codemirror_mode": {
        "name": "ipython",
        "version": 3
      },
      "file_extension": ".py",
      "mimetype": "text/x-python",
      "name": "python",
      "nbconvert_exporter": "python",
      "pygments_lexer": "ipython3",
      "version": "3.5.1"
    },
    "colab": {
      "name": "04-Semantics-Operators.ipynb",
      "provenance": [],
      "toc_visible": true,
      "include_colab_link": true
    }
  },
  "cells": [
    {
      "cell_type": "markdown",
      "metadata": {
        "id": "view-in-github",
        "colab_type": "text"
      },
      "source": [
        "<a href=\"https://colab.research.google.com/github/MasakazuNaganuma/WhirlwindTourOfPython/blob/master/04-Semantics-Operators.ipynb\" target=\"_parent\"><img src=\"https://colab.research.google.com/assets/colab-badge.svg\" alt=\"Open In Colab\"/></a>"
      ]
    },
    {
      "cell_type": "markdown",
      "metadata": {
        "id": "TjMMvUzDp2vn",
        "colab_type": "text"
      },
      "source": [
        "<!--BOOK_INFORMATION-->\n",
        "<img align=\"left\" style=\"padding-right:10px;\" src=\"https://github.com/MasakazuNaganuma/WhirlwindTourOfPython/blob/master/fig/cover-small.jpg?raw=1\">\n",
        "*This notebook contains an excerpt from the [Whirlwind Tour of Python](http://www.oreilly.com/programming/free/a-whirlwind-tour-of-python.csp) by Jake VanderPlas; the content is available [on GitHub](https://github.com/jakevdp/WhirlwindTourOfPython).*\n",
        "\n",
        "*The text and code are released under the [CC0](https://github.com/jakevdp/WhirlwindTourOfPython/blob/master/LICENSE) license; see also the companion project, the [Python Data Science Handbook](https://github.com/jakevdp/PythonDataScienceHandbook).*\n"
      ]
    },
    {
      "cell_type": "markdown",
      "metadata": {
        "id": "bPCGTMNUp2vr",
        "colab_type": "text"
      },
      "source": [
        "<!--NAVIGATION-->\n",
        "< [Basic Python Semantics: Variables and Objects](03-Semantics-Variables.ipynb) | [Contents](Index.ipynb) | [Built-In Types: Simple Values](05-Built-in-Scalar-Types.ipynb) >"
      ]
    },
    {
      "cell_type": "markdown",
      "metadata": {
        "id": "0gC_ZZtrp2vu",
        "colab_type": "text"
      },
      "source": [
        "# 基本的なPythonのセマンティクス: 演算子\n",
        "# Basic Python Semantics: Operators"
      ]
    },
    {
      "cell_type": "markdown",
      "metadata": {
        "id": "Ws5MKQDVp2vw",
        "colab_type": "text"
      },
      "source": [
        "前のセクションでは、Pythonの変数とオブジェクトのセマンティクスを見始めましたが、ここでは言語に含まれる様々な**演算子**のセマンティクスを掘り下げていきます。\n",
        "このセクションが終わる頃には、Pythonでデータを比較したり操作したりするための基本的なツールを手に入れることができるでしょう。\n",
        "\n",
        "In the previous section, we began to look at the semantics of Python variables and objects; here we'll dig into the semantics of the various *operators* included in the language.\n",
        "By the end of this section, you'll have the basic tools to begin comparing and operating on data in Python."
      ]
    },
    {
      "cell_type": "markdown",
      "metadata": {
        "id": "TrDWvdURp2vy",
        "colab_type": "text"
      },
      "source": [
        "## 算術演算\n",
        "\n",
        "## Arithmetic Operations\n",
        "\n",
        "Pythonは7つの基本的な二項演算子を実装しており、そのうちの2つは単項演算子を2倍にすることができます。\n",
        "それらを以下の表にまとめました。\n",
        "\n",
        "Python implements seven basic binary arithmetic operators, two of which can double as unary operators.\n",
        "They are summarized in the following table:\n",
        "\n",
        "| Operator     | Name           | Description                                            |\n",
        "|--------------|----------------|--------------------------------------------------------|\n",
        "| ``a + b``    | Addition       | Sum of ``a`` and ``b``                                 |\n",
        "| ``a - b``    | Subtraction    | Difference of ``a`` and ``b``                          |\n",
        "| ``a * b``    | Multiplication | Product of ``a`` and ``b``                             |\n",
        "| ``a / b``    | True division  | Quotient of ``a`` and ``b``                            |\n",
        "| ``a // b``   | Floor division | Quotient of ``a`` and ``b``, removing fractional parts |\n",
        "| ``a % b``    | Modulus        | Integer remainder after division of ``a`` by ``b``     |\n",
        "| ``a ** b``   | Exponentiation | ``a`` raised to the power of ``b``                     |\n",
        "| ``-a``       | Negation       | The negative of ``a``                                  |\n",
        "| ``+a``       | Unary plus     | ``a`` unchanged (rarely used)                          |\n",
        "\n",
        "これらの演算子は、標準の括弧を使用して演算をグループ化することで、直感的な方法で使用したり組み合わせたりすることができます。\n",
        "例えば、以下のようになります。\n",
        "\n",
        "These operators can be used and combined in intuitive ways, using standard parentheses to group operations.\n",
        "For example:"
      ]
    },
    {
      "cell_type": "code",
      "metadata": {
        "id": "Q6hMqiCrp2v1",
        "colab_type": "code",
        "colab": {},
        "outputId": "50f727bc-6a64-4c23-870d-6be6c34f67f2"
      },
      "source": [
        "# addition, subtraction, multiplication\n",
        "(4 + 8) * (6.5 - 3)"
      ],
      "execution_count": 0,
      "outputs": [
        {
          "output_type": "execute_result",
          "data": {
            "text/plain": [
              "42.0"
            ]
          },
          "metadata": {
            "tags": []
          },
          "execution_count": 1
        }
      ]
    },
    {
      "cell_type": "markdown",
      "metadata": {
        "id": "lESDxd8dp2wK",
        "colab_type": "text"
      },
      "source": [
        "床割りは、端数部分を切り捨てた真の割り算です。\n",
        "\n",
        "Floor division is true division with fractional parts truncated:"
      ]
    },
    {
      "cell_type": "code",
      "metadata": {
        "id": "X-DRy0HTp2wN",
        "colab_type": "code",
        "colab": {},
        "outputId": "76385833-6cdc-438d-daa6-cf0280ebe932"
      },
      "source": [
        "# True division\n",
        "print(11 / 2)"
      ],
      "execution_count": 0,
      "outputs": [
        {
          "output_type": "stream",
          "text": [
            "5.5\n"
          ],
          "name": "stdout"
        }
      ]
    },
    {
      "cell_type": "code",
      "metadata": {
        "id": "iWsTV4bip2wb",
        "colab_type": "code",
        "colab": {},
        "outputId": "85e70604-1f32-4cca-bf5e-77597b126951"
      },
      "source": [
        "# Floor division\n",
        "print(11 // 2)"
      ],
      "execution_count": 0,
      "outputs": [
        {
          "output_type": "stream",
          "text": [
            "5\n"
          ],
          "name": "stdout"
        }
      ]
    },
    {
      "cell_type": "markdown",
      "metadata": {
        "id": "R933OnSIp2wo",
        "colab_type": "text"
      },
      "source": [
        "Python 2 で作業している場合、標準の除算演算子 (``/``) は整数の場合は床除算のように、浮動小数点数の場合は真の除算のように動作することに注意してください。\n",
        "\n",
        "最後に、Python 3.5 で追加された 8 番目の演算子である ``a @ b`` 演算子について触れておきます。\n",
        "\n",
        "The floor division operator was added in Python 3; you should be aware if working in Python 2 that the standard division operator (``/``) acts like floor division for integers and like true division for floating-point numbers.\n",
        "\n",
        "Finally, I'll mention an eighth arithmetic operator that was added in Python 3.5: the ``a @ b`` operator, which is meant to indicate the *matrix product* of ``a`` and ``b``, for use in various linear algebra packages."
      ]
    },
    {
      "cell_type": "markdown",
      "metadata": {
        "id": "_K0kKcZfp2wq",
        "colab_type": "text"
      },
      "source": [
        "## ビット演算\n",
        "## Bitwise Operations\n",
        "\n",
        "標準的な数値演算に加えて、Pythonには整数に対してビット単位の論理演算を行う演算子が含まれています。\n",
        "これらは標準的な算術演算に比べてあまり使われていませんが、存在を知っておくと便利です。\n",
        "6つのビット演算子を以下の表にまとめました。\n",
        "\n",
        "In addition to the standard numerical operations, Python includes operators to perform bitwise logical operations on integers.\n",
        "These are much less commonly used than the standard arithmetic operations, but it's useful to know that they exist.\n",
        "The six bitwise operators are summarized in the following table:\n",
        "\n",
        "| Operator     | Name            | Description                                 |\n",
        "|--------------|-----------------|---------------------------------------------|\n",
        "| ``a & b``    | Bitwise AND     | Bits defined in both ``a`` and ``b``        |\n",
        "| <code>a &#124; b</code>| Bitwise OR      | Bits defined in ``a`` or ``b`` or both      |\n",
        "| ``a ^ b``    | Bitwise XOR     | Bits defined in ``a`` or ``b`` but not both |\n",
        "| ``a << b``   | Bit shift left  | Shift bits of ``a`` left by ``b`` units     |\n",
        "| ``a >> b``   | Bit shift right | Shift bits of ``a`` right by ``b`` units    |\n",
        "| ``~a``       | Bitwise NOT     | Bitwise negation of ``a``                          |\n",
        "\n",
        "これらのビット演算子は、組み込みの ``bin`` 関数を使って見ることができます。\n",
        "\n",
        "These bitwise operators only make sense in terms of the binary representation of numbers, which you can see using the built-in ``bin`` function:"
      ]
    },
    {
      "cell_type": "code",
      "metadata": {
        "id": "v7HyoRGqp2ws",
        "colab_type": "code",
        "colab": {},
        "outputId": "314c3a66-1757-4478-e3fd-e29e388e9865"
      },
      "source": [
        "bin(10)"
      ],
      "execution_count": 0,
      "outputs": [
        {
          "output_type": "execute_result",
          "data": {
            "text/plain": [
              "'0b1010'"
            ]
          },
          "metadata": {
            "tags": []
          },
          "execution_count": 4
        }
      ]
    },
    {
      "cell_type": "markdown",
      "metadata": {
        "id": "N08gNT7cp2w4",
        "colab_type": "text"
      },
      "source": [
        "結果の頭には``'0b'``が付き、二進法で表現されています。\n",
        "残りの数字は、10が$1 \\cdot 2^3 + 0 \\cdot 2^2 + 1 \\cdot 2^1 + 0 \\cdot 2^0$の和であることを示しています。\n",
        "同様に、次のように書くことができます。\n",
        "\n",
        "The result is prefixed with ``'0b'``, which indicates a binary representation.\n",
        "The rest of the digits indicate that the number 10 is expressed as the sum $1 \\cdot 2^3 + 0 \\cdot 2^2 + 1 \\cdot 2^1 + 0 \\cdot 2^0$.\n",
        "Similarly, we can write:"
      ]
    },
    {
      "cell_type": "code",
      "metadata": {
        "id": "RVSqFeBbp2w6",
        "colab_type": "code",
        "colab": {},
        "outputId": "2bda0250-8c0f-4a1d-9f89-4bd082b8be6f"
      },
      "source": [
        "bin(4)"
      ],
      "execution_count": 0,
      "outputs": [
        {
          "output_type": "execute_result",
          "data": {
            "text/plain": [
              "'0b100'"
            ]
          },
          "metadata": {
            "tags": []
          },
          "execution_count": 5
        }
      ]
    },
    {
      "cell_type": "markdown",
      "metadata": {
        "id": "YCHUPtrnp2xI",
        "colab_type": "text"
      },
      "source": [
        "さて、ビットごとのORを使って、4と10のビットを組み合わせた数字を見つけます。\n",
        "\n",
        "Now, using bitwise OR, we can find the number which combines the bits of 4 and 10:"
      ]
    },
    {
      "cell_type": "code",
      "metadata": {
        "id": "N6za38Dkp2xL",
        "colab_type": "code",
        "colab": {},
        "outputId": "b0a4faaf-26d5-4370-feef-cd56ecee9500"
      },
      "source": [
        "4 | 10"
      ],
      "execution_count": 0,
      "outputs": [
        {
          "output_type": "execute_result",
          "data": {
            "text/plain": [
              "14"
            ]
          },
          "metadata": {
            "tags": []
          },
          "execution_count": 6
        }
      ]
    },
    {
      "cell_type": "code",
      "metadata": {
        "id": "MFtHno_pp2xW",
        "colab_type": "code",
        "colab": {},
        "outputId": "faed431d-8d22-43da-db67-65fd3d0398f1"
      },
      "source": [
        "bin(4 | 10)"
      ],
      "execution_count": 0,
      "outputs": [
        {
          "output_type": "execute_result",
          "data": {
            "text/plain": [
              "'0b1110'"
            ]
          },
          "metadata": {
            "tags": []
          },
          "execution_count": 7
        }
      ]
    },
    {
      "cell_type": "markdown",
      "metadata": {
        "id": "Mv4Ul7mPp2xh",
        "colab_type": "text"
      },
      "source": [
        "これらのビット演算子は標準的な算術演算子ほどすぐに役立つものではありませんが、どのクラスの演算を行うのかを理解するために一度は見ておくと便利です。\n",
        "特に、他の言語のユーザーは、本当は指数化（つまり ``a ** b``）を意味しているのに、XOR（つまり ``a ^ b``）を使いたくなることがあります。\n",
        "\n",
        "These bitwise operators are not as immediately useful as the standard arithmetic operators, but it's helpful to see them at least once to understand what class of operation they perform.\n",
        "In particular, users from other languages are sometimes tempted to use XOR (i.e., ``a ^ b``) when they really mean exponentiation (i.e., ``a ** b``)."
      ]
    },
    {
      "cell_type": "markdown",
      "metadata": {
        "id": "aJub_vekp2xj",
        "colab_type": "text"
      },
      "source": [
        "## 割り当て操作\n",
        "## Assignment Operations\n",
        "\n",
        "変数は\"``=``\"演算子を使って代入することができ、その値は後で使うために保存されることを見てきました。例えば、以下のようになります。\n",
        "\n",
        "We've seen that variables can be assigned with the \"``=``\" operator, and the values stored for later use. For example:"
      ]
    },
    {
      "cell_type": "code",
      "metadata": {
        "id": "I_8g132Lp2xl",
        "colab_type": "code",
        "colab": {},
        "outputId": "2c9adc0b-f726-4c39-a603-4d9c836b92b9"
      },
      "source": [
        "a = 24\n",
        "print(a)"
      ],
      "execution_count": 0,
      "outputs": [
        {
          "output_type": "stream",
          "text": [
            "24\n"
          ],
          "name": "stdout"
        }
      ]
    },
    {
      "cell_type": "markdown",
      "metadata": {
        "id": "bnxbfd9np2xw",
        "colab_type": "text"
      },
      "source": [
        "これらの変数は、先に述べた演算子を使った式の中で使うことができます。\n",
        "例えば、``a``に2を加えるには次のように書きます。\n",
        "\n",
        "We can use these variables in expressions with any of the operators mentioned earlier.\n",
        "For example, to add 2 to ``a`` we write:"
      ]
    },
    {
      "cell_type": "code",
      "metadata": {
        "id": "m-pXOoddp2x0",
        "colab_type": "code",
        "colab": {},
        "outputId": "89afe391-e06c-4958-e8b4-45aaac7e56b2"
      },
      "source": [
        "a + 2"
      ],
      "execution_count": 0,
      "outputs": [
        {
          "output_type": "execute_result",
          "data": {
            "text/plain": [
              "26"
            ]
          },
          "metadata": {
            "tags": []
          },
          "execution_count": 9
        }
      ]
    },
    {
      "cell_type": "markdown",
      "metadata": {
        "id": "MghwLjawp2x_",
        "colab_type": "text"
      },
      "source": [
        "この場合、足し算と代入を組み合わせて ``a = a + 2``` と書くことができます。\n",
        "このような操作と代入の組み合わせは非常に一般的なものなので、Pythonにはすべての算術演算のための更新演算子が組み込まれています。\n",
        "\n",
        "We might want to update the variable ``a`` with this new value; in this case, we could combine the addition and the assignment and write ``a = a + 2``.\n",
        "Because this type of combined operation and assignment is so common, Python includes built-in update operators for all of the arithmetic operations:"
      ]
    },
    {
      "cell_type": "code",
      "metadata": {
        "id": "-hzU7xiWp2yB",
        "colab_type": "code",
        "colab": {},
        "outputId": "450813e7-7671-4f07-9fe6-2ac17e827200"
      },
      "source": [
        "a += 2  # equivalent to a = a + 2\n",
        "print(a)"
      ],
      "execution_count": 0,
      "outputs": [
        {
          "output_type": "stream",
          "text": [
            "26\n"
          ],
          "name": "stdout"
        }
      ]
    },
    {
      "cell_type": "markdown",
      "metadata": {
        "id": "EhuvSIW4p2yM",
        "colab_type": "text"
      },
      "source": [
        "先に挙げた二値演算子のそれぞれに対応する拡張代入演算子があります。\n",
        "\n",
        "There is an augmented assignment operator corresponding to each of the binary operators listed earlier; in brief, they are:\n",
        "\n",
        "|||||\n",
        "|-|-|\n",
        "|``a += b``| ``a -= b``|``a *= b``| ``a /= b``|\n",
        "|``a //= b``| ``a %= b``|``a **= b``|``a &= b``|\n",
        "|<code>a &#124;= b</code>| ``a ^= b``|``a <<= b``| ``a >>= b``|\n",
        "\n",
        "つまり、任意の演算子\"``■``\"に対して、 ``a ■= b`` という式は ``a = a ■ b`` と等価ですが、少し引っかかりがあります。\n",
        "リストや配列、DataFramesなどのようなミュータブルなオブジェクトに対しては、これらの拡張代入操作は、実際にはより冗長な代入操作とは微妙に異なります：結果を保存するために新しいオブジェクトを作成するのではなく、元のオブジェクトの内容を変更します。\n",
        "\n",
        "Each one is equivalent to the corresponding operation followed by assignment: that is, for any operator \"``■``\", the expression ``a ■= b`` is equivalent to ``a = a ■ b``, with a slight catch.\n",
        "For mutable objects like lists, arrays, or DataFrames, these augmented assignment operations are actually subtly different than their more verbose counterparts: they modify the contents of the original object rather than creating a new object to store the result."
      ]
    },
    {
      "cell_type": "markdown",
      "metadata": {
        "id": "5Fa7SNR4p2yO",
        "colab_type": "text"
      },
      "source": [
        "## 比較操作\n",
        "\n",
        "## Comparison Operations\n",
        "\n",
        "もう一つの非常に便利な操作として、異なる値の比較があります。\n",
        "このために Python は標準的な比較演算子を実装しています。\n",
        "以下の表に比較演算子の一覧を示します。\n",
        "\n",
        "Another type of operation which can be very useful is comparison of different values.\n",
        "For this, Python implements standard comparison operators, which return Boolean values ``True`` and ``False``.\n",
        "The comparison operations are listed in the following table:\n",
        "\n",
        "| Operation     | Description                       || Operation     | Description                          |\n",
        "|---------------|-----------------------------------||---------------|--------------------------------------|\n",
        "| ``a == b``    | ``a`` equal to ``b``              || ``a != b``    | ``a`` not equal to ``b``             |\n",
        "| ``a < b``     | ``a`` less than ``b``             || ``a > b``     | ``a`` greater than ``b``             |\n",
        "| ``a <= b``    | ``a`` less than or equal to ``b`` || ``a >= b``    | ``a`` greater than or equal to ``b`` |\n",
        "\n",
        "これらの比較演算子を算術演算子やビット演算子と組み合わせることで、事実上無限の範囲で数値のテストを表現することができます。\n",
        "例えば、2のモジュラスが1を返すことを確認することで、ある数値が奇数であるかどうかを確認することができます。\n",
        "\n",
        "These comparison operators can be combined with the arithmetic and bitwise operators to express a virtually limitless range of tests for the numbers.\n",
        "For example, we can check if a number is odd by checking that the modulus with 2 returns 1:"
      ]
    },
    {
      "cell_type": "code",
      "metadata": {
        "id": "yilzeDQap2yQ",
        "colab_type": "code",
        "colab": {},
        "outputId": "21ebaa70-3153-4142-e8d3-dd87d5878013"
      },
      "source": [
        "# 25 is odd\n",
        "25 % 2 == 1"
      ],
      "execution_count": 0,
      "outputs": [
        {
          "output_type": "execute_result",
          "data": {
            "text/plain": [
              "True"
            ]
          },
          "metadata": {
            "tags": []
          },
          "execution_count": 11
        }
      ]
    },
    {
      "cell_type": "code",
      "metadata": {
        "id": "K25_P7g-p2ya",
        "colab_type": "code",
        "colab": {},
        "outputId": "86e797e6-57bf-4b66-b1b5-43544cc2eea4"
      },
      "source": [
        "# 66 is odd\n",
        "66 % 2 == 1"
      ],
      "execution_count": 0,
      "outputs": [
        {
          "output_type": "execute_result",
          "data": {
            "text/plain": [
              "False"
            ]
          },
          "metadata": {
            "tags": []
          },
          "execution_count": 12
        }
      ]
    },
    {
      "cell_type": "markdown",
      "metadata": {
        "id": "rHeoZ2V3p2yl",
        "colab_type": "text"
      },
      "source": [
        "より複雑な関係を確認するために、複数の比較を文字列化することができます。\n",
        "\n",
        "We can string-together multiple comparisons to check more complicated relationships:"
      ]
    },
    {
      "cell_type": "code",
      "metadata": {
        "id": "pIx3Jdvyp2ym",
        "colab_type": "code",
        "colab": {},
        "outputId": "0b492a07-ca43-458f-9239-74baf79bc484"
      },
      "source": [
        "# check if a is between 15 and 30\n",
        "a = 25\n",
        "15 < a < 30"
      ],
      "execution_count": 0,
      "outputs": [
        {
          "output_type": "execute_result",
          "data": {
            "text/plain": [
              "True"
            ]
          },
          "metadata": {
            "tags": []
          },
          "execution_count": 13
        }
      ]
    },
    {
      "cell_type": "markdown",
      "metadata": {
        "id": "bJMJgWtcp2yr",
        "colab_type": "text"
      },
      "source": [
        "そして、あなたの頭を少し痛くさせるために、この比較を見てみてください。\n",
        "\n",
        "And, just to make your head hurt a bit, take a look at this comparison:"
      ]
    },
    {
      "cell_type": "code",
      "metadata": {
        "id": "t85eT4Akp2yt",
        "colab_type": "code",
        "colab": {},
        "outputId": "111d5291-7e6e-4d71-8095-9fe95fe6a3da"
      },
      "source": [
        "-1 == ~0"
      ],
      "execution_count": 0,
      "outputs": [
        {
          "output_type": "execute_result",
          "data": {
            "text/plain": [
              "True"
            ]
          },
          "metadata": {
            "tags": []
          },
          "execution_count": 14
        }
      ]
    },
    {
      "cell_type": "markdown",
      "metadata": {
        "id": "3gyYhvAZp2yx",
        "colab_type": "text"
      },
      "source": [
        "はビット反転演算子であり、ゼロのすべてのビットを反転させると -1 になってしまうことを覚えておいてください。\n",
        "なぜそうなるのか興味があるなら、Pythonが符号付き整数をエンコードするために使っている **two's complement**整数エンコーディングスキームを調べてみてください。\n",
        "\n",
        "Recall that ``~`` is the bit-flip operator, and evidently when you flip all the bits of zero you end up with -1.\n",
        "If you're curious as to why this is, look up the *two's complement* integer encoding scheme, which is what Python uses to encode signed integers, and think about what happens when you start flipping all the bits of integers encoded this way."
      ]
    },
    {
      "cell_type": "markdown",
      "metadata": {
        "id": "XvezgGUBp2yy",
        "colab_type": "text"
      },
      "source": [
        "## ブール演算\n",
        "## Boolean Operations\n",
        "\n",
        "ブール値を扱う際、Pythonは \"and\"、\"or\"、\"not \"の標準的な概念を使って値を結合するための演算子を提供しています。\n",
        "予想通り、これらの演算子は ``and``, ``or``, ``not`` という単語を使って表現されます。\n",
        "\n",
        "When working with Boolean values, Python provides operators to combine the values using the standard concepts of \"and\", \"or\", and \"not\".\n",
        "Predictably, these operators are expressed using the words ``and``, ``or``, and ``not``:"
      ]
    },
    {
      "cell_type": "code",
      "metadata": {
        "id": "LHMXUNowp2yz",
        "colab_type": "code",
        "colab": {},
        "outputId": "bae87ee1-5ef4-4ca5-cf76-436830c4f3e0"
      },
      "source": [
        "x = 4\n",
        "(x < 6) and (x > 2)"
      ],
      "execution_count": 0,
      "outputs": [
        {
          "output_type": "execute_result",
          "data": {
            "text/plain": [
              "True"
            ]
          },
          "metadata": {
            "tags": []
          },
          "execution_count": 15
        }
      ]
    },
    {
      "cell_type": "code",
      "metadata": {
        "id": "JvFOczTtp2y3",
        "colab_type": "code",
        "colab": {},
        "outputId": "114f22e7-554d-46dc-d75e-b4b78b409584"
      },
      "source": [
        "(x > 10) or (x % 2 == 0)"
      ],
      "execution_count": 0,
      "outputs": [
        {
          "output_type": "execute_result",
          "data": {
            "text/plain": [
              "True"
            ]
          },
          "metadata": {
            "tags": []
          },
          "execution_count": 16
        }
      ]
    },
    {
      "cell_type": "code",
      "metadata": {
        "id": "RJXgEJUbp2y6",
        "colab_type": "code",
        "colab": {},
        "outputId": "e43e2664-9049-41f3-b7be-f085a16bb5c1"
      },
      "source": [
        "not (x < 6)"
      ],
      "execution_count": 0,
      "outputs": [
        {
          "output_type": "execute_result",
          "data": {
            "text/plain": [
              "False"
            ]
          },
          "metadata": {
            "tags": []
          },
          "execution_count": 17
        }
      ]
    },
    {
      "cell_type": "markdown",
      "metadata": {
        "id": "Q2k0CgB2p2y9",
        "colab_type": "text"
      },
      "source": [
        "ブール代数の愛好家は、XOR演算子が含まれていないことに気づくかもしれませんが、これはもちろん他の演算子の複合文からいくつかの方法で構築できます。\n",
        "そうでなければ、ブール値のXORには次のような巧妙なトリックを使うことができます。\n",
        "\n",
        "Boolean algebra aficionados might notice that the XOR operator is not included; this can of course be constructed in several ways from a compound statement of the other operators.\n",
        "Otherwise, a clever trick you can use for XOR of Boolean values is the following:"
      ]
    },
    {
      "cell_type": "code",
      "metadata": {
        "id": "ox-5WPVvp2y9",
        "colab_type": "code",
        "colab": {},
        "outputId": "f6e9e925-fe40-4e0c-9551-4c9ab03a915b"
      },
      "source": [
        "# (x > 1) xor (x < 10)\n",
        "(x > 1) != (x < 10)"
      ],
      "execution_count": 0,
      "outputs": [
        {
          "output_type": "execute_result",
          "data": {
            "text/plain": [
              "False"
            ]
          },
          "metadata": {
            "tags": []
          },
          "execution_count": 18
        }
      ]
    },
    {
      "cell_type": "markdown",
      "metadata": {
        "id": "VmGYmTJ3p2zA",
        "colab_type": "text"
      },
      "source": [
        "これらの種類のブール演算は、条件式やループのような**制御フロー文**の議論を始めるときに非常に便利になるでしょう。\n",
        "\n",
        "この言語で時々混乱するのは、いつブール演算子(``and``, ``or``, ``not``)を使い、いつビット演算子(``&``, ``|``, ``~``)を使うかということです。\n",
        "答えはその名前にあります。ブール演算子は、文全体の``*``ブール値(真偽)を計算したいときに使うべきです。\n",
        "ビット演算は、**問題のオブジェクトの個々のビットやコンポーネントに対して演算したい場合に使用します** 。\n",
        "\n",
        "These sorts of Boolean operations will become extremely useful when we begin discussing *control flow statements* such as conditionals and loops.\n",
        "\n",
        "One sometimes confusing thing about the language is when to use Boolean operators (``and``, ``or``, ``not``), and when to use bitwise operations (``&``, ``|``, ``~``).\n",
        "The answer lies in their names: Boolean operators should be used when you want to compute *Boolean values (i.e., truth or falsehood) of entire statements*.\n",
        "Bitwise operations should be used when you want to *operate on individual bits or components of the objects in question*."
      ]
    },
    {
      "cell_type": "markdown",
      "metadata": {
        "id": "uRglZeA9p2zA",
        "colab_type": "text"
      },
      "source": [
        "## アイデンティティとメンバーシップの演算子\n",
        "\n",
        "## Identity and Membership Operators\n",
        "\n",
        "``and``, ``or``, ``not``と同様に、Pythonには同一性やメンバーシップをチェックするための散文的な演算子も含まれています。\n",
        "それらは以下の通りです。\n",
        "\n",
        "Like ``and``, ``or``, and ``not``, Python also contains prose-like operators  to check for identity and membership.\n",
        "They are the following:\n",
        "\n",
        "| Operator      | Description                                       |\n",
        "|---------------|---------------------------------------------------|\n",
        "| ``a is b``    | True if ``a`` and ``b`` are identical objects     |\n",
        "| ``a is not b``| True if ``a`` and ``b`` are not identical objects |\n",
        "| ``a in b``    | True if ``a`` is a member of ``b``                |\n",
        "| ``a not in b``| True if ``a`` is not a member of ``b``            |"
      ]
    },
    {
      "cell_type": "markdown",
      "metadata": {
        "id": "aut5aPv6p2zB",
        "colab_type": "text"
      },
      "source": [
        "### アイデンティティ演算子:\"``is``\" と \"``is not``\"\n",
        "### Identity Operators: \"``is``\" and \"``is not``\"\n",
        "\n",
        "同一性演算子である\"``is``\"と\"``is not``\"は、*オブジェクトの同一性*をチェックします。\n",
        "ここで見られるように、オブジェクトの同一性は等質性とは異なります。\n",
        "\n",
        "The identity operators, \"``is``\" and \"``is not``\" check for *object identity*.\n",
        "Object identity is different than equality, as we can see here:"
      ]
    },
    {
      "cell_type": "code",
      "metadata": {
        "id": "cgDf_jJAp2zB",
        "colab_type": "code",
        "colab": {}
      },
      "source": [
        "a = [1, 2, 3]\n",
        "b = [1, 2, 3]"
      ],
      "execution_count": 0,
      "outputs": []
    },
    {
      "cell_type": "code",
      "metadata": {
        "id": "E5kuUAHBp2zE",
        "colab_type": "code",
        "colab": {},
        "outputId": "7c418c9a-d028-47c7-b03f-1ae64d8cd15c"
      },
      "source": [
        "a == b"
      ],
      "execution_count": 0,
      "outputs": [
        {
          "output_type": "execute_result",
          "data": {
            "text/plain": [
              "True"
            ]
          },
          "metadata": {
            "tags": []
          },
          "execution_count": 20
        }
      ]
    },
    {
      "cell_type": "code",
      "metadata": {
        "id": "OHog6OAsp2zK",
        "colab_type": "code",
        "colab": {},
        "outputId": "e59f4860-fd4e-4ae0-a67f-4eec36069d3a"
      },
      "source": [
        "a is b"
      ],
      "execution_count": 0,
      "outputs": [
        {
          "output_type": "execute_result",
          "data": {
            "text/plain": [
              "False"
            ]
          },
          "metadata": {
            "tags": []
          },
          "execution_count": 21
        }
      ]
    },
    {
      "cell_type": "code",
      "metadata": {
        "id": "TMdBURv4p2zP",
        "colab_type": "code",
        "colab": {},
        "outputId": "a345762a-1a4b-4389-c85a-60de804991be"
      },
      "source": [
        "a is not b"
      ],
      "execution_count": 0,
      "outputs": [
        {
          "output_type": "execute_result",
          "data": {
            "text/plain": [
              "True"
            ]
          },
          "metadata": {
            "tags": []
          },
          "execution_count": 22
        }
      ]
    },
    {
      "cell_type": "markdown",
      "metadata": {
        "id": "SkIJHKuup2zT",
        "colab_type": "text"
      },
      "source": [
        "同一のオブジェクトはどのように見えますか？例を挙げてみましょう。\n",
        "\n",
        "What do identical objects look like? Here is an example:"
      ]
    },
    {
      "cell_type": "code",
      "metadata": {
        "id": "rP9euDWHp2zU",
        "colab_type": "code",
        "colab": {},
        "outputId": "b9e09564-b186-4dcb-8a8d-5d0477d1e2ee"
      },
      "source": [
        "a = [1, 2, 3]\n",
        "b = a\n",
        "a is b"
      ],
      "execution_count": 0,
      "outputs": [
        {
          "output_type": "execute_result",
          "data": {
            "text/plain": [
              "True"
            ]
          },
          "metadata": {
            "tags": []
          },
          "execution_count": 23
        }
      ]
    },
    {
      "cell_type": "markdown",
      "metadata": {
        "id": "7w0EzjRQp2zZ",
        "colab_type": "text"
      },
      "source": [
        "ここでの2つのケースの違いは、前者では ``a`` と ``b`` が **異なるオブジェクト** を指しているのに対し、後者では **同じオブジェクト** を指していることです。\n",
        "前のセクションで見たように、Pythonの変数はポインタです。\"``is``\"演算子は、2つの変数がコンテナの中身を指すのではなく、同じコンテナ(オブジェクト)を指しているかどうかをチェックします。\n",
        "このことを念頭に置いて、初心者が \"``is``\" を使いたくなるのは、本当の意味での ``==`` です。\n",
        "\n",
        "The difference between the two cases here is that in the first, ``a`` and ``b`` point to *different objects*, while in the second they point to the *same object*.\n",
        "As we saw in the previous section, Python variables are pointers. The \"``is``\" operator checks whether the two variables are pointing to the same container (object), rather than referring to what the container contains.\n",
        "With this in mind, in most cases that a beginner is tempted to use \"``is``\" what they really mean is ``==``."
      ]
    },
    {
      "cell_type": "markdown",
      "metadata": {
        "id": "ZByCQ5PYp2za",
        "colab_type": "text"
      },
      "source": [
        "### メンバーシップ演算子\n",
        "### Membership operators\n",
        "\n",
        "メンバシップ演算子は、複合オブジェクト内のメンバシップをチェックします。\n",
        "そのため、例えば次のように書くことができます。\n",
        "\n",
        "Membership operators check for membership within compound objects.\n",
        "So, for example, we can write:"
      ]
    },
    {
      "cell_type": "code",
      "metadata": {
        "id": "iEOdTLm-p2zb",
        "colab_type": "code",
        "colab": {},
        "outputId": "a140e9e9-f542-40b3-c58c-d2744e6097b0"
      },
      "source": [
        "1 in [1, 2, 3]"
      ],
      "execution_count": 0,
      "outputs": [
        {
          "output_type": "execute_result",
          "data": {
            "text/plain": [
              "True"
            ]
          },
          "metadata": {
            "tags": []
          },
          "execution_count": 24
        }
      ]
    },
    {
      "cell_type": "code",
      "metadata": {
        "id": "Ke15oiggp2zf",
        "colab_type": "code",
        "colab": {},
        "outputId": "80659250-c1fb-4a37-f816-a391b1b5dc3b"
      },
      "source": [
        "2 not in [1, 2, 3]"
      ],
      "execution_count": 0,
      "outputs": [
        {
          "output_type": "execute_result",
          "data": {
            "text/plain": [
              "False"
            ]
          },
          "metadata": {
            "tags": []
          },
          "execution_count": 25
        }
      ]
    },
    {
      "cell_type": "markdown",
      "metadata": {
        "id": "xzTV4ztMp2zk",
        "colab_type": "text"
      },
      "source": [
        "これらのメンバシップ操作は、C言語のような低レベル言語と比較してPythonが非常に使いやすいことの一例です。\n",
        "C言語では、一般的にメンバーシップはリストの上に手動でループを構築し、それぞれの値が等しいかどうかをチェックすることで決定されます。\n",
        "Pythonでは、簡単な英語の散文を彷彿とさせる方法で、知りたいことを入力するだけです。\n",
        "\n",
        "These membership operations are an example of what makes Python so easy to use compared to lower-level languages such as C.\n",
        "In C, membership would generally be determined by manually constructing a loop over the list and checking for equality of each value.\n",
        "In Python, you just type what you want to know, in a manner reminiscent of straightforward English prose."
      ]
    },
    {
      "cell_type": "markdown",
      "metadata": {
        "id": "z3p6Cyxmp2zk",
        "colab_type": "text"
      },
      "source": [
        "<!--NAVIGATION-->\n",
        "< [Basic Python Semantics: Variables and Objects](03-Semantics-Variables.ipynb) | [Contents](Index.ipynb) | [Built-In Types: Simple Values](05-Built-in-Scalar-Types.ipynb) >"
      ]
    }
  ]
}