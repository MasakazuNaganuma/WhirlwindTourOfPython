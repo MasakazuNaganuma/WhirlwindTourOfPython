{
  "nbformat": 4,
  "nbformat_minor": 0,
  "metadata": {
    "anaconda-cloud": {},
    "kernelspec": {
      "display_name": "Python 3",
      "language": "python",
      "name": "python3"
    },
    "language_info": {
      "codemirror_mode": {
        "name": "ipython",
        "version": 3
      },
      "file_extension": ".py",
      "mimetype": "text/x-python",
      "name": "python",
      "nbconvert_exporter": "python",
      "pygments_lexer": "ipython3",
      "version": "3.5.1"
    },
    "colab": {
      "name": "13-Modules-and-Packages.ipynb",
      "provenance": [],
      "toc_visible": true,
      "include_colab_link": true
    }
  },
  "cells": [
    {
      "cell_type": "markdown",
      "metadata": {
        "id": "view-in-github",
        "colab_type": "text"
      },
      "source": [
        "<a href=\"https://colab.research.google.com/github/MasakazuNaganuma/WhirlwindTourOfPython/blob/master/13-Modules-and-Packages.ipynb\" target=\"_parent\"><img src=\"https://colab.research.google.com/assets/colab-badge.svg\" alt=\"Open In Colab\"/></a>"
      ]
    },
    {
      "cell_type": "markdown",
      "metadata": {
        "id": "KiEjoBab_prr",
        "colab_type": "text"
      },
      "source": [
        "<!--BOOK_INFORMATION-->\n",
        "<img align=\"left\" style=\"padding-right:10px;\" src=\"https://github.com/MasakazuNaganuma/WhirlwindTourOfPython/blob/master/fig/cover-small.jpg?raw=1\">\n",
        "*This notebook contains an excerpt from the [Whirlwind Tour of Python](http://www.oreilly.com/programming/free/a-whirlwind-tour-of-python.csp) by Jake VanderPlas; the content is available [on GitHub](https://github.com/jakevdp/WhirlwindTourOfPython).*\n",
        "\n",
        "*The text and code are released under the [CC0](https://github.com/jakevdp/WhirlwindTourOfPython/blob/master/LICENSE) license; see also the companion project, the [Python Data Science Handbook](https://github.com/jakevdp/PythonDataScienceHandbook).*\n"
      ]
    },
    {
      "cell_type": "markdown",
      "metadata": {
        "id": "nAJK-8HT_prs",
        "colab_type": "text"
      },
      "source": [
        "<!--NAVIGATION-->\n",
        "< [Generators](12-Generators.ipynb) | [Contents](Index.ipynb) | [String Manipulation and Regular Expressions](14-Strings-and-Regular-Expressions.ipynb) >"
      ]
    },
    {
      "cell_type": "markdown",
      "metadata": {
        "id": "ZU9XwJwU_prs",
        "colab_type": "text"
      },
      "source": [
        "# モジュールとパッケージ\n",
        "# Modules and Packages"
      ]
    },
    {
      "cell_type": "markdown",
      "metadata": {
        "id": "ext0NOMB_prt",
        "colab_type": "text"
      },
      "source": [
        "One feature of Python that makes it useful for a wide range of tasks is the fact that it comes \"batteries included\" – that is, the Python standard library contains useful tools for a wide range of tasks.\n",
        "On top of this, there is a broad ecosystem of third-party tools and packages that offer more specialized functionality.\n",
        "Here we'll take a look at importing standard library modules, tools for installing third-party modules, and a description of how you can make your own modules.\n",
        "\n",
        "幅広いタスクに役立つPythonの1つの機能は、「バッテリーが含まれる」ということです。つまり、Python標準ライブラリには、幅広いタスクに役立つツールが含まれています。\n",
        "さらに、より専門的な機能を提供するサードパーティのツールとパッケージの幅広いエコシステムがあります。\n",
        "ここでは、標準ライブラリモジュールのインポート、サードパーティのモジュールをインストールするためのツール、独自のモジュールを作成する方法について説明します。"
      ]
    },
    {
      "cell_type": "markdown",
      "metadata": {
        "id": "syj-WEpp_pru",
        "colab_type": "text"
      },
      "source": [
        "##モジュールの読み込み： `` import``ステートメント\n",
        "\n",
        "ビルトインおよびサードパーティのモジュールをロードするために、Pythonは `` import``ステートメントを提供します。\n",
        "ステートメントを使用する方法はいくつかありますが、ここでは簡単に説明しますが、推奨される方法から推奨されない方法があります。\n",
        "\n",
        "## Loading Modules: the ``import`` Statement\n",
        "\n",
        "For loading built-in and third-party modules, Python provides the ``import`` statement.\n",
        "There are a few ways to use the statement, which we will mention briefly here, from most recommended to least recommended."
      ]
    },
    {
      "cell_type": "markdown",
      "metadata": {
        "id": "FHpSz66N_prv",
        "colab_type": "text"
      },
      "source": [
        "###明示的なモジュールのインポート\n",
        "\n",
        "モジュールを明示的にインポートすると、モジュールのコンテンツが名前空間に保持されます。\n",
        "次に、名前空間を使用して、\"``.``\" を間に挟んでコンテンツを参照します。\n",
        "たとえば、ここでは組み込みの``math``モジュールをインポートして、piの余弦を計算します。\n",
        "\n",
        "### Explicit module import\n",
        "\n",
        "Explicit import of a module preserves the module's content in a namespace.\n",
        "The namespace is then used to refer to its contents with a \"``.``\" between them.\n",
        "For example, here we'll import the built-in ``math`` module and compute the cosine of pi:"
      ]
    },
    {
      "cell_type": "code",
      "metadata": {
        "id": "YoLZ7o8C_prv",
        "colab_type": "code",
        "colab": {},
        "outputId": "d4ca14ce-e858-4893-e9bc-22b3b2ceea86"
      },
      "source": [
        "import math\n",
        "math.cos(math.pi)"
      ],
      "execution_count": 0,
      "outputs": [
        {
          "output_type": "execute_result",
          "data": {
            "text/plain": [
              "-1.0"
            ]
          },
          "metadata": {
            "tags": []
          },
          "execution_count": 1
        }
      ]
    },
    {
      "cell_type": "markdown",
      "metadata": {
        "id": "DSomVVlN_pr1",
        "colab_type": "text"
      },
      "source": [
        "###エイリアスによる明示的なモジュールのインポート\n",
        "\n",
        "より長いモジュール名の場合、要素にアクセスするたびに完全なモジュール名を使用するのは便利ではありません。\n",
        "このため、一般的には、「 `` import ... as ... ``」パターンを使用して、名前空間の短いエイリアスを作成します。\n",
        "たとえば、データサイエンスに役立つ人気のあるサードパーティのパッケージであるNumPy（Numerical Python）パッケージは、慣習的にエイリアス `` np``としてインポートされます。\n",
        "\n",
        "### Explicit module import by alias\n",
        "\n",
        "For longer module names, it's not convenient to use the full module name each time you access some element.\n",
        "For this reason, we'll commonly use the \"``import ... as ...``\" pattern to create a shorter alias for the namespace.\n",
        "For example, the NumPy (Numerical Python) package, a popular third-party package useful for data science, is by convention imported under the alias ``np``:"
      ]
    },
    {
      "cell_type": "code",
      "metadata": {
        "id": "VYGBiLt9_pr2",
        "colab_type": "code",
        "colab": {},
        "outputId": "a872b48e-75bf-4c05-eb84-d94620acd1a1"
      },
      "source": [
        "import numpy as np\n",
        "np.cos(np.pi)"
      ],
      "execution_count": 0,
      "outputs": [
        {
          "output_type": "execute_result",
          "data": {
            "text/plain": [
              "-1.0"
            ]
          },
          "metadata": {
            "tags": []
          },
          "execution_count": 2
        }
      ]
    },
    {
      "cell_type": "markdown",
      "metadata": {
        "id": "uIaq4Z-E_pr5",
        "colab_type": "text"
      },
      "source": [
        "###モジュールコンテンツの明示的なインポート\n",
        "\n",
        "モジュールの名前空間をインポートするのではなく、いくつかの特定のアイテムをモジュールからインポートしたい場合があります。\n",
        "これは、「from ... import ...」パターンで実行できます。\n",
        "たとえば、「math」モジュールから「cos」関数と「pi」定数だけをインポートできます：\n",
        "\n",
        "### Explicit import of module contents\n",
        "\n",
        "Sometimes rather than importing the module namespace, you would just like to import a few particular items from the module.\n",
        "This can be done with the \"``from ... import ...``\" pattern.\n",
        "For example, we can import just the ``cos`` function and the ``pi`` constant from the ``math`` module:"
      ]
    },
    {
      "cell_type": "code",
      "metadata": {
        "id": "pcCb4DFo_pr5",
        "colab_type": "code",
        "colab": {},
        "outputId": "296da32f-f462-410f-de9b-26176015d803"
      },
      "source": [
        "from math import cos, pi\n",
        "cos(pi)"
      ],
      "execution_count": 0,
      "outputs": [
        {
          "output_type": "execute_result",
          "data": {
            "text/plain": [
              "-1.0"
            ]
          },
          "metadata": {
            "tags": []
          },
          "execution_count": 3
        }
      ]
    },
    {
      "cell_type": "markdown",
      "metadata": {
        "id": "6jgu2Szw_pr9",
        "colab_type": "text"
      },
      "source": [
        "###モジュールコンテンツの暗黙的なインポート\n",
        "\n",
        "最後に、モジュールのコンテンツ全体をローカルの名前空間にインポートすると便利な場合があります。\n",
        "これは、「from ... import *」パターンで実行できます。\n",
        "\n",
        "### Implicit import of module contents\n",
        "\n",
        "Finally, it is sometimes useful to import the entirety of the module contents into the local namespace.\n",
        "This can be done with the \"``from ... import *``\" pattern:"
      ]
    },
    {
      "cell_type": "code",
      "metadata": {
        "id": "VnpI3-gR_pr9",
        "colab_type": "code",
        "colab": {},
        "outputId": "3450bdd3-12c1-414d-8400-705404cbcff1"
      },
      "source": [
        "from math import *\n",
        "sin(pi) ** 2 + cos(pi) ** 2"
      ],
      "execution_count": 0,
      "outputs": [
        {
          "output_type": "execute_result",
          "data": {
            "text/plain": [
              "1.0"
            ]
          },
          "metadata": {
            "tags": []
          },
          "execution_count": 4
        }
      ]
    },
    {
      "cell_type": "markdown",
      "metadata": {
        "id": "KOlVZOuh_psB",
        "colab_type": "text"
      },
      "source": [
        "このパターンは、使用する場合は控えめに使用する必要があります。\n",
        "問題は、そのようなインポートにより、上書きするつもりのない関数名が上書きされることがあり、ステートメントの暗黙性により、何が変更されたかを判別することが困難になることです。\n",
        "\n",
        "たとえば、Pythonにはさまざまな操作に使用できる組み込みの `` sum``関数があります：\n",
        "\n",
        "This pattern should be used sparingly, if at all.\n",
        "The problem is that such imports can sometimes overwrite function names that you do not intend to overwrite, and the implicitness of the statement makes it difficult to determine what has changed.\n",
        "\n",
        "For example, Python has a built-in ``sum`` function that can be used for various operations:\n",
        "\n"
      ]
    },
    {
      "cell_type": "code",
      "metadata": {
        "id": "6dp3xKIM_psB",
        "colab_type": "code",
        "colab": {},
        "outputId": "2309209c-e760-47ea-dfe4-7d9d62798525"
      },
      "source": [
        "help(sum)"
      ],
      "execution_count": 0,
      "outputs": [
        {
          "output_type": "stream",
          "text": [
            "Help on built-in function sum in module builtins:\n",
            "\n",
            "sum(...)\n",
            "    sum(iterable[, start]) -> value\n",
            "    \n",
            "    Return the sum of an iterable of numbers (NOT strings) plus the value\n",
            "    of parameter 'start' (which defaults to 0).  When the iterable is\n",
            "    empty, return start.\n",
            "\n"
          ],
          "name": "stdout"
        }
      ]
    },
    {
      "cell_type": "markdown",
      "metadata": {
        "id": "61CPMiZN_psF",
        "colab_type": "text"
      },
      "source": [
        "これを使用して、特定の値で始まるシーケンスの合計を計算できます（ここでは、「-1」で始まります）：\n",
        "\n",
        "We can use this to compute the sum of a sequence, starting with a certain value (here, we'll start with ``-1``):"
      ]
    },
    {
      "cell_type": "code",
      "metadata": {
        "id": "VyehyXcYUxIt",
        "colab_type": "code",
        "colab": {}
      },
      "source": [
        "a = range(5)"
      ],
      "execution_count": 0,
      "outputs": []
    },
    {
      "cell_type": "code",
      "metadata": {
        "id": "v7Cjut6bU7-v",
        "colab_type": "code",
        "colab": {
          "base_uri": "https://localhost:8080/",
          "height": 34
        },
        "outputId": "602e92a1-8862-4b6b-a765-90fe7aac249d"
      },
      "source": [
        "print(*a)"
      ],
      "execution_count": 6,
      "outputs": [
        {
          "output_type": "stream",
          "text": [
            "0 1 2 3 4\n"
          ],
          "name": "stdout"
        }
      ]
    },
    {
      "cell_type": "code",
      "metadata": {
        "id": "IyKbbyTbYXbV",
        "colab_type": "code",
        "colab": {}
      },
      "source": [
        "b = range(0,5)"
      ],
      "execution_count": 0,
      "outputs": []
    },
    {
      "cell_type": "code",
      "metadata": {
        "id": "Vi2i0CSLYeBf",
        "colab_type": "code",
        "colab": {
          "base_uri": "https://localhost:8080/",
          "height": 34
        },
        "outputId": "7bc0fdb1-37b8-4744-936d-8c6b024d68d3"
      },
      "source": [
        "print(*b)"
      ],
      "execution_count": 23,
      "outputs": [
        {
          "output_type": "stream",
          "text": [
            "0 1 2 3 4\n"
          ],
          "name": "stdout"
        }
      ]
    },
    {
      "cell_type": "code",
      "metadata": {
        "id": "QnbeRx0eWMtq",
        "colab_type": "code",
        "colab": {
          "base_uri": "https://localhost:8080/",
          "height": 34
        },
        "outputId": "68f3998c-507d-4d5f-b2fd-289a7521fc88"
      },
      "source": [
        "b = range(5)\n",
        "j = 0\n",
        "for i in b:\n",
        "    j = j + i\n",
        "j"
      ],
      "execution_count": 11,
      "outputs": [
        {
          "output_type": "execute_result",
          "data": {
            "text/plain": [
              "10"
            ]
          },
          "metadata": {
            "tags": []
          },
          "execution_count": 11
        }
      ]
    },
    {
      "cell_type": "code",
      "metadata": {
        "id": "Eko5tQPzXLZA",
        "colab_type": "code",
        "colab": {}
      },
      "source": [
        "c = range(-1,5)"
      ],
      "execution_count": 0,
      "outputs": []
    },
    {
      "cell_type": "code",
      "metadata": {
        "id": "ggdBflm1XPRq",
        "colab_type": "code",
        "colab": {
          "base_uri": "https://localhost:8080/",
          "height": 34
        },
        "outputId": "21aa4986-2d6b-47dd-b9eb-cd70c2023581"
      },
      "source": [
        "print(*c)"
      ],
      "execution_count": 13,
      "outputs": [
        {
          "output_type": "stream",
          "text": [
            "-1 0 1 2 3 4\n"
          ],
          "name": "stdout"
        }
      ]
    },
    {
      "cell_type": "code",
      "metadata": {
        "id": "8EaNmJecXCGL",
        "colab_type": "code",
        "colab": {
          "base_uri": "https://localhost:8080/",
          "height": 34
        },
        "outputId": "2c04dd37-a1ae-4324-ae71-56d2043e1d66"
      },
      "source": [
        "c = range(-1,5)\n",
        "j = 0\n",
        "for i in c:\n",
        "    j = j + i\n",
        "j"
      ],
      "execution_count": 14,
      "outputs": [
        {
          "output_type": "execute_result",
          "data": {
            "text/plain": [
              "9"
            ]
          },
          "metadata": {
            "tags": []
          },
          "execution_count": 14
        }
      ]
    },
    {
      "cell_type": "code",
      "metadata": {
        "id": "_6d8OoD9fEdc",
        "colab_type": "code",
        "colab": {}
      },
      "source": [
        ""
      ],
      "execution_count": 0,
      "outputs": []
    },
    {
      "cell_type": "code",
      "metadata": {
        "id": "G9jxaJXj_psF",
        "colab_type": "code",
        "colab": {},
        "outputId": "a7d75989-fc8c-484d-f2d6-6922e3ba856e"
      },
      "source": [
        "sum(range(5), -1)"
      ],
      "execution_count": 0,
      "outputs": [
        {
          "output_type": "execute_result",
          "data": {
            "text/plain": [
              "9"
            ]
          },
          "metadata": {
            "tags": []
          },
          "execution_count": 6
        }
      ]
    },
    {
      "cell_type": "markdown",
      "metadata": {
        "id": "U1b-jG08_psI",
        "colab_type": "text"
      },
      "source": [
        "*まったく同じ関数呼び出し*を実行するとどうなるかを見てみましょう\n",
        "\n",
        "---\n",
        "\n",
        "`` numpy``から `` * ``をインポートした後：\n",
        "\n",
        "Now observe what happens if we make the *exact same function call* \n",
        "\n",
        "---\n",
        "\n",
        "after importing ``*`` from ``numpy``:\n",
        "\n"
      ]
    },
    {
      "cell_type": "code",
      "metadata": {
        "id": "bmAmKMLU_psI",
        "colab_type": "code",
        "colab": {}
      },
      "source": [
        "from numpy import *"
      ],
      "execution_count": 0,
      "outputs": []
    },
    {
      "cell_type": "code",
      "metadata": {
        "id": "u3GJrOu7by-x",
        "colab_type": "code",
        "colab": {}
      },
      "source": [
        "a = range(5)"
      ],
      "execution_count": 0,
      "outputs": []
    },
    {
      "cell_type": "code",
      "metadata": {
        "id": "mzGQBOGtb2Qm",
        "colab_type": "code",
        "colab": {
          "base_uri": "https://localhost:8080/",
          "height": 34
        },
        "outputId": "125efc9c-d8a2-4a07-f346-92c82e2e2f39"
      },
      "source": [
        "print(*a)"
      ],
      "execution_count": 35,
      "outputs": [
        {
          "output_type": "stream",
          "text": [
            "0 1 2 3 4\n"
          ],
          "name": "stdout"
        }
      ]
    },
    {
      "cell_type": "code",
      "metadata": {
        "id": "HArr7U_o_psL",
        "colab_type": "code",
        "colab": {
          "base_uri": "https://localhost:8080/",
          "height": 34
        },
        "outputId": "a7dd862f-451c-4c40-e963-d96350ce74db"
      },
      "source": [
        "sum(range(5), -1)　"
      ],
      "execution_count": 26,
      "outputs": [
        {
          "output_type": "execute_result",
          "data": {
            "text/plain": [
              "10"
            ]
          },
          "metadata": {
            "tags": []
          },
          "execution_count": 26
        }
      ]
    },
    {
      "cell_type": "markdown",
      "metadata": {
        "id": "13dLyJ99_psO",
        "colab_type": "text"
      },
      "source": [
        "結果は1つずれています！\n",
        "この理由は、 `` import * ``ステートメントが組み込みの `` sum``関数を `` numpy.sum``関数に置き換える*ということです。これは、異なる呼び出しシグネチャを持っています：前者では、 '「-1」から始まる「範囲（5）」を合計しています; 後者では、最後の軸（「-1」で示される）に沿って `` range（5） ``を合計しています。\n",
        "これは、「インポート*」を使用するときに注意が払われない場合に発生する可能性のあるタイプの状況です。このため、何をしているのか正確に理解していない限り、これを回避するのが最善です。\n",
        "\n",
        "The result is off by one!\n",
        "The reason for this is that the ``import *`` statement *replaces* the built-in ``sum`` function with the ``numpy.sum`` function, which has a different call signature: in the former, we're summing ``range(5)`` starting at ``-1``; in the latter, we're summing ``range(5)`` along the last axis (indicated by ``-1``).\n",
        "This is the type of situation that may arise if care is not taken when using \"``import *``\" – for this reason, it is best to avoid this unless you know exactly what you are doing."
      ]
    },
    {
      "cell_type": "markdown",
      "metadata": {
        "id": "LL5nGLoRecP-",
        "colab_type": "text"
      },
      "source": [
        "なぜ、Numpy.sum関数は、10になるのかわかった。最後の軸（-1）という意味がわからなかったが、これは、方向と考える。合計する値ではなく。\n",
        "\n",
        "https://deepage.net/features/numpy-sum.html#numpysum"
      ]
    },
    {
      "cell_type": "code",
      "metadata": {
        "id": "1mP0SFonZpAn",
        "colab_type": "code",
        "colab": {
          "base_uri": "https://localhost:8080/",
          "height": 1000
        },
        "outputId": "c07e1fa3-f26e-44d4-9ea6-026ff7d16d7a"
      },
      "source": [
        "import numpy as np\n",
        "help(np.sum)"
      ],
      "execution_count": 30,
      "outputs": [
        {
          "output_type": "stream",
          "text": [
            "Help on function sum in module numpy:\n",
            "\n",
            "sum(a, axis=None, dtype=None, out=None, keepdims=<no value>, initial=<no value>, where=<no value>)\n",
            "    Sum of array elements over a given axis.\n",
            "    \n",
            "    Parameters\n",
            "    ----------\n",
            "    a : array_like\n",
            "        Elements to sum.\n",
            "    axis : None or int or tuple of ints, optional\n",
            "        Axis or axes along which a sum is performed.  The default,\n",
            "        axis=None, will sum all of the elements of the input array.  If\n",
            "        axis is negative it counts from the last to the first axis.\n",
            "    \n",
            "        .. versionadded:: 1.7.0\n",
            "    \n",
            "        If axis is a tuple of ints, a sum is performed on all of the axes\n",
            "        specified in the tuple instead of a single axis or all the axes as\n",
            "        before.\n",
            "    dtype : dtype, optional\n",
            "        The type of the returned array and of the accumulator in which the\n",
            "        elements are summed.  The dtype of `a` is used by default unless `a`\n",
            "        has an integer dtype of less precision than the default platform\n",
            "        integer.  In that case, if `a` is signed then the platform integer\n",
            "        is used while if `a` is unsigned then an unsigned integer of the\n",
            "        same precision as the platform integer is used.\n",
            "    out : ndarray, optional\n",
            "        Alternative output array in which to place the result. It must have\n",
            "        the same shape as the expected output, but the type of the output\n",
            "        values will be cast if necessary.\n",
            "    keepdims : bool, optional\n",
            "        If this is set to True, the axes which are reduced are left\n",
            "        in the result as dimensions with size one. With this option,\n",
            "        the result will broadcast correctly against the input array.\n",
            "    \n",
            "        If the default value is passed, then `keepdims` will not be\n",
            "        passed through to the `sum` method of sub-classes of\n",
            "        `ndarray`, however any non-default value will be.  If the\n",
            "        sub-class' method does not implement `keepdims` any\n",
            "        exceptions will be raised.\n",
            "    initial : scalar, optional\n",
            "        Starting value for the sum. See `~numpy.ufunc.reduce` for details.\n",
            "    \n",
            "        .. versionadded:: 1.15.0\n",
            "    \n",
            "    where : array_like of bool, optional\n",
            "        Elements to include in the sum. See `~numpy.ufunc.reduce` for details.\n",
            "    \n",
            "        .. versionadded:: 1.17.0\n",
            "    \n",
            "    Returns\n",
            "    -------\n",
            "    sum_along_axis : ndarray\n",
            "        An array with the same shape as `a`, with the specified\n",
            "        axis removed.   If `a` is a 0-d array, or if `axis` is None, a scalar\n",
            "        is returned.  If an output array is specified, a reference to\n",
            "        `out` is returned.\n",
            "    \n",
            "    See Also\n",
            "    --------\n",
            "    ndarray.sum : Equivalent method.\n",
            "    \n",
            "    add.reduce : Equivalent functionality of `add`.\n",
            "    \n",
            "    cumsum : Cumulative sum of array elements.\n",
            "    \n",
            "    trapz : Integration of array values using the composite trapezoidal rule.\n",
            "    \n",
            "    mean, average\n",
            "    \n",
            "    Notes\n",
            "    -----\n",
            "    Arithmetic is modular when using integer types, and no error is\n",
            "    raised on overflow.\n",
            "    \n",
            "    The sum of an empty array is the neutral element 0:\n",
            "    \n",
            "    >>> np.sum([])\n",
            "    0.0\n",
            "    \n",
            "    For floating point numbers the numerical precision of sum (and\n",
            "    ``np.add.reduce``) is in general limited by directly adding each number\n",
            "    individually to the result causing rounding errors in every step.\n",
            "    However, often numpy will use a  numerically better approach (partial\n",
            "    pairwise summation) leading to improved precision in many use-cases.\n",
            "    This improved precision is always provided when no ``axis`` is given.\n",
            "    When ``axis`` is given, it will depend on which axis is summed.\n",
            "    Technically, to provide the best speed possible, the improved precision\n",
            "    is only used when the summation is along the fast axis in memory.\n",
            "    Note that the exact precision may vary depending on other parameters.\n",
            "    In contrast to NumPy, Python's ``math.fsum`` function uses a slower but\n",
            "    more precise approach to summation.\n",
            "    Especially when summing a large number of lower precision floating point\n",
            "    numbers, such as ``float32``, numerical errors can become significant.\n",
            "    In such cases it can be advisable to use `dtype=\"float64\"` to use a higher\n",
            "    precision for the output.\n",
            "    \n",
            "    Examples\n",
            "    --------\n",
            "    >>> np.sum([0.5, 1.5])\n",
            "    2.0\n",
            "    >>> np.sum([0.5, 0.7, 0.2, 1.5], dtype=np.int32)\n",
            "    1\n",
            "    >>> np.sum([[0, 1], [0, 5]])\n",
            "    6\n",
            "    >>> np.sum([[0, 1], [0, 5]], axis=0)\n",
            "    array([0, 6])\n",
            "    >>> np.sum([[0, 1], [0, 5]], axis=1)\n",
            "    array([1, 5])\n",
            "    >>> np.sum([[0, 1], [np.nan, 5]], where=[False, True], axis=1)\n",
            "    array([1., 5.])\n",
            "    \n",
            "    If the accumulator is too small, overflow occurs:\n",
            "    \n",
            "    >>> np.ones(128, dtype=np.int8).sum(dtype=np.int8)\n",
            "    -128\n",
            "    \n",
            "    You can also start the sum with a value other than zero:\n",
            "    \n",
            "    >>> np.sum([10], initial=5)\n",
            "    15\n",
            "\n"
          ],
          "name": "stdout"
        }
      ]
    },
    {
      "cell_type": "markdown",
      "metadata": {
        "id": "vFpoF3sE_psP",
        "colab_type": "text"
      },
      "source": [
        "## Pythonの標準ライブラリからのインポート\n",
        "\n",
        "Pythonの標準ライブラリには、[Pythonのドキュメント](https://docs.python.org/3/library/)で完全に読むことができる多くの便利な組み込みモジュールが含まれています。\n",
        "これらはいずれも `` import``ステートメントでインポートでき、前のセクションで説明したヘルプ機能を使用して探索できます。\n",
        "以下は、探索して学習したいモジュールの一部の非常に不完全なリストです。\n",
        "\n",
        "- `` os``および `` sys``：ファイルディレクトリ構造のナビゲートやシェルコマンドの実行など、オペレーティングシステムとのインターフェースツール\n",
        "- `` math``と `` cmath``：数学関数と実数および複素数の演算\n",
        "- `` itertools``：イテレーターとジェネレーターを構築して操作するためのツール\n",
        "- `` functools``：関数型プログラミングを支援するツール\n",
        "- `` random``：疑似乱数を生成するためのツール\n",
        "- `` pickle``：オブジェクトの永続化のためのツール：オブジェクトのディスクへの保存とディスクからのロード\n",
        "- `` json``および `` csv``：JSON形式およびCSV形式のファイルを読み取るためのツール。\n",
        "- `` urllib``：HTTPおよびその他のWebリクエストを行うためのツール。\n",
        "\n",
        "これらの情報やその他多くの情報は、Python標準ライブラリのドキュメントhttps://docs.python.org/3/library/  にあります。\n",
        "\n",
        "## Importing from Python's Standard Library\n",
        "\n",
        "Python's standard library contains many useful built-in modules, which you can read about fully in [Python's documentation](https://docs.python.org/3/library/).\n",
        "Any of these can be imported with the ``import`` statement, and then explored using the help function seen in the previous section.\n",
        "Here is an extremely incomplete list of some of the modules you might wish to explore and learn about:\n",
        "\n",
        "- ``os`` and ``sys``: Tools for interfacing with the operating system, including navigating file directory structures and executing shell commands\n",
        "- ``math`` and ``cmath``: Mathematical functions and operations on real and complex numbers\n",
        "- ``itertools``: Tools for constructing and interacting with iterators and generators\n",
        "- ``functools``: Tools that assist with functional programming\n",
        "- ``random``: Tools for generating pseudorandom numbers\n",
        "- ``pickle``: Tools for object persistence: saving objects to and loading objects from disk\n",
        "- ``json`` and ``csv``: Tools for reading JSON-formatted and CSV-formatted files.\n",
        "- ``urllib``: Tools for doing HTTP and other web requests.\n",
        "\n",
        "You can find information on these, and many more, in the Python standard library documentation: https://docs.python.org/3/library/."
      ]
    },
    {
      "cell_type": "markdown",
      "metadata": {
        "id": "3KBP6LvJ_psP",
        "colab_type": "text"
      },
      "source": [
        "##サードパーティのモジュールからのインポート\n",
        "\n",
        "特にデータサイエンスの世界でPythonを便利にするものの1つは、サードパーティモジュールのエコシステムです。\n",
        "これらは組み込みモジュールと同じようにインポートできますが、最初にモジュールをシステムにインストールする必要があります。\n",
        "そのようなモジュールの標準レジストリは、Pythonパッケージインデックス（略して*PyPI*）であり、Webのhttp://pypi.python.org/ にあります。\n",
        "便宜上、Pythonには `` pip``（「pip install packages」を意味する再帰的な頭字語）と呼ばれるプログラムが付属しています。これは、PyPIにリリースおよびリストされたパッケージを自動的にフェッチします（Pythonバージョン2を使用する場合、「pip」は別にインストールされます）。\n",
        "たとえば、私が書いた `` supersmoother``パッケージをインストールしたい場合は、コマンドラインで次のように入力するだけです：\n",
        "```\n",
        "$ pip install supersmoother\n",
        "```\n",
        "パッケージのソースコードはPyPIリポジトリから自動的にダウンロードされ、パッケージは標準のPythonパスにインストールされます（使用しているコンピューターでそうする権限がある場合）。\n",
        "\n",
        "PyPIと `` pip``インストーラーの詳細については、http://pypi.python.org/ にあるドキュメントを参照してください。\n",
        "\n",
        "## Importing from Third-Party Modules\n",
        "\n",
        "One of the things that makes Python useful, especially within the world of data science, is its ecosystem of third-party modules.\n",
        "These can be imported just as the built-in modules, but first the modules must be installed on your system.\n",
        "The standard registry for such modules is the Python Package Index (*PyPI* for short), found on the Web at http://pypi.python.org/.\n",
        "For convenience, Python comes with a program called ``pip`` (a recursive acronym meaning \"pip installs packages\"), which will automatically fetch packages released and listed on PyPI (if you use Python version 2, ``pip`` must be installed separately).\n",
        "For example, if you'd like to install the ``supersmoother`` package that I wrote, all that is required is to type the following at the command line:\n",
        "```\n",
        "$ pip install supersmoother\n",
        "```\n",
        "The source code for the package will be automatically downloaded from the PyPI repository, and the package installed in the standard Python path (assuming you have permission to do so on the computer you're using).\n",
        "\n",
        "For more information about PyPI and the ``pip`` installer, refer to the documentation at http://pypi.python.org/."
      ]
    },
    {
      "cell_type": "markdown",
      "metadata": {
        "id": "Dd2gaumz_psQ",
        "colab_type": "text"
      },
      "source": [
        "<!--NAVIGATION-->\n",
        "< [Generators](12-Generators.ipynb) | [Contents](Index.ipynb) | [String Manipulation and Regular Expressions](14-Strings-and-Regular-Expressions.ipynb) >"
      ]
    }
  ]
}