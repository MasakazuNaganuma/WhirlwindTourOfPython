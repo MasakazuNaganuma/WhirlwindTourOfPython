{
  "nbformat": 4,
  "nbformat_minor": 0,
  "metadata": {
    "anaconda-cloud": {},
    "kernelspec": {
      "display_name": "Python 3",
      "language": "python",
      "name": "python3"
    },
    "language_info": {
      "codemirror_mode": {
        "name": "ipython",
        "version": 3
      },
      "file_extension": ".py",
      "mimetype": "text/x-python",
      "name": "python",
      "nbconvert_exporter": "python",
      "pygments_lexer": "ipython3",
      "version": "3.5.1"
    },
    "colab": {
      "name": "17-Figures.ipynb",
      "provenance": [],
      "include_colab_link": true
    }
  },
  "cells": [
    {
      "cell_type": "markdown",
      "metadata": {
        "id": "view-in-github",
        "colab_type": "text"
      },
      "source": [
        "<a href=\"https://colab.research.google.com/github/MasakazuNaganuma/WhirlwindTourOfPython/blob/master/17-Figures.ipynb\" target=\"_parent\"><img src=\"https://colab.research.google.com/assets/colab-badge.svg\" alt=\"Open In Colab\"/></a>"
      ]
    },
    {
      "cell_type": "markdown",
      "metadata": {
        "id": "CkwNFMwYTEaM",
        "colab_type": "text"
      },
      "source": [
        "<!--BOOK_INFORMATION-->\n",
        "<img align=\"left\" style=\"padding-right:10px;\" src=\"https://github.com/MasakazuNaganuma/WhirlwindTourOfPython/blob/master/fig/cover-small.jpg?raw=1\">\n",
        "*This notebook contains an excerpt from the [Whirlwind Tour of Python](http://www.oreilly.com/programming/free/a-whirlwind-tour-of-python.csp) by Jake VanderPlas; the content is available [on GitHub](https://github.com/jakevdp/WhirlwindTourOfPython).*\n",
        "\n",
        "*The text and code are released under the [CC0](https://github.com/jakevdp/WhirlwindTourOfPython/blob/master/LICENSE) license; see also the companion project, the [Python Data Science Handbook](https://github.com/jakevdp/PythonDataScienceHandbook).*\n"
      ]
    },
    {
      "cell_type": "markdown",
      "metadata": {
        "id": "rxWWA_9lTEaX",
        "colab_type": "text"
      },
      "source": [
        "<!--NAVIGATION-->\n",
        "< [Resources for Further Learning](16-Further-Resources.ipynb) | [Contents](Index.ipynb) |"
      ]
    },
    {
      "cell_type": "markdown",
      "metadata": {
        "id": "y0yiTQAhTEad",
        "colab_type": "text"
      },
      "source": [
        "# 付録：図コード\n",
        "# Appendix: Figure Code"
      ]
    },
    {
      "cell_type": "markdown",
      "metadata": {
        "id": "GBz3rIuvTEap",
        "colab_type": "text"
      },
      "source": [
        "このセクションには、このレポートに表示される図を生成するために使用されるコードが含まれています。\n",
        "\n",
        "This section contains code used to generate figures that appear in this report."
      ]
    },
    {
      "cell_type": "code",
      "metadata": {
        "id": "VmOOZbUBTEax",
        "colab_type": "code",
        "colab": {}
      },
      "source": [
        "%matplotlib inline\n",
        "import matplotlib.pyplot as plt"
      ],
      "execution_count": 0,
      "outputs": []
    },
    {
      "cell_type": "code",
      "metadata": {
        "id": "SfLAChdpTEbh",
        "colab_type": "code",
        "colab": {}
      },
      "source": [
        "import os\n",
        "if not os.path.exists('fig'):\n",
        "    os.makedirs('fig')"
      ],
      "execution_count": 0,
      "outputs": []
    },
    {
      "cell_type": "markdown",
      "metadata": {
        "id": "VMos_C3_TEcX",
        "colab_type": "text"
      },
      "source": [
        "## セクション6：リストのインデックス作成\n",
        "\n",
        "この図は、Pythonのインデックス作成の仕組みを視覚化するのに役立ちます。\n",
        "\n",
        "## Section 6: List Indexing\n",
        "\n",
        "This figure helps visualize how Python's indexing works."
      ]
    },
    {
      "cell_type": "code",
      "metadata": {
        "id": "0Iw4aYifTEcf",
        "colab_type": "code",
        "colab": {
          "base_uri": "https://localhost:8080/",
          "height": 221
        },
        "outputId": "3d5cf58d-57a1-4066-f210-0606206278f7"
      },
      "source": [
        "L = [2, 3, 5, 7, 11]\n",
        "\n",
        "fig = plt.figure(figsize=(10, 4))\n",
        "ax = fig.add_axes([0, 0, 1, 1], xticks=[], yticks=[], frameon=False,\n",
        "                  aspect='equal')\n",
        "\n",
        "for i in range(5):\n",
        "    ax.add_patch(plt.Rectangle([i - 0.5, -0.5], 1, 1, fc='none', ec='black'))\n",
        "    ax.text(i, -0.05, L[i], size=100,\n",
        "            ha='center', va='center', family='monospace')\n",
        "    \n",
        "for i in range(6):\n",
        "    ax.text(i - 0.5, 0.55, str(i), size=20,\n",
        "            ha='center', va='bottom', family='monospace')\n",
        "    \n",
        "for i in range(5):\n",
        "    ax.text(i - 0.5, -0.58, str(-5 + i), size=20,\n",
        "            ha='center', va='top', family='monospace')\n",
        "    \n",
        "ax.axis([-0.7, 4.7, -0.7, 0.7]);\n",
        "\n",
        "fig.savefig('fig/list-indexing.png');"
      ],
      "execution_count": 3,
      "outputs": [
        {
          "output_type": "display_data",
          "data": {
            "image/png": "[encoded data removed]",
            "text/plain": [
              "<Figure size 720x288 with 1 Axes>"
            ]
          },
          "metadata": {
            "tags": []
          }
        }
      ]
    },
    {
      "cell_type": "markdown",
      "metadata": {
        "id": "3-OH-KgdTEdW",
        "colab_type": "text"
      },
      "source": [
        "<!--NAVIGATION-->\n",
        "< [Resources for Further Learning](16-Further-Resources.ipynb) | [Contents](Index.ipynb) |"
      ]
    }
  ]
}