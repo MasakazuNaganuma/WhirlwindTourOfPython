{
  "nbformat": 4,
  "nbformat_minor": 0,
  "metadata": {
    "anaconda-cloud": {},
    "kernelspec": {
      "display_name": "Python 3",
      "language": "python",
      "name": "python3"
    },
    "language_info": {
      "codemirror_mode": {
        "name": "ipython",
        "version": 3
      },
      "file_extension": ".py",
      "mimetype": "text/x-python",
      "name": "python",
      "nbconvert_exporter": "python",
      "pygments_lexer": "ipython3",
      "version": "3.5.1"
    },
    "colab": {
      "name": "15-Preview-of-Data-Science-Tools.ipynb",
      "provenance": [],
      "toc_visible": true,
      "include_colab_link": true
    }
  },
  "cells": [
    {
      "cell_type": "markdown",
      "metadata": {
        "id": "view-in-github",
        "colab_type": "text"
      },
      "source": [
        "<a href=\"https://colab.research.google.com/github/MasakazuNaganuma/WhirlwindTourOfPython/blob/master/15-Preview-of-Data-Science-Tools.ipynb\" target=\"_parent\"><img src=\"https://colab.research.google.com/assets/colab-badge.svg\" alt=\"Open In Colab\"/></a>"
      ]
    },
    {
      "cell_type": "markdown",
      "metadata": {
        "id": "jTiA-PaAAL8-",
        "colab_type": "text"
      },
      "source": [
        "<!--BOOK_INFORMATION-->\n",
        "<img align=\"left\" style=\"padding-right:10px;\" src=\"https://github.com/MasakazuNaganuma/WhirlwindTourOfPython/blob/master/fig/cover-small.jpg?raw=1\">\n",
        "*This notebook contains an excerpt from the [Whirlwind Tour of Python](http://www.oreilly.com/programming/free/a-whirlwind-tour-of-python.csp) by Jake VanderPlas; the content is available [on GitHub](https://github.com/jakevdp/WhirlwindTourOfPython).*\n",
        "\n",
        "*The text and code are released under the [CC0](https://github.com/jakevdp/WhirlwindTourOfPython/blob/master/LICENSE) license; see also the companion project, the [Python Data Science Handbook](https://github.com/jakevdp/PythonDataScienceHandbook).*\n"
      ]
    },
    {
      "cell_type": "markdown",
      "metadata": {
        "id": "zpa2_f_eAL9D",
        "colab_type": "text"
      },
      "source": [
        "<!--NAVIGATION-->\n",
        "< [String Manipulation and Regular Expressions](14-Strings-and-Regular-Expressions.ipynb) | [Contents](Index.ipynb) | [Resources for Further Learning](16-Further-Resources.ipynb) >"
      ]
    },
    {
      "cell_type": "markdown",
      "metadata": {
        "id": "xcOlmJV_AL9F",
        "colab_type": "text"
      },
      "source": [
        "# データサイエンスツールのプレビュー\n",
        "# A Preview of Data Science Tools"
      ]
    },
    {
      "cell_type": "markdown",
      "metadata": {
        "id": "TrID8dYUAL9I",
        "colab_type": "text"
      },
      "source": [
        "ここから出て、科学計算やデータサイエンスにPythonをさらに使用したい場合は、生活をはるかに簡単にするいくつかのパッケージがあります。\n",
        "このセクションでは、いくつかの重要なアプリケーションを紹介してプレビューし、それらが設計されているアプリケーションのタイプについて説明します。\n",
        "このレポートの冒頭で提案されている**Anaconda**または**Miniconda**環境を使用している場合は、次のコマンドで関連パッケージをインストールできます。\n",
        "```\n",
        "$ conda install numpy scipy pandas matplotlib scikit-learn\n",
        "```\n",
        "これらのそれぞれについて順に見ていきましょう。\n",
        "\n",
        "If you would like to spring from here and go farther in using Python for scientific computing or data science, there are a few packages that will make your life much easier.\n",
        "This section will introduce and preview several of the more important ones, and give you an idea of the types of applications they are designed for.\n",
        "If you're using the **Anaconda** or **Miniconda** environment suggested at the beginning of this report, you can install the relevant packages with the following command:\n",
        "```\n",
        "$ conda install numpy scipy pandas matplotlib scikit-learn\n",
        "```\n",
        "Let's take a brief look at each of these in turn."
      ]
    },
    {
      "cell_type": "markdown",
      "metadata": {
        "id": "vDkXAcErAL9L",
        "colab_type": "text"
      },
      "source": [
        "## NumPy：数値Python\n",
        "\n",
        "NumPyは、Pythonで多次元の密配列を保存および操作する効率的な方法を提供します。\n",
        "NumPyの重要な機能は次のとおりです。\n",
        "\n",
        "- これは、ベクトル、行列、およびより高次元のデータセットの効率的な格納と操作を可能にする``ndarray``構造を提供します。\n",
        "- 単純な要素ごとの算術からより複雑な線形代数演算まで、このデータを操作するための読みやすく効率的な構文を提供します。\n",
        "\n",
        "最も単純なケースでは、NumPy配列はPythonリストによく似ています。\n",
        "たとえば、これは1から9までの数値の範囲を含む配列です（これをPythonの組み込み ``range()``と比較してください）：\n",
        "\n",
        "## NumPy: Numerical Python\n",
        "\n",
        "NumPy provides an efficient way to store and manipulate multi-dimensional dense arrays in Python.\n",
        "The important features of NumPy are:\n",
        "\n",
        "- It provides an ``ndarray`` structure, which allows efficient storage and manipulation of vectors, matrices, and higher-dimensional datasets.\n",
        "- It provides a readable and efficient syntax for operating on this data, from simple element-wise arithmetic to more complicated linear algebraic operations.\n",
        "\n",
        "In the simplest case, NumPy arrays look a lot like Python lists.\n",
        "For example, here is an array containing the range of numbers 1 to 9 (compare this with Python's built-in ``range()``):"
      ]
    },
    {
      "cell_type": "code",
      "metadata": {
        "id": "eiiIylh0AL9Q",
        "colab_type": "code",
        "colab": {
          "base_uri": "https://localhost:8080/",
          "height": 35
        },
        "outputId": "33e0230a-0b8c-4bfa-9b83-5fc41d788adf"
      },
      "source": [
        "import numpy as np\n",
        "x = np.arange(1, 10)\n",
        "x"
      ],
      "execution_count": 32,
      "outputs": [
        {
          "output_type": "execute_result",
          "data": {
            "text/plain": [
              "array([1, 2, 3, 4, 5, 6, 7, 8, 9])"
            ]
          },
          "metadata": {
            "tags": []
          },
          "execution_count": 32
        }
      ]
    },
    {
      "cell_type": "markdown",
      "metadata": {
        "id": "EjqjGV-uAL9j",
        "colab_type": "text"
      },
      "source": [
        "NumPyの配列は、データの効率的なストレージと、データに対する効率的な要素ごとの演算の両方を提供します。 たとえば、配列の各要素を二乗するには、 \"``**``\"演算子を配列に直接適用します。\n",
        "\n",
        "NumPy's arrays offer both efficient storage of data, as well as efficient element-wise operations on the data.\n",
        "For example, to square each element of the array, we can apply the \"``**``\" operator to the array directly:"
      ]
    },
    {
      "cell_type": "code",
      "metadata": {
        "id": "GJCTfBcXAL9n",
        "colab_type": "code",
        "colab": {
          "base_uri": "https://localhost:8080/",
          "height": 35
        },
        "outputId": "2dbac769-d17b-4df0-d73c-a73168f282a7"
      },
      "source": [
        "x ** 2"
      ],
      "execution_count": 33,
      "outputs": [
        {
          "output_type": "execute_result",
          "data": {
            "text/plain": [
              "array([ 1,  4,  9, 16, 25, 36, 49, 64, 81])"
            ]
          },
          "metadata": {
            "tags": []
          },
          "execution_count": 33
        }
      ]
    },
    {
      "cell_type": "markdown",
      "metadata": {
        "id": "vNahujRTAL90",
        "colab_type": "text"
      },
      "source": [
        "同じ結果を得るために、これをより詳細なPythonスタイルのリスト内包と比較してください。\n",
        "\n",
        "Compare this with the much more verbose Python-style list comprehension for the same result:"
      ]
    },
    {
      "cell_type": "code",
      "metadata": {
        "id": "aMa-ZHf0AL93",
        "colab_type": "code",
        "colab": {
          "base_uri": "https://localhost:8080/",
          "height": 35
        },
        "outputId": "0052b0de-26dc-4de0-e242-4c4912b2e804"
      },
      "source": [
        "[val ** 2 for val in range(1, 10)]"
      ],
      "execution_count": 34,
      "outputs": [
        {
          "output_type": "execute_result",
          "data": {
            "text/plain": [
              "[1, 4, 9, 16, 25, 36, 49, 64, 81]"
            ]
          },
          "metadata": {
            "tags": []
          },
          "execution_count": 34
        }
      ]
    },
    {
      "cell_type": "markdown",
      "metadata": {
        "id": "GMWY6AavAL-J",
        "colab_type": "text"
      },
      "source": [
        "Pythonリスト（1次元に制限されている）とは異なり、NumPy配列は多次元にすることができます。\n",
        "たとえば、ここでは ``x``配列を3x3配列に再形成します：\n",
        "\n",
        "Unlike Python lists (which are limited to one dimension), NumPy arrays can be multi-dimensional.\n",
        "For example, here we will reshape our ``x`` array into a 3x3 array:"
      ]
    },
    {
      "cell_type": "code",
      "metadata": {
        "id": "ReUBwvbcAL-L",
        "colab_type": "code",
        "colab": {
          "base_uri": "https://localhost:8080/",
          "height": 72
        },
        "outputId": "ca072646-5b49-41ce-ae0a-48f9188dea72"
      },
      "source": [
        "M = x.reshape((3, 3))\n",
        "M"
      ],
      "execution_count": 35,
      "outputs": [
        {
          "output_type": "execute_result",
          "data": {
            "text/plain": [
              "array([[1, 2, 3],\n",
              "       [4, 5, 6],\n",
              "       [7, 8, 9]])"
            ]
          },
          "metadata": {
            "tags": []
          },
          "execution_count": 35
        }
      ]
    },
    {
      "cell_type": "markdown",
      "metadata": {
        "id": "ZgV_AcMYAL-a",
        "colab_type": "text"
      },
      "source": [
        "2次元配列は行列の1つの表現であり、NumPyは典型的な行列演算を効率的に行う方法を知っています。 たとえば、``.T``を使用して転置を計算できます：\n",
        "\n",
        "A two-dimensional array is one representation of a matrix, and NumPy knows how to efficiently do typical matrix operations. For example, you can compute the transpose using ``.T``:"
      ]
    },
    {
      "cell_type": "code",
      "metadata": {
        "id": "o-bxRdgLAL-c",
        "colab_type": "code",
        "colab": {
          "base_uri": "https://localhost:8080/",
          "height": 72
        },
        "outputId": "acd69e8d-02c5-4d4e-d32a-869dd1f1a5d3"
      },
      "source": [
        "M.T"
      ],
      "execution_count": 36,
      "outputs": [
        {
          "output_type": "execute_result",
          "data": {
            "text/plain": [
              "array([[1, 4, 7],\n",
              "       [2, 5, 8],\n",
              "       [3, 6, 9]])"
            ]
          },
          "metadata": {
            "tags": []
          },
          "execution_count": 36
        }
      ]
    },
    {
      "cell_type": "markdown",
      "metadata": {
        "id": "YS2lk4HhAL-v",
        "colab_type": "text"
      },
      "source": [
        "または ``np.dot``を使用した行列とベクトルの積：\n",
        "\n",
        "or a matrix-vector product using ``np.dot``:"
      ]
    },
    {
      "cell_type": "code",
      "metadata": {
        "id": "cqFHAsyJAL-z",
        "colab_type": "code",
        "colab": {
          "base_uri": "https://localhost:8080/",
          "height": 35
        },
        "outputId": "995acd9e-ce74-497b-e63d-b49b9c12f0fa"
      },
      "source": [
        "np.dot(M, [5, 6, 7])"
      ],
      "execution_count": 37,
      "outputs": [
        {
          "output_type": "execute_result",
          "data": {
            "text/plain": [
              "array([ 38,  92, 146])"
            ]
          },
          "metadata": {
            "tags": []
          },
          "execution_count": 37
        }
      ]
    },
    {
      "cell_type": "markdown",
      "metadata": {
        "id": "ZpLv1TAuAL_A",
        "colab_type": "text"
      },
      "source": [
        "そして固有値分解のようなさらに洗練された操作：\n",
        "\n",
        "and even more sophisticated operations like eigenvalue decomposition:"
      ]
    },
    {
      "cell_type": "code",
      "metadata": {
        "id": "dbgw1K_tAL_F",
        "colab_type": "code",
        "colab": {
          "base_uri": "https://localhost:8080/",
          "height": 35
        },
        "outputId": "821af633-a8c1-4256-9161-3e5dad8637a6"
      },
      "source": [
        "np.linalg.eigvals(M) #行列の固有値を返す。https://python.atelierkobato.com/eigenvalue/"
      ],
      "execution_count": 38,
      "outputs": [
        {
          "output_type": "execute_result",
          "data": {
            "text/plain": [
              "array([ 1.61168440e+01, -1.11684397e+00, -1.30367773e-15])"
            ]
          },
          "metadata": {
            "tags": []
          },
          "execution_count": 38
        }
      ]
    },
    {
      "cell_type": "markdown",
      "metadata": {
        "id": "aUVW6nJQAL_R",
        "colab_type": "text"
      },
      "source": [
        "このような線形代数操作は、特に機械学習とデータマイニングの分野に関して、現代のデータ分析の多くを支えています。\n",
        "\n",
        "NumPyの詳細については、[詳細なリソース](16-Further-Resources.ipynb)を参照してください。\n",
        "\n",
        "Such linear algebraic manipulation underpins much of modern data analysis, particularly when it comes to the fields of machine learning and data mining.\n",
        "\n",
        "For more information on NumPy, see [Resources for Further Learning](16-Further-Resources.ipynb)."
      ]
    },
    {
      "cell_type": "markdown",
      "metadata": {
        "id": "6GYfkym4AL_V",
        "colab_type": "text"
      },
      "source": [
        "## Pandas：ラベル付けされた列指向のデータ\n",
        "\n",
        "PandasはNumPyよりもはるかに新しいパッケージであり、実際にその上に構築されています。\n",
        "Pandasが提供するのは、Rおよび関連言語のユーザーに非常に馴染みのあるDataFrameオブジェクトの形式の、多次元データへのラベル付きインターフェースです。\n",
        "Pandasのデータフレームは次のようになります。\n",
        "\n",
        "## Pandas: Labeled Column-oriented Data\n",
        "\n",
        "Pandas is a much newer package than NumPy, and is in fact built on top of it.\n",
        "What Pandas provides is a labeled interface to multi-dimensional data, in the form of a DataFrame object that will feel very familiar to users of R and related languages.\n",
        "DataFrames in Pandas look something like this:"
      ]
    },
    {
      "cell_type": "code",
      "metadata": {
        "id": "ckx-Y4nqAL_X",
        "colab_type": "code",
        "colab": {
          "base_uri": "https://localhost:8080/",
          "height": 228
        },
        "outputId": "9ff16ead-4a68-4146-e68e-b903841767e8"
      },
      "source": [
        "import pandas as pd\n",
        "df = pd.DataFrame({'label': ['A', 'B', 'C', 'A', 'B', 'C'],\n",
        "                   'value': [1, 2, 3, 4, 5, 6]})\n",
        "df"
      ],
      "execution_count": 39,
      "outputs": [
        {
          "output_type": "execute_result",
          "data": {
            "text/html": [
              "<div>\n",
              "<style scoped>\n",
              "    .dataframe tbody tr th:only-of-type {\n",
              "        vertical-align: middle;\n",
              "    }\n",
              "\n",
              "    .dataframe tbody tr th {\n",
              "        vertical-align: top;\n",
              "    }\n",
              "\n",
              "    .dataframe thead th {\n",
              "        text-align: right;\n",
              "    }\n",
              "</style>\n",
              "<table border=\"1\" class=\"dataframe\">\n",
              "  <thead>\n",
              "    <tr style=\"text-align: right;\">\n",
              "      <th></th>\n",
              "      <th>label</th>\n",
              "      <th>value</th>\n",
              "    </tr>\n",
              "  </thead>\n",
              "  <tbody>\n",
              "    <tr>\n",
              "      <th>0</th>\n",
              "      <td>A</td>\n",
              "      <td>1</td>\n",
              "    </tr>\n",
              "    <tr>\n",
              "      <th>1</th>\n",
              "      <td>B</td>\n",
              "      <td>2</td>\n",
              "    </tr>\n",
              "    <tr>\n",
              "      <th>2</th>\n",
              "      <td>C</td>\n",
              "      <td>3</td>\n",
              "    </tr>\n",
              "    <tr>\n",
              "      <th>3</th>\n",
              "      <td>A</td>\n",
              "      <td>4</td>\n",
              "    </tr>\n",
              "    <tr>\n",
              "      <th>4</th>\n",
              "      <td>B</td>\n",
              "      <td>5</td>\n",
              "    </tr>\n",
              "    <tr>\n",
              "      <th>5</th>\n",
              "      <td>C</td>\n",
              "      <td>6</td>\n",
              "    </tr>\n",
              "  </tbody>\n",
              "</table>\n",
              "</div>"
            ],
            "text/plain": [
              "  label  value\n",
              "0     A      1\n",
              "1     B      2\n",
              "2     C      3\n",
              "3     A      4\n",
              "4     B      5\n",
              "5     C      6"
            ]
          },
          "metadata": {
            "tags": []
          },
          "execution_count": 39
        }
      ]
    },
    {
      "cell_type": "markdown",
      "metadata": {
        "id": "UdFjaxtlAL_k",
        "colab_type": "text"
      },
      "source": [
        "Pandasインターフェースを使用すると、列を名前で選択することができます。\n",
        "\n",
        "The Pandas interface allows you to do things like select columns by name:"
      ]
    },
    {
      "cell_type": "code",
      "metadata": {
        "id": "xMuFtL3lAL_o",
        "colab_type": "code",
        "colab": {
          "base_uri": "https://localhost:8080/",
          "height": 145
        },
        "outputId": "95edcd97-cc56-45d0-8683-5992ef0336af"
      },
      "source": [
        "df['label']"
      ],
      "execution_count": 40,
      "outputs": [
        {
          "output_type": "execute_result",
          "data": {
            "text/plain": [
              "0    A\n",
              "1    B\n",
              "2    C\n",
              "3    A\n",
              "4    B\n",
              "5    C\n",
              "Name: label, dtype: object"
            ]
          },
          "metadata": {
            "tags": []
          },
          "execution_count": 40
        }
      ]
    },
    {
      "cell_type": "markdown",
      "metadata": {
        "id": "S7QuIaJiAL_2",
        "colab_type": "text"
      },
      "source": [
        "文字列エントリ全体に文字列操作を適用します。\n",
        "\n",
        "Apply string operations across string entries:"
      ]
    },
    {
      "cell_type": "code",
      "metadata": {
        "id": "I_vN-gvSAL_4",
        "colab_type": "code",
        "colab": {
          "base_uri": "https://localhost:8080/",
          "height": 145
        },
        "outputId": "9e8f3c3b-6413-43f6-f8c7-a36b0f901e4c"
      },
      "source": [
        "df['label'].str.lower()"
      ],
      "execution_count": 41,
      "outputs": [
        {
          "output_type": "execute_result",
          "data": {
            "text/plain": [
              "0    a\n",
              "1    b\n",
              "2    c\n",
              "3    a\n",
              "4    b\n",
              "5    c\n",
              "Name: label, dtype: object"
            ]
          },
          "metadata": {
            "tags": []
          },
          "execution_count": 41
        }
      ]
    },
    {
      "cell_type": "markdown",
      "metadata": {
        "id": "xol4ZAiPAMAF",
        "colab_type": "text"
      },
      "source": [
        "数値エントリ全体に集計を適用します。\n",
        "\n",
        "Apply aggregates across numerical entries:"
      ]
    },
    {
      "cell_type": "code",
      "metadata": {
        "id": "h6g9LHuYAMAI",
        "colab_type": "code",
        "colab": {
          "base_uri": "https://localhost:8080/",
          "height": 35
        },
        "outputId": "be0196d3-6f5a-42df-98b2-07c385ab9516"
      },
      "source": [
        "df['value'].sum()"
      ],
      "execution_count": 42,
      "outputs": [
        {
          "output_type": "execute_result",
          "data": {
            "text/plain": [
              "21"
            ]
          },
          "metadata": {
            "tags": []
          },
          "execution_count": 42
        }
      ]
    },
    {
      "cell_type": "markdown",
      "metadata": {
        "id": "m8Huj_9RAMAR",
        "colab_type": "text"
      },
      "source": [
        "そして、おそらく最も重要なことは、効率的なデータベース形式の結合とグループ化を行うことです。\n",
        "\n",
        "And, perhaps most importantly, do efficient database-style joins and groupings:"
      ]
    },
    {
      "cell_type": "code",
      "metadata": {
        "id": "sAj9dvwPAMAT",
        "colab_type": "code",
        "colab": {
          "base_uri": "https://localhost:8080/",
          "height": 168
        },
        "outputId": "4f27fa60-c0b9-4edf-f48c-2eb0dac2eadf"
      },
      "source": [
        "df.groupby('label').sum()"
      ],
      "execution_count": 43,
      "outputs": [
        {
          "output_type": "execute_result",
          "data": {
            "text/html": [
              "<div>\n",
              "<style scoped>\n",
              "    .dataframe tbody tr th:only-of-type {\n",
              "        vertical-align: middle;\n",
              "    }\n",
              "\n",
              "    .dataframe tbody tr th {\n",
              "        vertical-align: top;\n",
              "    }\n",
              "\n",
              "    .dataframe thead th {\n",
              "        text-align: right;\n",
              "    }\n",
              "</style>\n",
              "<table border=\"1\" class=\"dataframe\">\n",
              "  <thead>\n",
              "    <tr style=\"text-align: right;\">\n",
              "      <th></th>\n",
              "      <th>value</th>\n",
              "    </tr>\n",
              "    <tr>\n",
              "      <th>label</th>\n",
              "      <th></th>\n",
              "    </tr>\n",
              "  </thead>\n",
              "  <tbody>\n",
              "    <tr>\n",
              "      <th>A</th>\n",
              "      <td>5</td>\n",
              "    </tr>\n",
              "    <tr>\n",
              "      <th>B</th>\n",
              "      <td>7</td>\n",
              "    </tr>\n",
              "    <tr>\n",
              "      <th>C</th>\n",
              "      <td>9</td>\n",
              "    </tr>\n",
              "  </tbody>\n",
              "</table>\n",
              "</div>"
            ],
            "text/plain": [
              "       value\n",
              "label       \n",
              "A          5\n",
              "B          7\n",
              "C          9"
            ]
          },
          "metadata": {
            "tags": []
          },
          "execution_count": 43
        }
      ]
    },
    {
      "cell_type": "markdown",
      "metadata": {
        "id": "XKftpe_KAMAh",
        "colab_type": "text"
      },
      "source": [
        "ここでは、1行で、同じラベルを共有するすべてのオブジェクトの合計を計算しました。これは、NumpyおよびコアPythonで提供されるツールを使用して、はるかに冗長（かつ効率がはるかに低い）です。\n",
        "\n",
        "Pandasの使用の詳細については、[詳細なリソース](16-Further-Resources.ipynb)を参照してください。\n",
        "\n",
        "Here in one line we have computed the sum of all objects sharing the same label, something that is much more verbose (and much less efficient) using tools provided in Numpy and core Python.\n",
        "\n",
        "For more information on using Pandas, see [Resources for Further Learning](16-Further-Resources.ipynb)."
      ]
    },
    {
      "cell_type": "markdown",
      "metadata": {
        "id": "9AmFIVfGAMAj",
        "colab_type": "text"
      },
      "source": [
        "## Matplotlib MatLabスタイルの科学的可視化\n",
        "\n",
        "Matplotlibは現在、Pythonで最も人気のある科学的可視化パッケージです。\n",
        "支持者でさえ、そのインターフェースが時々過度に冗長であることを認めますが、それは広範囲のプロットを作成するための強力なライブラリーです。\n",
        "\n",
        "Matplotlibを使用するには、（Jupyterノートブックで使用するために）ノートブックモードを有効にしてから、パッケージを \"``plt``\"としてインポートします\n",
        "\n",
        "## Matplotlib MatLab-style scientific visualization\n",
        "\n",
        "Matplotlib is currently the most popular scientific visualization packages in Python.\n",
        "Even proponents admit that its interface is sometimes overly verbose, but it is a powerful library for creating a large range of plots.\n",
        "\n",
        "To use Matplotlib, we can start by enabling the notebook mode (for use in the Jupyter notebook) and then importing the package as \"``plt``\""
      ]
    },
    {
      "cell_type": "code",
      "metadata": {
        "id": "vEBVEfr8AMAk",
        "colab_type": "code",
        "colab": {}
      },
      "source": [
        "# run this if using Jupyter notebook\n",
        "#%matplotlib notebook\n",
        "%matplotlib inline"
      ],
      "execution_count": 0,
      "outputs": []
    },
    {
      "cell_type": "code",
      "metadata": {
        "id": "LmA7Na2mAMAz",
        "colab_type": "code",
        "colab": {}
      },
      "source": [
        "import matplotlib.pyplot as plt\n",
        "plt.style.use('ggplot')  # make graphs in the style of R's ggplot"
      ],
      "execution_count": 0,
      "outputs": []
    },
    {
      "cell_type": "markdown",
      "metadata": {
        "id": "zM4egb-jAMA-",
        "colab_type": "text"
      },
      "source": [
        "次に、いくつかのデータを（もちろんNumPy配列として）作成し、結果をプロットします。\n",
        "\n",
        "Now let's create some data (as NumPy arrays, of course) and plot the results:"
      ]
    },
    {
      "cell_type": "code",
      "metadata": {
        "id": "LkS9H1ODAMBB",
        "colab_type": "code",
        "colab": {
          "base_uri": "https://localhost:8080/",
          "height": 265
        },
        "outputId": "e010b2eb-7531-46c5-dd3a-cb3a39dde1bf"
      },
      "source": [
        "x = np.linspace(0, 10)  # range of values from 0 to 10\n",
        "y = np.sin(x)           # sine of these values\n",
        "plt.plot(x, y);         # plot as a line"
      ],
      "execution_count": 46,
      "outputs": [
        {
          "output_type": "display_data",
          "data": {
            "image/png": "[encoded data removed]",
            "text/plain": [
              "<Figure size 432x288 with 1 Axes>"
            ]
          },
          "metadata": {
            "tags": []
          }
        }
      ]
    },
    {
      "cell_type": "markdown",
      "metadata": {
        "id": "VE9VOpKBAMBR",
        "colab_type": "text"
      },
      "source": [
        "このコードをライブで実行すると、パン、ズーム、スクロールしてデータを探索できるインタラクティブなプロットが表示されます。\n",
        "\n",
        "これはMatplotlibプロットの最も単純な例です。 利用可能な広範なプロットタイプのアイデアについては、[Matplotlibのオンラインギャラリー](http://matplotlib.org/gallery.html)と、[詳細なリソース](16-Further-Resources.ipynb)にリストされているその他の参考資料を参照してください。\n",
        "\n",
        "\n",
        "If you run this code live, you will see an interactive plot that lets you pan, zoom, and scroll to explore the data.\n",
        "\n",
        "This is the simplest example of a Matplotlib plot; for ideas on the wide range of plot types available, see [Matplotlib's online gallery](http://matplotlib.org/gallery.html) as well as other references listed in [Resources for Further Learning](16-Further-Resources.ipynb)."
      ]
    },
    {
      "cell_type": "markdown",
      "metadata": {
        "id": "ooYCevdBAMBT",
        "colab_type": "text"
      },
      "source": [
        "## SciPy：Scientific Python\n",
        "\n",
        "SciPyは、NumPyに基づいて構築された科学機能のコレクションです。\n",
        "パッケージは、数値計算用の有名なFortranライブラリへのPythonラッパーのセットとして始まり、そこから成長しました。\n",
        "パッケージは、サブモジュールのセットとして配置され、それぞれがいくつかのクラスの数値アルゴリズムを実装します。\n",
        "以下は、データサイエンスにとってより重要ないくつかの不完全なサンプルです。\n",
        "\n",
        "- ``scipy.fftpack``：高速フーリエ変換\n",
        "- ``scipy.integrate``：数値積分\n",
        "- ``scipy.interpolate``：数値補間\n",
        "- ``scipy.linalg``：線形代数ルーチン\n",
        "- ``scipy.optimize``：関数の数値最適化\n",
        "- ``scipy.sparse``：スパース行列のストレージと線形代数\n",
        "- ``scipy.stats``：統計分析ルーチン\n",
        "\n",
        "たとえば、いくつかのデータ間の滑らかな曲線の補間を見てみましょう。\n",
        "\n",
        "## SciPy: Scientific Python\n",
        "\n",
        "SciPy is a collection of scientific functionality that is built on NumPy.\n",
        "The package began as a set of Python wrappers to well-known Fortran libraries for numerical computing, and has grown from there.\n",
        "The package is arranged as a set of submodules, each implementing some class of numerical algorithms.\n",
        "Here is an incomplete sample of some of the more important ones for data science:\n",
        "\n",
        "- ``scipy.fftpack``: Fast Fourier transforms\n",
        "- ``scipy.integrate``: Numerical integration\n",
        "- ``scipy.interpolate``: Numerical interpolation\n",
        "- ``scipy.linalg``: Linear algebra routines\n",
        "- ``scipy.optimize``: Numerical optimization of functions\n",
        "- ``scipy.sparse``: Sparse matrix storage and linear algebra\n",
        "- ``scipy.stats``: Statistical analysis routines\n",
        "\n",
        "For example, let's take a look at interpolating a smooth curve between some data"
      ]
    },
    {
      "cell_type": "code",
      "metadata": {
        "id": "WU5YPUQ_AMBW",
        "colab_type": "code",
        "colab": {
          "base_uri": "https://localhost:8080/",
          "height": 265
        },
        "outputId": "ebc0a257-4abc-4059-fc75-bb1467293a27"
      },
      "source": [
        "from scipy import interpolate\n",
        "\n",
        "# choose eight points between 0 and 10\n",
        "x = np.linspace(0, 10, 8)\n",
        "y = np.sin(x)\n",
        "\n",
        "# create a cubic interpolation function\n",
        "func = interpolate.interp1d(x, y, kind='cubic')\n",
        "\n",
        "# interpolate on a grid of 1,000 points\n",
        "x_interp = np.linspace(0, 10, 1000)\n",
        "y_interp = func(x_interp)\n",
        "\n",
        "# plot the results\n",
        "plt.figure()  # new figure\n",
        "plt.plot(x, y, 'o')\n",
        "plt.plot(x_interp, y_interp);"
      ],
      "execution_count": 47,
      "outputs": [
        {
          "output_type": "display_data",
          "data": {
            "image/png": "[encoded data removed]",
            "text/plain": [
              "<Figure size 432x288 with 1 Axes>"
            ]
          },
          "metadata": {
            "tags": []
          }
        }
      ]
    },
    {
      "cell_type": "markdown",
      "metadata": {
        "id": "Mg7qedt5AMBh",
        "colab_type": "text"
      },
      "source": [
        "表示されるのは、ポイント間のスムーズな補間です。\n",
        "\n",
        "What we see is a smooth interpolation between the points."
      ]
    },
    {
      "cell_type": "markdown",
      "metadata": {
        "id": "DmW2iZM7AMBj",
        "colab_type": "text"
      },
      "source": [
        "## その他のデータサイエンスパッケージ\n",
        "\n",
        "これらのツールの上に構築されているのは、機械学習用の[Scikit-Learn](http://scikit-learn.org)、画像分析に[Scikit-Image](http://scikit-image.org)などの、一般的なツールを含む、他のデータサイエンスパッケージのホストです。[Statsmodels](http://statsmodels.sourceforge.net/)は統計モデリングに、さらに[AstroPy](http://astropy.org)などのドメイン固有のパッケージに 天文学と天体物理学の場合、[NiPy](http://nipy.org/)の場合はニューロイメージング、その他多数。\n",
        "\n",
        "直面している科学的、数値的、または統計的な問題の種類に関係なく、問題の解決に役立つPythonパッケージが存在している可能性があります。\n",
        "\n",
        "## Other Data Science Packages\n",
        "\n",
        "Built on top of these tools are a host of other data science packages, including general tools like [Scikit-Learn](http://scikit-learn.org) for machine learning, [Scikit-Image](http://scikit-image.org) for image analysis, and [Statsmodels](http://statsmodels.sourceforge.net/) for statistical modeling, as well as more domain-specific packages like [AstroPy](http://astropy.org) for astronomy and astrophysics, [NiPy](http://nipy.org/) for neuro-imaging, and many, many more.\n",
        "\n",
        "No matter what type of scientific, numerical, or statistical problem you are facing, it's likely there is a Python package out there that can help you solve it."
      ]
    },
    {
      "cell_type": "markdown",
      "metadata": {
        "id": "z9fLbG8OAMBl",
        "colab_type": "text"
      },
      "source": [
        "<!--NAVIGATION-->\n",
        "< [String Manipulation and Regular Expressions](14-Strings-and-Regular-Expressions.ipynb) | [Contents](Index.ipynb) | [Resources for Further Learning](16-Further-Resources.ipynb) >"
      ]
    }
  ]
}