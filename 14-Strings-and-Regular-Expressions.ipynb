{
  "nbformat": 4,
  "nbformat_minor": 0,
  "metadata": {
    "anaconda-cloud": {},
    "kernelspec": {
      "display_name": "Python 3",
      "language": "python",
      "name": "python3"
    },
    "language_info": {
      "codemirror_mode": {
        "name": "ipython",
        "version": 3
      },
      "file_extension": ".py",
      "mimetype": "text/x-python",
      "name": "python",
      "nbconvert_exporter": "python",
      "pygments_lexer": "ipython3",
      "version": "3.5.1"
    },
    "colab": {
      "name": "14-Strings-and-Regular-Expressions.ipynb",
      "provenance": [],
      "toc_visible": true,
      "include_colab_link": true
    }
  },
  "cells": [
    {
      "cell_type": "markdown",
      "metadata": {
        "id": "view-in-github",
        "colab_type": "text"
      },
      "source": [
        "<a href=\"https://colab.research.google.com/github/MasakazuNaganuma/WhirlwindTourOfPython/blob/master/14-Strings-and-Regular-Expressions.ipynb\" target=\"_parent\"><img src=\"https://colab.research.google.com/assets/colab-badge.svg\" alt=\"Open In Colab\"/></a>"
      ]
    },
    {
      "cell_type": "markdown",
      "metadata": {
        "id": "uPu5LPczhaui",
        "colab_type": "text"
      },
      "source": [
        "<!--BOOK_INFORMATION-->\n",
        "<img align=\"left\" style=\"padding-right:10px;\" src=\"https://github.com/MasakazuNaganuma/WhirlwindTourOfPython/blob/master/fig/cover-small.jpg?raw=1\">\n",
        "*This notebook contains an excerpt from the [Whirlwind Tour of Python](http://www.oreilly.com/programming/free/a-whirlwind-tour-of-python.csp) by Jake VanderPlas; the content is available [on GitHub](https://github.com/jakevdp/WhirlwindTourOfPython).*\n",
        "\n",
        "*The text and code are released under the [CC0](https://github.com/jakevdp/WhirlwindTourOfPython/blob/master/LICENSE) license; see also the companion project, the [Python Data Science Handbook](https://github.com/jakevdp/PythonDataScienceHandbook).*\n"
      ]
    },
    {
      "cell_type": "markdown",
      "metadata": {
        "id": "siXl1y-mhauj",
        "colab_type": "text"
      },
      "source": [
        "<!--NAVIGATION-->\n",
        "< [Modules and Packages](13-Modules-and-Packages.ipynb) | [Contents](Index.ipynb) | [A Preview of Data Science Tools](15-Preview-of-Data-Science-Tools.ipynb) >"
      ]
    },
    {
      "cell_type": "markdown",
      "metadata": {
        "id": "3DLRys-8hauk",
        "colab_type": "text"
      },
      "source": [
        "# 文字列操作と正規表現\n",
        "# String Manipulation and Regular Expressions"
      ]
    },
    {
      "cell_type": "markdown",
      "metadata": {
        "id": "K8UuRRCxhauk",
        "colab_type": "text"
      },
      "source": [
        "Python言語が本当に優れている1つの場所は、文字列の操作です。\n",
        "このセクションでは、非常に役立つ*正規表現*の主題へのクイックガイドに進む前に、Pythonの組み込みの文字列メソッドとフォーマット操作のいくつかについて説明します。\n",
        "このような文字列操作パターンは、データサイエンスの作業のコンテキストで頻繁に発生し、このコンテキストでのPythonの大きな特典の1つです。\n",
        "\n",
        "Pythonの文字列は、単一引用符または二重引用符を使用して定義できます（これらは機能的に同等です）。\n",
        "\n",
        "One place where the Python language really shines is in the manipulation of strings.\n",
        "This section will cover some of Python's built-in string methods and formatting operations, before moving on to a quick guide to the extremely useful subject of *regular expressions*.\n",
        "Such string manipulation patterns come up often in the context of data science work, and is one big perk of Python in this context.\n",
        "\n",
        "Strings in Python can be defined using either single or double quotations (they are functionally equivalent):"
      ]
    },
    {
      "cell_type": "code",
      "metadata": {
        "id": "Uir9HhK6haul",
        "colab_type": "code",
        "colab": {},
        "outputId": "52f457e5-414e-4a0b-bdc5-de63c8893001"
      },
      "source": [
        "x = 'a string'\n",
        "y = \"a string\"\n",
        "x == y"
      ],
      "execution_count": 0,
      "outputs": [
        {
          "output_type": "execute_result",
          "data": {
            "text/plain": [
              "True"
            ]
          },
          "metadata": {
            "tags": []
          },
          "execution_count": 1
        }
      ]
    },
    {
      "cell_type": "markdown",
      "metadata": {
        "id": "uf9SYoL3haup",
        "colab_type": "text"
      },
      "source": [
        "さらに、三重引用符の構文を使用して複数行の文字列を定義することが可能です。\n",
        "\n",
        "In addition, it is possible to define multi-line strings using a triple-quote syntax:"
      ]
    },
    {
      "cell_type": "code",
      "metadata": {
        "id": "vU1TqGCphauq",
        "colab_type": "code",
        "colab": {}
      },
      "source": [
        "multiline = \"\"\"\n",
        "one\n",
        "two\n",
        "three\n",
        "\"\"\""
      ],
      "execution_count": 0,
      "outputs": []
    },
    {
      "cell_type": "markdown",
      "metadata": {
        "id": "nqL-8NKUhaus",
        "colab_type": "text"
      },
      "source": [
        "これで、Pythonの文字列操作ツールのいくつかを簡単に見ていきましょう。\n",
        "\n",
        "With this, let's take a quick tour of some of Python's string manipulation tools."
      ]
    },
    {
      "cell_type": "markdown",
      "metadata": {
        "id": "aETlqvDohaut",
        "colab_type": "text"
      },
      "source": [
        "## Pythonでの単純な文字列操作\n",
        "\n",
        "文字列の基本的な操作には、Pythonの組み込みの文字列メソッドが非常に便利です。\n",
        "Cまたは他の低水準言語で作業しているバックグラウンドがある場合、Pythonのメソッドのシンプルさが非常に更新されていることに気付くでしょう。\n",
        "以前にPythonの文字列型とこれらのメソッドのいくつかを紹介しました。 ここで少し詳しく説明します\n",
        "\n",
        "## Simple String Manipulation in Python\n",
        "\n",
        "For basic manipulation of strings, Python's built-in string methods can be extremely convenient.\n",
        "If you have a background working in C or another low-level language, you will likely find the simplicity of Python's methods extremely refreshing.\n",
        "We introduced Python's string type and a few of these methods earlier; here we'll dive a bit deeper"
      ]
    },
    {
      "cell_type": "markdown",
      "metadata": {
        "id": "8YZoIJ7ehaut",
        "colab_type": "text"
      },
      "source": [
        "###文字列のフォーマット：大文字小文字の調整\n",
        "\n",
        "Pythonでは、文字列の大文字と小文字を簡単に調整できます。\n",
        "ここでは、``upper()``、``lower()``、``capitalize()``、``title()``、``swapcase()``メソッドを使用して、 例として次の乱雑な文字列：\n",
        "\n",
        "### Formatting strings: Adjusting case\n",
        "\n",
        "Python makes it quite easy to adjust the case of a string.\n",
        "Here we'll look at the ``upper()``, ``lower()``, ``capitalize()``, ``title()``, and ``swapcase()`` methods, using the following messy string as an example:"
      ]
    },
    {
      "cell_type": "code",
      "metadata": {
        "id": "VnosgUS4hauu",
        "colab_type": "code",
        "colab": {}
      },
      "source": [
        "fox = \"tHe qUICk bROWn fOx.\""
      ],
      "execution_count": 0,
      "outputs": []
    },
    {
      "cell_type": "markdown",
      "metadata": {
        "id": "p5W6WTZahauw",
        "colab_type": "text"
      },
      "source": [
        "文字列全体を大文字または小文字に変換するには、それぞれ``upper()``または``lower()``メソッドを使用できます：\n",
        "\n",
        "To convert the entire string into upper-case or lower-case, you can use the ``upper()`` or ``lower()`` methods respectively:"
      ]
    },
    {
      "cell_type": "code",
      "metadata": {
        "id": "uizFwFqnhaux",
        "colab_type": "code",
        "colab": {},
        "outputId": "6d94e7ee-e4c3-4bfc-b05e-c1435c83bfa9"
      },
      "source": [
        "fox.upper()"
      ],
      "execution_count": 0,
      "outputs": [
        {
          "output_type": "execute_result",
          "data": {
            "text/plain": [
              "'THE QUICK BROWN FOX.'"
            ]
          },
          "metadata": {
            "tags": []
          },
          "execution_count": 4
        }
      ]
    },
    {
      "cell_type": "code",
      "metadata": {
        "id": "y31w-Bzyhauz",
        "colab_type": "code",
        "colab": {},
        "outputId": "213d1113-bf42-4bb7-d3c1-535bdffcb1f5"
      },
      "source": [
        "fox.lower()"
      ],
      "execution_count": 0,
      "outputs": [
        {
          "output_type": "execute_result",
          "data": {
            "text/plain": [
              "'the quick brown fox.'"
            ]
          },
          "metadata": {
            "tags": []
          },
          "execution_count": 5
        }
      ]
    },
    {
      "cell_type": "markdown",
      "metadata": {
        "id": "Vu5fc7-Mhau2",
        "colab_type": "text"
      },
      "source": [
        "一般的な書式設定の必要性は、各単語の最初の文字だけ、またはおそらく各文の最初の文字を大文字にすることです。これは `` title() ``と `` capitalize() ``メソッドで行うことができます：\n",
        "\n",
        "A common formatting need is to capitalize just the first letter of each word, or perhaps the first letter of each sentence.\n",
        "This can be done with the ``title()`` and ``capitalize()`` methods:"
      ]
    },
    {
      "cell_type": "code",
      "metadata": {
        "id": "Pb0_esBthau3",
        "colab_type": "code",
        "colab": {},
        "outputId": "987a2aaa-11d9-4ef2-9c85-370c480f3c49"
      },
      "source": [
        "fox.title()"
      ],
      "execution_count": 0,
      "outputs": [
        {
          "output_type": "execute_result",
          "data": {
            "text/plain": [
              "'The Quick Brown Fox.'"
            ]
          },
          "metadata": {
            "tags": []
          },
          "execution_count": 6
        }
      ]
    },
    {
      "cell_type": "code",
      "metadata": {
        "id": "PMoURQk2hau5",
        "colab_type": "code",
        "colab": {},
        "outputId": "a9745144-9a62-4662-8a10-00d6313f7212"
      },
      "source": [
        "fox.capitalize()"
      ],
      "execution_count": 0,
      "outputs": [
        {
          "output_type": "execute_result",
          "data": {
            "text/plain": [
              "'The quick brown fox.'"
            ]
          },
          "metadata": {
            "tags": []
          },
          "execution_count": 7
        }
      ]
    },
    {
      "cell_type": "markdown",
      "metadata": {
        "id": "HRe1O11khau8",
        "colab_type": "text"
      },
      "source": [
        "ケースは `` swapcase() ``メソッドを使用して大文字を小文字へ、小文字を大文字へ交換できます：\n",
        "\n",
        "The cases can be swapped using the ``swapcase()`` method:"
      ]
    },
    {
      "cell_type": "code",
      "metadata": {
        "id": "0EqICQyVhau8",
        "colab_type": "code",
        "colab": {},
        "outputId": "bece3284-3236-42e9-caf5-9ca7810a258c"
      },
      "source": [
        "fox.swapcase()"
      ],
      "execution_count": 0,
      "outputs": [
        {
          "output_type": "execute_result",
          "data": {
            "text/plain": [
              "'ThE QuicK BrowN FoX.'"
            ]
          },
          "metadata": {
            "tags": []
          },
          "execution_count": 8
        }
      ]
    },
    {
      "cell_type": "markdown",
      "metadata": {
        "id": "QyGwcWSYhau-",
        "colab_type": "text"
      },
      "source": [
        "###文字列のフォーマット：スペースの追加と削除\n",
        "\n",
        "別の一般的なニーズは、文字列の最初または最後からスペース（または他の文字）を削除することです。文字を削除する基本的な方法は `` strip() ``メソッドで、行の最初と最後から空白を取り除きます：\n",
        "\n",
        "### Formatting strings: Adding and removing spaces\n",
        "\n",
        "Another common need is to remove spaces (or other characters) from the beginning or end of the string.\n",
        "The basic method of removing characters is the ``strip()`` method, which strips whitespace from the beginning and end of the line:"
      ]
    },
    {
      "cell_type": "code",
      "metadata": {
        "id": "pczD7MnDhau_",
        "colab_type": "code",
        "colab": {},
        "outputId": "9a7310c9-e3e3-4db2-aa8f-7a93df13aa4b"
      },
      "source": [
        "line = '         this is the content         '\n",
        "line.strip()"
      ],
      "execution_count": 0,
      "outputs": [
        {
          "output_type": "execute_result",
          "data": {
            "text/plain": [
              "'this is the content'"
            ]
          },
          "metadata": {
            "tags": []
          },
          "execution_count": 9
        }
      ]
    },
    {
      "cell_type": "markdown",
      "metadata": {
        "id": "igWfHp0shavD",
        "colab_type": "text"
      },
      "source": [
        "右または左のスペースだけを削除するには、それぞれ `` rstrip() ``または `` lstrip() ``を使用します。\n",
        "\n",
        "To remove just space to the right or left, use ``rstrip()`` or ``lstrip()`` respectively:"
      ]
    },
    {
      "cell_type": "code",
      "metadata": {
        "id": "L3URctQChavD",
        "colab_type": "code",
        "colab": {},
        "outputId": "51c84d49-94ff-4073-86a5-8889a5273ea5"
      },
      "source": [
        "line.rstrip()"
      ],
      "execution_count": 0,
      "outputs": [
        {
          "output_type": "execute_result",
          "data": {
            "text/plain": [
              "'         this is the content'"
            ]
          },
          "metadata": {
            "tags": []
          },
          "execution_count": 10
        }
      ]
    },
    {
      "cell_type": "code",
      "metadata": {
        "id": "nG9P4dhthavG",
        "colab_type": "code",
        "colab": {},
        "outputId": "054e2616-9176-4ab1-e3f5-b5c290bbc945"
      },
      "source": [
        "line.lstrip()"
      ],
      "execution_count": 0,
      "outputs": [
        {
          "output_type": "execute_result",
          "data": {
            "text/plain": [
              "'this is the content         '"
            ]
          },
          "metadata": {
            "tags": []
          },
          "execution_count": 11
        }
      ]
    },
    {
      "cell_type": "markdown",
      "metadata": {
        "id": "dgjkEH6shavI",
        "colab_type": "text"
      },
      "source": [
        "スペース以外の文字を削除するには、目的の文字を `` strip() ``メソッドに渡します：\n",
        "\n",
        "To remove characters other than spaces, you can pass the desired character to the ``strip()`` method:"
      ]
    },
    {
      "cell_type": "code",
      "metadata": {
        "id": "52N46ZVRhavI",
        "colab_type": "code",
        "colab": {},
        "outputId": "3b09b2f5-31c4-4ef3-bbb9-dc004a6a8869"
      },
      "source": [
        "num = \"000000000000435\"\n",
        "num.strip('0')"
      ],
      "execution_count": 0,
      "outputs": [
        {
          "output_type": "execute_result",
          "data": {
            "text/plain": [
              "'435'"
            ]
          },
          "metadata": {
            "tags": []
          },
          "execution_count": 12
        }
      ]
    },
    {
      "cell_type": "markdown",
      "metadata": {
        "id": "EMnFqt0YhavL",
        "colab_type": "text"
      },
      "source": [
        "この操作とは逆に、スペースやその他の文字を追加するには、``center()``、``ljust()``、``rjust()``メソッドを使用します。たとえば、 `` center() ``メソッドを使用して、指定した数のスペース内で指定した文字列を中央に配置できます。\n",
        "\n",
        "The opposite of this operation, adding spaces or other characters, can be accomplished using the ``center()``, ``ljust()``, and ``rjust()`` methods.\n",
        "\n",
        "For example, we can use the ``center()`` method to center a given string within a given number of spaces:"
      ]
    },
    {
      "cell_type": "code",
      "metadata": {
        "id": "SSym4vtFhavL",
        "colab_type": "code",
        "colab": {},
        "outputId": "0dceb7e7-2e16-4b0d-f08e-cc6bc40cfed0"
      },
      "source": [
        "line = \"this is the content\"\n",
        "line.center(30)"
      ],
      "execution_count": 0,
      "outputs": [
        {
          "output_type": "execute_result",
          "data": {
            "text/plain": [
              "'     this is the content      '"
            ]
          },
          "metadata": {
            "tags": []
          },
          "execution_count": 13
        }
      ]
    },
    {
      "cell_type": "markdown",
      "metadata": {
        "id": "JGEw5IfQhavO",
        "colab_type": "text"
      },
      "source": [
        "同様に、``ljust()``と``rjust()``は、指定された長さのスペース内で文字列を左揃えまたは右揃えします。\n",
        "\n",
        "Similarly, ``ljust()`` and ``rjust()`` will left-justify or right-justify the string within spaces of a given length:"
      ]
    },
    {
      "cell_type": "code",
      "metadata": {
        "id": "rpFZP5akhavP",
        "colab_type": "code",
        "colab": {},
        "outputId": "5de0d74a-2757-4892-c858-f0943600f16f"
      },
      "source": [
        "line.ljust(30)"
      ],
      "execution_count": 0,
      "outputs": [
        {
          "output_type": "execute_result",
          "data": {
            "text/plain": [
              "'this is the content           '"
            ]
          },
          "metadata": {
            "tags": []
          },
          "execution_count": 14
        }
      ]
    },
    {
      "cell_type": "code",
      "metadata": {
        "id": "TIQ7ynd9havR",
        "colab_type": "code",
        "colab": {},
        "outputId": "88cda848-b6e5-4525-88df-f4dc4391510d"
      },
      "source": [
        "line.rjust(30)"
      ],
      "execution_count": 0,
      "outputs": [
        {
          "output_type": "execute_result",
          "data": {
            "text/plain": [
              "'           this is the content'"
            ]
          },
          "metadata": {
            "tags": []
          },
          "execution_count": 15
        }
      ]
    },
    {
      "cell_type": "markdown",
      "metadata": {
        "id": "HrzmmB5ihavT",
        "colab_type": "text"
      },
      "source": [
        "これらすべてのメソッドは、スペースを埋めるために使用される任意の文字をさらに受け入れます。\n",
        "例えば：\n",
        "\n",
        "All these methods additionally accept any character which will be used to fill the space.\n",
        "For example:"
      ]
    },
    {
      "cell_type": "code",
      "metadata": {
        "id": "c1sxGGEnhavU",
        "colab_type": "code",
        "colab": {},
        "outputId": "27b4cb26-1a53-4bc4-bb0a-d67fa003a919"
      },
      "source": [
        "'435'.rjust(10, '0')"
      ],
      "execution_count": 0,
      "outputs": [
        {
          "output_type": "execute_result",
          "data": {
            "text/plain": [
              "'0000000435'"
            ]
          },
          "metadata": {
            "tags": []
          },
          "execution_count": 16
        }
      ]
    },
    {
      "cell_type": "markdown",
      "metadata": {
        "id": "MB15TXsFhavW",
        "colab_type": "text"
      },
      "source": [
        "ゼロ充填は非常に一般的なニーズであるため、Pythonは `` zfill() ``も提供します。これは、文字列にゼロを右詰めする特殊な方法です。\n",
        "\n",
        "Because zero-filling is such a common need, Python also provides ``zfill()``, which is a special method to right-pad a string with zeros:"
      ]
    },
    {
      "cell_type": "code",
      "metadata": {
        "id": "LiiSdkMnhavW",
        "colab_type": "code",
        "colab": {},
        "outputId": "591d12e4-4ef8-45f6-cf8e-24014cc3a3c1"
      },
      "source": [
        "'435'.zfill(10)"
      ],
      "execution_count": 0,
      "outputs": [
        {
          "output_type": "execute_result",
          "data": {
            "text/plain": [
              "'0000000435'"
            ]
          },
          "metadata": {
            "tags": []
          },
          "execution_count": 17
        }
      ]
    },
    {
      "cell_type": "markdown",
      "metadata": {
        "id": "hvzhYJinhavY",
        "colab_type": "text"
      },
      "source": [
        "###部分文字列の検索と置換\n",
        "\n",
        "文字列内の特定の文字の出現を検索する場合は、``find()``/``rfind()``、``index()``/``rindex()``、および`` replace()``メソッドは最高の組み込みメソッドです。\n",
        "\n",
        "``find()``と `` index()``は、文字列内の最初の文字または部分文字列を検索し、部分文字列のインデックスを返すという点で非常に似ています：\n",
        "\n",
        "### Finding and replacing substrings\n",
        "\n",
        "If you want to find occurrences of a certain character in a string, the ``find()``/``rfind()``, ``index()``/``rindex()``, and ``replace()`` methods are the best built-in methods.\n",
        "\n",
        "``find()`` and ``index()`` are very similar, in that they search for the first occurrence of a character or substring within a string, and return the index of the substring:"
      ]
    },
    {
      "cell_type": "code",
      "metadata": {
        "id": "3n3YwepXhavZ",
        "colab_type": "code",
        "colab": {
          "base_uri": "https://localhost:8080/",
          "height": 34
        },
        "outputId": "6e9d8a6e-8b50-428d-e103-be85aba1c58c"
      },
      "source": [
        "line = 'the quick brown fox jumped over a lazy dog'\n",
        "line.find('fox')"
      ],
      "execution_count": 2,
      "outputs": [
        {
          "output_type": "execute_result",
          "data": {
            "text/plain": [
              "16"
            ]
          },
          "metadata": {
            "tags": []
          },
          "execution_count": 2
        }
      ]
    },
    {
      "cell_type": "code",
      "metadata": {
        "id": "Qsc9QJmhhava",
        "colab_type": "code",
        "colab": {},
        "outputId": "7cf34537-5faa-4f4a-cb9a-58e47a81c31e"
      },
      "source": [
        "line.index('fox')"
      ],
      "execution_count": 0,
      "outputs": [
        {
          "output_type": "execute_result",
          "data": {
            "text/plain": [
              "16"
            ]
          },
          "metadata": {
            "tags": []
          },
          "execution_count": 19
        }
      ]
    },
    {
      "cell_type": "markdown",
      "metadata": {
        "id": "INB8HA7Khavc",
        "colab_type": "text"
      },
      "source": [
        "``find()``と ``index()``の唯一の違いは、検索文字列が見つからない場合の動作です。 ``find()``は ``-1``を返しますが、 ``index()``は `` ValueError``を送出します：\n",
        "\n",
        "The only difference between ``find()`` and ``index()`` is their behavior when the search string is not found; ``find()`` returns ``-1``, while ``index()`` raises a ``ValueError``:"
      ]
    },
    {
      "cell_type": "code",
      "metadata": {
        "id": "g31kY6gwhavd",
        "colab_type": "code",
        "colab": {},
        "outputId": "a08b2c7d-1d6a-4967-a290-24fa49d6c3e6"
      },
      "source": [
        "line.find('bear')"
      ],
      "execution_count": 0,
      "outputs": [
        {
          "output_type": "execute_result",
          "data": {
            "text/plain": [
              "-1"
            ]
          },
          "metadata": {
            "tags": []
          },
          "execution_count": 20
        }
      ]
    },
    {
      "cell_type": "code",
      "metadata": {
        "id": "8BJeOSUjhavf",
        "colab_type": "code",
        "colab": {},
        "outputId": "c67febdd-25d5-46f4-e741-eaa4c4dd3f28"
      },
      "source": [
        "line.index('bear')"
      ],
      "execution_count": 0,
      "outputs": [
        {
          "output_type": "error",
          "ename": "ValueError",
          "evalue": "substring not found",
          "traceback": [
            "\u001b[0;31m---------------------------------------------------------------------------\u001b[0m",
            "\u001b[0;31mValueError\u001b[0m                                Traceback (most recent call last)",
            "\u001b[0;32m<ipython-input-21-4cbe6ee9b0eb>\u001b[0m in \u001b[0;36m<module>\u001b[0;34m()\u001b[0m\n\u001b[0;32m----> 1\u001b[0;31m \u001b[0mline\u001b[0m\u001b[0;34m.\u001b[0m\u001b[0mindex\u001b[0m\u001b[0;34m(\u001b[0m\u001b[0;34m'bear'\u001b[0m\u001b[0;34m)\u001b[0m\u001b[0;34m\u001b[0m\u001b[0m\n\u001b[0m",
            "\u001b[0;31mValueError\u001b[0m: substring not found"
          ]
        }
      ]
    },
    {
      "cell_type": "markdown",
      "metadata": {
        "id": "yifc4Wgmhavh",
        "colab_type": "text"
      },
      "source": [
        "関連する ``rfind()``と ``rindex()``も同様に機能しますが、文字列の先頭ではなく、末尾から最初の出現を検索します：\n",
        "\n",
        "The related ``rfind()`` and ``rindex()`` work similarly, except they search for the first occurrence from the end rather than the beginning of the string:"
      ]
    },
    {
      "cell_type": "code",
      "metadata": {
        "id": "OiI9I-Y9havh",
        "colab_type": "code",
        "colab": {},
        "outputId": "649eca19-48f7-4d39-dd70-9c35e22864f7"
      },
      "source": [
        "line.rfind('a')"
      ],
      "execution_count": 0,
      "outputs": [
        {
          "output_type": "execute_result",
          "data": {
            "text/plain": [
              "35"
            ]
          },
          "metadata": {
            "tags": []
          },
          "execution_count": 22
        }
      ]
    },
    {
      "cell_type": "code",
      "metadata": {
        "id": "oaJQCpfopazN",
        "colab_type": "code",
        "colab": {
          "base_uri": "https://localhost:8080/",
          "height": 34
        },
        "outputId": "57c70361-fa0c-4d22-f93f-d68d503d0cb3"
      },
      "source": [
        "line.rindex('a')"
      ],
      "execution_count": 3,
      "outputs": [
        {
          "output_type": "execute_result",
          "data": {
            "text/plain": [
              "35"
            ]
          },
          "metadata": {
            "tags": []
          },
          "execution_count": 3
        }
      ]
    },
    {
      "cell_type": "markdown",
      "metadata": {
        "id": "yqBn1XjShavk",
        "colab_type": "text"
      },
      "source": [
        "文字列の最初または最後で部分文字列をチェックする特別な場合のために、Pythonは ``startswith()``および ``endswith()``メソッドを提供しています：\n",
        "\n",
        "For the special case of checking for a substring at the beginning or end of a string, Python provides the ``startswith()`` and ``endswith()`` methods:"
      ]
    },
    {
      "cell_type": "code",
      "metadata": {
        "id": "cEOUv_uyhavk",
        "colab_type": "code",
        "colab": {},
        "outputId": "5d7023f1-c057-4de4-806b-a8fb217ae75b"
      },
      "source": [
        "line.endswith('dog')"
      ],
      "execution_count": 0,
      "outputs": [
        {
          "output_type": "execute_result",
          "data": {
            "text/plain": [
              "True"
            ]
          },
          "metadata": {
            "tags": []
          },
          "execution_count": 23
        }
      ]
    },
    {
      "cell_type": "code",
      "metadata": {
        "id": "mF0FZDtwhavm",
        "colab_type": "code",
        "colab": {},
        "outputId": "e9ed5148-2820-4a88-b6e4-ebc3461f431e"
      },
      "source": [
        "line.startswith('fox')"
      ],
      "execution_count": 0,
      "outputs": [
        {
          "output_type": "execute_result",
          "data": {
            "text/plain": [
              "False"
            ]
          },
          "metadata": {
            "tags": []
          },
          "execution_count": 24
        }
      ]
    },
    {
      "cell_type": "markdown",
      "metadata": {
        "id": "MAuzV7qghavo",
        "colab_type": "text"
      },
      "source": [
        "さらに一歩進んで、指定された部分文字列を新しい文字列に置き換えるには、 ``replace()``メソッドを使用できます。ここで、`` '茶色'``を`` '赤色'``に置き換えましょう：\n",
        "\n",
        "To go one step further and replace a given substring with a new string, you can use the ``replace()`` method.\n",
        "Here, let's replace ``'brown'`` with ``'red'``:"
      ]
    },
    {
      "cell_type": "code",
      "metadata": {
        "id": "L4t_nNiGhavp",
        "colab_type": "code",
        "colab": {},
        "outputId": "9d09ccae-1681-43ee-c98c-b0dbe098c1b0"
      },
      "source": [
        "line.replace('brown', 'red')"
      ],
      "execution_count": 0,
      "outputs": [
        {
          "output_type": "execute_result",
          "data": {
            "text/plain": [
              "'the quick red fox jumped over a lazy dog'"
            ]
          },
          "metadata": {
            "tags": []
          },
          "execution_count": 25
        }
      ]
    },
    {
      "cell_type": "markdown",
      "metadata": {
        "id": "OoCVY9zMhavr",
        "colab_type": "text"
      },
      "source": [
        "``replace()``関数は新しい文字列を返し、すべての入力を置き換えます：\n",
        "\n",
        "The ``replace()`` function returns a new string, and will replace all occurrences of the input:"
      ]
    },
    {
      "cell_type": "code",
      "metadata": {
        "id": "rw9U3i1ghavr",
        "colab_type": "code",
        "colab": {},
        "outputId": "643aeb74-8787-478d-9bc3-d56492a71036"
      },
      "source": [
        "line.replace('o', '--')"
      ],
      "execution_count": 0,
      "outputs": [
        {
          "output_type": "execute_result",
          "data": {
            "text/plain": [
              "'the quick br--wn f--x jumped --ver a lazy d--g'"
            ]
          },
          "metadata": {
            "tags": []
          },
          "execution_count": 26
        }
      ]
    },
    {
      "cell_type": "markdown",
      "metadata": {
        "id": "xI9r-9-0havt",
        "colab_type": "text"
      },
      "source": [
        "この ``replace()``機能へのより柔軟なアプローチについては、[正規表現による柔軟なパターンマッチング](＃Flexible-Pattern-Matching-with-Regular-Expressions)の正規表現の説明を参照してください。\n",
        "\n",
        "For a more flexible approach to this ``replace()`` functionality, see the discussion of regular expressions in [Flexible Pattern Matching with Regular Expressions](#Flexible-Pattern-Matching-with-Regular-Expressions)."
      ]
    },
    {
      "cell_type": "markdown",
      "metadata": {
        "id": "uppKfQHlhavu",
        "colab_type": "text"
      },
      "source": [
        "###文字列の分割と分割\n",
        "\n",
        "部分文字列を検索し、その位置に基づいて文字列を分割する場合は、``partition()``または``split()``メソッドが探しているものです。\n",
        "どちらも部分文字列のシーケンスを返します。\n",
        "\n",
        "``partition()``メソッドは3つの要素を持つタプルを返します：分割ポイントの最初のインスタンスの前の部分文字列、分割ポイント自体、そしてその後の部分文字列：\n",
        "\n",
        "\n",
        "### Splitting and partitioning strings\n",
        "\n",
        "If you would like to find a substring *and then* split the string based on its location, the ``partition()`` and/or ``split()`` methods are what you're looking for.\n",
        "Both will return a sequence of substrings.\n",
        "\n",
        "The ``partition()`` method returns a tuple with three elements: the substring before the first instance of the split-point, the split-point itself, and the substring after:"
      ]
    },
    {
      "cell_type": "code",
      "metadata": {
        "id": "lbQs3wNzhavu",
        "colab_type": "code",
        "colab": {},
        "outputId": "e895574a-4802-41d8-c7fd-3607e44e35b1"
      },
      "source": [
        "line.partition('fox')"
      ],
      "execution_count": 0,
      "outputs": [
        {
          "output_type": "execute_result",
          "data": {
            "text/plain": [
              "('the quick brown ', 'fox', ' jumped over a lazy dog')"
            ]
          },
          "metadata": {
            "tags": []
          },
          "execution_count": 27
        }
      ]
    },
    {
      "cell_type": "markdown",
      "metadata": {
        "id": "MEjy2l7dhavw",
        "colab_type": "text"
      },
      "source": [
        "``rpartition()``メソッドも同様ですが、文字列の右側から検索します。\n",
        "\n",
        "``split()``メソッドはおそらくもっと便利です。 分割ポイントの **すべての** インスタンスを見つけ、その間の部分文字列を返します。\n",
        "デフォルトでは、空白で分割され、文字列内の個々の単語のリストが返されます。\n",
        "\n",
        "The ``rpartition()`` method is similar, but searches from the right of the string.\n",
        "\n",
        "The ``split()`` method is perhaps more useful; it finds *all* instances of the split-point and returns the substrings in between.\n",
        "The default is to split on any whitespace, returning a list of the individual words in a string:"
      ]
    },
    {
      "cell_type": "code",
      "metadata": {
        "id": "DWebhUjShavx",
        "colab_type": "code",
        "colab": {},
        "outputId": "b519eccb-4128-4025-dd1e-a92563094eab"
      },
      "source": [
        "line.split()"
      ],
      "execution_count": 0,
      "outputs": [
        {
          "output_type": "execute_result",
          "data": {
            "text/plain": [
              "['the', 'quick', 'brown', 'fox', 'jumped', 'over', 'a', 'lazy', 'dog']"
            ]
          },
          "metadata": {
            "tags": []
          },
          "execution_count": 28
        }
      ]
    },
    {
      "cell_type": "markdown",
      "metadata": {
        "id": "0WuLsdg4havz",
        "colab_type": "text"
      },
      "source": [
        "関連するメソッドは ``splitlines()``で、改行文字で分割されます。17世紀の詩人である松尾芭蕉によく知られている俳句を使ってみましょう。\n",
        "\n",
        "A related method is ``splitlines()``, which splits on newline characters.\n",
        "Let's do this with a Haiku, popularly attributed to the 17th-century poet Matsuo Bashō:"
      ]
    },
    {
      "cell_type": "code",
      "metadata": {
        "id": "cVhjtLNGhavz",
        "colab_type": "code",
        "colab": {},
        "outputId": "c605ded7-9742-40fc-fe9a-907204defa67"
      },
      "source": [
        "haiku = \"\"\"matsushima-ya\n",
        "aah matsushima-ya\n",
        "matsushima-ya\"\"\"\n",
        "\n",
        "haiku.splitlines()"
      ],
      "execution_count": 0,
      "outputs": [
        {
          "output_type": "execute_result",
          "data": {
            "text/plain": [
              "['matsushima-ya', 'aah matsushima-ya', 'matsushima-ya']"
            ]
          },
          "metadata": {
            "tags": []
          },
          "execution_count": 29
        }
      ]
    },
    {
      "cell_type": "markdown",
      "metadata": {
        "id": "EOSUHWimhav1",
        "colab_type": "text"
      },
      "source": [
        "``split()``を元に戻したい場合は、 ``join()``メソッドを使用できます。これは、スプリットポイントと反復可能オブジェクトから構築された文字列を返します：\n",
        "\n",
        "Note that if you would like to undo a ``split()``, you can use the ``join()`` method, which returns a string built from a splitpoint and an iterable:"
      ]
    },
    {
      "cell_type": "code",
      "metadata": {
        "id": "IjCX2UHkhav1",
        "colab_type": "code",
        "colab": {},
        "outputId": "344582f8-9a5d-45a2-f521-1ba14e8ce75a"
      },
      "source": [
        "'--'.join(['1', '2', '3'])"
      ],
      "execution_count": 0,
      "outputs": [
        {
          "output_type": "execute_result",
          "data": {
            "text/plain": [
              "'1--2--3'"
            ]
          },
          "metadata": {
            "tags": []
          },
          "execution_count": 30
        }
      ]
    },
    {
      "cell_type": "code",
      "metadata": {
        "id": "prNxiwIIxnNa",
        "colab_type": "code",
        "colab": {
          "base_uri": "https://localhost:8080/",
          "height": 34
        },
        "outputId": "66292584-00c8-472a-a3ee-28792a7f6af9"
      },
      "source": [
        "print(\"\\t\".join(['aaaa','bbbb','cccc']))"
      ],
      "execution_count": 6,
      "outputs": [
        {
          "output_type": "stream",
          "text": [
            "aaaa\tbbbb\tcccc\n"
          ],
          "name": "stdout"
        }
      ]
    },
    {
      "cell_type": "markdown",
      "metadata": {
        "id": "izZoym19hav3",
        "colab_type": "text"
      },
      "source": [
        "一般的なパターンは、特殊文字 `` \"\\ n\" ``（改行）を使用して、以前に分割された行を結合し、入力を回復することです。\n",
        "\n",
        "A common pattern is to use the special character ``\"\\n\"`` (newline) to join together lines that have been previously split, and recover the input:"
      ]
    },
    {
      "cell_type": "code",
      "metadata": {
        "id": "J7GthgGZhav3",
        "colab_type": "code",
        "colab": {},
        "outputId": "ffe40f88-a440-4714-c4b8-c059cddbd096"
      },
      "source": [
        "print(\"\\n\".join(['matsushima-ya', 'aah matsushima-ya', 'matsushima-ya']))"
      ],
      "execution_count": 0,
      "outputs": [
        {
          "output_type": "stream",
          "text": [
            "matsushima-ya\n",
            "aah matsushima-ya\n",
            "matsushima-ya\n"
          ],
          "name": "stdout"
        }
      ]
    },
    {
      "cell_type": "markdown",
      "metadata": {
        "id": "-FqpyqHPhav6",
        "colab_type": "text"
      },
      "source": [
        "##フォーマット文字列\n",
        "\n",
        "これまでの方法では、文字列から値を抽出する方法と、文字列自体を目的の形式に操作する方法を学びました。文字列メソッドのもう1つの用途は、他のタイプの値の文字列 **表現** を操作することです。もちろん、文字列表現は常に ``str()``関数を使用して見つけることができます。 例えば：\n",
        "\n",
        "## Format Strings\n",
        "\n",
        "In the preceding methods, we have learned how to extract values from strings, and to manipulate strings themselves into desired formats.\n",
        "Another use of string methods is to manipulate string *representations* of values of other types.\n",
        "Of course, string representations can always be found using the ``str()`` function; for example:"
      ]
    },
    {
      "cell_type": "code",
      "metadata": {
        "id": "TlrNx0oRhav6",
        "colab_type": "code",
        "colab": {
          "base_uri": "https://localhost:8080/",
          "height": 34
        },
        "outputId": "0415cbf9-b1ca-400a-ba55-50cef9fbd349"
      },
      "source": [
        "pi = 3.14159\n",
        "str(pi)"
      ],
      "execution_count": 7,
      "outputs": [
        {
          "output_type": "execute_result",
          "data": {
            "text/plain": [
              "'3.14159'"
            ]
          },
          "metadata": {
            "tags": []
          },
          "execution_count": 7
        }
      ]
    },
    {
      "cell_type": "markdown",
      "metadata": {
        "id": "suHlLEBbhav-",
        "colab_type": "text"
      },
      "source": [
        "より複雑な形式の場合、[基本的なPythonセマンティクス：演算子](04-Semantics-Operators.ipynb)で説明されているように、文字列演算を使用したくなるかもしれません。\n",
        "\n",
        "For more complicated formats, you might be tempted to use string arithmetic as outlined in [Basic Python Semantics: Operators](04-Semantics-Operators.ipynb):"
      ]
    },
    {
      "cell_type": "code",
      "metadata": {
        "id": "e_vwWPQshav_",
        "colab_type": "code",
        "colab": {},
        "outputId": "040bef79-bf1c-4b83-eb23-3e2c68c1da17"
      },
      "source": [
        "\"The value of pi is \" + str(pi)"
      ],
      "execution_count": 0,
      "outputs": [
        {
          "output_type": "execute_result",
          "data": {
            "text/plain": [
              "'The value of pi is 3.14159'"
            ]
          },
          "metadata": {
            "tags": []
          },
          "execution_count": 33
        }
      ]
    },
    {
      "cell_type": "markdown",
      "metadata": {
        "id": "JvAUud7ihawB",
        "colab_type": "text"
      },
      "source": [
        "これを行うためのより柔軟な方法は、**フォーマット文字列**を使用することです。これは、文字列形式の値が挿入される特別なマーカー（中括弧で示されます）が付いた文字列です。\n",
        "基本的な例を次に示します。\n",
        "\n",
        "A more flexible way to do this is to use *format strings*, which are strings with special markers (noted by curly braces) into which string-formatted values will be inserted.\n",
        "Here is a basic example:"
      ]
    },
    {
      "cell_type": "code",
      "metadata": {
        "id": "1J6caw7EhawB",
        "colab_type": "code",
        "colab": {},
        "outputId": "731cf54e-c88b-4e38-d34b-150d1d39424b"
      },
      "source": [
        "\"The value of pi is {}\".format(pi)"
      ],
      "execution_count": 0,
      "outputs": [
        {
          "output_type": "execute_result",
          "data": {
            "text/plain": [
              "'The value of pi is 3.14159'"
            ]
          },
          "metadata": {
            "tags": []
          },
          "execution_count": 34
        }
      ]
    },
    {
      "cell_type": "markdown",
      "metadata": {
        "id": "FV_Ko9rhhawE",
        "colab_type": "text"
      },
      "source": [
        "`` {} ``マーカー内には、そこに表示したい*何*かに関する情報を含めることもできます。\n",
        "数値を含める場合、挿入する引数のインデックスを参照します。\n",
        "\n",
        "Inside the ``{}`` marker you can also include information on exactly *what* you would like to appear there.\n",
        "If you include a number, it will refer to the index of the argument to insert:"
      ]
    },
    {
      "cell_type": "code",
      "metadata": {
        "id": "BQdeBs4qhawE",
        "colab_type": "code",
        "colab": {},
        "outputId": "ea9a2942-dd7c-4654-9155-eb1ef1f438b6"
      },
      "source": [
        "\"\"\"First letter: {0}. Last letter: {1}.\"\"\".format('A', 'Z')"
      ],
      "execution_count": 0,
      "outputs": [
        {
          "output_type": "execute_result",
          "data": {
            "text/plain": [
              "'First letter: A. Last letter: Z.'"
            ]
          },
          "metadata": {
            "tags": []
          },
          "execution_count": 35
        }
      ]
    },
    {
      "cell_type": "markdown",
      "metadata": {
        "id": "TmwTBANmhawG",
        "colab_type": "text"
      },
      "source": [
        "文字列を含めると、キーワード引数のキーを参照します。\n",
        "\n",
        "If you include a string, it will refer to the key of any keyword argument:"
      ]
    },
    {
      "cell_type": "code",
      "metadata": {
        "id": "wd0LK_cwhawH",
        "colab_type": "code",
        "colab": {},
        "outputId": "85b964e1-b0f2-43ba-c32e-20222a423e27"
      },
      "source": [
        "\"\"\"First letter: {first}. Last letter: {last}.\"\"\".format(last='Z', first='A')"
      ],
      "execution_count": 0,
      "outputs": [
        {
          "output_type": "execute_result",
          "data": {
            "text/plain": [
              "'First letter: A. Last letter: Z.'"
            ]
          },
          "metadata": {
            "tags": []
          },
          "execution_count": 36
        }
      ]
    },
    {
      "cell_type": "markdown",
      "metadata": {
        "id": "VrPmAEHJhawK",
        "colab_type": "text"
      },
      "source": [
        "最後に、数値入力の場合、値を文字列に変換する方法を制御するフォーマットコードを含めることができます。\n",
        "たとえば、数値を小数点以下3桁の浮動小数点数として出力するには、以下を使用できます。\n",
        "\n",
        "Finally, for numerical inputs, you can include format codes which control how the value is converted to a string.\n",
        "For example, to print a number as a floating point with three digits after the decimal point, you can use the following:"
      ]
    },
    {
      "cell_type": "code",
      "metadata": {
        "id": "V-F-0ybjhawL",
        "colab_type": "code",
        "colab": {},
        "outputId": "675daca5-6afe-431a-e9a3-dcad4cde2378"
      },
      "source": [
        "\"pi = {0:.3f}\".format(pi)"
      ],
      "execution_count": 0,
      "outputs": [
        {
          "output_type": "execute_result",
          "data": {
            "text/plain": [
              "'pi = 3.142'"
            ]
          },
          "metadata": {
            "tags": []
          },
          "execution_count": 37
        }
      ]
    },
    {
      "cell_type": "markdown",
      "metadata": {
        "id": "x-QaD1l3hawN",
        "colab_type": "text"
      },
      "source": [
        "前と同じように、ここで\"``0``\"は挿入される値のインデックスを指します。\n",
        "\"``::``\"は、フォーマットコードが続くことを示します。\n",
        "\"``.3f``\"は必要な精度をエンコードします：小数点を超える3桁の浮動小数点形式です。\n",
        "\n",
        "このフォーマット指定のスタイルは非常に柔軟であり、ここでの例は、使用可能なフォーマットオプションの表面をかろうじて引っ掻きます。\n",
        "これらのフォーマット文字列の構文の詳細については、Pythonのオンラインドキュメントの[フォーマット仕様](https://docs.python.org/3/library/string.html#formatspec)セクションを参照してください。\n",
        "\n",
        "As before, here the \"``0``\" refers to the index of the value to be inserted.\n",
        "The \"``:``\" marks that format codes will follow.\n",
        "The \"``.3f``\" encodes the desired precision: three digits beyond the decimal point, floating-point format.\n",
        "\n",
        "This style of format specification is very flexible, and the examples here barely scratch the surface of the formatting options available.\n",
        "For more information on the syntax of these format strings, see the [Format Specification](https://docs.python.org/3/library/string.html#formatspec) section of Python's online documentation."
      ]
    },
    {
      "cell_type": "markdown",
      "metadata": {
        "id": "YepWraK7hawN",
        "colab_type": "text"
      },
      "source": [
        "##正規表現による柔軟なパターンマッチング\n",
        "\n",
        "Pythonの `` str``型のメソッドは、文字列データをフォーマット、分割、操作するための強力なツールセットを提供します。\n",
        "しかし、Pythonの組み込み **正規表現** モジュールでは、さらに強力なツールを利用できます。\n",
        "正規表現は大きなトピックです。このトピックについて書かれた本はすべてある（Jeffrey EF Friedlの[ **Mastering Regular Expressions、3rd Edition** ](http://shop.oreilly.com/product/9780596528126.do)を含む）ので、それは難しいでしょう単一のサブセクション内で正義を行います。\n",
        "\n",
        "ここでの私の目標は、正規表現を使用して対処できる問題のタイプと、それらをPythonで使用する方法の基本的な考え方を説明することです。\n",
        "[正規表現に関するその他のリソース](#Further-Resources-on-Regular-Expressions)でさらに学習するための参照をいくつか提案します。\n",
        "\n",
        "基本的に、正規表現は文字列の**柔軟なパターンマッチング**の手段です。\n",
        "コマンドラインを頻繁に使用する場合、ワイルドカードとして機能する\"``*``\"文字を使用したこのタイプの柔軟なマッチングに慣れていると思います。\n",
        "たとえば、ファイル名に \"Python\" が含まれるすべてのIPythonノートブック（拡張子が**.ipynb**のファイル）を一覧表示するには、 \"``*``\" ワイルドカードを使用して、次の文字を照合します。\n",
        "\n",
        "## Flexible Pattern Matching with Regular Expressions\n",
        "\n",
        "The methods of Python's ``str`` type give you a powerful set of tools for formatting, splitting, and manipulating string data.\n",
        "But even more powerful tools are available in Python's built-in *regular expression* module.\n",
        "Regular expressions are a huge topic; there are there are entire books written on the topic (including Jeffrey E.F. Friedl’s [*Mastering Regular Expressions, 3rd Edition*](http://shop.oreilly.com/product/9780596528126.do)), so it will be hard to do justice within just a single subsection.\n",
        "\n",
        "My goal here is to give you an idea of the types of problems that might be addressed using regular expressions, as well as a basic idea of how to use them in Python.\n",
        "I'll suggest some references for learning more in [Further Resources on Regular Expressions](#Further-Resources-on-Regular-Expressions).\n",
        "\n",
        "Fundamentally, regular expressions are a means of *flexible pattern matching* in strings.\n",
        "If you frequently use the command-line, you are probably familiar with this type of flexible matching with the \"``*``\" character, which acts as a wildcard.\n",
        "For example, we can list all the IPython notebooks (i.e., files with extension *.ipynb*) with \"Python\" in their filename by using the \"``*``\" wildcard to match any characters in between:"
      ]
    },
    {
      "cell_type": "code",
      "metadata": {
        "id": "ewT4uoA0hawN",
        "colab_type": "code",
        "colab": {},
        "outputId": "56698970-cd9f-400f-e0a4-9753a3796091"
      },
      "source": [
        "!ls *Python*.ipynb"
      ],
      "execution_count": 0,
      "outputs": [
        {
          "output_type": "stream",
          "text": [
            "01-How-to-Run-Python-Code.ipynb 02-Basic-Python-Syntax.ipynb\r\n"
          ],
          "name": "stdout"
        }
      ]
    },
    {
      "cell_type": "markdown",
      "metadata": {
        "id": "H7U8OHDJhawP",
        "colab_type": "text"
      },
      "source": [
        "正規表現は、この「ワイルドカード」の考えを、柔軟な文字列マッチング構文の広い範囲に一般化します。\n",
        "\n",
        "正規表現へのPythonインターフェースは組み込みの `` re``モジュールに含まれています。 簡単な例として、それを使って文字列 `` split() ``メソッドの機能を複製しましょう：\n",
        "\n",
        "Regular expressions generalize this \"wildcard\" idea to a wide range of flexible string-matching sytaxes.\n",
        "The Python interface to regular expressions is contained in the built-in ``re`` module; as a simple example, let's use it to duplicate the functionality of the string ``split()`` method:"
      ]
    },
    {
      "cell_type": "code",
      "metadata": {
        "id": "F0VoPgUghawQ",
        "colab_type": "code",
        "colab": {},
        "outputId": "7166e867-fff4-40f5-8706-3dd3572749b1"
      },
      "source": [
        "import re\n",
        "regex = re.compile('\\s+')\n",
        "regex.split(line)"
      ],
      "execution_count": 0,
      "outputs": [
        {
          "output_type": "execute_result",
          "data": {
            "text/plain": [
              "['the', 'quick', 'brown', 'fox', 'jumped', 'over', 'a', 'lazy', 'dog']"
            ]
          },
          "metadata": {
            "tags": []
          },
          "execution_count": 39
        }
      ]
    },
    {
      "cell_type": "markdown",
      "metadata": {
        "id": "WNf4zyVVhawS",
        "colab_type": "text"
      },
      "source": [
        "ここでは、まず正規表現を**コンパイル**してから、それを使用して文字列を**分割**しました。\n",
        "Pythonの `` split（） ``メソッドが空白の間のすべての部分文字列のリストを返すのと同じように、正規表現 `` split（） ``メソッドは、入力パターンに一致するすべての部分文字列のリストを返します。\n",
        "\n",
        "この場合、入力は `` \"\\ s +\" ``です： \"``\\ s``\"は空白（スペース、タブ、改行など）に一致する特殊文字で、 \"``+``\"は、その前にあるエンティティの**1つ以上**を示す文字です。\n",
        "したがって、正規表現は、1つ以上のスペースで構成される部分文字列に一致します。\n",
        "\n",
        "ここでの `` split（） ``メソッドは、基本的にこの*パターンマッチング*動作に基づいて構築された便利なルーチンです。 より基本的なのは `` match（） ``メソッドで、文字列の先頭がパターンに一致するかどうかを教えてくれます：\n",
        "\n",
        "Here we've first *compiled* a regular expression, then used it to *split* a string.\n",
        "Just as Python's ``split()`` method returns a list of all substrings between whitespace, the regular expression ``split()`` method returns a list of all substrings between matches to the input pattern.\n",
        "\n",
        "In this case, the input is ``\"\\s+\"``: \"``\\s``\" is a special character that matches any whitespace (space, tab, newline, etc.), and the \"``+``\" is a character that indicates *one or more* of the entity preceding it.\n",
        "Thus, the regular expression matches any substring consisting of one or more spaces.\n",
        "\n",
        "The ``split()`` method here is basically a convenience routine built upon this *pattern matching* behavior; more fundamental is the ``match()`` method, which will tell you whether the beginning of a string matches the pattern:"
      ]
    },
    {
      "cell_type": "code",
      "metadata": {
        "id": "p8MJVPWlhawT",
        "colab_type": "code",
        "colab": {},
        "outputId": "710d2468-cb54-40bc-e031-993a43424031"
      },
      "source": [
        "for s in [\"     \", \"abc  \", \"  abc\"]:\n",
        "    if regex.match(s):\n",
        "        print(repr(s), \"matches\")\n",
        "    else:\n",
        "        print(repr(s), \"does not match\")"
      ],
      "execution_count": 0,
      "outputs": [
        {
          "output_type": "stream",
          "text": [
            "'     ' matches\n",
            "'abc  ' does not match\n",
            "'  abc' matches\n"
          ],
          "name": "stdout"
        }
      ]
    },
    {
      "cell_type": "markdown",
      "metadata": {
        "id": "b6p9FBAJhawV",
        "colab_type": "text"
      },
      "source": [
        "`` split() ``と同様に、最初の一致を見つける（ `` str.index() ``や `` str.find() ``など）、または検索して置換する（ `` str.replace()``）。\n",
        "前の行を再び使用します。\n",
        "\n",
        "Like ``split()``, there are similar convenience routines to find the first match (like ``str.index()`` or ``str.find()``) or to find and replace (like ``str.replace()``).\n",
        "We'll again use the line from before:"
      ]
    },
    {
      "cell_type": "code",
      "metadata": {
        "id": "GX_Nd0CqhawV",
        "colab_type": "code",
        "colab": {}
      },
      "source": [
        "line = 'the quick brown fox jumped over a lazy dog'"
      ],
      "execution_count": 0,
      "outputs": []
    },
    {
      "cell_type": "markdown",
      "metadata": {
        "id": "mTiMsCNqhawX",
        "colab_type": "text"
      },
      "source": [
        "これにより、``regex.search()``メソッドが``str.index()``または``str.find()``とよく似ていることがわかります：\n",
        "\n",
        "With this, we can see that the ``regex.search()`` method operates a lot like ``str.index()`` or ``str.find()``:"
      ]
    },
    {
      "cell_type": "code",
      "metadata": {
        "id": "Ubyo_xoUhawX",
        "colab_type": "code",
        "colab": {},
        "outputId": "1ace0a17-23e7-446e-a4d9-94a3610957c9"
      },
      "source": [
        "line.index('fox')"
      ],
      "execution_count": 0,
      "outputs": [
        {
          "output_type": "execute_result",
          "data": {
            "text/plain": [
              "16"
            ]
          },
          "metadata": {
            "tags": []
          },
          "execution_count": 42
        }
      ]
    },
    {
      "cell_type": "code",
      "metadata": {
        "id": "jhTG8Oglhawa",
        "colab_type": "code",
        "colab": {},
        "outputId": "585ebafd-a739-4f72-81ef-c9b6d354d27a"
      },
      "source": [
        "regex = re.compile('fox')\n",
        "match = regex.search(line)\n",
        "match.start()"
      ],
      "execution_count": 0,
      "outputs": [
        {
          "output_type": "execute_result",
          "data": {
            "text/plain": [
              "16"
            ]
          },
          "metadata": {
            "tags": []
          },
          "execution_count": 43
        }
      ]
    },
    {
      "cell_type": "markdown",
      "metadata": {
        "id": "_NQ6IMmRhawb",
        "colab_type": "text"
      },
      "source": [
        "同様に、 `` regex.sub() ``メソッドは `` str.replace() ``のように動作します：\n",
        "\n",
        "Similarly, the ``regex.sub()`` method operates much like ``str.replace()``:"
      ]
    },
    {
      "cell_type": "code",
      "metadata": {
        "id": "UAAiOLnUhawb",
        "colab_type": "code",
        "colab": {},
        "outputId": "02e6230b-095c-4815-9190-cc0a262f7204"
      },
      "source": [
        "line.replace('fox', 'BEAR')"
      ],
      "execution_count": 0,
      "outputs": [
        {
          "output_type": "execute_result",
          "data": {
            "text/plain": [
              "'the quick brown BEAR jumped over a lazy dog'"
            ]
          },
          "metadata": {
            "tags": []
          },
          "execution_count": 44
        }
      ]
    },
    {
      "cell_type": "code",
      "metadata": {
        "id": "-d0r5pChhawe",
        "colab_type": "code",
        "colab": {},
        "outputId": "7360a531-744e-45e7-ab82-e1201f9cda5a"
      },
      "source": [
        "regex.sub('BEAR', line)"
      ],
      "execution_count": 0,
      "outputs": [
        {
          "output_type": "execute_result",
          "data": {
            "text/plain": [
              "'the quick brown BEAR jumped over a lazy dog'"
            ]
          },
          "metadata": {
            "tags": []
          },
          "execution_count": 45
        }
      ]
    },
    {
      "cell_type": "markdown",
      "metadata": {
        "id": "LmjSJIJhhawg",
        "colab_type": "text"
      },
      "source": [
        "With a bit of thought, other native string operations can also be cast as regular expressions."
      ]
    },
    {
      "cell_type": "markdown",
      "metadata": {
        "id": "s300Ba9Nhawg",
        "colab_type": "text"
      },
      "source": [
        "### A more sophisticated example\n",
        "\n",
        "But, you might ask, why would you want to use the more complicated and verbose syntax of regular expressions rather than the more intuitive and simple string methods?\n",
        "The advantage is that regular expressions offer *far* more flexibility.\n",
        "\n",
        "Here we'll consider a more complicated example: the common task of matching email addresses.\n",
        "I'll start by simply writing a (somewhat indecipherable) regular expression, and then walk through what is going on.\n",
        "Here it goes:"
      ]
    },
    {
      "cell_type": "code",
      "metadata": {
        "collapsed": true,
        "id": "3_b_MYy2hawg",
        "colab_type": "code",
        "colab": {}
      },
      "source": [
        "email = re.compile('\\w+@\\w+\\.[a-z]{3}')"
      ],
      "execution_count": 0,
      "outputs": []
    },
    {
      "cell_type": "markdown",
      "metadata": {
        "id": "sWkq23qDhawl",
        "colab_type": "text"
      },
      "source": [
        "Using this, if we're given a line from a document, we can quickly extract things that look like email addresses"
      ]
    },
    {
      "cell_type": "code",
      "metadata": {
        "id": "RSDZye8khawm",
        "colab_type": "code",
        "colab": {},
        "outputId": "17727271-0144-4c8e-d29c-02b411501cca"
      },
      "source": [
        "text = \"To email Guido, try guido@python.org or the older address guido@google.com.\"\n",
        "email.findall(text)"
      ],
      "execution_count": 0,
      "outputs": [
        {
          "output_type": "execute_result",
          "data": {
            "text/plain": [
              "['guido@python.org', 'guido@google.com']"
            ]
          },
          "metadata": {
            "tags": []
          },
          "execution_count": 47
        }
      ]
    },
    {
      "cell_type": "markdown",
      "metadata": {
        "id": "e6aBEIJkhawo",
        "colab_type": "text"
      },
      "source": [
        "(Note that these addresses are entirely made up; there are probably better ways to get in touch with Guido).\n",
        "\n",
        "We can do further operations, like replacing these email addresses with another string, perhaps to hide addresses in the output:"
      ]
    },
    {
      "cell_type": "code",
      "metadata": {
        "id": "gXiaYoclhawp",
        "colab_type": "code",
        "colab": {},
        "outputId": "899a9f83-e923-4f78-b04a-7372e4d6e213"
      },
      "source": [
        "email.sub('--@--.--', text)"
      ],
      "execution_count": 0,
      "outputs": [
        {
          "output_type": "execute_result",
          "data": {
            "text/plain": [
              "'To email Guido, try --@--.-- or the older address --@--.--.'"
            ]
          },
          "metadata": {
            "tags": []
          },
          "execution_count": 48
        }
      ]
    },
    {
      "cell_type": "markdown",
      "metadata": {
        "id": "ytpLgASLhawq",
        "colab_type": "text"
      },
      "source": [
        "Finally, note that if you really want to match *any* email address, the preceding regular expression is far too simple.\n",
        "For example, it only allows addresses made of alphanumeric characters that end in one of several common domain suffixes.\n",
        "So, for example, the period used here means that we only find part of the address:"
      ]
    },
    {
      "cell_type": "code",
      "metadata": {
        "id": "w6_zOF4Mhawq",
        "colab_type": "code",
        "colab": {},
        "outputId": "4e990bb3-3d7b-4371-e5a5-c1332ff2e8a0"
      },
      "source": [
        "email.findall('barack.obama@whitehouse.gov')"
      ],
      "execution_count": 0,
      "outputs": [
        {
          "output_type": "execute_result",
          "data": {
            "text/plain": [
              "['obama@whitehouse.gov']"
            ]
          },
          "metadata": {
            "tags": []
          },
          "execution_count": 49
        }
      ]
    },
    {
      "cell_type": "markdown",
      "metadata": {
        "id": "NPTu8nT-hawt",
        "colab_type": "text"
      },
      "source": [
        "This goes to show how unforgiving regular expressions can be if you're not careful!\n",
        "If you search around online, you can find some suggestions for regular expressions that will match *all* valid emails, but beware: they are much more involved than the simple expression used here!"
      ]
    },
    {
      "cell_type": "markdown",
      "metadata": {
        "id": "q7ql1lFKhawt",
        "colab_type": "text"
      },
      "source": [
        "### Basics of regular expression syntax\n",
        "\n",
        "The syntax of regular expressions is much too large a topic for this short section.\n",
        "Still, a bit of familiarity can go a long way: I will walk through some of the basic constructs here, and then list some more complete resources from which you can learn more.\n",
        "My hope is that the following quick primer will enable you to use these resources effectively."
      ]
    },
    {
      "cell_type": "markdown",
      "metadata": {
        "id": "i1A5Y0fDhawu",
        "colab_type": "text"
      },
      "source": [
        "#### Simple strings are matched directly\n",
        "\n",
        "If you build a regular expression on a simple string of characters or digits, it will match that exact string:"
      ]
    },
    {
      "cell_type": "code",
      "metadata": {
        "id": "pRxQuNO7hawv",
        "colab_type": "code",
        "colab": {},
        "outputId": "fb20c0aa-3ca1-496b-d807-92203532388f"
      },
      "source": [
        "regex = re.compile('ion')\n",
        "regex.findall('Great Expectations')"
      ],
      "execution_count": 0,
      "outputs": [
        {
          "output_type": "execute_result",
          "data": {
            "text/plain": [
              "['ion']"
            ]
          },
          "metadata": {
            "tags": []
          },
          "execution_count": 50
        }
      ]
    },
    {
      "cell_type": "markdown",
      "metadata": {
        "id": "w09SmIxMhawx",
        "colab_type": "text"
      },
      "source": [
        "#### Some characters have special meanings\n",
        "\n",
        "While simple letters or numbers are direct matches, there are a handful of characters that have special meanings within regular expressions. They are:\n",
        "```\n",
        ". ^ $ * + ? { } [ ] \\ | ( )\n",
        "```\n",
        "We will discuss the meaning of some of these momentarily.\n",
        "In the meantime, you should know that if you'd like to match any of these characters directly, you can *escape* them with a back-slash:"
      ]
    },
    {
      "cell_type": "code",
      "metadata": {
        "id": "EMXhG7JChawx",
        "colab_type": "code",
        "colab": {},
        "outputId": "fc5a2c6e-4e26-4fdc-8e72-b4658dc7cc57"
      },
      "source": [
        "regex = re.compile(r'\\$')\n",
        "regex.findall(\"the cost is $20\")"
      ],
      "execution_count": 0,
      "outputs": [
        {
          "output_type": "execute_result",
          "data": {
            "text/plain": [
              "['$']"
            ]
          },
          "metadata": {
            "tags": []
          },
          "execution_count": 51
        }
      ]
    },
    {
      "cell_type": "markdown",
      "metadata": {
        "id": "9Lau9s_Rhawz",
        "colab_type": "text"
      },
      "source": [
        "The ``r`` preface in ``r'\\$'`` indicates a *raw string*; in standard Python strings, the backslash is used to indicate special characters.\n",
        "For example, a tab is indicated by ``\"\\t\"``:"
      ]
    },
    {
      "cell_type": "code",
      "metadata": {
        "id": "yoXRza38hawz",
        "colab_type": "code",
        "colab": {},
        "outputId": "57379505-544a-45aa-bc1b-abad36ca993b"
      },
      "source": [
        "print('a\\tb\\tc')"
      ],
      "execution_count": 0,
      "outputs": [
        {
          "output_type": "stream",
          "text": [
            "a\tb\tc\n"
          ],
          "name": "stdout"
        }
      ]
    },
    {
      "cell_type": "markdown",
      "metadata": {
        "id": "E1AR63Olhaw1",
        "colab_type": "text"
      },
      "source": [
        "Such substitutions are not made in a raw string:"
      ]
    },
    {
      "cell_type": "code",
      "metadata": {
        "id": "VDUvA0Ubhaw1",
        "colab_type": "code",
        "colab": {},
        "outputId": "bc97f044-b3b6-4607-bd17-f2983c777669"
      },
      "source": [
        "print(r'a\\tb\\tc')"
      ],
      "execution_count": 0,
      "outputs": [
        {
          "output_type": "stream",
          "text": [
            "a\\tb\\tc\n"
          ],
          "name": "stdout"
        }
      ]
    },
    {
      "cell_type": "markdown",
      "metadata": {
        "id": "SwiPDUmzhaw3",
        "colab_type": "text"
      },
      "source": [
        "For this reason, whenever you use backslashes in a regular expression, it is good practice to use a raw string."
      ]
    },
    {
      "cell_type": "markdown",
      "metadata": {
        "id": "HYY08WfMhaw3",
        "colab_type": "text"
      },
      "source": [
        "#### Special characters can match character groups\n",
        "\n",
        "Just as the ``\"\\\"`` character within regular expressions can escape special characters, turning them into normal characters, it can also be used to give normal characters special meaning.\n",
        "These special characters match specified groups of characters, and we've seen them before.\n",
        "In the email address regexp from before, we used the character ``\"\\w\"``, which is a special marker matching *any alphanumeric character*. Similarly, in the simple ``split()`` example, we also saw ``\"\\s\"``, a special marker indicating *any whitespace character*.\n",
        "\n",
        "Putting these together, we can create a regular expression that will match *any two letters/digits with whitespace between them*:"
      ]
    },
    {
      "cell_type": "code",
      "metadata": {
        "id": "JZSWOkk-haw4",
        "colab_type": "code",
        "colab": {},
        "outputId": "e4f83f66-65c3-49ea-a0a5-bd65e4e95beb"
      },
      "source": [
        "regex = re.compile(r'\\w\\s\\w')\n",
        "regex.findall('the fox is 9 years old')"
      ],
      "execution_count": 0,
      "outputs": [
        {
          "output_type": "execute_result",
          "data": {
            "text/plain": [
              "['e f', 'x i', 's 9', 's o']"
            ]
          },
          "metadata": {
            "tags": []
          },
          "execution_count": 54
        }
      ]
    },
    {
      "cell_type": "markdown",
      "metadata": {
        "id": "eAI8RuxShaw6",
        "colab_type": "text"
      },
      "source": [
        "This example begins to hint at the power and flexibility of regular expressions."
      ]
    },
    {
      "cell_type": "markdown",
      "metadata": {
        "id": "HK-uYHAmhaw6",
        "colab_type": "text"
      },
      "source": [
        "The following table lists a few of these characters that are commonly useful:\n",
        "\n",
        "| Character | Description                 || Character | Description                     |\n",
        "|-----------|-----------------------------||-----------|---------------------------------|\n",
        "| ``\"\\d\"``  | Match any digit             || ``\"\\D\"``  | Match any non-digit             |\n",
        "| ``\"\\s\"``  | Match any whitespace        || ``\"\\S\"``  | Match any non-whitespace        |\n",
        "| ``\"\\w\"``  | Match any alphanumeric char || ``\"\\W\"``  | Match any non-alphanumeric char |\n",
        "\n",
        "This is *not* a comprehensive list or description; for more details, see Python's [regular expression syntax documentation](https://docs.python.org/3/library/re.html#re-syntax)."
      ]
    },
    {
      "cell_type": "markdown",
      "metadata": {
        "id": "TlFgIpphhaw6",
        "colab_type": "text"
      },
      "source": [
        "#### Square brackets match custom character groups\n",
        "\n",
        "If the built-in character groups aren't specific enough for you, you can use square brackets to specify any set of characters you're interested in.\n",
        "For example, the following will match any lower-case vowel:"
      ]
    },
    {
      "cell_type": "code",
      "metadata": {
        "id": "iw6oL-DHhaw7",
        "colab_type": "code",
        "colab": {},
        "outputId": "e96b8281-43b0-49d4-8ddf-a125ccc524b2"
      },
      "source": [
        "regex = re.compile('[aeiou]')\n",
        "regex.split('consequential')"
      ],
      "execution_count": 0,
      "outputs": [
        {
          "output_type": "execute_result",
          "data": {
            "text/plain": [
              "['c', 'ns', 'q', '', 'nt', '', 'l']"
            ]
          },
          "metadata": {
            "tags": []
          },
          "execution_count": 55
        }
      ]
    },
    {
      "cell_type": "markdown",
      "metadata": {
        "id": "U0WiDBdQhaw8",
        "colab_type": "text"
      },
      "source": [
        "Similarly, you can use a dash to specify a range: for example, ``\"[a-z]\"`` will match any lower-case letter, and ``\"[1-3]\"`` will match any of ``\"1\"``, ``\"2\"``, or ``\"3\"``.\n",
        "For instance, you may need to extract from a document specific numerical codes that consist of a capital letter followed by a digit. You could do this as follows:"
      ]
    },
    {
      "cell_type": "code",
      "metadata": {
        "id": "OJDjDB2Uhaw9",
        "colab_type": "code",
        "colab": {},
        "outputId": "d43b91a8-2f21-46f9-a2c9-577373abf4bc"
      },
      "source": [
        "regex = re.compile('[A-Z][0-9]')\n",
        "regex.findall('1043879, G2, H6')"
      ],
      "execution_count": 0,
      "outputs": [
        {
          "output_type": "execute_result",
          "data": {
            "text/plain": [
              "['G2', 'H6']"
            ]
          },
          "metadata": {
            "tags": []
          },
          "execution_count": 56
        }
      ]
    },
    {
      "cell_type": "markdown",
      "metadata": {
        "id": "bzlzkmquhaw-",
        "colab_type": "text"
      },
      "source": [
        "#### Wildcards match repeated characters\n",
        "\n",
        "If you would like to match a string with, say, three alphanumeric characters in a row, it is possible to write, for example, ``\"\\w\\w\\w\"``.\n",
        "Because this is such a common need, there is a specific syntax to match repetitions – curly braces with a number:"
      ]
    },
    {
      "cell_type": "code",
      "metadata": {
        "id": "QB5zWLmGhaw_",
        "colab_type": "code",
        "colab": {},
        "outputId": "dc1524af-803e-4967-f8c6-36fa5a4fa059"
      },
      "source": [
        "regex = re.compile(r'\\w{3}')\n",
        "regex.findall('The quick brown fox')"
      ],
      "execution_count": 0,
      "outputs": [
        {
          "output_type": "execute_result",
          "data": {
            "text/plain": [
              "['The', 'qui', 'bro', 'fox']"
            ]
          },
          "metadata": {
            "tags": []
          },
          "execution_count": 57
        }
      ]
    },
    {
      "cell_type": "markdown",
      "metadata": {
        "id": "0yeItIdehaxA",
        "colab_type": "text"
      },
      "source": [
        "There are also markers available to match any number of repetitions – for example, the ``\"+\"`` character will match *one or more* repetitions of what precedes it:"
      ]
    },
    {
      "cell_type": "code",
      "metadata": {
        "id": "ZsL8SilthaxA",
        "colab_type": "code",
        "colab": {},
        "outputId": "a43b4f41-725b-4d91-bbba-2c00d9accb33"
      },
      "source": [
        "regex = re.compile(r'\\w+')\n",
        "regex.findall('The quick brown fox')"
      ],
      "execution_count": 0,
      "outputs": [
        {
          "output_type": "execute_result",
          "data": {
            "text/plain": [
              "['The', 'quick', 'brown', 'fox']"
            ]
          },
          "metadata": {
            "tags": []
          },
          "execution_count": 58
        }
      ]
    },
    {
      "cell_type": "markdown",
      "metadata": {
        "id": "ba37Z3vEhaxB",
        "colab_type": "text"
      },
      "source": [
        "The following is a table of the repetition markers available for use in regular expressions:\n",
        "\n",
        "| Character | Description | Example |\n",
        "|-----------|-------------|---------|\n",
        "| ``?`` | Match zero or one repetitions of preceding  | ``\"ab?\"`` matches ``\"a\"`` or ``\"ab\"`` |\n",
        "| ``*`` | Match zero or more repetitions of preceding | ``\"ab*\"`` matches ``\"a\"``, ``\"ab\"``, ``\"abb\"``, ``\"abbb\"``... |\n",
        "| ``+`` | Match one or more repetitions of preceding  | ``\"ab+\"`` matches ``\"ab\"``, ``\"abb\"``, ``\"abbb\"``... but not ``\"a\"`` |\n",
        "| ``{n}`` | Match ``n`` repetitions of preeeding | ``\"ab{2}\"`` matches ``\"abb\"`` |\n",
        "| ``{m,n}`` | Match between ``m`` and ``n`` repetitions of preceding | ``\"ab{2,3}\"`` matches ``\"abb\"`` or ``\"abbb\"`` |"
      ]
    },
    {
      "cell_type": "markdown",
      "metadata": {
        "id": "OZxR6xbAhaxC",
        "colab_type": "text"
      },
      "source": [
        "With these basics in mind, let's return to our email address matcher:"
      ]
    },
    {
      "cell_type": "code",
      "metadata": {
        "collapsed": true,
        "id": "TLhP0pXahaxC",
        "colab_type": "code",
        "colab": {}
      },
      "source": [
        "email = re.compile(r'\\w+@\\w+\\.[a-z]{3}')"
      ],
      "execution_count": 0,
      "outputs": []
    },
    {
      "cell_type": "markdown",
      "metadata": {
        "id": "F5uSEXCHhaxF",
        "colab_type": "text"
      },
      "source": [
        "We can now understand what this means: we want one or more alphanumeric character (``\"\\w+\"``) followed by the *at sign* (``\"@\"``), followed by one or more alphanumeric character (``\"\\w+\"``), followed by a period (``\"\\.\"`` – note the need for a backslash escape), followed by exactly three lower-case letters.\n",
        "\n",
        "If we want to now modify this so that the Obama email address matches, we can do so using the square-bracket notation:"
      ]
    },
    {
      "cell_type": "code",
      "metadata": {
        "id": "vOjxq1pHhaxG",
        "colab_type": "code",
        "colab": {},
        "outputId": "7d215293-4841-4dc8-e0b4-3773ac54119b"
      },
      "source": [
        "email2 = re.compile(r'[\\w.]+@\\w+\\.[a-z]{3}')\n",
        "email2.findall('barack.obama@whitehouse.gov')"
      ],
      "execution_count": 0,
      "outputs": [
        {
          "output_type": "execute_result",
          "data": {
            "text/plain": [
              "['barack.obama@whitehouse.gov']"
            ]
          },
          "metadata": {
            "tags": []
          },
          "execution_count": 60
        }
      ]
    },
    {
      "cell_type": "markdown",
      "metadata": {
        "id": "RAEnaE-nhaxH",
        "colab_type": "text"
      },
      "source": [
        "We have changed ``\"\\w+\"`` to ``\"[\\w.]+\"``, so we will match any alphanumeric character *or* a period.\n",
        "With this more flexible expression, we can match a wider range of email addresses (though still not all – can you identify other shortcomings of this expression?)."
      ]
    },
    {
      "cell_type": "markdown",
      "metadata": {
        "id": "tuW3e4gKhaxI",
        "colab_type": "text"
      },
      "source": [
        "#### Parentheses indicate *groups* to extract\n",
        "\n",
        "For compound regular expressions like our email matcher, we often want to extract their components rather than the full match. This can be done using parentheses to *group* the results:"
      ]
    },
    {
      "cell_type": "code",
      "metadata": {
        "collapsed": true,
        "id": "014JOsVVhaxI",
        "colab_type": "code",
        "colab": {}
      },
      "source": [
        "email3 = re.compile(r'([\\w.]+)@(\\w+)\\.([a-z]{3})')"
      ],
      "execution_count": 0,
      "outputs": []
    },
    {
      "cell_type": "code",
      "metadata": {
        "id": "MNuVBbihhaxJ",
        "colab_type": "code",
        "colab": {},
        "outputId": "2c3eb9a6-74a7-4671-d3a5-e08d6e29b1f3"
      },
      "source": [
        "text = \"To email Guido, try guido@python.org or the older address guido@google.com.\"\n",
        "email3.findall(text)"
      ],
      "execution_count": 0,
      "outputs": [
        {
          "output_type": "execute_result",
          "data": {
            "text/plain": [
              "[('guido', 'python', 'org'), ('guido', 'google', 'com')]"
            ]
          },
          "metadata": {
            "tags": []
          },
          "execution_count": 62
        }
      ]
    },
    {
      "cell_type": "markdown",
      "metadata": {
        "id": "q-92JjH8haxL",
        "colab_type": "text"
      },
      "source": [
        "As we see, this grouping actually extracts a list of the sub-components of the email address.\n",
        "\n",
        "We can go a bit further and *name* the extracted components using the ``\"(?P<name> )\"`` syntax, in which case the groups can be extracted as a Python dictionary:"
      ]
    },
    {
      "cell_type": "code",
      "metadata": {
        "id": "2KSNp2UuhaxL",
        "colab_type": "code",
        "colab": {},
        "outputId": "98a41a32-2a28-4bca-dc0f-ebeb945ae300"
      },
      "source": [
        "email4 = re.compile(r'(?P<user>[\\w.]+)@(?P<domain>\\w+)\\.(?P<suffix>[a-z]{3})')\n",
        "match = email4.match('guido@python.org')\n",
        "match.groupdict()"
      ],
      "execution_count": 0,
      "outputs": [
        {
          "output_type": "execute_result",
          "data": {
            "text/plain": [
              "{'domain': 'python', 'suffix': 'org', 'user': 'guido'}"
            ]
          },
          "metadata": {
            "tags": []
          },
          "execution_count": 63
        }
      ]
    },
    {
      "cell_type": "markdown",
      "metadata": {
        "id": "1y5_QGv0haxN",
        "colab_type": "text"
      },
      "source": [
        "Combining these ideas (as well as some of the powerful regexp syntax that we have not covered here) allows you to flexibly and quickly extract information from strings in Python."
      ]
    },
    {
      "cell_type": "markdown",
      "metadata": {
        "id": "gW2EmfM2haxN",
        "colab_type": "text"
      },
      "source": [
        "### Further Resources on Regular Expressions\n",
        "\n",
        "The above discussion is just a quick (and far from complete) treatment of this large topic.\n",
        "If you'd like to learn more, I recommend the following resources:\n",
        "\n",
        "- [Python's ``re`` package Documentation](https://docs.python.org/3/library/re.html): I find that I promptly forget how to use regular expressions just about every time I use them. Now that I have the basics down, I have found this page to be an incredibly valuable resource to recall what each specific character or sequence means within a regular expression.\n",
        "- [Python's official regular expression HOWTO](https://docs.python.org/3/howto/regex.html): a more narrative approach to regular expressions in Python.\n",
        "- [Mastering Regular Expressions (OReilly, 2006)](http://shop.oreilly.com/product/9780596528126.do) is a 500+ page book on the subject. If you want a really complete treatment of this topic, this is the resource for you.\n",
        "\n",
        "For some examples of string manipulation and regular expressions in action at a larger scale, see [Pandas: Labeled Column-oriented Data](15-Preview-of-Data-Science-Tools.ipynb#Pandas:-Labeled-Column-oriented-Data), where we look at applying these sorts of expressions across *tables* of string data within the Pandas package."
      ]
    },
    {
      "cell_type": "markdown",
      "metadata": {
        "id": "Awkors_ZhaxN",
        "colab_type": "text"
      },
      "source": [
        "<!--NAVIGATION-->\n",
        "< [Modules and Packages](13-Modules-and-Packages.ipynb) | [Contents](Index.ipynb) | [A Preview of Data Science Tools](15-Preview-of-Data-Science-Tools.ipynb) >"
      ]
    }
  ]
}