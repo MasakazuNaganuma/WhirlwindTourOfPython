{
  "nbformat": 4,
  "nbformat_minor": 0,
  "metadata": {
    "anaconda-cloud": {},
    "kernelspec": {
      "display_name": "Python 3",
      "language": "python",
      "name": "python3"
    },
    "language_info": {
      "codemirror_mode": {
        "name": "ipython",
        "version": 3
      },
      "file_extension": ".py",
      "mimetype": "text/x-python",
      "name": "python",
      "nbconvert_exporter": "python",
      "pygments_lexer": "ipython3",
      "version": "3.5.1"
    },
    "colab": {
      "name": "02-Basic-Python-Syntax.ipynb",
      "provenance": [],
      "toc_visible": true,
      "include_colab_link": true
    }
  },
  "cells": [
    {
      "cell_type": "markdown",
      "metadata": {
        "id": "view-in-github",
        "colab_type": "text"
      },
      "source": [
        "<a href=\"https://colab.research.google.com/github/MasakazuNaganuma/WhirlwindTourOfPython/blob/master/02-Basic-Python-Syntax.ipynb\" target=\"_parent\"><img src=\"https://colab.research.google.com/assets/colab-badge.svg\" alt=\"Open In Colab\"/></a>"
      ]
    },
    {
      "cell_type": "markdown",
      "metadata": {
        "id": "wB8YjsCTTTzc",
        "colab_type": "text"
      },
      "source": [
        "<!--BOOK_INFORMATION-->\n",
        "<img align=\"left\" style=\"padding-right:10px;\" src=\"https://github.com/MasakazuNaganuma/WhirlwindTourOfPython/blob/master/fig/cover-small.jpg?raw=1\">\n",
        "*This notebook contains an excerpt from the [Whirlwind Tour of Python](http://www.oreilly.com/programming/free/a-whirlwind-tour-of-python.csp) by Jake VanderPlas; the content is available [on GitHub](https://github.com/jakevdp/WhirlwindTourOfPython).*\n",
        "\n",
        "*The text and code are released under the [CC0](https://github.com/jakevdp/WhirlwindTourOfPython/blob/master/LICENSE) license; see also the companion project, the [Python Data Science Handbook](https://github.com/jakevdp/PythonDataScienceHandbook).*\n"
      ]
    },
    {
      "cell_type": "markdown",
      "metadata": {
        "id": "10QdSLwmTTzf",
        "colab_type": "text"
      },
      "source": [
        "<!--NAVIGATION-->\n",
        "< [How to Run Python Code](01-How-to-Run-Python-Code.ipynb) | [Contents](Index.ipynb) | [Basic Python Semantics: Variables and Objects](03-Semantics-Variables.ipynb) >"
      ]
    },
    {
      "cell_type": "markdown",
      "metadata": {
        "id": "e0who66CTTzg",
        "colab_type": "text"
      },
      "source": [
        "# Python言語構文のクイックツアー\n",
        "# A Quick Tour of Python Language Syntax"
      ]
    },
    {
      "cell_type": "markdown",
      "metadata": {
        "id": "ec5qmNjBTTzi",
        "colab_type": "text"
      },
      "source": [
        "Pythonはもともと教育用の言語として開発されましたが、その使いやすさとクリーンな構文により、初心者から上級者まで受け入れられるようになりました。\n",
        "Pythonの構文のクリーンさから「実行可能な疑似コード」と呼ばれることもありますが、私自身の経験では、C言語で書かれた類似のスクリプトを読むよりも、Pythonスクリプトを読んで理解する方がはるかに簡単です。\n",
        "ここでは、Pythonの構文の主な特徴について説明します。\n",
        "\n",
        "構文とは、言語の構造（つまり、何が正しく形成されたプログラムを構成するか）を指します。\n",
        "当分の間、意味論（構文内の単語や記号の意味）には注目しませんが、これについては後ほど説明します。\n",
        "\n",
        "次のコード例を考えてみましょう。\n",
        "\n",
        "Python was originally developed as a teaching language, but its ease of use and clean syntax have led it to be embraced by beginners and experts alike.\n",
        "The cleanliness of Python's syntax has led some to call it \"executable pseudocode\", and indeed my own experience has been that it is often much easier to read and understand a Python script than to read a similar script written in, say, C.\n",
        "Here we'll begin to discuss the main features of Python's syntax.\n",
        "\n",
        "Syntax refers to the structure of the language (i.e., what constitutes a correctly-formed program).\n",
        "For the time being, we'll not focus on the semantics – the meaning of the words and symbols within the syntax – but will return to this at a later point.\n",
        "\n",
        "Consider the following code example:"
      ]
    },
    {
      "cell_type": "code",
      "metadata": {
        "id": "dGCoHW_BTTzj",
        "colab_type": "code",
        "colab": {},
        "outputId": "a9fce852-8af1-4435-d472-4a91045b6f11"
      },
      "source": [
        "# set the midpoint\n",
        "midpoint = 5\n",
        "\n",
        "# make two empty lists\n",
        "lower = []; upper = []\n",
        "\n",
        "# split the numbers into lower and upper\n",
        "for i in range(10):\n",
        "    if (i < midpoint):\n",
        "        lower.append(i)\n",
        "    else:\n",
        "        upper.append(i)\n",
        "        \n",
        "print(\"lower:\", lower)\n",
        "print(\"upper:\", upper)"
      ],
      "execution_count": 0,
      "outputs": [
        {
          "output_type": "stream",
          "text": [
            "lower: [0, 1, 2, 3, 4]\n",
            "upper: [5, 6, 7, 8, 9]\n"
          ],
          "name": "stdout"
        }
      ]
    },
    {
      "cell_type": "markdown",
      "metadata": {
        "id": "vl1CDQuATTzv",
        "colab_type": "text"
      },
      "source": [
        "このスクリプトは少しばかげていますが、Pythonの構文の重要な点のいくつかをコンパクトに説明しています。\n",
        "このスクリプトを歩いてみて、Python の構文的な特徴のいくつかを議論してみましょう。\n",
        "\n",
        "This script is a bit silly, but it compactly illustrates several of the important aspects of Python syntax.\n",
        "Let's walk through it and discuss some of the syntactical features of Python"
      ]
    },
    {
      "cell_type": "markdown",
      "metadata": {
        "id": "VFDUq3_WTTzw",
        "colab_type": "text"
      },
      "source": [
        "## コメントは ``#`` でマークされています。\n",
        "\n",
        "## Comments Are Marked by ``#``\n",
        "\n",
        "スクリプトはコメントから始まります。\n",
        "\n",
        "The script starts with a comment:\n",
        "\n",
        "``` python\n",
        "# set the midpoint\n",
        "```\n",
        "\n",
        "Python のコメントはパウンド記号 (``#``) で示され、パウンド記号に続く行はインタプリタによって無視されます。\n",
        "これは、例えば、先ほどのような独立したコメントや、文の後に続くインラインコメントを持つことができることを意味します。例えば、以下のようになります。\n",
        "\n",
        "Comments in Python are indicated by a pound sign (``#``), and anything on the line following the pound sign is ignored by the interpreter.\n",
        "This means, for example, that you can have stand-alone comments like the one just shown, as well as inline comments that follow a statement. For example:\n",
        "\n",
        "``` python\n",
        "x += 2  # shorthand for x = x + 2\n",
        "```\n",
        "Python には C や C++ で使われている ``/* ... */`` のような複数行コメントの構文はありません。ですが、複数行コメントの代わりに複数行文字列がよく使われています(これについては [文字列操作と正規表現](14-String-and-Regular-Expressions.ipynb)を参照してください)。\n",
        "\n",
        "Python does not have any syntax for multi-line comments, such as the ``/* ... */`` syntax used in C and C++, though multi-line strings are often used as a replacement for multi-line comments (more on this in [String Manipulation and Regular Expressions](14-Strings-and-Regular-Expressions.ipynb))."
      ]
    },
    {
      "cell_type": "markdown",
      "metadata": {
        "id": "rU4pRlGaTTzy",
        "colab_type": "text"
      },
      "source": [
        "## 行末のステートメントを終了する\n",
        "\n",
        "## End-of-Line Terminates a Statement\n",
        "\n",
        "スクリプトの次の行は\n",
        "\n",
        "The next line in the script is\n",
        "\n",
        "\n",
        "``` python\n",
        "midpoint = 5\n",
        "```\n",
        "これは代入操作で、 ``midpoint`` という名前の変数を作成し、それに ``5`` という値を代入しています。\n",
        "この文の終わりは、単に行末にマークされていることに注目してください。\n",
        "これはCやC++のような言語では、すべての文はセミコロン(``;``)で終わらなければならないのとは対照的です。\n",
        "\n",
        "Pythonでは、ある文を次の行に進めたい場合、\" ``\\``\" マーカーを使ってそれを示すことができます。\n",
        "\n",
        "This is an assignment operation, where we've created a variable named ``midpoint`` and assigned it the value ``5``.\n",
        "Notice that the end of this statement is simply marked by the end of the line.\n",
        "This is in contrast to languages like C and C++, where every statement must end with a semicolon (``;``).\n",
        "\n",
        "In Python, if you'd like a statement to continue to the next line, it is possible to use the \"``\\``\" marker to indicate this:"
      ]
    },
    {
      "cell_type": "code",
      "metadata": {
        "id": "yr4_CvZxTTzz",
        "colab_type": "code",
        "colab": {}
      },
      "source": [
        "x = 1 + 2 + 3 + 4 +\\\n",
        "    5 + 6 + 7 + 8"
      ],
      "execution_count": 0,
      "outputs": []
    },
    {
      "cell_type": "markdown",
      "metadata": {
        "id": "cdPNbuuqTTz6",
        "colab_type": "text"
      },
      "source": [
        "また、\"``\\``\"マーカーを使わずに、括弧内で次の行に式を続けることも可能です。\n",
        "\n",
        "It is also possible to continue expressions on the next line within parentheses, without using the \"``\\``\" marker:\n"
      ]
    },
    {
      "cell_type": "code",
      "metadata": {
        "id": "CVMp2v-2TTz7",
        "colab_type": "code",
        "colab": {}
      },
      "source": [
        "x = (1 + 2 + 3 + 4 +\n",
        "     5 + 6 + 7 + 8)"
      ],
      "execution_count": 0,
      "outputs": []
    },
    {
      "cell_type": "markdown",
      "metadata": {
        "id": "LBDrRCuOTT0B",
        "colab_type": "text"
      },
      "source": [
        "ほとんどの Python スタイルガイドでは、最初のバージョン ( \"``\\``\" マーカーの使用)よりも 2 番目のバージョンの行の続き (括弧内) を推奨しています。\n",
        "\n",
        "Most Python style guides recommend the second version of line continuation (within parentheses) to the first (use of the \"``\\``\" marker)."
      ]
    },
    {
      "cell_type": "markdown",
      "metadata": {
        "id": "qzkmfzUiTT0C",
        "colab_type": "text"
      },
      "source": [
        "## セミコロンは任意でステートメントを終了させることができます。\n",
        "\n",
        "## Semicolon Can Optionally Terminate a Statement\n",
        "\n",
        "複数のステートメントを1行にまとめておくと便利な場合もあります。\n",
        "\n",
        "Sometimes it can be useful to put multiple statements on a single line.\n",
        "\n",
        "スクリプトの次の部分は\n",
        "\n",
        "The next portion of the script is\n",
        "\n",
        "``` python\n",
        "lower = []; upper = []\n",
        "```\n",
        "\n",
        "これは、C言語でお馴染みのセミコロン(``;``)を、Pythonではオプションで2つの文を1行にまとめることができる例を示しています。\n",
        "\n",
        "This shows the example of how the semicolon (``;``) familiar in C can be used optionally in Python to put two statements on a single line.\n",
        "\n",
        "機能的には、これは完全に\n",
        "\n",
        "Functionally, this is entirely equivalent to writing\n",
        "``` python\n",
        "lower = []\n",
        "upper = []\n",
        "```\n",
        "\n",
        "複数のステートメントを一行にまとめるためにセミコロンを使うことは、ほとんどのPythonスタイルガイドでは推奨されていませんが、便利な場合もあります。\n",
        "\n",
        "Using a semicolon to put multiple statements on a single line is generally discouraged by most Python style guides, though occasionally it proves convenient."
      ]
    },
    {
      "cell_type": "markdown",
      "metadata": {
        "id": "ALiJFUWRTT0D",
        "colab_type": "text"
      },
      "source": [
        "## インデント 空白は重要です!\n",
        "## Indentation: Whitespace Matters!\n",
        "\n",
        "次に、コードのメインブロックに入ります。\n",
        "\n",
        "Next, we get to the main block of code:\n",
        "``` Python\n",
        "for i in range(10):\n",
        "    if i < midpoint:\n",
        "        lower.append(i)\n",
        "    else:\n",
        "        upper.append(i)\n",
        "```\n",
        "これはループと条件を含む複合的なコントロールフロー文です。\n",
        "今のところ、これはPythonの構文の中で最も議論の的になっている特徴である、空白は意味があることを示していると考えてください。\n",
        "\n",
        "プログラミング言語では、コードの**block**は1つの単位として扱われるべきステートメントの集合です。\n",
        "例えばC言語では、コードブロックは中括弧で示されます。\n",
        "\n",
        "This is a compound control-flow statement including a loop and a conditional – we'll look at these types of statements in a moment.\n",
        "For now, consider that this demonstrates what is perhaps the most controversial feature of Python's syntax: whitespace is meaningful!\n",
        "\n",
        "In programming languages, a *block* of code is a set of statements that should be treated as a unit.\n",
        "In C, for example, code blocks are denoted by curly braces:\n",
        "``` C\n",
        "// C code\n",
        "for(int i=0; i<100; i++)\n",
        "   {\n",
        "      // curly braces indicate code block\n",
        "      total += i;\n",
        "   }\n",
        "```\n",
        "Pythonでは、コードブロックは**indentation**で表されます。\n",
        "\n",
        "In Python, code blocks are denoted by *indentation*:\n",
        "``` python\n",
        "for i in range(100):\n",
        "    # indentation indicates code block\n",
        "    total += i\n",
        "```\n",
        "Pythonでは、インデントされたコードブロックの前の行には常にコロン(``:``)が置かれます。\n",
        "\n",
        "In Python, indented code blocks are always preceded by a colon (``:``) on the previous line."
      ]
    },
    {
      "cell_type": "markdown",
      "metadata": {
        "id": "_e0ke910TT0F",
        "colab_type": "text"
      },
      "source": [
        "インデントを使用することで、多くの人がPythonコードに魅力を感じている、統一された読みやすいスタイルを実現することができます。\n",
        "\n",
        "The use of indentation helps to enforce the uniform, readable style that many find appealing in Python code.\n",
        "\n",
        "しかし、不慣れな人にとっては混乱を招くかもしれません。例えば、以下の2つのスニペットは異なる結果をもたらします。\n",
        "\n",
        "But it might be confusing to the uninitiated; for example, the following two snippets will produce different results:\n",
        "```python\n",
        ">>> if x < 4:         >>> if x < 4:\n",
        "...     y = x * 2     ...     y = x * 2\n",
        "...     print(x)      ... print(x)\n",
        "```\n",
        "左側のスニペットでは ``print(x)`` はインデントされたブロックの中にあり、 ``x`` が ``4`` より小さい場合にのみ実行されます。\n",
        "右側のスニペットでは ``print(x)`` はブロックの外にあり、 ``x`` の値に関係なく実行されます!\n",
        "\n",
        "In the snippet on the left, ``print(x)`` is in the indented block, and will be executed only if ``x`` is less than ``4``.\n",
        "In the snippet on the right ``print(x)`` is outside the block, and will be executed regardless of the value of ``x``!"
      ]
    },
    {
      "cell_type": "markdown",
      "metadata": {
        "id": "Qz8r8RldTT0G",
        "colab_type": "text"
      },
      "source": [
        "Python の意味のある空白の使用は、他の言語に慣れているプログラマにとっては驚くべきものですが、実際にはコードブロックのインデントを強制しない言語よりもずっと一貫性のある読みやすいコードになります。\n",
        "もしPythonのホワイトスペースの使用が気に入らないと感じたら、試してみることをお勧めします: 私が試したように、あなたもホワイトスペースを理解するようになるかもしれません。\n",
        "\n",
        "最後に、コードブロックのインデントに使用する空白の量は、スクリプト全体で一貫している限り、ユーザー次第であることに注意してください。\n",
        "慣習として、ほとんどのスタイルガイドでは、コードブロックのインデントは4スペースで行うことを推奨しています。\n",
        "Emacs や Vim のような多くのテキストエディタには、4 スペースのインデントを自動的に行う Python モードが含まれていることに注意してください。\n",
        "\n",
        "Python's use of meaningful whitespace often is surprising to programmers who are accustomed to other languages, but in practice it can lead to much more consistent and readable code than languages that do not enforce indentation of code blocks.\n",
        "If you find Python's use of whitespace disagreeable, I'd encourage you to give it a try: as I did, you may find that you come to appreciate it.\n",
        "\n",
        "Finally, you should be aware that the *amount* of whitespace used for indenting code blocks is up to the user, as long as it is consistent throughout the script.\n",
        "By convention, most style guides recommend to indent code blocks by four spaces, and that is the convention we will follow in this report.\n",
        "Note that many text editors like Emacs and Vim contain Python modes that do four-space indentation automatically."
      ]
    },
    {
      "cell_type": "markdown",
      "metadata": {
        "id": "ErpiSDTLTT0H",
        "colab_type": "text"
      },
      "source": [
        "## 行内の空白は重要ではありません。\n",
        "## Whitespace *Within* Lines Does Not Matter\n",
        "意味のある**空白のマントラ**は、(コードブロックを示す)行の**前の**空白に当てはまりますが、Pythonコードの**行内の**空白は重要ではありません。\n",
        "例えば、これらの3つの式はすべて同等です。\n",
        "\n",
        "While the mantra of *meaningful whitespace* holds true for whitespace *before* lines (which indicate a code block), white space *within* lines of Python code does not matter.\n",
        "For example, all three of these expressions are equivalent:"
      ]
    },
    {
      "cell_type": "code",
      "metadata": {
        "id": "b9RkZmMJTT0J",
        "colab_type": "code",
        "colab": {}
      },
      "source": [
        "x=1+2\n",
        "x = 1 + 2\n",
        "x             =        1    +                2"
      ],
      "execution_count": 0,
      "outputs": []
    },
    {
      "cell_type": "markdown",
      "metadata": {
        "id": "PPghpQy1TT0Q",
        "colab_type": "text"
      },
      "source": [
        "この柔軟性を悪用すると、コードの可読性に問題が生じることがあります。実際、空白を悪用することは、コードを意図的に難読化する主要な手段の一つであることが多いです（スポーツのためにやっている人もいます）。\n",
        "空白を効果的に使うことで、より読みやすいコードを作ることができます。\n",
        "特に演算子が互いに追従する場合 - 負の数を指数化する場合の次の2つの式を比較してみてください。\n",
        "\n",
        "Abusing this flexibility can lead to issues with code readibility – in fact, abusing white space is often one of the primary means of intentionally obfuscating code (which some people do for sport).\n",
        "Using whitespace effectively can lead to much more readable code, \n",
        "especially in cases where operators follow each other – compare the following two expressions for exponentiating by a negative number:\n",
        "``` python\n",
        "x=10**-2\n",
        "```\n",
        "to\n",
        "``` python\n",
        "x = 10 ** -2\n",
        "```\n",
        "スペースを使った2つ目のバージョンの方が、一目で読みやすいと思います。\n",
        "ほとんどのPythonスタイルガイドでは、2進演算子の周りにはスペースを1つ使い、単項演算子の周りにはスペースを使わないことを推奨しています。\n",
        "Pythonの演算子については、[Basic Python Semantics: Operators](04-Semantics-Operators.ipynb)でさらに詳しく説明します。\n",
        "\n",
        "I find the second version with spaces much more easily readable at a single glance.\n",
        "Most Python style guides recommend using a single space around binary operators, and no space around unary operators.\n",
        "We'll discuss Python's operators further in [Basic Python Semantics: Operators](04-Semantics-Operators.ipynb)."
      ]
    },
    {
      "cell_type": "markdown",
      "metadata": {
        "id": "aSKh60pGTT0S",
        "colab_type": "text"
      },
      "source": [
        "## グループ化または呼び出しのためのカッコです。\n",
        "\n",
        "先ほどのコードスニペットでは、括弧の用途が2つあります。\n",
        "まず、文や数学的な操作をグループ化するための典型的な方法で使用することができます。\n",
        "\n",
        "## Parentheses Are for Grouping or Calling\n",
        "\n",
        "In the previous code snippet, we see two uses of parentheses.\n",
        "First, they can be used in the typical way to group statements or mathematical operations:"
      ]
    },
    {
      "cell_type": "code",
      "metadata": {
        "id": "m-Z4t59dTT0T",
        "colab_type": "code",
        "colab": {},
        "outputId": "38509b12-56f3-478b-ee45-5c39b3892fbd"
      },
      "source": [
        "2 * (3 + 4)"
      ],
      "execution_count": 0,
      "outputs": [
        {
          "output_type": "execute_result",
          "data": {
            "text/plain": [
              "14"
            ]
          },
          "metadata": {
            "tags": []
          },
          "execution_count": 5
        }
      ]
    },
    {
      "cell_type": "markdown",
      "metadata": {
        "id": "Axti32HGTT0a",
        "colab_type": "text"
      },
      "source": [
        "また、**function**が呼ばれていることを示すのにも使えます。\n",
        "次のスニペットでは、 ``print()``関数を使って変数の内容を表示しています（サイドバーを参照してください）。\n",
        "関数が呼び出されたことを示すために、関数を呼び出すための **arguments** がその中に含まれていることを示すために、 開き括弧と閉じ括弧が使われています。\n",
        "\n",
        "They can also be used to indicate that a *function* is being called.\n",
        "In the next snippet, the ``print()`` function is used to display the contents of a variable (see the sidebar).\n",
        "The function call is indicated by a pair of opening and closing parentheses, with the *arguments* to the function contained within:"
      ]
    },
    {
      "cell_type": "code",
      "metadata": {
        "id": "hBMEoiiATT0b",
        "colab_type": "code",
        "colab": {},
        "outputId": "758d78d8-369e-4097-e9ee-aa2d3b31b162"
      },
      "source": [
        "print('first value:', 1)"
      ],
      "execution_count": 0,
      "outputs": [
        {
          "output_type": "stream",
          "text": [
            "first value: 1\n"
          ],
          "name": "stdout"
        }
      ]
    },
    {
      "cell_type": "code",
      "metadata": {
        "id": "rpBSLdZRTT0h",
        "colab_type": "code",
        "colab": {},
        "outputId": "56fa488c-e523-4719-831e-4c6cdc2680c4"
      },
      "source": [
        "print('second value:', 2)"
      ],
      "execution_count": 0,
      "outputs": [
        {
          "output_type": "stream",
          "text": [
            "second value: 2\n"
          ],
          "name": "stdout"
        }
      ]
    },
    {
      "cell_type": "markdown",
      "metadata": {
        "id": "6Y7p-bgqTT0q",
        "colab_type": "text"
      },
      "source": [
        "関数の中には引数を全く持たずに呼び出すことができるものもありますが、その場合でも関数の評価を示すために開括弧と閉括弧を使用しなければなりません。\n",
        "この例として、リストの ``sort`` メソッドがあります。\n",
        "\n",
        "Some functions can be called with no arguments at all, in which case the opening and closing parentheses still must be used to indicate a function evaluation.\n",
        "An example of this is the ``sort`` method of lists:"
      ]
    },
    {
      "cell_type": "code",
      "metadata": {
        "id": "TEEtUM-BTT0s",
        "colab_type": "code",
        "colab": {},
        "outputId": "00b3fd4a-a5ce-427f-eb9e-6ee244d1f520"
      },
      "source": [
        "L = [4,2,3,1]\n",
        "L.sort()\n",
        "print(L)"
      ],
      "execution_count": 0,
      "outputs": [
        {
          "output_type": "stream",
          "text": [
            "[1, 2, 3, 4]\n"
          ],
          "name": "stdout"
        }
      ]
    },
    {
      "cell_type": "markdown",
      "metadata": {
        "id": "SgXmPPCjTT03",
        "colab_type": "text"
      },
      "source": [
        "``sort``の後の\"``()``\"は関数を実行することを示しており、引数がなくても必要です。\n",
        "\n",
        "The \"``()``\" after ``sort`` indicates that the function should be executed, and is required even if no arguments are necessary."
      ]
    },
    {
      "cell_type": "markdown",
      "metadata": {
        "id": "xAw2nBYvTT04",
        "colab_type": "text"
      },
      "source": [
        "## 余談。``print()``関数についての注意点\n",
        "\n",
        "## Aside: A Note on the ``print()`` Function\n",
        "\n",
        "上記では ``print()`` 関数を例にしました。\n",
        "print()``関数は、Python *2.x*とPython *3.x*の間で変更された部分の一つです。Python 2では、``print``はステートメントとして動作していました。\n",
        "\n",
        "Above we used the example of the ``print()`` function.\n",
        "The ``print()`` function is one piece that has changed between Python *2.x* and Python *3.x*. In Python 2, ``print`` behaved as a statement: that is, you could write\n",
        "``` python\n",
        "# Python 2 only!\n",
        ">> print \"first value:\", 1\n",
        "first value: 1\n",
        "```\n",
        "様々な理由で、言語メンテナはPython 3では ``print()``を関数にすべきだと決定しました。\n",
        "\n",
        "For various reasons, the language maintainers decided that in Python 3 ``print()`` should become a function, so we now write\n",
        "``` python\n",
        "# Python 3 only!\n",
        ">>> print(\"first value:\", 1)\n",
        "first value: 1\n",
        "```\n",
        "これはPython 2と3の間にある多くの下位互換性のない構造の一つです。\n",
        "この本を書いている時点では、Pythonの両方のバージョンで書かれた例を見つけるのが一般的で、 ``print()``関数ではなく ``print``文が存在することは、Python 2のコードを見ていることを示す最初の兆候の一つであることがよくあります。\n",
        "\n",
        "This is one of the many backward-incompatible constructs between Python 2 and 3.\n",
        "As of the writing of this book, it is common to find examples written in both versions of Python, and the presence of the ``print`` statement rather than the ``print()`` function is often one of the first signs that you're looking at Python 2 code."
      ]
    },
    {
      "cell_type": "markdown",
      "metadata": {
        "id": "bc0HfsPgTT06",
        "colab_type": "text"
      },
      "source": [
        "## 仕上げと学習の続きをする\n",
        "## Finishing Up and Learning More\n",
        "\n",
        "これはPythonの構文の本質的な機能について簡単に説明してきましたが、その目的は、後のセクションでコードを読むときの参考になるようにすることです。\n",
        "これまで何度かPythonの「スタイルガイド」について触れてきましたが、これはチームが一貫したスタイルでコードを書くのに役立ちます。\n",
        "Python で最も広く使われているスタイルガイドは PEP8 として知られており、https://www.python.org/dev/peps/pep-0008/ で見つけることができます。\n",
        "より多くの Python コードを書き始める際には、これに目を通しておくと便利です。\n",
        "スタイルの提案には多くの Python の達人たちの知恵が含まれており、ほとんどの提案は単純な衒学的なものを超えています: それらは経験に基づいた提案であり、あなたのコードの微妙なミスやバグを回避するのに役立ちます。\n",
        "\n",
        "This has been a very brief exploration of the essential features of Python syntax; its purpose is to give you a good frame of reference for when you're reading the code in later sections.\n",
        "Several times we've mentioned Python \"style guides\", which can help teams to write code in a consistent style.\n",
        "The most widely used style guide in Python is known as PEP8, and can be found at https://www.python.org/dev/peps/pep-0008/.\n",
        "As you begin to write more Python code, it would be useful to read through this!\n",
        "The style suggestions contain the wisdom of many Python gurus, and most suggestions go beyond simple pedantry: they are experience-based recommendations that can help avoid subtle mistakes and bugs in your code."
      ]
    },
    {
      "cell_type": "markdown",
      "metadata": {
        "id": "QJV2h6_xTT07",
        "colab_type": "text"
      },
      "source": [
        "<!--NAVIGATION-->\n",
        "< [How to Run Python Code](01-How-to-Run-Python-Code.ipynb) | [Contents](Index.ipynb) | [Basic Python Semantics: Variables and Objects](03-Semantics-Variables.ipynb) >"
      ]
    }
  ]
}