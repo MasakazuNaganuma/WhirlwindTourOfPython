{
  "nbformat": 4,
  "nbformat_minor": 0,
  "metadata": {
    "anaconda-cloud": {},
    "kernelspec": {
      "display_name": "Python 3",
      "language": "python",
      "name": "python3"
    },
    "language_info": {
      "codemirror_mode": {
        "name": "ipython",
        "version": 3
      },
      "file_extension": ".py",
      "mimetype": "text/x-python",
      "name": "python",
      "nbconvert_exporter": "python",
      "pygments_lexer": "ipython3",
      "version": "3.5.1"
    },
    "colab": {
      "name": "06-Built-in-Data-Structures.ipynb",
      "provenance": [],
      "include_colab_link": true
    }
  },
  "cells": [
    {
      "cell_type": "markdown",
      "metadata": {
        "id": "view-in-github",
        "colab_type": "text"
      },
      "source": [
        "<a href=\"https://colab.research.google.com/github/MasakazuNaganuma/WhirlwindTourOfPython/blob/master/06-Built-in-Data-Structures.ipynb\" target=\"_parent\"><img src=\"https://colab.research.google.com/assets/colab-badge.svg\" alt=\"Open In Colab\"/></a>"
      ]
    },
    {
      "cell_type": "markdown",
      "metadata": {
        "id": "OWP_oD1dtnXx",
        "colab_type": "text"
      },
      "source": [
        "<!--BOOK_INFORMATION-->\n",
        "<img align=\"left\" style=\"padding-right:10px;\" src=\"https://github.com/MasakazuNaganuma/WhirlwindTourOfPython/blob/master/fig/cover-small.jpg?raw=1\">\n",
        "*This notebook contains an excerpt from the [Whirlwind Tour of Python](http://www.oreilly.com/programming/free/a-whirlwind-tour-of-python.csp) by Jake VanderPlas; the content is available [on GitHub](https://github.com/jakevdp/WhirlwindTourOfPython).*\n",
        "\n",
        "*The text and code are released under the [CC0](https://github.com/jakevdp/WhirlwindTourOfPython/blob/master/LICENSE) license; see also the companion project, the [Python Data Science Handbook](https://github.com/jakevdp/PythonDataScienceHandbook).*\n"
      ]
    },
    {
      "cell_type": "markdown",
      "metadata": {
        "id": "aQaPoRLwtnXy",
        "colab_type": "text"
      },
      "source": [
        "<!--NAVIGATION-->\n",
        "< [Built-In Types: Simple Values](05-Built-in-Scalar-Types.ipynb) | [Contents](Index.ipynb) | [Control Flow](07-Control-Flow-Statements.ipynb) >"
      ]
    },
    {
      "cell_type": "markdown",
      "metadata": {
        "id": "LOE2rKWMtnXz",
        "colab_type": "text"
      },
      "source": [
        "# 組み込みのデータ構造\n",
        "# Built-In Data Structures\n"
      ]
    },
    {
      "cell_type": "markdown",
      "metadata": {
        "id": "1BdifdQntnXz",
        "colab_type": "text"
      },
      "source": [
        "We have seen Python's simple types: ``int``, ``float``, ``complex``, ``bool``, ``str``, and so on.\n",
        "Python also has several built-in compound types, which act as containers for other types.\n",
        "These compound types are:\n",
        "\n",
        "Pythonのシンプルな型を見てきました。``int``, ``float``, ``complex``, ``bool``, ``str`` などです。\n",
        "Python にはいくつかの複合型が組み込まれており、他の型のコンテナとして機能します。\n",
        "これらの複合型は以下の通りです。\n",
        "\n",
        "| Type Name | Example                   |Description                            |\n",
        "|-----------|---------------------------|---------------------------------------|\n",
        "| ``list``  | ``[1, 2, 3]``             | Ordered collection                    |\n",
        "| ``tuple`` | ``(1, 2, 3)``             | Immutable ordered collection          |\n",
        "| ``dict``  | ``{'a':1, 'b':2, 'c':3}`` | Unordered (key,value) mapping         |\n",
        "| ``set``   | ``{1, 2, 3}``             | Unordered collection of unique values |\n",
        "\n",
        "As you can see, round, square, and curly brackets have distinct meanings when it comes to the type of collection produced.\n",
        "We'll take a quick tour of these data structures here.\n",
        "\n",
        "ご覧のように、丸括弧、四角括弧、中括弧は、生成されるコレクションの種類によって異なる意味を持っています。\n",
        "ここでは、これらのデータ構造について簡単に説明します。"
      ]
    },
    {
      "cell_type": "markdown",
      "metadata": {
        "id": "3O2JPYkUtnX0",
        "colab_type": "text"
      },
      "source": [
        "## リスト\n",
        "## Lists\n",
        "Lists are the basic *ordered* and *mutable* data collection type in Python.\n",
        "They can be defined with comma-separated values between square brackets; for example, here is a list of the first several prime numbers:\n",
        "\n",
        "リストは Python の基本的な *ordered* および *mutable* データ収集型です。\n",
        "これらのリストは、角括弧の間にカンマで区切られた値で定義することができます; 例えば、以下は最初の数個の素数のリストです。"
      ]
    },
    {
      "cell_type": "code",
      "metadata": {
        "id": "n5jLjo4ctnX1",
        "colab_type": "code",
        "colab": {}
      },
      "source": [
        "L = [2, 3, 5, 7]"
      ],
      "execution_count": 0,
      "outputs": []
    },
    {
      "cell_type": "markdown",
      "metadata": {
        "id": "HgD26kahtnX5",
        "colab_type": "text"
      },
      "source": [
        "Lists have a number of useful properties and methods available to them.\n",
        "Here we'll take a quick look at some of the more common and useful ones:\n",
        "\n",
        "リストには多くの便利なプロパティやメソッドがあります。\n",
        "ここでは、より一般的で便利なプロパティを簡単に見てみましょう。"
      ]
    },
    {
      "cell_type": "code",
      "metadata": {
        "id": "oBmm7cRqtnX5",
        "colab_type": "code",
        "colab": {},
        "outputId": "0c6645ab-c5b4-4447-f8e4-6f3c01cc883a"
      },
      "source": [
        "# Length of a list\n",
        "len(L)"
      ],
      "execution_count": 0,
      "outputs": [
        {
          "output_type": "execute_result",
          "data": {
            "text/plain": [
              "4"
            ]
          },
          "metadata": {
            "tags": []
          },
          "execution_count": 2
        }
      ]
    },
    {
      "cell_type": "code",
      "metadata": {
        "id": "GVVrFwvwtnX9",
        "colab_type": "code",
        "colab": {},
        "outputId": "e0b40685-d363-4757-b828-7e8cc9d34aa0"
      },
      "source": [
        "# Append a value to the end\n",
        "L.append(11)\n",
        "L"
      ],
      "execution_count": 0,
      "outputs": [
        {
          "output_type": "execute_result",
          "data": {
            "text/plain": [
              "[2, 3, 5, 7, 11]"
            ]
          },
          "metadata": {
            "tags": []
          },
          "execution_count": 3
        }
      ]
    },
    {
      "cell_type": "code",
      "metadata": {
        "id": "JcHjgn5utnX_",
        "colab_type": "code",
        "colab": {},
        "outputId": "ab7646d7-ab75-40ea-cb2f-70a7d54f8896"
      },
      "source": [
        "# Addition concatenates lists\n",
        "L + [13, 17, 19]"
      ],
      "execution_count": 0,
      "outputs": [
        {
          "output_type": "execute_result",
          "data": {
            "text/plain": [
              "[2, 3, 5, 7, 11, 13, 17, 19]"
            ]
          },
          "metadata": {
            "tags": []
          },
          "execution_count": 4
        }
      ]
    },
    {
      "cell_type": "code",
      "metadata": {
        "id": "IBoyBSirtnYC",
        "colab_type": "code",
        "colab": {},
        "outputId": "c033b6bb-7b51-4a89-e8ee-eb14c97bb847"
      },
      "source": [
        "# sort() method sorts in-place\n",
        "L = [2, 5, 1, 6, 3, 4]\n",
        "L.sort()\n",
        "L"
      ],
      "execution_count": 0,
      "outputs": [
        {
          "output_type": "execute_result",
          "data": {
            "text/plain": [
              "[1, 2, 3, 4, 5, 6]"
            ]
          },
          "metadata": {
            "tags": []
          },
          "execution_count": 5
        }
      ]
    },
    {
      "cell_type": "markdown",
      "metadata": {
        "id": "uCX5s8datnYE",
        "colab_type": "text"
      },
      "source": [
        "In addition, there are many more built-in list methods; they are well-covered in Python's [online documentation](https://docs.python.org/3/tutorial/datastructures.html).\n",
        "\n",
        "While we've been demonstrating lists containing values of a single type, one of the powerful features of Python's compound objects is that they can contain objects of *any* type, or even a mix of types. For example:\n",
        "\n",
        "Python の [オンラインドキュメント](https://docs.python.org/3/tutorial/datastructures.html) で十分に説明されています。\n",
        "\n",
        "ここまでは単一の型の値を含むリストのデモをしてきましたが、Pythonの複合オブジェクトの強力な機能の一つは、*any*型のオブジェクトを含むことができること、あるいは型が混在しているオブジェクトを含むことができることです。例えば、以下のようになります。"
      ]
    },
    {
      "cell_type": "code",
      "metadata": {
        "id": "nZrkypJmtnYF",
        "colab_type": "code",
        "colab": {}
      },
      "source": [
        "L = [1, 'two', 3.14, [0, 3, 5]]"
      ],
      "execution_count": 0,
      "outputs": []
    },
    {
      "cell_type": "markdown",
      "metadata": {
        "id": "2kK4wIcAtnYI",
        "colab_type": "text"
      },
      "source": [
        "This flexibility is a consequence of Python's dynamic type system.\n",
        "Creating such a mixed sequence in a statically-typed language like C can be much more of a headache!\n",
        "We see that lists can even contain other lists as elements.\n",
        "Such type flexibility is an essential piece of what makes Python code relatively quick and easy to write.\n",
        "\n",
        "So far we've been considering manipulations of lists as a whole; another essential piece is the accessing of individual elements.\n",
        "This is done in Python via *indexing* and *slicing*, which we'll explore next.\n",
        "\n",
        "この柔軟性は Python の動的型システムの結果です。\n",
        "C言語のような静的型付けされた言語でこのような混合シーケンスを作成するのは、頭の痛い問題です。\n",
        "リストは他のリストを要素として含むこともできます。\n",
        "このような型の柔軟性は、Python のコードを比較的速く簡単に書くための重要な要素です。\n",
        "\n",
        "ここまではリスト全体の操作について考えてきましたが、もう一つの重要な要素は個々の要素へのアクセスです。\n",
        "これは Python で *indexing* と *slicing* を介して行われます。"
      ]
    },
    {
      "cell_type": "markdown",
      "metadata": {
        "id": "AlNakaVItnYJ",
        "colab_type": "text"
      },
      "source": [
        "### リストのインデックス作成とスライス\n",
        "### List indexing and slicing\n",
        "Python provides access to elements in compound types through *indexing* for single elements, and *slicing* for multiple elements.\n",
        "As we'll see, both are indicated by a square-bracket syntax.\n",
        "Suppose we return to our list of the first several primes:\n",
        "\n",
        "Pythonは、単一の要素に対しては*indexing*、複数の要素に対しては*slicing*で複合型の要素へのアクセスを提供しています。\n",
        "見ての通り、両方とも角括弧の構文で示されています。\n",
        "最初の数個の素数のリストに戻るとしましょう。"
      ]
    },
    {
      "cell_type": "code",
      "metadata": {
        "id": "VT9Sy4v4tnYJ",
        "colab_type": "code",
        "colab": {}
      },
      "source": [
        "L = [2, 3, 5, 7, 11]"
      ],
      "execution_count": 0,
      "outputs": []
    },
    {
      "cell_type": "markdown",
      "metadata": {
        "id": "r6_aUfvetnYL",
        "colab_type": "text"
      },
      "source": [
        "Python uses *zero-based* indexing, so we can access the first and second element in using the following syntax:\n",
        "\n",
        "Pythonは*zero-based*インデックスを使用しているので、以下の構文を使用して1番目と2番目の要素にアクセスすることができます。"
      ]
    },
    {
      "cell_type": "code",
      "metadata": {
        "id": "ghPKvq0PtnYL",
        "colab_type": "code",
        "colab": {},
        "outputId": "0c1f8c27-85a8-4f56-888c-9ce2675476de"
      },
      "source": [
        "L[0]"
      ],
      "execution_count": 0,
      "outputs": [
        {
          "output_type": "execute_result",
          "data": {
            "text/plain": [
              "2"
            ]
          },
          "metadata": {
            "tags": []
          },
          "execution_count": 8
        }
      ]
    },
    {
      "cell_type": "code",
      "metadata": {
        "id": "VHKk_TNItnYO",
        "colab_type": "code",
        "colab": {},
        "outputId": "129dbee2-eb12-4537-863d-b9f915365f7a"
      },
      "source": [
        "L[1]"
      ],
      "execution_count": 0,
      "outputs": [
        {
          "output_type": "execute_result",
          "data": {
            "text/plain": [
              "3"
            ]
          },
          "metadata": {
            "tags": []
          },
          "execution_count": 9
        }
      ]
    },
    {
      "cell_type": "markdown",
      "metadata": {
        "id": "cyvy6vRXtnYQ",
        "colab_type": "text"
      },
      "source": [
        "Elements at the end of the list can be accessed with negative numbers, starting from -1:\n",
        "\n",
        "リストの最後にある要素は、-1から始まる負の数でアクセスできます。"
      ]
    },
    {
      "cell_type": "code",
      "metadata": {
        "id": "Cax7hhRLtnYR",
        "colab_type": "code",
        "colab": {},
        "outputId": "7f2745ea-324b-40e6-bb39-2f04d337344b"
      },
      "source": [
        "L[-1]"
      ],
      "execution_count": 0,
      "outputs": [
        {
          "output_type": "execute_result",
          "data": {
            "text/plain": [
              "11"
            ]
          },
          "metadata": {
            "tags": []
          },
          "execution_count": 10
        }
      ]
    },
    {
      "cell_type": "code",
      "metadata": {
        "id": "3XYxrGz6tnYT",
        "colab_type": "code",
        "colab": {},
        "outputId": "660be595-072f-443a-f7c9-06439e4174df"
      },
      "source": [
        "L[-2]"
      ],
      "execution_count": 0,
      "outputs": [
        {
          "output_type": "execute_result",
          "data": {
            "text/plain": [
              "7"
            ]
          },
          "metadata": {
            "tags": []
          },
          "execution_count": 11
        }
      ]
    },
    {
      "cell_type": "markdown",
      "metadata": {
        "id": "SMuwUomStnYV",
        "colab_type": "text"
      },
      "source": [
        "You can visualize this indexing scheme this way:\n",
        "\n",
        "このようにして、このインデックス化スキームを可視化することができます。"
      ]
    },
    {
      "cell_type": "markdown",
      "metadata": {
        "collapsed": false,
        "id": "XEZo5wcgtnYW",
        "colab_type": "text"
      },
      "source": [
        "![List Indexing Figure](https://github.com/MasakazuNaganuma/WhirlwindTourOfPython/blob/master/fig/list-indexing.png?raw=1)"
      ]
    },
    {
      "cell_type": "markdown",
      "metadata": {
        "id": "mS3GPg7dtnYW",
        "colab_type": "text"
      },
      "source": [
        "Here values in the list are represented by large numbers in the squares; list indices are represented by small numbers above and below.\n",
        "In this case, ``L[2]`` returns ``5``, because that is the next value at index ``2``.\n",
        "\n",
        "ここではリストの値は四角の中の大きな数字で表され、リストのインデックスは上下の小さな数字で表されます。\n",
        "この場合、 ``L[2]``はインデックス ``2`` の次の値である ``5`` を返します。"
      ]
    },
    {
      "cell_type": "markdown",
      "metadata": {
        "id": "Lgc499MdtnYX",
        "colab_type": "text"
      },
      "source": [
        "Where *indexing* is a means of fetching a single value from the list, *slicing* is a means of accessing multiple values in sub-lists.\n",
        "It uses a colon to indicate the start point (inclusive) and end point (non-inclusive) of the sub-array.\n",
        "For example, to get the first three elements of the list, we can write:\n",
        "\n",
        "*indexing*がリストから単一の値を取得する手段であるのに対し、*slicing*はサブリスト内の複数の値にアクセスする手段です。\n",
        "部分配列の開始点(包含)と終了点(非包含)を示すためにコロンを使用します。\n",
        "例えば、リストの最初の3つの要素を取得するには、次のように書きます。"
      ]
    },
    {
      "cell_type": "code",
      "metadata": {
        "id": "SxOZ_Md5tnYX",
        "colab_type": "code",
        "colab": {},
        "outputId": "8db56b8c-07f8-49c2-9c68-3a9a53377cbf"
      },
      "source": [
        "L[0:3]"
      ],
      "execution_count": 0,
      "outputs": [
        {
          "output_type": "execute_result",
          "data": {
            "text/plain": [
              "[2, 3, 5]"
            ]
          },
          "metadata": {
            "tags": []
          },
          "execution_count": 12
        }
      ]
    },
    {
      "cell_type": "markdown",
      "metadata": {
        "id": "1SExUE6VtnYZ",
        "colab_type": "text"
      },
      "source": [
        "Notice where ``0`` and ``3`` lie in the preceding diagram, and how the slice takes just the values between the indices.\n",
        "If we leave out the first index, ``0`` is assumed, so we can equivalently write:\n",
        "\n",
        "上の図で ``0`` と ``3`` がどこにあるか、そしてスライスがどのようにインデックス間の値だけを取るかに注目してください。\n",
        "最初のインデックスを省略すると ``0`` が仮定されるので、等価的に書くことができます。"
      ]
    },
    {
      "cell_type": "code",
      "metadata": {
        "id": "nEgZGJ5utnYa",
        "colab_type": "code",
        "colab": {},
        "outputId": "244ad81a-dc3e-4c19-bf68-41956e655568"
      },
      "source": [
        "L[:3]"
      ],
      "execution_count": 0,
      "outputs": [
        {
          "output_type": "execute_result",
          "data": {
            "text/plain": [
              "[2, 3, 5]"
            ]
          },
          "metadata": {
            "tags": []
          },
          "execution_count": 13
        }
      ]
    },
    {
      "cell_type": "markdown",
      "metadata": {
        "id": "c5X9H36XtnYc",
        "colab_type": "text"
      },
      "source": [
        "Similarly, if we leave out the last index, it defaults to the length of the list.\n",
        "Thus, the last three elements can be accessed as follows:\n",
        "\n",
        "同様に、最後のインデックスを省略すると、リストの長さがデフォルトになります。\n",
        "したがって、最後の3つの要素は以下のようにアクセスできます。"
      ]
    },
    {
      "cell_type": "code",
      "metadata": {
        "id": "s4x7NBzFtnYd",
        "colab_type": "code",
        "colab": {},
        "outputId": "510569ba-248e-401c-af4a-4a031faa4636"
      },
      "source": [
        "L[-3:]"
      ],
      "execution_count": 0,
      "outputs": [
        {
          "output_type": "execute_result",
          "data": {
            "text/plain": [
              "[5, 7, 11]"
            ]
          },
          "metadata": {
            "tags": []
          },
          "execution_count": 14
        }
      ]
    },
    {
      "cell_type": "markdown",
      "metadata": {
        "id": "eiBiROHQtnYf",
        "colab_type": "text"
      },
      "source": [
        "Finally, it is possible to specify a third integer that represents the step size; for example, to select every second element of the list, we can write:\n",
        "\n",
        "最後に、ステップサイズを表す3番目の整数を指定することができます。例えば、リストの2番目の要素をすべて選択するには、次のように書きます。"
      ]
    },
    {
      "cell_type": "code",
      "metadata": {
        "id": "OHYM1O27tnYg",
        "colab_type": "code",
        "colab": {},
        "outputId": "f62cd839-0b92-4cc5-9578-06fbd3686411"
      },
      "source": [
        "L[::2]  # equivalent to L[0:len(L):2]"
      ],
      "execution_count": 0,
      "outputs": [
        {
          "output_type": "execute_result",
          "data": {
            "text/plain": [
              "[2, 5, 11]"
            ]
          },
          "metadata": {
            "tags": []
          },
          "execution_count": 15
        }
      ]
    },
    {
      "cell_type": "markdown",
      "metadata": {
        "id": "xiyyqma9tnYi",
        "colab_type": "text"
      },
      "source": [
        "A particularly useful version of this is to specify a negative step, which will reverse the array:\n",
        "\n",
        "特に便利なのは、負のステップを指定して配列を反転させることです。"
      ]
    },
    {
      "cell_type": "code",
      "metadata": {
        "id": "Ju46d6STtnYj",
        "colab_type": "code",
        "colab": {},
        "outputId": "61f12d35-5269-442e-8f25-4a4d6278d163"
      },
      "source": [
        "L[::-1]"
      ],
      "execution_count": 0,
      "outputs": [
        {
          "output_type": "execute_result",
          "data": {
            "text/plain": [
              "[11, 7, 5, 3, 2]"
            ]
          },
          "metadata": {
            "tags": []
          },
          "execution_count": 16
        }
      ]
    },
    {
      "cell_type": "markdown",
      "metadata": {
        "id": "h0Zl8uTktnYl",
        "colab_type": "text"
      },
      "source": [
        "Both indexing and slicing can be used to set elements as well as access them.\n",
        "The syntax is as you would expect:\n",
        "\n",
        "インデックス作成とスライスの両方とも、要素の設定とアクセスに使用することができます。\n",
        "構文は期待通りです。"
      ]
    },
    {
      "cell_type": "code",
      "metadata": {
        "id": "Cbsxd0gAtnYl",
        "colab_type": "code",
        "colab": {},
        "outputId": "3f2d651e-f09d-44af-e5b0-ca9164f73871"
      },
      "source": [
        "L[0] = 100\n",
        "print(L)"
      ],
      "execution_count": 0,
      "outputs": [
        {
          "output_type": "stream",
          "text": [
            "[100, 3, 5, 7, 11]\n"
          ],
          "name": "stdout"
        }
      ]
    },
    {
      "cell_type": "code",
      "metadata": {
        "id": "0-_al8hWtnYn",
        "colab_type": "code",
        "colab": {},
        "outputId": "e0b4a590-7e6e-485a-e85d-8bb2e49bf224"
      },
      "source": [
        "L[1:3] = [55, 56]\n",
        "print(L)"
      ],
      "execution_count": 0,
      "outputs": [
        {
          "output_type": "stream",
          "text": [
            "[100, 55, 56, 7, 11]\n"
          ],
          "name": "stdout"
        }
      ]
    },
    {
      "cell_type": "markdown",
      "metadata": {
        "id": "or4QGYRptnYq",
        "colab_type": "text"
      },
      "source": [
        "A very similar slicing syntax is also used in many data science-oriented packages, including NumPy and Pandas (mentioned in the introduction).\n",
        "\n",
        "Now that we have seen Python lists and how to access elements in ordered compound types, let's take a look at the other three standard compound data types mentioned earlier.\n",
        "\n",
        "非常に似たようなスライシング構文は、NumPyやPandasなどのデータサイエンス向けの多くのパッケージでも使用されています（紹介文でも触れました）。\n",
        "\n",
        "さて、Pythonのリストと、順序付き複合型の要素へのアクセス方法を見てきましたが、先に述べた他の3つの標準的な複合型データ型を見てみましょう。"
      ]
    },
    {
      "cell_type": "markdown",
      "metadata": {
        "id": "MqenxeuJtnYq",
        "colab_type": "text"
      },
      "source": [
        "## タプル\n",
        "## Tuples\n",
        "\n",
        "Tuples are in many ways similar to lists, but they are defined with parentheses rather than square brackets:\n",
        "\n",
        "タプルは多くの点でリストに似ていますが、角括弧ではなく括弧で定義されています。"
      ]
    },
    {
      "cell_type": "code",
      "metadata": {
        "id": "37gclfvZtnYq",
        "colab_type": "code",
        "colab": {}
      },
      "source": [
        "t = (1, 2, 3)"
      ],
      "execution_count": 0,
      "outputs": []
    },
    {
      "cell_type": "markdown",
      "metadata": {
        "id": "JDnBKGd9tnYu",
        "colab_type": "text"
      },
      "source": [
        "They can also be defined without any brackets at all:\n",
        "\n",
        "また、括弧を全く付けずに定義することもできます。"
      ]
    },
    {
      "cell_type": "code",
      "metadata": {
        "id": "UyR3mDh1tnYu",
        "colab_type": "code",
        "colab": {},
        "outputId": "5c97a2f9-d578-4774-cef2-1d920592cf3d"
      },
      "source": [
        "t = 1, 2, 3\n",
        "print(t)"
      ],
      "execution_count": 0,
      "outputs": [
        {
          "output_type": "stream",
          "text": [
            "(1, 2, 3)\n"
          ],
          "name": "stdout"
        }
      ]
    },
    {
      "cell_type": "markdown",
      "metadata": {
        "id": "OVPlaj9ttnYx",
        "colab_type": "text"
      },
      "source": [
        "Like the lists discussed before, tuples have a length, and individual elements can be extracted using square-bracket indexing:\n",
        "\n",
        "前に説明したリストと同様に、タプルは長さを持ち、個々の要素は角括弧インデックスを使って抽出することができます。"
      ]
    },
    {
      "cell_type": "code",
      "metadata": {
        "id": "uDoXRa2ItnYy",
        "colab_type": "code",
        "colab": {},
        "outputId": "90dc83f5-5030-436e-9a4c-141354d56982"
      },
      "source": [
        "len(t)"
      ],
      "execution_count": 0,
      "outputs": [
        {
          "output_type": "execute_result",
          "data": {
            "text/plain": [
              "3"
            ]
          },
          "metadata": {
            "tags": []
          },
          "execution_count": 21
        }
      ]
    },
    {
      "cell_type": "code",
      "metadata": {
        "id": "XbwuF7IftnY0",
        "colab_type": "code",
        "colab": {},
        "outputId": "11791c64-475e-46eb-bb47-9bb787d836aa"
      },
      "source": [
        "t[0]"
      ],
      "execution_count": 0,
      "outputs": [
        {
          "output_type": "execute_result",
          "data": {
            "text/plain": [
              "1"
            ]
          },
          "metadata": {
            "tags": []
          },
          "execution_count": 22
        }
      ]
    },
    {
      "cell_type": "markdown",
      "metadata": {
        "id": "P-77a9T3tnY2",
        "colab_type": "text"
      },
      "source": [
        "The main distinguishing feature of tuples is that they are *immutable*: this means that once they are created, their size and contents cannot be changed:\n",
        "\n",
        "タプルの主な特徴は、*immutable*であるということです：これは、一度作成されたタプルはサイズや内容を変更できないことを意味します。"
      ]
    },
    {
      "cell_type": "code",
      "metadata": {
        "id": "zaZ-nIuktnY2",
        "colab_type": "code",
        "colab": {},
        "outputId": "08bd1ac9-ae34-4ef9-eb8a-0d137299ed6b"
      },
      "source": [
        "t[1] = 4"
      ],
      "execution_count": 0,
      "outputs": [
        {
          "output_type": "error",
          "ename": "TypeError",
          "evalue": "'tuple' object does not support item assignment",
          "traceback": [
            "\u001b[0;31m---------------------------------------------------------------------------\u001b[0m",
            "\u001b[0;31mTypeError\u001b[0m                                 Traceback (most recent call last)",
            "\u001b[0;32m<ipython-input-23-141c76cb54a2>\u001b[0m in \u001b[0;36m<module>\u001b[0;34m()\u001b[0m\n\u001b[0;32m----> 1\u001b[0;31m \u001b[0mt\u001b[0m\u001b[0;34m[\u001b[0m\u001b[0;36m1\u001b[0m\u001b[0;34m]\u001b[0m \u001b[0;34m=\u001b[0m \u001b[0;36m4\u001b[0m\u001b[0;34m\u001b[0m\u001b[0m\n\u001b[0m",
            "\u001b[0;31mTypeError\u001b[0m: 'tuple' object does not support item assignment"
          ]
        }
      ]
    },
    {
      "cell_type": "code",
      "metadata": {
        "id": "-xtZ1Tl8tnY4",
        "colab_type": "code",
        "colab": {},
        "outputId": "4b0be963-a137-4bae-aafb-951cc7c87219"
      },
      "source": [
        "t.append(4)"
      ],
      "execution_count": 0,
      "outputs": [
        {
          "output_type": "error",
          "ename": "AttributeError",
          "evalue": "'tuple' object has no attribute 'append'",
          "traceback": [
            "\u001b[0;31m---------------------------------------------------------------------------\u001b[0m",
            "\u001b[0;31mAttributeError\u001b[0m                            Traceback (most recent call last)",
            "\u001b[0;32m<ipython-input-24-e8bd1632f9dd>\u001b[0m in \u001b[0;36m<module>\u001b[0;34m()\u001b[0m\n\u001b[0;32m----> 1\u001b[0;31m \u001b[0mt\u001b[0m\u001b[0;34m.\u001b[0m\u001b[0mappend\u001b[0m\u001b[0;34m(\u001b[0m\u001b[0;36m4\u001b[0m\u001b[0;34m)\u001b[0m\u001b[0;34m\u001b[0m\u001b[0m\n\u001b[0m",
            "\u001b[0;31mAttributeError\u001b[0m: 'tuple' object has no attribute 'append'"
          ]
        }
      ]
    },
    {
      "cell_type": "markdown",
      "metadata": {
        "id": "-2LO95NvtnY6",
        "colab_type": "text"
      },
      "source": [
        "Tuples are often used in a Python program; a particularly common case is in functions that have multiple return values.\n",
        "For example, the ``as_integer_ratio()`` method of floating-point objects returns a numerator and a denominator; this dual return value comes in the form of a tuple:\n",
        "\n",
        "Pythonのプログラムではタプルがよく使われますが、特に一般的なのは複数の戻り値を持つ関数です。\n",
        "例えば、浮動小数点オブジェクトの ``as_integer_ratio()`` メソッドは分子と分母を返します。"
      ]
    },
    {
      "cell_type": "code",
      "metadata": {
        "id": "ub-17WjLtnY6",
        "colab_type": "code",
        "colab": {},
        "outputId": "6c6b1484-b555-432e-bb0e-bd5f93670bf8"
      },
      "source": [
        "x = 0.125\n",
        "x.as_integer_ratio()"
      ],
      "execution_count": 0,
      "outputs": [
        {
          "output_type": "execute_result",
          "data": {
            "text/plain": [
              "(1, 8)"
            ]
          },
          "metadata": {
            "tags": []
          },
          "execution_count": 25
        }
      ]
    },
    {
      "cell_type": "markdown",
      "metadata": {
        "id": "yiWyMHm5tnY9",
        "colab_type": "text"
      },
      "source": [
        "These multiple return values can be individually assigned as follows:"
      ]
    },
    {
      "cell_type": "code",
      "metadata": {
        "id": "Ch4neeZKtnY9",
        "colab_type": "code",
        "colab": {},
        "outputId": "e46df5af-2e6a-4663-fdac-d81cccf94ade"
      },
      "source": [
        "numerator, denominator = x.as_integer_ratio()\n",
        "print(numerator / denominator)"
      ],
      "execution_count": 0,
      "outputs": [
        {
          "output_type": "stream",
          "text": [
            "0.125\n"
          ],
          "name": "stdout"
        }
      ]
    },
    {
      "cell_type": "markdown",
      "metadata": {
        "id": "YyD9n3uPtnY_",
        "colab_type": "text"
      },
      "source": [
        "The indexing and slicing logic covered earlier for lists works for tuples as well, along with a host of other methods.\n",
        "Refer to the online [Python documentation](https://docs.python.org/3/tutorial/datastructures.html) for a more complete list of these.\n",
        "\n",
        "先ほどリストのために説明したインデックス作成とスライスのロジックは、他の多くのメソッドと同様にタプルでも動作します。\n",
        "これらのより完全なリストについては、オンラインの [Python documentation](https://docs.python.org/3/tutorial/datastructures.html) を参照してください。"
      ]
    },
    {
      "cell_type": "markdown",
      "metadata": {
        "id": "6b6a91r1tnZA",
        "colab_type": "text"
      },
      "source": [
        "## 辞書\n",
        "## Dictionaries\n",
        "Dictionaries are extremely flexible mappings of keys to values, and form the basis of much of Python's internal implementation.\n",
        "They can be created via a comma-separated list of ``key:value`` pairs within curly braces:\n",
        "\n",
        "辞書はキーと値の非常に柔軟なマッピングであり、Pythonの内部実装の多くの基礎を形成しています。\n",
        "辞書は中括弧の中にある ``key:value`` のペアをカンマで区切ったリストで作成することができます。"
      ]
    },
    {
      "cell_type": "code",
      "metadata": {
        "id": "IqfSKXMatnZA",
        "colab_type": "code",
        "colab": {}
      },
      "source": [
        "numbers = {'one':1, 'two':2, 'three':3}"
      ],
      "execution_count": 0,
      "outputs": []
    },
    {
      "cell_type": "markdown",
      "metadata": {
        "id": "-n8OnFLMtnZC",
        "colab_type": "text"
      },
      "source": [
        "Items are accessed and set via the indexing syntax used for lists and tuples, except here the index is not a zero-based order but valid key in the dictionary:\n",
        "\n",
        "リストやタプルに使用されるインデックス構文を使用してアイテムにアクセスしたり設定したりします。"
      ]
    },
    {
      "cell_type": "code",
      "metadata": {
        "id": "lxGe4lZatnZC",
        "colab_type": "code",
        "colab": {},
        "outputId": "db848a6e-c49c-4274-efbe-d53cf5171fc2"
      },
      "source": [
        "# Access a value via the key\n",
        "numbers['two']"
      ],
      "execution_count": 0,
      "outputs": [
        {
          "output_type": "execute_result",
          "data": {
            "text/plain": [
              "2"
            ]
          },
          "metadata": {
            "tags": []
          },
          "execution_count": 28
        }
      ]
    },
    {
      "cell_type": "markdown",
      "metadata": {
        "id": "_DwR5OKetnZE",
        "colab_type": "text"
      },
      "source": [
        "New items can be added to the dictionary using indexing as well:\n",
        "\n",
        "インデックスを使用して辞書に新しい項目を追加することもできます。"
      ]
    },
    {
      "cell_type": "code",
      "metadata": {
        "id": "WvpmDkABtnZF",
        "colab_type": "code",
        "colab": {},
        "outputId": "1ba2954d-7c51-4a30-a145-2004d81ad08c"
      },
      "source": [
        "# Set a new key:value pair\n",
        "numbers['ninety'] = 90\n",
        "print(numbers)"
      ],
      "execution_count": 0,
      "outputs": [
        {
          "output_type": "stream",
          "text": [
            "{'three': 3, 'ninety': 90, 'two': 2, 'one': 1}\n"
          ],
          "name": "stdout"
        }
      ]
    },
    {
      "cell_type": "markdown",
      "metadata": {
        "id": "_dWpBNVftnZH",
        "colab_type": "text"
      },
      "source": [
        "Keep in mind that dictionaries do not maintain any sense of order for the input parameters; this is by design.\n",
        "This lack of ordering allows dictionaries to be implemented very efficiently, so that random element access is very fast, regardless of the size of the dictionary (if you're curious how this works, read about the concept of a *hash table*).\n",
        "The [python documentation](https://docs.python.org/3/library/stdtypes.html) has a complete list of the methods available for dictionaries.\n",
        "\n",
        "辞書は入力パラメータの順序を保持していないことを覚えておいてください。\n",
        "このように順序がないため、辞書を非常に効率的に実装することができ、辞書のサイズに関係なく、ランダムな要素へのアクセスが非常に高速になります (これがどのように動作するのか興味がある場合は、*hash table*の概念を読んでください)。\n",
        "The [python documentation](https://docs.python.org/3/library/stdtypes.html) に、辞書で利用可能なメソッドの完全なリストがあります。"
      ]
    },
    {
      "cell_type": "markdown",
      "metadata": {
        "id": "KkHAlf1mtnZI",
        "colab_type": "text"
      },
      "source": [
        "## セット\n",
        "## Sets\n",
        "\n",
        "The fourth basic collection is the set, which contains unordered collections of unique items.\n",
        "They are defined much like lists and tuples, except they use the curly brackets of dictionaries:\n",
        "\n",
        "4 番目の基本的なコレクションはセットで、ユニークなアイテムの順序なしのコレクションを含みます。\n",
        "これらは、辞書の中括弧を使用する以外は、リストやタプルとよく似て定義されています。"
      ]
    },
    {
      "cell_type": "code",
      "metadata": {
        "id": "i49lzyostnZI",
        "colab_type": "code",
        "colab": {}
      },
      "source": [
        "primes = {2, 3, 5, 7}\n",
        "odds = {1, 3, 5, 7, 9}"
      ],
      "execution_count": 0,
      "outputs": []
    },
    {
      "cell_type": "markdown",
      "metadata": {
        "id": "ZXxxH8r7tnZL",
        "colab_type": "text"
      },
      "source": [
        "If you're familiar with the mathematics of sets, you'll be familiar with operations like the union, intersection, difference, symmetric difference, and others.\n",
        "Python's sets have all of these operations built-in, via methods or operators.\n",
        "For each, we'll show the two equivalent methods:\n",
        "\n",
        "集合の数学に精通している人ならば、和、交点、差、対称差などの演算に精通しているでしょう。\n",
        "Pythonの集合には、メソッドや演算子を介してこれらの演算が組み込まれています。\n",
        "それぞれについて、2つの等価なメソッドを紹介します。"
      ]
    },
    {
      "cell_type": "code",
      "metadata": {
        "id": "ZxfaGpXVtnZL",
        "colab_type": "code",
        "colab": {},
        "outputId": "3e7ba65f-95f1-4657-f698-8f679a60657c"
      },
      "source": [
        "# union: items appearing in either\n",
        "primes | odds      # with an operator\n",
        "primes.union(odds) # equivalently with a method"
      ],
      "execution_count": 0,
      "outputs": [
        {
          "output_type": "execute_result",
          "data": {
            "text/plain": [
              "{1, 2, 3, 5, 7, 9}"
            ]
          },
          "metadata": {
            "tags": []
          },
          "execution_count": 31
        }
      ]
    },
    {
      "cell_type": "code",
      "metadata": {
        "id": "M-lR9SobtnZN",
        "colab_type": "code",
        "colab": {},
        "outputId": "c7308b77-3244-4a92-9589-a119348caa23"
      },
      "source": [
        "# intersection: items appearing in both\n",
        "primes & odds             # with an operator\n",
        "primes.intersection(odds) # equivalently with a method"
      ],
      "execution_count": 0,
      "outputs": [
        {
          "output_type": "execute_result",
          "data": {
            "text/plain": [
              "{3, 5, 7}"
            ]
          },
          "metadata": {
            "tags": []
          },
          "execution_count": 32
        }
      ]
    },
    {
      "cell_type": "code",
      "metadata": {
        "id": "RXksrdiTtnZQ",
        "colab_type": "code",
        "colab": {},
        "outputId": "9e2f042d-f23e-4161-9bc6-139e2e3d6a22"
      },
      "source": [
        "# difference: items in primes but not in odds\n",
        "primes - odds           # with an operator\n",
        "primes.difference(odds) # equivalently with a method"
      ],
      "execution_count": 0,
      "outputs": [
        {
          "output_type": "execute_result",
          "data": {
            "text/plain": [
              "{2}"
            ]
          },
          "metadata": {
            "tags": []
          },
          "execution_count": 33
        }
      ]
    },
    {
      "cell_type": "code",
      "metadata": {
        "id": "wjgttgZ9tnZS",
        "colab_type": "code",
        "colab": {},
        "outputId": "e484c4a8-3cba-459e-8ab1-80eac16ea261"
      },
      "source": [
        "# symmetric difference: items appearing in only one set\n",
        "primes ^ odds                     # with an operator\n",
        "primes.symmetric_difference(odds) # equivalently with a method"
      ],
      "execution_count": 0,
      "outputs": [
        {
          "output_type": "execute_result",
          "data": {
            "text/plain": [
              "{1, 2, 9}"
            ]
          },
          "metadata": {
            "tags": []
          },
          "execution_count": 34
        }
      ]
    },
    {
      "cell_type": "markdown",
      "metadata": {
        "id": "GWJmMXjPtnZT",
        "colab_type": "text"
      },
      "source": [
        "Many more set methods and operations are available.\n",
        "You've probably already guessed what I'll say next: refer to Python's [online documentation](https://docs.python.org/3/library/stdtypes.html) for a complete reference.\n",
        "\n",
        "他にもたくさんのセットメソッドや操作が用意されています。\n",
        "次に何を言おうとしているかはもうお分かりでしょう: Python の [オンラインドキュメント](https://docs.python.org/3/library/stdtypes.html) を参照してください。"
      ]
    },
    {
      "cell_type": "markdown",
      "metadata": {
        "id": "IwJOL7ZXtnZU",
        "colab_type": "text"
      },
      "source": [
        "## その他の特殊なデータ構造体\n",
        "## More Specialized Data Structures\n",
        "\n",
        "Python contains several other data structures that you might find useful; these can generally be found in the built-in ``collections`` module.\n",
        "The collections module is fully-documented in [Python's online documentation](https://docs.python.org/3/library/collections.html), and you can read more about the various objects available there.\n",
        "\n",
        "In particular, I've found the following very useful on occasion:\n",
        "\n",
        "- ``collections.namedtuple``: Like a tuple, but each value has a name\n",
        "- ``collections.defaultdict``: Like a dictionary, but unspecified keys have a user-specified default value\n",
        "- ``collections.OrderedDict``: Like a dictionary, but the order of keys is maintained\n",
        "\n",
        "Once you've seen the standard built-in collection types, the use of these extended functionalities is very intuitive, and I'd suggest [reading about their use](https://docs.python.org/3/library/collections.html).\n",
        "\n",
        "Pythonは他にも便利なデータ構造をいくつか持っています; これらは一般的に組み込みの ``collections`` モジュールの中にあります。\n",
        "これらは一般的に組み込みの ``collections`` モジュールで見つけることができます。collections モジュールは [Python のオンラインドキュメント](https://docs.python.org/3/library/collections.html) で完全に文書化されており、そこで利用可能な様々なオブジェクトについての詳細を読むことができます。\n",
        "\n",
        "特に、以下のようなものが非常に便利だと感じたことがあります。\n",
        "\n",
        "- ``collections.namedtuple``. タプルのようなものですが、それぞれの値に名前がついています。\n",
        "- ``collections.defaultdict``. 辞書のようなものですが、指定されていないキーはユーザが指定したデフォルト値を持ちます。\n",
        "- ``collections.OrderedDict``. 辞書のようなものですが、キーの順番は維持されます。\n",
        "\n",
        "標準のビルトインコレクションタイプを見た後は、これらの拡張機能の使用は非常に直感的で、[その使用法](https://docs.python.org/3/library/collections.html)を読むことをお勧めします。"
      ]
    },
    {
      "cell_type": "markdown",
      "metadata": {
        "id": "P-HMB92ztnZU",
        "colab_type": "text"
      },
      "source": [
        "<!--NAVIGATION-->\n",
        "< [Built-In Types: Simple Values](05-Built-in-Scalar-Types.ipynb) | [Contents](Index.ipynb) | [Control Flow](07-Control-Flow-Statements.ipynb) >"
      ]
    }
  ]
}