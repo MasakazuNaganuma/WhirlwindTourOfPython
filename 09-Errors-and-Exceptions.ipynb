{
  "nbformat": 4,
  "nbformat_minor": 0,
  "metadata": {
    "anaconda-cloud": {},
    "kernelspec": {
      "display_name": "Python 3",
      "language": "python",
      "name": "python3"
    },
    "language_info": {
      "codemirror_mode": {
        "name": "ipython",
        "version": 3
      },
      "file_extension": ".py",
      "mimetype": "text/x-python",
      "name": "python",
      "nbconvert_exporter": "python",
      "pygments_lexer": "ipython3",
      "version": "3.5.1"
    },
    "colab": {
      "name": "09-Errors-and-Exceptions.ipynb",
      "provenance": [],
      "toc_visible": true,
      "include_colab_link": true
    }
  },
  "cells": [
    {
      "cell_type": "markdown",
      "metadata": {
        "id": "view-in-github",
        "colab_type": "text"
      },
      "source": [
        "<a href=\"https://colab.research.google.com/github/MasakazuNaganuma/WhirlwindTourOfPython/blob/master/09-Errors-and-Exceptions.ipynb\" target=\"_parent\"><img src=\"https://colab.research.google.com/assets/colab-badge.svg\" alt=\"Open In Colab\"/></a>"
      ]
    },
    {
      "cell_type": "markdown",
      "metadata": {
        "id": "DaFOMvyepSfD",
        "colab_type": "text"
      },
      "source": [
        "<!--BOOK_INFORMATION-->\n",
        "<img align=\"left\" style=\"padding-right:10px;\" src=\"https://github.com/MasakazuNaganuma/WhirlwindTourOfPython/blob/master/fig/cover-small.jpg?raw=1\">\n",
        "*This notebook contains an excerpt from the [Whirlwind Tour of Python](http://www.oreilly.com/programming/free/a-whirlwind-tour-of-python.csp) by Jake VanderPlas; the content is available [on GitHub](https://github.com/jakevdp/WhirlwindTourOfPython).*\n",
        "\n",
        "*The text and code are released under the [CC0](https://github.com/jakevdp/WhirlwindTourOfPython/blob/master/LICENSE) license; see also the companion project, the [Python Data Science Handbook](https://github.com/jakevdp/PythonDataScienceHandbook).*\n"
      ]
    },
    {
      "cell_type": "markdown",
      "metadata": {
        "id": "w6f7iClCpSfF",
        "colab_type": "text"
      },
      "source": [
        "<!--NAVIGATION-->\n",
        "< [Defining and Using Functions](08-Defining-Functions.ipynb) | [Contents](Index.ipynb) | [Iterators](10-Iterators.ipynb) >"
      ]
    },
    {
      "cell_type": "markdown",
      "metadata": {
        "id": "jCk_qpHLpSfG",
        "colab_type": "text"
      },
      "source": [
        "# エラーと例外\n",
        "# Errors and Exceptions\n"
      ]
    },
    {
      "cell_type": "markdown",
      "metadata": {
        "id": "cxw6FHwVpSfH",
        "colab_type": "text"
      },
      "source": [
        "No matter your skill as a programmer, you will eventually make a coding mistake.\n",
        "Such mistakes come in three basic flavors:\n",
        "\n",
        "- *Syntax errors:* Errors where the code is not valid Python (generally easy to fix)\n",
        "- *Runtime errors:* Errors where syntactically valid code fails to execute, perhaps due to invalid user input (sometimes easy to fix)\n",
        "- *Semantic errors:* Errors in logic: code executes without a problem, but the result is not what you expect (often very difficult to track-down and fix)\n",
        "\n",
        "Here we're going to focus on how to deal cleanly with *runtime errors*.\n",
        "As we'll see, Python handles runtime errors via its *exception handling* framework.\n",
        "\n",
        "プログラマーとしてのスキルがあっても、最終的にはコーディングミスをすることになります。\n",
        "そのようなミスには3つの基本的な種類があります。\n",
        "\n",
        "- *シンタックスエラー:* コードが有効なPythonではない場合のエラー(一般的には修正が容易)\n",
        "- *ランタイムエラー:*構文的に有効なコードの実行に失敗するエラー。\n",
        "- *セマンティックエラー：*ロジックのエラー：コードは問題なく実行されるが、結果は期待したものではない（多くの場合、追跡して修正するのは非常に難しい）。\n",
        "\n",
        "ここでは、*ランタイムエラー*をクリーンに処理する方法に焦点を当てます。\n",
        "見ての通り、Pythonは*exception handling*フレームワークを介してランタイムエラーを処理します。"
      ]
    },
    {
      "cell_type": "markdown",
      "metadata": {
        "id": "z1iRMQ_3pSfI",
        "colab_type": "text"
      },
      "source": [
        "## ランタイムエラー\n",
        "## Runtime Errors\n",
        "\n",
        "If you've done any coding in Python, you've likely come across runtime errors.\n",
        "They can happen in a lot of ways.\n",
        "\n",
        "For example, if you try to reference an undefined variable:\n",
        "\n",
        "Pythonでコーディングをしたことがあれば、ランタイムエラーに遭遇することがあるでしょう。\n",
        "これは様々な方法で起こる可能性があります。\n",
        "\n",
        "例えば、未定義の変数を参照しようとした場合。"
      ]
    },
    {
      "cell_type": "code",
      "metadata": {
        "id": "M5KDihvXpSfJ",
        "colab_type": "code",
        "colab": {},
        "outputId": "c77b1bd5-7624-451c-b46a-86c325049baf"
      },
      "source": [
        "print(Q)"
      ],
      "execution_count": 0,
      "outputs": [
        {
          "output_type": "error",
          "ename": "NameError",
          "evalue": "name 'Q' is not defined",
          "traceback": [
            "\u001b[0;31m---------------------------------------------------------------------------\u001b[0m",
            "\u001b[0;31mNameError\u001b[0m                                 Traceback (most recent call last)",
            "\u001b[0;32m<ipython-input-3-e796bdcf24ff>\u001b[0m in \u001b[0;36m<module>\u001b[0;34m()\u001b[0m\n\u001b[0;32m----> 1\u001b[0;31m \u001b[0mprint\u001b[0m\u001b[0;34m(\u001b[0m\u001b[0mQ\u001b[0m\u001b[0;34m)\u001b[0m\u001b[0;34m\u001b[0m\u001b[0m\n\u001b[0m",
            "\u001b[0;31mNameError\u001b[0m: name 'Q' is not defined"
          ]
        }
      ]
    },
    {
      "cell_type": "markdown",
      "metadata": {
        "id": "df8VENb3pSfN",
        "colab_type": "text"
      },
      "source": [
        "あるいは、定義されていない操作をしようとした場合。\n",
        "\n",
        "Or if you try an operation that's not defined:\n"
      ]
    },
    {
      "cell_type": "code",
      "metadata": {
        "id": "-JB_qK7mpSfO",
        "colab_type": "code",
        "colab": {},
        "outputId": "c9472c78-bd7e-433e-a554-672c347f2e94"
      },
      "source": [
        "1 + 'abc'"
      ],
      "execution_count": 0,
      "outputs": [
        {
          "output_type": "error",
          "ename": "TypeError",
          "evalue": "unsupported operand type(s) for +: 'int' and 'str'",
          "traceback": [
            "\u001b[0;31m---------------------------------------------------------------------------\u001b[0m",
            "\u001b[0;31mTypeError\u001b[0m                                 Traceback (most recent call last)",
            "\u001b[0;32m<ipython-input-4-aab9e8ede4f7>\u001b[0m in \u001b[0;36m<module>\u001b[0;34m()\u001b[0m\n\u001b[0;32m----> 1\u001b[0;31m \u001b[0;36m1\u001b[0m \u001b[0;34m+\u001b[0m \u001b[0;34m'abc'\u001b[0m\u001b[0;34m\u001b[0m\u001b[0m\n\u001b[0m",
            "\u001b[0;31mTypeError\u001b[0m: unsupported operand type(s) for +: 'int' and 'str'"
          ]
        }
      ]
    },
    {
      "cell_type": "markdown",
      "metadata": {
        "id": "KGExBwnepSfR",
        "colab_type": "text"
      },
      "source": [
        "あるいは、数学的に定義されていない結果を計算しようとしているかもしれません。\n",
        "\n",
        "Or you might be trying to compute a mathematically ill-defined result:"
      ]
    },
    {
      "cell_type": "code",
      "metadata": {
        "id": "3b3nk5WfpSfS",
        "colab_type": "code",
        "colab": {},
        "outputId": "0058ea1a-c976-4333-e355-c6096efb388a"
      },
      "source": [
        "2 / 0"
      ],
      "execution_count": 0,
      "outputs": [
        {
          "output_type": "error",
          "ename": "ZeroDivisionError",
          "evalue": "division by zero",
          "traceback": [
            "\u001b[0;31m---------------------------------------------------------------------------\u001b[0m",
            "\u001b[0;31mZeroDivisionError\u001b[0m                         Traceback (most recent call last)",
            "\u001b[0;32m<ipython-input-5-ae0c5d243292>\u001b[0m in \u001b[0;36m<module>\u001b[0;34m()\u001b[0m\n\u001b[0;32m----> 1\u001b[0;31m \u001b[0;36m2\u001b[0m \u001b[0;34m/\u001b[0m \u001b[0;36m0\u001b[0m\u001b[0;34m\u001b[0m\u001b[0m\n\u001b[0m",
            "\u001b[0;31mZeroDivisionError\u001b[0m: division by zero"
          ]
        }
      ]
    },
    {
      "cell_type": "markdown",
      "metadata": {
        "id": "U61jn2hZpSfV",
        "colab_type": "text"
      },
      "source": [
        "あるいは、存在しないシーケンス要素にアクセスしようとしているのかもしれません。\n",
        "\n",
        "Or maybe you're trying to access a sequence element that doesn't exist:\n",
        "\n"
      ]
    },
    {
      "cell_type": "code",
      "metadata": {
        "id": "GytTBTyTpSfV",
        "colab_type": "code",
        "colab": {},
        "outputId": "05b04d2d-ce21-4fdf-c8ee-b812028d69a8"
      },
      "source": [
        "L = [1, 2, 3]\n",
        "L[1000]"
      ],
      "execution_count": 0,
      "outputs": [
        {
          "output_type": "error",
          "ename": "IndexError",
          "evalue": "list index out of range",
          "traceback": [
            "\u001b[0;31m---------------------------------------------------------------------------\u001b[0m",
            "\u001b[0;31mIndexError\u001b[0m                                Traceback (most recent call last)",
            "\u001b[0;32m<ipython-input-6-06b6eb1b8957>\u001b[0m in \u001b[0;36m<module>\u001b[0;34m()\u001b[0m\n\u001b[1;32m      1\u001b[0m \u001b[0mL\u001b[0m \u001b[0;34m=\u001b[0m \u001b[0;34m[\u001b[0m\u001b[0;36m1\u001b[0m\u001b[0;34m,\u001b[0m \u001b[0;36m2\u001b[0m\u001b[0;34m,\u001b[0m \u001b[0;36m3\u001b[0m\u001b[0;34m]\u001b[0m\u001b[0;34m\u001b[0m\u001b[0m\n\u001b[0;32m----> 2\u001b[0;31m \u001b[0mL\u001b[0m\u001b[0;34m[\u001b[0m\u001b[0;36m1000\u001b[0m\u001b[0;34m]\u001b[0m\u001b[0;34m\u001b[0m\u001b[0m\n\u001b[0m",
            "\u001b[0;31mIndexError\u001b[0m: list index out of range"
          ]
        }
      ]
    },
    {
      "cell_type": "markdown",
      "metadata": {
        "id": "q0V0qzpxpSfY",
        "colab_type": "text"
      },
      "source": [
        "Note that in each case, Python is kind enough to not simply indicate that an error happened, but to spit out a *meaningful* exception that includes information about what exactly went wrong, along with the exact line of code where the error happened.\n",
        "Having access to meaningful errors like this is immensely useful when trying to trace the root of problems in your code.\n",
        "\n",
        "それぞれのケースで、Python は単にエラーが発生したことを示すのではなく、エラーが発生したコードの正確な行とともに、何が間違っていたのかという情報を含む *意味のある*例外を吐き出してくれることに注意してください。\n",
        "このような意味のあるエラーにアクセスできることは、コードの問題の根源を辿ろうとしているときに非常に便利です。"
      ]
    },
    {
      "cell_type": "markdown",
      "metadata": {
        "id": "MqHUSQf0pSfZ",
        "colab_type": "text"
      },
      "source": [
        "## 例外をキャッチする。``try`` と ``except`` の場合\n",
        "## Catching Exceptions: ``try`` and ``except``\n",
        "\n",
        "The main tool Python gives you for handling runtime exceptions is the ``try``...``except`` clause.\n",
        "Its basic structure is this:\n",
        "\n",
        "Pythonが実行時の例外を処理するために提供している主なツールは ``try``...``except``節です。\n",
        "基本的な構造は以下の通りです。"
      ]
    },
    {
      "cell_type": "code",
      "metadata": {
        "id": "vZzVJvCKpSfZ",
        "colab_type": "code",
        "colab": {},
        "outputId": "9ae377a8-f7ca-47bf-e977-7d9e9f4d64bc"
      },
      "source": [
        "try:\n",
        "    print(\"this gets executed first\")\n",
        "except:\n",
        "    print(\"this gets executed only if there is an error\")"
      ],
      "execution_count": 0,
      "outputs": [
        {
          "output_type": "stream",
          "text": [
            "this gets executed first\n"
          ],
          "name": "stdout"
        }
      ]
    },
    {
      "cell_type": "markdown",
      "metadata": {
        "id": "oxnqmaHkpSfc",
        "colab_type": "text"
      },
      "source": [
        "Note that the second block here did not get executed: this is because the first block did not return an error.\n",
        "Let's put a problematic statement in the ``try`` block and see what happens:\n",
        "\n",
        "ここで2番目のブロックが実行されなかったことに注意してください: これは1番目のブロックがエラーを返さなかったからです。\n",
        "問題のある文を ``try`` ブロックに入れて、どうなるか見てみましょう。"
      ]
    },
    {
      "cell_type": "code",
      "metadata": {
        "id": "KjM60112pSfc",
        "colab_type": "code",
        "colab": {},
        "outputId": "1939ebbc-f054-4bbd-9dab-da7a7eaa68c4"
      },
      "source": [
        "try:\n",
        "    print(\"let's try something:\")\n",
        "    x = 1 / 0 # ZeroDivisionError\n",
        "except:\n",
        "    print(\"something bad happened!\")"
      ],
      "execution_count": 0,
      "outputs": [
        {
          "output_type": "stream",
          "text": [
            "let's try something:\n",
            "something bad happened!\n"
          ],
          "name": "stdout"
        }
      ]
    },
    {
      "cell_type": "markdown",
      "metadata": {
        "id": "JT6SVS0epSff",
        "colab_type": "text"
      },
      "source": [
        "Here we see that when the error was raised in the ``try`` statement (in this case, a ``ZeroDivisionError``), the error was caught, and the ``except`` statement was executed.\n",
        "\n",
        "One way this is often used is to check user input within a function or another piece of code.\n",
        "For example, we might wish to have a function that catches zero-division and returns some other value, perhaps a suitably large number like $10^{100}$:\n",
        "\n",
        "ここでは ``try`` 文（この場合は ``ZeroDivisionError``）の中でエラーが発生したときにエラーをキャッチして、 ``except`` 文が実行されていることがわかります。\n",
        "\n",
        "これがよく使われる方法の一つとして、関数や他のコードの中でユーザの入力をチェックすることがあります。\n",
        "例えば、ゼロ除算をキャッチして他の値、例えば $10^{100}$ のような大きな値を返す関数が欲しいとします。"
      ]
    },
    {
      "cell_type": "code",
      "metadata": {
        "id": "qKfYYJ4vpSff",
        "colab_type": "code",
        "colab": {}
      },
      "source": [
        "def safe_divide(a, b):\n",
        "    try:\n",
        "        return a / b\n",
        "    except:\n",
        "        return 1E100"
      ],
      "execution_count": 0,
      "outputs": []
    },
    {
      "cell_type": "code",
      "metadata": {
        "id": "qTefRANZpSfi",
        "colab_type": "code",
        "colab": {},
        "outputId": "55a95554-4ad3-478a-d400-38a8536d205a"
      },
      "source": [
        "safe_divide(1, 2)"
      ],
      "execution_count": 0,
      "outputs": [
        {
          "output_type": "execute_result",
          "data": {
            "text/plain": [
              "0.5"
            ]
          },
          "metadata": {
            "tags": []
          },
          "execution_count": 10
        }
      ]
    },
    {
      "cell_type": "code",
      "metadata": {
        "id": "PA5Q3W6gpSfk",
        "colab_type": "code",
        "colab": {},
        "outputId": "33ffa2dc-d493-4268-beac-9f5f2464e490"
      },
      "source": [
        "safe_divide(2, 0)"
      ],
      "execution_count": 0,
      "outputs": [
        {
          "output_type": "execute_result",
          "data": {
            "text/plain": [
              "1e+100"
            ]
          },
          "metadata": {
            "tags": []
          },
          "execution_count": 11
        }
      ]
    },
    {
      "cell_type": "markdown",
      "metadata": {
        "id": "OmwB7jqdpSfp",
        "colab_type": "text"
      },
      "source": [
        "There is a subtle problem with this code, though: what happens when another type of exception comes up? For example, this is probably not what we intended:\n",
        "\n",
        "しかし、このコードには微妙な問題があります: 別のタイプの例外が発生した場合はどうなるのでしょうか? 例えば、これはおそらく私たちが意図したものではありません。"
      ]
    },
    {
      "cell_type": "code",
      "metadata": {
        "id": "mbBRAe6vpSfq",
        "colab_type": "code",
        "colab": {},
        "outputId": "5abdc5c1-ac2a-4fee-c59d-28c705692088"
      },
      "source": [
        "safe_divide (1, '2')"
      ],
      "execution_count": 0,
      "outputs": [
        {
          "output_type": "execute_result",
          "data": {
            "text/plain": [
              "1e+100"
            ]
          },
          "metadata": {
            "tags": []
          },
          "execution_count": 12
        }
      ]
    },
    {
      "cell_type": "markdown",
      "metadata": {
        "id": "ON0FyK-hpSfs",
        "colab_type": "text"
      },
      "source": [
        "Dividing an integer and a string raises a ``TypeError``, which our over-zealous code caught and assumed was a ``ZeroDivisionError``!\n",
        "For this reason, it's nearly always a better idea to catch exceptions *explicitly*:\n",
        "\n",
        "整数と文字列を割ると ``TypeError`` が発生します。\n",
        "このような理由から、ほとんどの場合、例外を **暗黙**のうちにキャッチするのが良い考えです。"
      ]
    },
    {
      "cell_type": "code",
      "metadata": {
        "id": "VrEaAgQtpSfs",
        "colab_type": "code",
        "colab": {}
      },
      "source": [
        "def safe_divide(a, b):\n",
        "    try:\n",
        "        return a / b\n",
        "    except ZeroDivisionError: #明示的に例外を指定する。\n",
        "        return 1E100"
      ],
      "execution_count": 0,
      "outputs": []
    },
    {
      "cell_type": "code",
      "metadata": {
        "id": "hE_gYuxwpSfu",
        "colab_type": "code",
        "colab": {},
        "outputId": "4f8cf04a-6bff-42b6-dc2c-c721936d429a"
      },
      "source": [
        "safe_divide(1, 0)"
      ],
      "execution_count": 0,
      "outputs": [
        {
          "output_type": "execute_result",
          "data": {
            "text/plain": [
              "1e+100"
            ]
          },
          "metadata": {
            "tags": []
          },
          "execution_count": 14
        }
      ]
    },
    {
      "cell_type": "code",
      "metadata": {
        "id": "FoaTYvC0pSfw",
        "colab_type": "code",
        "colab": {},
        "outputId": "6c87cfdc-5024-4ee8-c6bc-6843aec59790"
      },
      "source": [
        "safe_divide(1, '2')"
      ],
      "execution_count": 0,
      "outputs": [
        {
          "output_type": "error",
          "ename": "TypeError",
          "evalue": "unsupported operand type(s) for /: 'int' and 'str'",
          "traceback": [
            "\u001b[0;31m---------------------------------------------------------------------------\u001b[0m",
            "\u001b[0;31mTypeError\u001b[0m                                 Traceback (most recent call last)",
            "\u001b[0;32m<ipython-input-15-2331af6a0acf>\u001b[0m in \u001b[0;36m<module>\u001b[0;34m()\u001b[0m\n\u001b[0;32m----> 1\u001b[0;31m \u001b[0msafe_divide\u001b[0m\u001b[0;34m(\u001b[0m\u001b[0;36m1\u001b[0m\u001b[0;34m,\u001b[0m \u001b[0;34m'2'\u001b[0m\u001b[0;34m)\u001b[0m\u001b[0;34m\u001b[0m\u001b[0m\n\u001b[0m",
            "\u001b[0;32m<ipython-input-13-10b5f0163af8>\u001b[0m in \u001b[0;36msafe_divide\u001b[0;34m(a, b)\u001b[0m\n\u001b[1;32m      1\u001b[0m \u001b[0;32mdef\u001b[0m \u001b[0msafe_divide\u001b[0m\u001b[0;34m(\u001b[0m\u001b[0ma\u001b[0m\u001b[0;34m,\u001b[0m \u001b[0mb\u001b[0m\u001b[0;34m)\u001b[0m\u001b[0;34m:\u001b[0m\u001b[0;34m\u001b[0m\u001b[0m\n\u001b[1;32m      2\u001b[0m     \u001b[0;32mtry\u001b[0m\u001b[0;34m:\u001b[0m\u001b[0;34m\u001b[0m\u001b[0m\n\u001b[0;32m----> 3\u001b[0;31m         \u001b[0;32mreturn\u001b[0m \u001b[0ma\u001b[0m \u001b[0;34m/\u001b[0m \u001b[0mb\u001b[0m\u001b[0;34m\u001b[0m\u001b[0m\n\u001b[0m\u001b[1;32m      4\u001b[0m     \u001b[0;32mexcept\u001b[0m \u001b[0mZeroDivisionError\u001b[0m\u001b[0;34m:\u001b[0m\u001b[0;34m\u001b[0m\u001b[0m\n\u001b[1;32m      5\u001b[0m         \u001b[0;32mreturn\u001b[0m \u001b[0;36m1E100\u001b[0m\u001b[0;34m\u001b[0m\u001b[0m\n",
            "\u001b[0;31mTypeError\u001b[0m: unsupported operand type(s) for /: 'int' and 'str'"
          ]
        }
      ]
    },
    {
      "cell_type": "markdown",
      "metadata": {
        "id": "syq2CDMnpSfy",
        "colab_type": "text"
      },
      "source": [
        "We're now catching zero-division errors only, and letting all other errors pass through un-modified.\n",
        "\n",
        "現在はゼロ除算のエラーのみをキャッチし、それ以外のエラーは修正せずに通過させるようにしています。"
      ]
    },
    {
      "cell_type": "markdown",
      "metadata": {
        "id": "PVmelDawpSfz",
        "colab_type": "text"
      },
      "source": [
        "## 例外を発生させる: ``rise``\n",
        "## Raising Exceptions: ``raise``\n",
        "\n",
        "We've seen how valuable it is to have informative exceptions when using parts of the Python language.\n",
        "It's equally valuable to make use of informative exceptions within the code you write, so that users of your code (foremost yourself!) can figure out what caused their errors.\n",
        "\n",
        "The way you raise your own exceptions is with the ``raise`` statement. For example:\n",
        "\n",
        "Python言語の一部を使用しているときに、情報提供型例外を使用することがどれほど価値のあることかを見てきました。\n",
        "あなたが書いたコードの中で、情報提供型の例外を利用することも同様に価値があります。\n",
        "\n",
        "例外を発生させるには ``raise`` 文を使います。例えば、以下のようになります。"
      ]
    },
    {
      "cell_type": "code",
      "metadata": {
        "id": "y3cBnJv9pSfz",
        "colab_type": "code",
        "colab": {},
        "outputId": "34997d6d-9a39-4055-f1e3-3b455ef5294e"
      },
      "source": [
        "raise RuntimeError(\"my error message\")"
      ],
      "execution_count": 0,
      "outputs": [
        {
          "output_type": "error",
          "ename": "RuntimeError",
          "evalue": "my error message",
          "traceback": [
            "\u001b[0;31m---------------------------------------------------------------------------\u001b[0m",
            "\u001b[0;31mRuntimeError\u001b[0m                              Traceback (most recent call last)",
            "\u001b[0;32m<ipython-input-16-c6a4c1ed2f34>\u001b[0m in \u001b[0;36m<module>\u001b[0;34m()\u001b[0m\n\u001b[0;32m----> 1\u001b[0;31m \u001b[0;32mraise\u001b[0m \u001b[0mRuntimeError\u001b[0m\u001b[0;34m(\u001b[0m\u001b[0;34m\"my error message\"\u001b[0m\u001b[0;34m)\u001b[0m\u001b[0;34m\u001b[0m\u001b[0m\n\u001b[0m",
            "\u001b[0;31mRuntimeError\u001b[0m: my error message"
          ]
        }
      ]
    },
    {
      "cell_type": "markdown",
      "metadata": {
        "id": "DAUnZ4qppSf2",
        "colab_type": "text"
      },
      "source": [
        "As an example of where this might be useful, let's return to our ``fibonacci`` function that we defined previously:\n",
        "\n",
        "これが役に立つ例として、先ほど定義した ``fibonacci`` 関数に戻ってみましょう。"
      ]
    },
    {
      "cell_type": "code",
      "metadata": {
        "id": "CiRQft4EpSf2",
        "colab_type": "code",
        "colab": {}
      },
      "source": [
        "def fibonacci(N):\n",
        "    L = []\n",
        "    a, b = 0, 1\n",
        "    while len(L) < N:\n",
        "        a, b = b, a + b\n",
        "        L.append(a)\n",
        "    return L"
      ],
      "execution_count": 0,
      "outputs": []
    },
    {
      "cell_type": "markdown",
      "metadata": {
        "id": "NcpzeT5lpSf5",
        "colab_type": "text"
      },
      "source": [
        "One potential problem here is that the input value could be negative.\n",
        "This will not currently cause any error in our function, but we might want to let the user know that a negative ``N`` is not supported.\n",
        "Errors stemming from invalid parameter values, by convention, lead to a ``ValueError`` being raised:\n",
        "\n",
        "ここで一つの潜在的な問題は、入力値が負の値になる可能性があるということです。\n",
        "これは今のところこの関数ではエラーにはなりませんが、負の ``N`` がサポートされていないことをユーザに知らせたいと思うかもしれません。\n",
        "無効なパラメータ値に起因するエラーは、慣習的に ``ValueError`` が発生します。"
      ]
    },
    {
      "cell_type": "code",
      "metadata": {
        "id": "yov4NYm7pSf5",
        "colab_type": "code",
        "colab": {}
      },
      "source": [
        "def fibonacci(N):\n",
        "    if N < 0:\n",
        "        raise ValueError(\"N must be non-negative\")\n",
        "    L = []\n",
        "    a, b = 0, 1\n",
        "    while len(L) < N:\n",
        "        a, b = b, a + b\n",
        "        L.append(a)\n",
        "    return L"
      ],
      "execution_count": 0,
      "outputs": []
    },
    {
      "cell_type": "code",
      "metadata": {
        "id": "Icpn6noepSf8",
        "colab_type": "code",
        "colab": {},
        "outputId": "b4ef4d5a-fb43-43a3-da17-143601c4352b"
      },
      "source": [
        "fibonacci(10)"
      ],
      "execution_count": 0,
      "outputs": [
        {
          "output_type": "execute_result",
          "data": {
            "text/plain": [
              "[1, 1, 2, 3, 5, 8, 13, 21, 34, 55]"
            ]
          },
          "metadata": {
            "tags": []
          },
          "execution_count": 19
        }
      ]
    },
    {
      "cell_type": "code",
      "metadata": {
        "id": "DXReqAdMpSf-",
        "colab_type": "code",
        "colab": {},
        "outputId": "f959316d-0123-4a25-a287-4fef2c8c80e5"
      },
      "source": [
        "fibonacci(-10)"
      ],
      "execution_count": 0,
      "outputs": [
        {
          "output_type": "error",
          "ename": "ValueError",
          "evalue": "N must be non-negative",
          "traceback": [
            "\u001b[0;31m---------------------------------------------------------------------------\u001b[0m",
            "\u001b[0;31mValueError\u001b[0m                                Traceback (most recent call last)",
            "\u001b[0;32m<ipython-input-20-3d291499cfa7>\u001b[0m in \u001b[0;36m<module>\u001b[0;34m()\u001b[0m\n\u001b[0;32m----> 1\u001b[0;31m \u001b[0mfibonacci\u001b[0m\u001b[0;34m(\u001b[0m\u001b[0;34m-\u001b[0m\u001b[0;36m10\u001b[0m\u001b[0;34m)\u001b[0m\u001b[0;34m\u001b[0m\u001b[0m\n\u001b[0m",
            "\u001b[0;32m<ipython-input-18-01d0cf168d63>\u001b[0m in \u001b[0;36mfibonacci\u001b[0;34m(N)\u001b[0m\n\u001b[1;32m      1\u001b[0m \u001b[0;32mdef\u001b[0m \u001b[0mfibonacci\u001b[0m\u001b[0;34m(\u001b[0m\u001b[0mN\u001b[0m\u001b[0;34m)\u001b[0m\u001b[0;34m:\u001b[0m\u001b[0;34m\u001b[0m\u001b[0m\n\u001b[1;32m      2\u001b[0m     \u001b[0;32mif\u001b[0m \u001b[0mN\u001b[0m \u001b[0;34m<\u001b[0m \u001b[0;36m0\u001b[0m\u001b[0;34m:\u001b[0m\u001b[0;34m\u001b[0m\u001b[0m\n\u001b[0;32m----> 3\u001b[0;31m         \u001b[0;32mraise\u001b[0m \u001b[0mValueError\u001b[0m\u001b[0;34m(\u001b[0m\u001b[0;34m\"N must be non-negative\"\u001b[0m\u001b[0;34m)\u001b[0m\u001b[0;34m\u001b[0m\u001b[0m\n\u001b[0m\u001b[1;32m      4\u001b[0m     \u001b[0mL\u001b[0m \u001b[0;34m=\u001b[0m \u001b[0;34m[\u001b[0m\u001b[0;34m]\u001b[0m\u001b[0;34m\u001b[0m\u001b[0m\n\u001b[1;32m      5\u001b[0m     \u001b[0ma\u001b[0m\u001b[0;34m,\u001b[0m \u001b[0mb\u001b[0m \u001b[0;34m=\u001b[0m \u001b[0;36m0\u001b[0m\u001b[0;34m,\u001b[0m \u001b[0;36m1\u001b[0m\u001b[0;34m\u001b[0m\u001b[0m\n",
            "\u001b[0;31mValueError\u001b[0m: N must be non-negative"
          ]
        }
      ]
    },
    {
      "cell_type": "markdown",
      "metadata": {
        "id": "TqFPo-K1pSgA",
        "colab_type": "text"
      },
      "source": [
        "Now the user knows exactly why the input is invalid, and could even use a ``try``...``except`` block to handle it!\n",
        "\n",
        "これでユーザはなぜ入力が無効なのかを正確に知ることができるようになり、 ``try``...``except`` ブロックを使って処理することもできるようになりました。"
      ]
    },
    {
      "cell_type": "code",
      "metadata": {
        "id": "Pnfa5BadpSgA",
        "colab_type": "code",
        "colab": {},
        "outputId": "6e09655e-2e8c-470b-c353-7e16ccf697c6"
      },
      "source": [
        "N = -10\n",
        "try:\n",
        "    print(\"trying this...\")\n",
        "    print(fibonacci(N))\n",
        "except ValueError:\n",
        "    print(\"Bad value: need to do something else\")"
      ],
      "execution_count": 0,
      "outputs": [
        {
          "output_type": "stream",
          "text": [
            "trying this...\n",
            "Bad value: need to do something else\n"
          ],
          "name": "stdout"
        }
      ]
    },
    {
      "cell_type": "markdown",
      "metadata": {
        "id": "XA7bejvHpSgC",
        "colab_type": "text"
      },
      "source": [
        "## ♪ ♪ 例外をもっと深く掘り下げて\n",
        "## Diving Deeper into Exceptions\n",
        "\n",
        "Briefly, I want to mention here some other concepts you might run into.\n",
        "I'll not go into detail on these concepts and how and why to use them, but instead simply show you the syntax so you can explore more on your own.\n",
        "\n",
        "簡単に言うと、ここでは他にもいくつかの概念について触れておきたいと思います。\n",
        "ここでは、これらの概念や、それらをどのように使うのか、なぜ使うのかについては詳しく説明しませんが、代わりに構文を簡単に説明します。"
      ]
    },
    {
      "cell_type": "markdown",
      "metadata": {
        "id": "HOuWKh4-pSgC",
        "colab_type": "text"
      },
      "source": [
        "### エラーメッセージへのアクセス\n",
        "### Accessing the error message\n",
        "\n",
        "Sometimes in a ``try``...``except`` statement, you would like to be able to work with the error message itself.\n",
        "This can be done with the ``as`` keyword:\n",
        "\n",
        "時々、``try``...``except`` 文の中で、エラーメッセージそのものを扱うことができるようにしたいと思うことがあります。\n",
        "これは ``as`` キーワードで行うことができます。"
      ]
    },
    {
      "cell_type": "code",
      "metadata": {
        "id": "aWs_IdGLpSgD",
        "colab_type": "code",
        "colab": {},
        "outputId": "c4958e33-4fb2-4f34-ddef-3700a07abc6c"
      },
      "source": [
        "try:\n",
        "    x = 1 / 0\n",
        "except ZeroDivisionError as err:\n",
        "    print(\"Error class is:  \", type(err))\n",
        "    print(\"Error message is:\", err)"
      ],
      "execution_count": 0,
      "outputs": [
        {
          "output_type": "stream",
          "text": [
            "Error class is:   <class 'ZeroDivisionError'>\n",
            "Error message is: division by zero\n"
          ],
          "name": "stdout"
        }
      ]
    },
    {
      "cell_type": "markdown",
      "metadata": {
        "id": "lCiDYQ-WpSgF",
        "colab_type": "text"
      },
      "source": [
        "With this pattern, you can further customize the exception handling of your function.\n",
        "\n",
        "このパターンを使用すると、関数の例外処理をさらにカスタマイズすることができます。"
      ]
    },
    {
      "cell_type": "markdown",
      "metadata": {
        "id": "wrekZ_A8pSgF",
        "colab_type": "text"
      },
      "source": [
        "### カスタム例外の定義\n",
        "### Defining custom exceptions\n",
        "\n",
        "In addition to built-in exceptions, it is possible to define custom exceptions through *class inheritance*.\n",
        "For instance, if you want a special kind of ``ValueError``, you can do this:\n",
        "\n",
        "組み込みの例外に加えて、*クラス継承*によってカスタムの例外を定義することができます。\n",
        "例えば、特別な種類の ``ValueError`` が欲しい場合は、次のようにします。"
      ]
    },
    {
      "cell_type": "code",
      "metadata": {
        "id": "exRYj8KepSgG",
        "colab_type": "code",
        "colab": {},
        "outputId": "b0f13d3f-aa4f-447f-d5c9-8a66d84d435c"
      },
      "source": [
        "class MySpecialError(ValueError):\n",
        "    pass\n",
        "\n",
        "raise MySpecialError(\"here's the message\")"
      ],
      "execution_count": 0,
      "outputs": [
        {
          "output_type": "error",
          "ename": "MySpecialError",
          "evalue": "here's the message",
          "traceback": [
            "\u001b[0;31m---------------------------------------------------------------------------\u001b[0m",
            "\u001b[0;31mMySpecialError\u001b[0m                            Traceback (most recent call last)",
            "\u001b[0;32m<ipython-input-23-92c36e04a9d0>\u001b[0m in \u001b[0;36m<module>\u001b[0;34m()\u001b[0m\n\u001b[1;32m      2\u001b[0m     \u001b[0;32mpass\u001b[0m\u001b[0;34m\u001b[0m\u001b[0m\n\u001b[1;32m      3\u001b[0m \u001b[0;34m\u001b[0m\u001b[0m\n\u001b[0;32m----> 4\u001b[0;31m \u001b[0;32mraise\u001b[0m \u001b[0mMySpecialError\u001b[0m\u001b[0;34m(\u001b[0m\u001b[0;34m\"here's the message\"\u001b[0m\u001b[0;34m)\u001b[0m\u001b[0;34m\u001b[0m\u001b[0m\n\u001b[0m",
            "\u001b[0;31mMySpecialError\u001b[0m: here's the message"
          ]
        }
      ]
    },
    {
      "cell_type": "markdown",
      "metadata": {
        "id": "qsAITzF-pSgI",
        "colab_type": "text"
      },
      "source": [
        "This would allow you to use a ``try``...``except`` block that only catches this type of error:\n",
        "\n",
        "これにより、このタイプのエラーのみをキャッチする ``try``...``except`` ブロックを使うことができるようになります。"
      ]
    },
    {
      "cell_type": "code",
      "metadata": {
        "id": "owkdBoR1pSgJ",
        "colab_type": "code",
        "colab": {},
        "outputId": "59742092-792f-4994-d818-5a59c357e78d"
      },
      "source": [
        "try:\n",
        "    print(\"do something\")\n",
        "    raise MySpecialError(\"[informative error message here]\")\n",
        "except MySpecialError:\n",
        "    print(\"do something else\")"
      ],
      "execution_count": 0,
      "outputs": [
        {
          "output_type": "stream",
          "text": [
            "do something\n",
            "do something else\n"
          ],
          "name": "stdout"
        }
      ]
    },
    {
      "cell_type": "markdown",
      "metadata": {
        "id": "GoQhgW1LpSgL",
        "colab_type": "text"
      },
      "source": [
        "You might find this useful as you develop more customized code.\n",
        "\n",
        "よりカスタマイズされたコードを開発する際に役立つかもしれません。"
      ]
    },
    {
      "cell_type": "markdown",
      "metadata": {
        "id": "qvn3UG8bpSgL",
        "colab_type": "text"
      },
      "source": [
        "## ``try``...``except``...``else``...``finally``\n",
        "## ``try``...``except``...``else``...``finally``\n",
        "\n",
        "In addition to ``try`` and ``except``, you can use the ``else`` and ``finally`` keywords to further tune your code's handling of exceptions.\n",
        "The basic structure is this:\n",
        "\n",
        "``try``や``except``に加えて、``else``や``finally``などのキーワードを使うことで、コードの例外処理をさらに調整することができます。\n",
        "基本的な構造は以下の通りです。"
      ]
    },
    {
      "cell_type": "code",
      "metadata": {
        "id": "QSVfMr4PpSgL",
        "colab_type": "code",
        "colab": {},
        "outputId": "ae65503a-5a3a-4520-e4fc-ee6f5550b203"
      },
      "source": [
        "try:\n",
        "    print(\"try something here\")\n",
        "except:\n",
        "    print(\"this happens only if it fails\")\n",
        "else:\n",
        "    print(\"this happens only if it succeeds\")\n",
        "finally:\n",
        "    print(\"this happens no matter what\") "
      ],
      "execution_count": 0,
      "outputs": [
        {
          "output_type": "stream",
          "text": [
            "try something here\n",
            "this happens only if it succeeds\n",
            "this happens no matter what\n"
          ],
          "name": "stdout"
        }
      ]
    },
    {
      "cell_type": "markdown",
      "metadata": {
        "id": "8tqcgOmApSgN",
        "colab_type": "text"
      },
      "source": [
        "The utility of ``else`` here is clear, but what's the point of ``finally``?\n",
        "Well, the ``finally`` clause really is executed *no matter what*: I usually see it used to do some sort of cleanup after an operation completes.\n",
        "\n",
        "ここでの ``else`` の有用性は明らかですが、``finally`` の意味は何でしょうか？\n",
        "まあ、``finally``節は実際には*何があっても*実行されます。通常、操作が完了した後にある種のクリーンアップを行うために使われているのを見かけることがあります。"
      ]
    },
    {
      "cell_type": "markdown",
      "metadata": {
        "id": "5c8KoB8FpSgO",
        "colab_type": "text"
      },
      "source": [
        "<!--NAVIGATION-->\n",
        "< [Defining and Using Functions](08-Defining-Functions.ipynb) | [Contents](Index.ipynb) | [Iterators](10-Iterators.ipynb) >"
      ]
    }
  ]
}