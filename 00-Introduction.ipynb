{
  "nbformat": 4,
  "nbformat_minor": 0,
  "metadata": {
    "anaconda-cloud": {},
    "kernelspec": {
      "display_name": "Python 3",
      "language": "python",
      "name": "python3"
    },
    "language_info": {
      "codemirror_mode": {
        "name": "ipython",
        "version": 3
      },
      "file_extension": ".py",
      "mimetype": "text/x-python",
      "name": "python",
      "nbconvert_exporter": "python",
      "pygments_lexer": "ipython3",
      "version": "3.5.1"
    },
    "colab": {
      "name": "00-Introduction.ipynb",
      "provenance": [],
      "toc_visible": true,
      "include_colab_link": true
    }
  },
  "cells": [
    {
      "cell_type": "markdown",
      "metadata": {
        "id": "view-in-github",
        "colab_type": "text"
      },
      "source": [
        "<a href=\"https://colab.research.google.com/github/MasakazuNaganuma/WhirlwindTourOfPython/blob/master/00-Introduction.ipynb\" target=\"_parent\"><img src=\"https://colab.research.google.com/assets/colab-badge.svg\" alt=\"Open In Colab\"/></a>"
      ]
    },
    {
      "cell_type": "markdown",
      "metadata": {
        "id": "yguKhipuU2_z",
        "colab_type": "text"
      },
      "source": [
        "<!--BOOK_INFORMATION-->\n",
        "<img align=\"left\" style=\"padding-right:10px;\" src=\"https://github.com/MasakazuNaganuma/WhirlwindTourOfPython/blob/master/fig/cover-small.jpg?raw=1\">\n",
        "*This notebook contains an excerpt from the [Whirlwind Tour of Python](http://www.oreilly.com/programming/free/a-whirlwind-tour-of-python.csp) by Jake VanderPlas; the content is available [on GitHub](https://github.com/jakevdp/WhirlwindTourOfPython).*\n",
        "\n",
        "*The text and code are released under the [CC0](https://github.com/jakevdp/WhirlwindTourOfPython/blob/master/LICENSE) license; see also the companion project, the [Python Data Science Handbook](https://github.com/jakevdp/PythonDataScienceHandbook).*\n"
      ]
    },
    {
      "cell_type": "markdown",
      "metadata": {
        "id": "j3L5DIzIU2_6",
        "colab_type": "text"
      },
      "source": [
        "<!--NAVIGATION-->\n",
        "| [Contents](Index.ipynb) | [How to Run Python Code](01-How-to-Run-Python-Code.ipynb) >"
      ]
    },
    {
      "cell_type": "markdown",
      "metadata": {
        "id": "0Dp8450mU2_9",
        "colab_type": "text"
      },
      "source": [
        "# 1.はじめに\n",
        "\n",
        "# 1. Introduction"
      ]
    },
    {
      "cell_type": "markdown",
      "metadata": {
        "id": "_NzJi1fVU3AB",
        "colab_type": "text"
      },
      "source": [
        "1980年代後半に教育およびスクリプト言語として考えられたPythonは、それ以来、学界や産業界の多くのプログラマー、エンジニア、研究者、およびデータサイエンティストにとって不可欠なツールになりました。\n",
        "データ集約型科学のための無料のオープンツールの構築と宣伝に焦点を当てた天文学者として、Pythonは、大規模な天文データセットから意味を抽出するかどうかにかかわらず、私が日々直面している問題のタイプにほぼ完全に適合することがわかりました。 Webからのデータソースの取得と変更、または日々の調査タスクの自動化。\n",
        "\n",
        "Pythonの魅力は、そのシンプルさと美しさ、そしてその上に構築されたドメイン固有のツールの大規模なエコシステムの利便性にあります。\n",
        "たとえば、科学計算とデータサイエンスのPythonコードのほとんどは、成熟した有用なパッケージのグループを中心に構築されています。\n",
        "\n",
        "- [NumPy](http://numpy.org)は、多次元データ配列の効率的なストレージと計算を提供します。\n",
        "- [SciPy](http://scipy.org)には、数値積分や補間などの幅広い数値ツールが含まれています。\n",
        "- [Pandas](http://pandas.pydata.org)は、データを操作、フィルタリング、グループ化、および変換するための強力なメソッドセットとともにDataFrameオブジェクトを提供します。\n",
        "- [Matplotlib](http://matplotlib.org)は、出版品質のプロットと図を作成するための便利なインターフェイスを提供します。\n",
        "- [Scikit-Learn](http://scikit-learn.org)は、一般的な機械学習アルゴリズムをデータに適用するための統一されたツールキットを提供します。\n",
        "- [IPython / Jupyter](http://jupyter.org)は、強化されたターミナルとインタラクティブなノートブック環境を提供し、探索的分析やインタラクティブな実行可能ドキュメントの作成に役立ちます。たとえば、このレポートの原稿はすべてJupyterノートブックで構成されていました。\n",
        "\n",
        "これらに付随する他の多数のツールとパッケージも同様に重要です。実行する科学的またはデータ分析タスクがある場合、誰かがあなたのためにそれを実行するパッケージを作成した可能性があります。\n",
        "\n",
        "ただし、このデータサイエンスエコシステムの力を活用するには、まずPython言語自体に精通している必要があります。\n",
        "いくつかの言語（MATLAB、IDL、R、Java、C ++など）でのコンピューティングの（時には広範な）経歴を持つ学生や同僚によく出会い、自分のレベルを尊重するPython言語の簡潔で包括的なツアーを探していますゼロから始めるのではなく、知識。\n",
        "このレポートは、そのニッチを埋めようとしています。\n",
        "\n",
        "したがって、このレポートは、プログラミングの包括的な紹介、またはPython言語自体の完全な紹介を目的とするものではありません。それがあなたが探しているものである場合は、[学習用リソース](16-Further-Resources.ipynb)にリストされている推奨参照の1つをチェックしてください。\n",
        "代わりに、これはPythonの基本的な構文とセマンティクス、組み込みのデータ型と構造、関数定義、制御フローステートメント、および言語の他の側面の旋風ツアーを提供します。\n",
        "私の目的は、読者が、ここで概説したデータサイエンススタックを探索するための強固な基盤を持って離れることです。\n",
        "\n",
        "Conceived in the late 1980s as a teaching and scripting language, Python has since become an essential tool for many programmers, engineers, researchers, and data scientists across academia and industry.\n",
        "As an astronomer focused on building and promoting the free open tools for data-intensive science, I've found Python to be a near-perfect fit for the types of problems I face day to day, whether it's extracting meaning from large astronomical datasets, scraping and munging data sources from the Web, or automating day-to-day research tasks.\n",
        "\n",
        "The appeal of Python is in its simplicity and beauty, as well as the convenience of the large ecosystem of domain-specific tools that have been built on top of it.\n",
        "For example, most of the Python code in scientific computing and data science is built around a group of mature and useful packages:\n",
        "\n",
        "- [NumPy](http://numpy.org) provides efficient storage and computation for multi-dimensional data arrays.\n",
        "- [SciPy](http://scipy.org) contains a wide array of numerical tools such as numerical integration and interpolation.\n",
        "- [Pandas](http://pandas.pydata.org) provides a DataFrame object along with a powerful set of methods to manipulate, filter, group, and transform data.\n",
        "- [Matplotlib](http://matplotlib.org) provides a useful interface for creation of publication-quality plots and figures.\n",
        "- [Scikit-Learn](http://scikit-learn.org) provides a uniform toolkit for applying common machine learning algorithms to data.\n",
        "- [IPython/Jupyter](http://jupyter.org) provides an enhanced terminal and an interactive notebook environment that is useful for exploratory analysis, as well as creation of interactive, executable documents. For example, the manuscript for this report was composed entirely in Jupyter notebooks.\n",
        "\n",
        "No less important are the numerous other tools and packages which accompany these: if there is a scientific or data analysis task you want to perform, chances are someone has written a package that will do it for you.\n",
        "\n",
        "To tap into the power of this data science ecosystem, however, first requires familiarity with the Python language itself.\n",
        "I often encounter students and colleagues who have (sometimes extensive) backgrounds in computing in some language – MATLAB, IDL, R, Java, C++, etc. – and are looking for a brief but comprehensive tour of the Python language that respects their level of knowledge rather than starting from ground zero.\n",
        "This report seeks to fill that niche.\n",
        "\n",
        "As such, this report in no way aims to be a comprehensive introduction to programming, or a full introduction to the Python language itself; if that is what you are looking for, you might check out one of the recommended references listed in [Resources for Learning](16-Further-Resources.ipynb).\n",
        "Instead, this will provide a whirlwind tour of some of Python's essential syntax and semantics, built-in data types and structures, function definitions, control flow statements, and other aspects of the language.\n",
        "My aim is that readers will walk away with a solid foundation from which to explore the data science stack just outlined."
      ]
    },
    {
      "cell_type": "markdown",
      "metadata": {
        "id": "CwRwNNVAU3AE",
        "colab_type": "text"
      },
      "source": [
        "## コード例の使用\n",
        "\n",
        "補足資料（コード例、演習など）は、https://github.com/jakevdp/WhirlwindTourOfPython/ からダウンロードできます。\n",
        "この本はあなたの仕事を成し遂げるのを助けるためにここにあります。\n",
        "一般に、この本でサンプルコードが提供されている場合は、プログラムやドキュメントで使用できます。\n",
        "コードの大部分を複製する場合を除き、許可を得るために弊社に連絡する必要はありません。\n",
        "たとえば、この本のコードのいくつかのチャンクを使用するプログラムを書くには、許可は必要ありません。\n",
        "O’Reillyの本のサンプルのCD-ROMを販売または配布するには、許可が必要です。\n",
        "この本を引用してサンプルコードを引用することで質問に答えるには、許可は必要ありません。\n",
        "この本のサンプルコードを製品のドキュメントに大量に組み込むには、許可が必要です。\n",
        "\n",
        "帰属はありがたいですが、必須ではありません。\n",
        "帰属には通常、タイトル、著者、出版社、ISBNが含まれます。\n",
        "例：「Jake VanderPlas（O’Reilly）によるPythonの旋風ツアー。Copyright2016 O’Reilly Media、Inc.、978-1-491-96465-1。」\n",
        "\n",
        "コード例の使用が上記のフェアユースまたは許可の範囲外であると思われる場合は、permissions @ oreilly.comまでお気軽にお問い合わせください。\n",
        "\n",
        "## Using Code Examples\n",
        "\n",
        "Supplemental material (code examples, exercises, etc.) is available for download at https://github.com/jakevdp/WhirlwindTourOfPython/.\n",
        "This book is here to help you get your job done.\n",
        "In general, if example code is offered with this book, you may use it in your programs and documentation.\n",
        "You do not need to contact us for permission unless you’re reproducing a significant portion of the code.\n",
        "For example, writing a program that uses several chunks of code from this book does not require permission.\n",
        "Selling or distributing a CD-ROM of examples from O’Reilly books does require permission.\n",
        "Answering a question by citing this book and quoting example code does not require permission.\n",
        "Incorporating a significant amount of example code from this book into your product’s documentation does require permission.\n",
        "\n",
        "We appreciate, but do not require, attribution.\n",
        "An attribution usually includes the title, author, publisher, and ISBN.\n",
        "For example: \"A Whirlwind Tour of Python by Jake VanderPlas (O’Reilly). Copyright 2016 O’Reilly Media, Inc., 978-1-491-96465-1.\"\n",
        "\n",
        "If you feel your use of code examples falls outside fair use or the per‐ mission given above, feel free to contact us at permissions@oreilly.com."
      ]
    },
    {
      "cell_type": "markdown",
      "metadata": {
        "id": "wzm4vK1bU3AH",
        "colab_type": "text"
      },
      "source": [
        "## インストールと実用上の考慮事項\n",
        "\n",
        "Python、および科学計算を可能にするライブラリスイートのインストールは、Windows、Linux、Mac OS Xのいずれを使用する場合でも簡単です。このセクションでは、コンピューターをセットアップする際の考慮事項のいくつかについて概説します。\n",
        "\n",
        "## Installation and Practical Considerations\n",
        "\n",
        "Installing Python and the suite of libraries that enable scientific computing is straightforward whether you use Windows, Linux, or Mac OS X. This section will outline some of the considerations when setting up your computer."
      ]
    },
    {
      "cell_type": "markdown",
      "metadata": {
        "id": "kZtj9l6rU3AM",
        "colab_type": "text"
      },
      "source": [
        "### Python 2とPython 3\n",
        "\n",
        "このレポートでは、Python 3の構文を使用しています。これには、Pythonの **2.x** シリーズと互換性のない言語拡張が含まれています。\n",
        "Python 3.0が最初にリリースされたのは2008年ですが、特に科学およびWeb開発コミュニティでは、採用が比較的遅くなっています。\n",
        "これは主に、重要なパッケージとツールキットの多くが新しい言語の内部と互換性を持つようになるまでに時間がかかったためです。\n",
        "ただし、2014年の初めから、データサイエンスエコシステムの最も重要なツールの安定版リリースは、Python 2と3の両方と完全に互換性があるため、この本では新しいPython 3構文を使用します。\n",
        "その場合でも、この本のコードスニペットの大部分はPython 2でも変更なしで機能します。Py2と互換性のない構文が使用されている場合は、明示的に注意するよう全力を尽くします。\n",
        "\n",
        "### Python 2 vs Python 3\n",
        "\n",
        "This report uses the syntax of Python 3, which contains language enhancements that are not compatible with the *2.x* series of Python.\n",
        "Though Python 3.0 was first released in 2008, adoption has been relatively slow, particularly in the scientific and web development communities.\n",
        "This is primarily because it took some time for many of the essential packages and toolkits to be made compatible with the new language internals.\n",
        "Since early 2014, however, stable releases of the most important tools in the data science ecosystem have been fully-compatible with both Python 2 and 3, and so this book will use the newer Python 3 syntax.\n",
        "Even though that is the case, the vast majority of code snippets in this book will also work without modification in Python 2: in cases where a Py2-incompatible syntax is used, I will make every effort to note it explicitly."
      ]
    },
    {
      "cell_type": "markdown",
      "metadata": {
        "id": "JRBfUNHFU3AP",
        "colab_type": "text"
      },
      "source": [
        "### condaによるインストール\n",
        "\n",
        "Pythonをインストールするにはさまざまな方法がありますが、特に上記のデータサイエンスツールを最終的に使用したい場合は、クロスプラットフォームのAnacondaディストリビューションを使用することをお勧めします。\n",
        "Anacondaディストリビューションには2つのフレーバーがあります。\n",
        "\n",
        "- [Miniconda](http://conda.pydata.org/miniconda.html)は、Pythonインタープリター自体と、Python向けのクロスプラットフォームパッケージマネージャーとして動作する``conda``と呼ばれるコマンドラインツールを提供しますパッケージは、Linuxユーザーがよく知っている \"``apt``\"または \"``yum``\"ツールと精神的に似ています。\n",
        "- [Anaconda](https://www.continuum.io/downloads)には、Pythonと \"``conda``\"の両方が含まれています。さらに、科学計算向けにあらかじめインストールされている他のパッケージスイートがバンドルされています。\n",
        "\n",
        "Anacondaに含まれているパッケージはすべて、Minicondaの上に手動でインストールすることもできます。このため、Minicondaから始めることをお勧めします。\n",
        "\n",
        "はじめに、Minicondaパッケージをダウンロードしてインストールします。必ずPython 3がインストールされたバージョンを選択してから、IPythonノートブックパッケージをインストールしてください。\n",
        "```\n",
        "[〜] $ conda install ipython-notebook\n",
        "```\n",
        "conda環境の作成と使用に関する情報を含む``conda``の詳細については、上記のページにリンクされているMinicondaパッケージのドキュメントを参照してください。\n",
        "\n",
        "### Installation with conda\n",
        "\n",
        "Though there are various ways to install Python, the one I would suggest – particularly if you wish to eventually use the data science tools mentioned above – is via the cross-platform Anaconda distribution.\n",
        "There are two flavors of the Anaconda distribution:\n",
        "\n",
        "- [Miniconda](http://conda.pydata.org/miniconda.html) gives you Python interpreter itself, along with a command-line tool called ``conda`` which operates as a cross-platform package manager geared toward Python packages, similar in spirit to the ``apt`` or ``yum`` tools that Linux users might be familiar with.\n",
        "- [Anaconda](https://www.continuum.io/downloads) includes both Python and ``conda``, and additionally bundles a suite of other pre-installed packages geared toward scientific computing.\n",
        "\n",
        "Any of the packages included with Anaconda can also be installed manually on top of Miniconda; for this reason I suggest starting with Miniconda.\n",
        "\n",
        "To get started, download and install the Miniconda package – make sure to choose a version with Python 3 – and then install the IPython notebook package:\n",
        "```\n",
        "[~]$ conda install ipython-notebook\n",
        "```\n",
        "For more information on ``conda``, including information about creating and using conda environments, refer to the Miniconda package documentation linked at the above page."
      ]
    },
    {
      "cell_type": "markdown",
      "metadata": {
        "id": "3pgultALU3AS",
        "colab_type": "text"
      },
      "source": [
        "## Pythonの禅\n",
        "\n",
        "多くの場合、Pythonの愛好家は、「直感的」、「美しい」、または「楽しい」Pythonの素晴らしさをすぐに指摘します。\n",
        "私も同意する傾向がありますが、美しさ、直感、および楽しみは親しみやすさと密接に関連していることが多いことも認識しています。\n",
        "それでも、Pythonにチャンスを与えれば、そのような印象がどこから来るのかがわかると思います。\n",
        "そして、もしあなたが**本当に** Pythonパワーユーザーのコーディング実践の多くを推進するプログラミング哲学を掘り下げたいなら、素敵な小さなイースターエッグがPythonインタープリターに存在します：ただ目を閉じて、数分間瞑想し、そして ``import this``：\n",
        "\n",
        "## The Zen of Python\n",
        "\n",
        "Python aficionados are often quick to point out how \"intuitive\", \"beautiful\", or \"fun\" Python is.\n",
        "While I tend to agree, I also recognize that beauty, intuition, and fun often go hand in hand with familiarity, and so for those familiar with other languages such florid sentiments can come across as a bit smug.\n",
        "Nevertheless, I hope that if you give Python a chance, you'll see where such impressions might come from.\n",
        "And if you *really* want to dig into the programming philosophy that drives much of the coding practice of Python power-users, a nice little Easter egg exists in the Python interpreter: simply close your eyes, meditate for a few minutes, and ``import this``:"
      ]
    },
    {
      "cell_type": "code",
      "metadata": {
        "id": "ny9ZRm7QU3AV",
        "colab_type": "code",
        "outputId": "037c8000-1f5e-456b-e907-8d81e15b9559",
        "colab": {}
      },
      "source": [
        "import this"
      ],
      "execution_count": 0,
      "outputs": [
        {
          "output_type": "stream",
          "text": [
            "The Zen of Python, by Tim Peters\n",
            "\n",
            "Beautiful is better than ugly.\n",
            "Explicit is better than implicit.\n",
            "Simple is better than complex.\n",
            "Complex is better than complicated.\n",
            "Flat is better than nested.\n",
            "Sparse is better than dense.\n",
            "Readability counts.\n",
            "Special cases aren't special enough to break the rules.\n",
            "Although practicality beats purity.\n",
            "Errors should never pass silently.\n",
            "Unless explicitly silenced.\n",
            "In the face of ambiguity, refuse the temptation to guess.\n",
            "There should be one-- and preferably only one --obvious way to do it.\n",
            "Although that way may not be obvious at first unless you're Dutch.\n",
            "Now is better than never.\n",
            "Although never is often better than *right* now.\n",
            "If the implementation is hard to explain, it's a bad idea.\n",
            "If the implementation is easy to explain, it may be a good idea.\n",
            "Namespaces are one honking great idea -- let's do more of those!\n"
          ],
          "name": "stdout"
        }
      ]
    },
    {
      "cell_type": "markdown",
      "metadata": {
        "id": "qFdwhebVU3Ay",
        "colab_type": "text"
      },
      "source": [
        "それでは、Python言語のツアーを始めましょう。\n",
        "\n",
        "With that, let's start our tour of the Python language."
      ]
    },
    {
      "cell_type": "markdown",
      "metadata": {
        "id": "IwzuAFf-U3A1",
        "colab_type": "text"
      },
      "source": [
        "<!--NAVIGATION-->\n",
        "| [Contents](Index.ipynb) | [How to Run Python Code](01-How-to-Run-Python-Code.ipynb) >"
      ]
    }
  ]
}