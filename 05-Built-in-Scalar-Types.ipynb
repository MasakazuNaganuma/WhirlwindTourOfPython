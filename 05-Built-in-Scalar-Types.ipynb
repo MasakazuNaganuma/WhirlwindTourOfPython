{
  "nbformat": 4,
  "nbformat_minor": 0,
  "metadata": {
    "anaconda-cloud": {},
    "kernelspec": {
      "display_name": "Python 3",
      "language": "python",
      "name": "python3"
    },
    "language_info": {
      "codemirror_mode": {
        "name": "ipython",
        "version": 3
      },
      "file_extension": ".py",
      "mimetype": "text/x-python",
      "name": "python",
      "nbconvert_exporter": "python",
      "pygments_lexer": "ipython3",
      "version": "3.5.1"
    },
    "colab": {
      "name": "05-Built-in-Scalar-Types.ipynb",
      "provenance": [],
      "toc_visible": true
    }
  },
  "cells": [
    {
      "cell_type": "markdown",
      "metadata": {
        "id": "1JK2P3zHj8z9",
        "colab_type": "text"
      },
      "source": [
        "<!--BOOK_INFORMATION-->\n",
        "<img align=\"left\" style=\"padding-right:10px;\" src=\"https://github.com/MasakazuNaganuma/WhirlwindTourOfPython/blob/master/fig/cover-small.jpg?raw=1\">\n",
        "*This notebook contains an excerpt from the [Whirlwind Tour of Python](http://www.oreilly.com/programming/free/a-whirlwind-tour-of-python.csp) by Jake VanderPlas; the content is available [on GitHub](https://github.com/jakevdp/WhirlwindTourOfPython).*\n",
        "\n",
        "*The text and code are released under the [CC0](https://github.com/jakevdp/WhirlwindTourOfPython/blob/master/LICENSE) license; see also the companion project, the [Python Data Science Handbook](https://github.com/jakevdp/PythonDataScienceHandbook).*\n"
      ]
    },
    {
      "cell_type": "markdown",
      "metadata": {
        "id": "OEZOWgT4j8z_",
        "colab_type": "text"
      },
      "source": [
        "<!--NAVIGATION-->\n",
        "< [Basic Python Semantics: Operators](04-Semantics-Operators.ipynb) | [Contents](Index.ipynb) | [Built-In Data Structures](06-Built-in-Data-Structures.ipynb) >"
      ]
    },
    {
      "cell_type": "markdown",
      "metadata": {
        "id": "Ot3b1Ek4j80A",
        "colab_type": "text"
      },
      "source": [
        "# Built-In Types. 単純な値\n",
        "# Built-In Types: Simple Values"
      ]
    },
    {
      "cell_type": "markdown",
      "metadata": {
        "id": "dyc53B3Kj80A",
        "colab_type": "text"
      },
      "source": [
        "Pythonの変数やオブジェクトについて説明する際に、Pythonのオブジェクトにはすべて型情報が添付されていることを述べました。ここでは、Pythonが提供する組み込みの単純型について簡単に説明します。\n",
        "ここでは、次のセクションで説明するいくつかの複合型と対比させるために「単純型」と呼んでいます。\n",
        "\n",
        "Python の単純型は以下の表にまとめられています。\n",
        "\n",
        "When discussing Python variables and objects, we mentioned the fact that all Python objects have type information attached. Here we'll briefly walk through the built-in simple types offered by Python.\n",
        "We say \"simple types\" to contrast with several compound types, which will be discussed in the following section.\n",
        "\n",
        "Python's simple types are summarized in the following table:\n",
        "\n",
        "<center>**Python Scalar Types**</center>\n",
        "\n",
        "| Type        | Example        | Description                                                  |\n",
        "|-------------|----------------|--------------------------------------------------------------|\n",
        "| ``int``     | ``x = 1``      | integers (i.e., whole numbers)                               |\n",
        "| ``float``   | ``x = 1.0``    | floating-point numbers (i.e., real numbers)                  |\n",
        "| ``complex`` | ``x = 1 + 2j`` | Complex numbers (i.e., numbers with real and imaginary part) |\n",
        "| ``bool``    | ``x = True``   | Boolean: True/False values                                   |\n",
        "| ``str``     | ``x = 'abc'``  | String: characters or text                                   |\n",
        "| ``NoneType``| ``x = None``   | Special object indicating nulls                              |\n",
        "\n",
        "それぞれ順番にざっと見ていきましょう。\n",
        "\n",
        "We'll take a quick look at each of these in turn."
      ]
    },
    {
      "cell_type": "markdown",
      "metadata": {
        "id": "AfRat_u1j80B",
        "colab_type": "text"
      },
      "source": [
        "## 整数\n",
        "## Integers\n",
        "\n",
        "最も基本的な数値型は整数です。\n",
        "小数点のない数値はすべて整数です。\n",
        "\n",
        "The most basic numerical type is the integer.\n",
        "Any number without a decimal point is an integer:"
      ]
    },
    {
      "cell_type": "code",
      "metadata": {
        "id": "WzWz-UPxj80B",
        "colab_type": "code",
        "colab": {},
        "outputId": "c1fcb054-97b8-4eff-b505-1ea1da0d7ae8"
      },
      "source": [
        "x = 1\n",
        "type(x)"
      ],
      "execution_count": 0,
      "outputs": [
        {
          "output_type": "execute_result",
          "data": {
            "text/plain": [
              "int"
            ]
          },
          "metadata": {
            "tags": []
          },
          "execution_count": 1
        }
      ]
    },
    {
      "cell_type": "markdown",
      "metadata": {
        "id": "jILfo1OYj80G",
        "colab_type": "text"
      },
      "source": [
        "Pythonの整数は、 ``C``のような言語の整数に比べて、実際にはかなり洗練されています。\n",
        "Cの整数は固定精度で、通常はある値でオーバーフローします(システムにもよりますが、 $2^{31}$や$2^{63}$に近い値になることが多いです)。\n",
        "Pythonの整数は可変精度なので、他の言語ではオーバーフローしてしまうような計算をすることができます。\n",
        "\n",
        "Python integers are actually quite a bit more sophisticated than integers in languages like ``C``.\n",
        "C integers are fixed-precision, and usually overflow at some value (often near $2^{31}$ or $2^{63}$, depending on your system).\n",
        "Python integers are variable-precision, so you can do computations that would overflow in other languages:"
      ]
    },
    {
      "cell_type": "code",
      "metadata": {
        "id": "YYdmr3SAj80G",
        "colab_type": "code",
        "colab": {},
        "outputId": "30a90148-f3ad-4b7f-84ee-3684bd41ab4c"
      },
      "source": [
        "2 ** 200"
      ],
      "execution_count": 0,
      "outputs": [
        {
          "output_type": "execute_result",
          "data": {
            "text/plain": [
              "1606938044258990275541962092341162602522202993782792835301376"
            ]
          },
          "metadata": {
            "tags": []
          },
          "execution_count": 2
        }
      ]
    },
    {
      "cell_type": "markdown",
      "metadata": {
        "id": "sDnflCOTj80J",
        "colab_type": "text"
      },
      "source": [
        "Pythonの整数のもう一つの便利な機能は、デフォルトで除算が浮動小数点型にアップキャストされることです。\n",
        "\n",
        "Another convenient feature of Python integers is that by default, division up-casts to floating-point type:"
      ]
    },
    {
      "cell_type": "code",
      "metadata": {
        "id": "RkIwmcKxj80K",
        "colab_type": "code",
        "colab": {},
        "outputId": "6e195b04-3753-4941-c5f7-38a700168d1e"
      },
      "source": [
        "5 / 2"
      ],
      "execution_count": 0,
      "outputs": [
        {
          "output_type": "execute_result",
          "data": {
            "text/plain": [
              "2.5"
            ]
          },
          "metadata": {
            "tags": []
          },
          "execution_count": 3
        }
      ]
    },
    {
      "cell_type": "markdown",
      "metadata": {
        "id": "yl3LkIx2j80M",
        "colab_type": "text"
      },
      "source": [
        "このアップキャストは Python 3 の機能であることに注意してください。 Python 2 では、C のような多くの静的型付けされた言語と同様に、整数除算は任意の 10 進数を切り捨て、常に整数を返します。\n",
        "\n",
        "Note that this upcasting is a feature of Python 3; in Python 2, like in many statically-typed languages such as C, integer division truncates any decimal and always returns an integer:\n",
        "``` python\n",
        "# Python 2 behavior\n",
        ">>> 5 / 2\n",
        "2\n",
        "```\n",
        "Python 3でこの動作を回復させるには、floor-division演算子を使用します。\n",
        "\n",
        "To recover this behavior in Python 3, you can use the floor-division operator:"
      ]
    },
    {
      "cell_type": "code",
      "metadata": {
        "id": "2yoFYlnzj80N",
        "colab_type": "code",
        "colab": {},
        "outputId": "966f6b5a-d3ab-45eb-e985-9f8a4ed706a6"
      },
      "source": [
        "5 // 2"
      ],
      "execution_count": 0,
      "outputs": [
        {
          "output_type": "execute_result",
          "data": {
            "text/plain": [
              "2"
            ]
          },
          "metadata": {
            "tags": []
          },
          "execution_count": 4
        }
      ]
    },
    {
      "cell_type": "markdown",
      "metadata": {
        "id": "P7YFm1C4j80P",
        "colab_type": "text"
      },
      "source": [
        "最後に、Python **2.x** には ``int`` と ``long`` の両方の型がありましたが、Python 3 ではこの二つの動作を一つの ``int`` 型に統合していることに注意してください。\n",
        "\n",
        "Finally, note that although Python *2.x* had both an ``int`` and ``long`` type, Python 3 combines the behavior of these two into a single ``int`` type."
      ]
    },
    {
      "cell_type": "markdown",
      "metadata": {
        "id": "QqLFzUX6j80Q",
        "colab_type": "text"
      },
      "source": [
        "## 浮動小数点数\n",
        "## Floating-Point Numbers\n",
        "\n",
        "浮動小数点型は、小数を格納することができます。\n",
        "これらは標準的な10進法または指数法で定義することができます。\n",
        "\n",
        "The floating-point type can store fractional numbers.\n",
        "They can be defined either in standard decimal notation, or in exponential notation:"
      ]
    },
    {
      "cell_type": "code",
      "metadata": {
        "id": "aaZ4-HDCj80Q",
        "colab_type": "code",
        "colab": {},
        "outputId": "64d8debf-91f9-4369-e762-e2b58539bcb8"
      },
      "source": [
        "x = 0.000005\n",
        "y = 5e-6\n",
        "print(x == y)"
      ],
      "execution_count": 0,
      "outputs": [
        {
          "output_type": "stream",
          "text": [
            "True\n"
          ],
          "name": "stdout"
        }
      ]
    },
    {
      "cell_type": "code",
      "metadata": {
        "id": "m6hOAqgbj80U",
        "colab_type": "code",
        "colab": {},
        "outputId": "e0131753-8765-4be6-d918-8a971c4ae240"
      },
      "source": [
        "x = 1400000.00\n",
        "y = 1.4e6\n",
        "print(x == y)"
      ],
      "execution_count": 0,
      "outputs": [
        {
          "output_type": "stream",
          "text": [
            "True\n"
          ],
          "name": "stdout"
        }
      ]
    },
    {
      "cell_type": "markdown",
      "metadata": {
        "id": "jOdJ6s1oj80W",
        "colab_type": "text"
      },
      "source": [
        "指数表記では、``e``や``E``は「...10倍から...」と読むことができます。\n",
        "なので、 ``1.4e6`` は $~1.4 \\times10^6$ と解釈されます。\n",
        "\n",
        "In the exponential notation, the ``e`` or ``E`` can be read \"...times ten to the...\",\n",
        "so that ``1.4e6`` is interpreted as $~1.4 \\times 10^6$."
      ]
    },
    {
      "cell_type": "markdown",
      "metadata": {
        "id": "36uIk36dj80X",
        "colab_type": "text"
      },
      "source": [
        "整数は ``float`` のコンストラクタを使って明示的に float に変換することができます。\n",
        "\n",
        "An integer can be explicitly converted to a float with the ``float`` constructor:"
      ]
    },
    {
      "cell_type": "code",
      "metadata": {
        "id": "WvTFIkaaj80X",
        "colab_type": "code",
        "colab": {},
        "outputId": "59cc65a5-f1af-42a4-8ba1-a93259e805cc"
      },
      "source": [
        "float(1)"
      ],
      "execution_count": 0,
      "outputs": [
        {
          "output_type": "execute_result",
          "data": {
            "text/plain": [
              "1.0"
            ]
          },
          "metadata": {
            "tags": []
          },
          "execution_count": 7
        }
      ]
    },
    {
      "cell_type": "markdown",
      "metadata": {
        "id": "AqDodliMj80Z",
        "colab_type": "text"
      },
      "source": [
        "### 余談ですが 浮動小数点精度\n",
        "### Aside: Floating-point precision\n",
        "\n",
        "浮動小数点演算で注意しなければならないことは、その精度が制限されているため、等質性テストが不安定になる可能性があるということです。例えば\n",
        "\n",
        "One thing to be aware of with floating point arithmetic is that its precision is limited, which can cause equality tests to be unstable. For example:"
      ]
    },
    {
      "cell_type": "code",
      "metadata": {
        "id": "rzcd6iyKj80a",
        "colab_type": "code",
        "colab": {},
        "outputId": "5acbfdcf-661b-446d-d5cb-d12a2a671500"
      },
      "source": [
        "0.1 + 0.2 == 0.3"
      ],
      "execution_count": 0,
      "outputs": [
        {
          "output_type": "execute_result",
          "data": {
            "text/plain": [
              "False"
            ]
          },
          "metadata": {
            "tags": []
          },
          "execution_count": 8
        }
      ]
    },
    {
      "cell_type": "markdown",
      "metadata": {
        "id": "xPHIXthUj80c",
        "colab_type": "text"
      },
      "source": [
        "なぜこのようなことが起こるのでしょうか？これはPython特有の挙動ではなく、ほとんどの科学的コンピューティングプラットフォームで使用されているバイナリ浮動小数点ストレージの固定精度フォーマットに起因していることが判明しています。\n",
        "浮動小数点数を使用するすべてのプログラミング言語は、固定ビット数で数値を格納しており、これにより、いくつかの数値はおおよその数値しか表現されません。\n",
        "このことは、3つの値を高精度に印刷することでわかります。\n",
        "\n",
        "Why is this the case? It turns out that it is not a behavior unique to Python, but is due to the fixed-precision format of the binary floating-point storage used by most, if not all, scientific computing platforms.\n",
        "All programming languages using floating-point numbers store them in a fixed number of bits, and this leads some numbers to be represented only approximately.\n",
        "We can see this by printing the three values to high precision:"
      ]
    },
    {
      "cell_type": "code",
      "metadata": {
        "id": "jf52Ndpcj80d",
        "colab_type": "code",
        "colab": {},
        "outputId": "ec8a526a-acfe-4c72-897f-1ad89fcbe8be"
      },
      "source": [
        "print(\"0.1 = {0:.17f}\".format(0.1))\n",
        "print(\"0.2 = {0:.17f}\".format(0.2))\n",
        "print(\"0.3 = {0:.17f}\".format(0.3))"
      ],
      "execution_count": 0,
      "outputs": [
        {
          "output_type": "stream",
          "text": [
            "0.1 = 0.10000000000000001\n",
            "0.2 = 0.20000000000000001\n",
            "0.3 = 0.29999999999999999\n"
          ],
          "name": "stdout"
        }
      ]
    },
    {
      "cell_type": "markdown",
      "metadata": {
        "id": "zcLWx6k3j80h",
        "colab_type": "text"
      },
      "source": [
        "私たちは10進法（10進法）で数字を考えることに慣れているので、各分数は10の累乗の和として表現しなければなりません。\n",
        "\n",
        "We're accustomed to thinking of numbers in decimal (base-10) notation, so that each fraction must be expressed as a sum of powers of 10:\n",
        "\n",
        "$$\n",
        "1 /8 = 1\\cdot 10^{-1} + 2\\cdot 10^{-2} + 5\\cdot 10^{-3}\n",
        "$$\n",
        "\n",
        "おなじみの 10進数表現では、これをおなじみの 10 進表現で表現します： $0.125$。\n",
        "\n",
        "In the familiar base-10 representation, we represent this in the familiar decimal expression: $0.125$.\n",
        "\n",
        "コンピュータは通常、値を2進法で格納し、各数値は2の累乗の和として表されます。\n",
        "\n",
        "Computers usually store values in binary notation, so that each number is expressed as a sum of powers of 2:\n",
        "\n",
        "$$\n",
        "1/8 = 0\\cdot 2^{-1} + 0\\cdot 2^{-2} + 1\\cdot 2^{-3}\n",
        "$$\n",
        "\n",
        "2進数表現では、これを $0.001_2$ と書くことができます。\n",
        "値 $0.125 = 0.001_2$ は、2進法でも10進法でも有限の桁数で表現できる数です。\n",
        "\n",
        "In a base-2 representation, we can write this $0.001_2$, where the subscript 2 indicates binary notation.\n",
        "The value $0.125 = 0.001_2$ happens to be one number which both binary and decimal notation can represent in a finite number of digits.\n",
        "\n",
        "おなじみの 10 進数表現では、有限の桁数で表現できない数字に慣れ親しんでいることでしょう。\n",
        "例えば、$1$を$3$で割ると、標準的な10進法では次のようになります。\n",
        "\n",
        "In the familiar base-10 representation of numbers, you are probably familiar with numbers that can't be expressed in a finite number of digits.\n",
        "For example, dividing $1$ by $3$ gives, in standard decimal notation:\n",
        "\n",
        "$$\n",
        "1 / 3 = 0.333333333\\cdots\n",
        "$$\n",
        "\n",
        "3は永遠に続きます。つまり、この商を本当に表すには、必要な数字の数は無限にあります。\n",
        "\n",
        "The 3s go on forever: that is, to truly represent this quotient, the number of required digits is infinite!\n",
        "\n",
        "同様に、二進表現では無限の桁数を必要とする数もあります。\n",
        "例えば\n",
        "\n",
        "Similarly, there are numbers for which binary representations require an infinite number of digits.\n",
        "For example:\n",
        "\n",
        "$$\n",
        "1 / 10 = 0.00011001100110011\\cdots_2\n",
        "$$\n",
        "\n",
        "10進法で$1/3$を完全に表現するためには無限の桁数が必要なように、2進法では$1/10$を表現するためには無限の桁数が必要です。\n",
        "Pythonは内部的にこれらの表現を、ほとんどのシステムで最初の非ゼロビットを超えた52ビットで切り捨てています。\n",
        "\n",
        "Just as decimal notation requires an infinite number of digits to perfectly represent $1/3$, binary notation requires an infinite number of digits to represent $1/10$.\n",
        "Python internally truncates these representations at 52 bits beyond the first nonzero bit on most systems.\n",
        "\n",
        "この浮動小数点値の丸め誤差は、浮動小数点数を扱う上で必要なものです。\n",
        "これに対処する最善の方法は、浮動小数点演算は近似的なものであることを常に念頭に置き、浮動小数点値の厳密な等号検定には決して頼らないことです。\n",
        "\n",
        "This rounding error for floating-point values is a necessary evil of working with floating-point numbers.\n",
        "The best way to deal with it is to always keep in mind that floating-point arithmetic is approximate, and *never* rely on exact equality tests with floating-point values."
      ]
    },
    {
      "cell_type": "markdown",
      "metadata": {
        "id": "p_dhFF0_j80h",
        "colab_type": "text"
      },
      "source": [
        "## 複素数\n",
        "## Complex Numbers\n",
        "\n",
        "複素数とは、実数と虚数（浮動小数点）の部分を持つ数のことです。\n",
        "これまでに整数と実数を見てきましたが、これらを使って複素数を作ることができます。\n",
        "\n",
        "Complex numbers are numbers with real and imaginary (floating-point) parts.\n",
        "We've seen integers and real numbers before; we can use these to construct a complex number:"
      ]
    },
    {
      "cell_type": "code",
      "metadata": {
        "id": "gS7EMazWj80i",
        "colab_type": "code",
        "colab": {},
        "outputId": "6a824809-44c0-4493-9102-04e93d41025b"
      },
      "source": [
        "complex(1, 2)"
      ],
      "execution_count": 0,
      "outputs": [
        {
          "output_type": "execute_result",
          "data": {
            "text/plain": [
              "(1+2j)"
            ]
          },
          "metadata": {
            "tags": []
          },
          "execution_count": 10
        }
      ]
    },
    {
      "cell_type": "markdown",
      "metadata": {
        "id": "5i-kXDbBj80k",
        "colab_type": "text"
      },
      "source": [
        "Alternatively, we can use the \"``j``\" suffix in expressions to indicate the imaginary part:"
      ]
    },
    {
      "cell_type": "code",
      "metadata": {
        "id": "tb8grJHij80k",
        "colab_type": "code",
        "colab": {},
        "outputId": "ca264048-5727-4c09-c802-612a7b2af23f"
      },
      "source": [
        "1 + 2j"
      ],
      "execution_count": 0,
      "outputs": [
        {
          "output_type": "execute_result",
          "data": {
            "text/plain": [
              "(1+2j)"
            ]
          },
          "metadata": {
            "tags": []
          },
          "execution_count": 11
        }
      ]
    },
    {
      "cell_type": "markdown",
      "metadata": {
        "id": "qUc2UJ9Qj80m",
        "colab_type": "text"
      },
      "source": [
        "Complex numbers have a variety of interesting attributes and methods, which we'll briefly demonstrate here:"
      ]
    },
    {
      "cell_type": "code",
      "metadata": {
        "id": "ezHtWc9Gj80n",
        "colab_type": "code",
        "colab": {}
      },
      "source": [
        "c = 3 + 4j"
      ],
      "execution_count": 0,
      "outputs": []
    },
    {
      "cell_type": "code",
      "metadata": {
        "id": "KvM2Litgj80q",
        "colab_type": "code",
        "colab": {},
        "outputId": "d905530c-ab29-47f1-e67b-ec8143476173"
      },
      "source": [
        "c.real  # real part"
      ],
      "execution_count": 0,
      "outputs": [
        {
          "output_type": "execute_result",
          "data": {
            "text/plain": [
              "3.0"
            ]
          },
          "metadata": {
            "tags": []
          },
          "execution_count": 13
        }
      ]
    },
    {
      "cell_type": "code",
      "metadata": {
        "id": "rlOJvn_Bj80t",
        "colab_type": "code",
        "colab": {},
        "outputId": "e6a0e309-61c3-431d-f182-33110ff6532f"
      },
      "source": [
        "c.imag  # imaginary part"
      ],
      "execution_count": 0,
      "outputs": [
        {
          "output_type": "execute_result",
          "data": {
            "text/plain": [
              "4.0"
            ]
          },
          "metadata": {
            "tags": []
          },
          "execution_count": 14
        }
      ]
    },
    {
      "cell_type": "code",
      "metadata": {
        "id": "bc8gWk5bj80w",
        "colab_type": "code",
        "colab": {},
        "outputId": "2b24dfe7-8928-4d53-da56-4e756a94057e"
      },
      "source": [
        "c.conjugate()  # complex conjugate"
      ],
      "execution_count": 0,
      "outputs": [
        {
          "output_type": "execute_result",
          "data": {
            "text/plain": [
              "(3-4j)"
            ]
          },
          "metadata": {
            "tags": []
          },
          "execution_count": 15
        }
      ]
    },
    {
      "cell_type": "code",
      "metadata": {
        "id": "5GvlYzNlj80y",
        "colab_type": "code",
        "colab": {},
        "outputId": "9666e2b2-1644-4eee-b149-de2e6f62836a"
      },
      "source": [
        "abs(c)  # magnitude, i.e. sqrt(c.real ** 2 + c.imag ** 2)"
      ],
      "execution_count": 0,
      "outputs": [
        {
          "output_type": "execute_result",
          "data": {
            "text/plain": [
              "5.0"
            ]
          },
          "metadata": {
            "tags": []
          },
          "execution_count": 16
        }
      ]
    },
    {
      "cell_type": "markdown",
      "metadata": {
        "id": "ZTWI-tusj801",
        "colab_type": "text"
      },
      "source": [
        "## String Type\n",
        "Strings in Python are created with single or double quotes:"
      ]
    },
    {
      "cell_type": "code",
      "metadata": {
        "id": "byETTo0_j801",
        "colab_type": "code",
        "colab": {}
      },
      "source": [
        "message = \"what do you like?\"\n",
        "response = 'spam'"
      ],
      "execution_count": 0,
      "outputs": []
    },
    {
      "cell_type": "markdown",
      "metadata": {
        "id": "0KeLXVzpj804",
        "colab_type": "text"
      },
      "source": [
        "Python has many extremely useful string functions and methods; here are a few of them:"
      ]
    },
    {
      "cell_type": "code",
      "metadata": {
        "id": "TTV-retLj804",
        "colab_type": "code",
        "colab": {},
        "outputId": "5e3ecd44-4a20-4155-be88-f5935fbdebb5"
      },
      "source": [
        "# length of string\n",
        "len(response)"
      ],
      "execution_count": 0,
      "outputs": [
        {
          "output_type": "execute_result",
          "data": {
            "text/plain": [
              "4"
            ]
          },
          "metadata": {
            "tags": []
          },
          "execution_count": 18
        }
      ]
    },
    {
      "cell_type": "code",
      "metadata": {
        "id": "9YL4CK9uj807",
        "colab_type": "code",
        "colab": {},
        "outputId": "e3d27930-f087-4596-b1dc-ab4159e5c2e7"
      },
      "source": [
        "# Make upper-case. See also str.lower()\n",
        "response.upper()"
      ],
      "execution_count": 0,
      "outputs": [
        {
          "output_type": "execute_result",
          "data": {
            "text/plain": [
              "'SPAM'"
            ]
          },
          "metadata": {
            "tags": []
          },
          "execution_count": 19
        }
      ]
    },
    {
      "cell_type": "code",
      "metadata": {
        "id": "y3AiEkb4j809",
        "colab_type": "code",
        "colab": {},
        "outputId": "4e78df0c-b61a-4dbf-da94-78300acc4a23"
      },
      "source": [
        "# Capitalize. See also str.title()\n",
        "message.capitalize()"
      ],
      "execution_count": 0,
      "outputs": [
        {
          "output_type": "execute_result",
          "data": {
            "text/plain": [
              "'What do you like?'"
            ]
          },
          "metadata": {
            "tags": []
          },
          "execution_count": 20
        }
      ]
    },
    {
      "cell_type": "code",
      "metadata": {
        "id": "YbpDWMkuj81A",
        "colab_type": "code",
        "colab": {},
        "outputId": "491216a0-5d71-4111-a0f9-c2b356a3649b"
      },
      "source": [
        "# concatenation with +\n",
        "message + response"
      ],
      "execution_count": 0,
      "outputs": [
        {
          "output_type": "execute_result",
          "data": {
            "text/plain": [
              "'what do you like?spam'"
            ]
          },
          "metadata": {
            "tags": []
          },
          "execution_count": 21
        }
      ]
    },
    {
      "cell_type": "code",
      "metadata": {
        "id": "GMiq23ocj81E",
        "colab_type": "code",
        "colab": {},
        "outputId": "9b54c31e-7751-448a-8609-66b62470df15"
      },
      "source": [
        "# multiplication is multiple concatenation\n",
        "5 * response"
      ],
      "execution_count": 0,
      "outputs": [
        {
          "output_type": "execute_result",
          "data": {
            "text/plain": [
              "'spamspamspamspamspam'"
            ]
          },
          "metadata": {
            "tags": []
          },
          "execution_count": 22
        }
      ]
    },
    {
      "cell_type": "code",
      "metadata": {
        "id": "_E1HWZZwj81G",
        "colab_type": "code",
        "colab": {},
        "outputId": "9bb1d885-83ef-4b48-b8ef-56d224df4f7b"
      },
      "source": [
        "# Access individual characters (zero-based indexing)\n",
        "message[0]"
      ],
      "execution_count": 0,
      "outputs": [
        {
          "output_type": "execute_result",
          "data": {
            "text/plain": [
              "'w'"
            ]
          },
          "metadata": {
            "tags": []
          },
          "execution_count": 23
        }
      ]
    },
    {
      "cell_type": "markdown",
      "metadata": {
        "id": "IJAu99Guj81I",
        "colab_type": "text"
      },
      "source": [
        "For more discussion of indexing in Python, see [\"Lists\"](06-Built-in-Data-Structures.ipynb#Lists)."
      ]
    },
    {
      "cell_type": "markdown",
      "metadata": {
        "id": "EWB3CwHOj81I",
        "colab_type": "text"
      },
      "source": [
        "## None Type\n",
        "Python includes a special type, the ``NoneType``, which has only a single possible value: ``None``. For example:"
      ]
    },
    {
      "cell_type": "code",
      "metadata": {
        "id": "R_cyM_rYj81J",
        "colab_type": "code",
        "colab": {},
        "outputId": "1108c6f1-a1f9-4863-e682-0f3b2ceb7fe3"
      },
      "source": [
        "type(None)"
      ],
      "execution_count": 0,
      "outputs": [
        {
          "output_type": "execute_result",
          "data": {
            "text/plain": [
              "NoneType"
            ]
          },
          "metadata": {
            "tags": []
          },
          "execution_count": 24
        }
      ]
    },
    {
      "cell_type": "markdown",
      "metadata": {
        "id": "HA-5mELqj81L",
        "colab_type": "text"
      },
      "source": [
        "You'll see ``None`` used in many places, but perhaps most commonly it is used as the default return value of a function.\n",
        "For example, the ``print()`` function in Python 3 does not return anything, but we can still catch its value:"
      ]
    },
    {
      "cell_type": "code",
      "metadata": {
        "id": "H9V_TdWUj81L",
        "colab_type": "code",
        "colab": {},
        "outputId": "3c56ffe3-be16-44b3-93c5-b3c925614e27"
      },
      "source": [
        "return_value = print('abc')"
      ],
      "execution_count": 0,
      "outputs": [
        {
          "output_type": "stream",
          "text": [
            "abc\n"
          ],
          "name": "stdout"
        }
      ]
    },
    {
      "cell_type": "code",
      "metadata": {
        "id": "0rBVheICj81N",
        "colab_type": "code",
        "colab": {},
        "outputId": "dea30924-a682-499c-9389-57d1e3f472ae"
      },
      "source": [
        "print(return_value)"
      ],
      "execution_count": 0,
      "outputs": [
        {
          "output_type": "stream",
          "text": [
            "None\n"
          ],
          "name": "stdout"
        }
      ]
    },
    {
      "cell_type": "markdown",
      "metadata": {
        "id": "Vpl-HpPIj81P",
        "colab_type": "text"
      },
      "source": [
        "Likewise, any function in Python with no return value is, in reality, returning ``None``."
      ]
    },
    {
      "cell_type": "markdown",
      "metadata": {
        "id": "OwcrqenHj81Q",
        "colab_type": "text"
      },
      "source": [
        "## Boolean Type\n",
        "The Boolean type is a simple type with two possible values: ``True`` and ``False``, and is returned by comparison operators discussed previously:"
      ]
    },
    {
      "cell_type": "code",
      "metadata": {
        "id": "VHgksC9Ij81Q",
        "colab_type": "code",
        "colab": {},
        "outputId": "1efe2f4d-ed58-4353-9e95-24250a7ae4df"
      },
      "source": [
        "result = (4 < 5)\n",
        "result"
      ],
      "execution_count": 0,
      "outputs": [
        {
          "output_type": "execute_result",
          "data": {
            "text/plain": [
              "True"
            ]
          },
          "metadata": {
            "tags": []
          },
          "execution_count": 27
        }
      ]
    },
    {
      "cell_type": "code",
      "metadata": {
        "id": "puCaiK7kj81S",
        "colab_type": "code",
        "colab": {},
        "outputId": "067e165c-e107-461c-db98-fbae80df6e1d"
      },
      "source": [
        "type(result)"
      ],
      "execution_count": 0,
      "outputs": [
        {
          "output_type": "execute_result",
          "data": {
            "text/plain": [
              "bool"
            ]
          },
          "metadata": {
            "tags": []
          },
          "execution_count": 28
        }
      ]
    },
    {
      "cell_type": "markdown",
      "metadata": {
        "id": "XmMtr4_Jj81U",
        "colab_type": "text"
      },
      "source": [
        "Keep in mind that the Boolean values are case-sensitive: unlike some other languages, ``True`` and ``False`` must be capitalized!"
      ]
    },
    {
      "cell_type": "code",
      "metadata": {
        "id": "70nX8cXGj81V",
        "colab_type": "code",
        "colab": {},
        "outputId": "c0700b91-6af1-446c-d55c-2dda92a4cd2a"
      },
      "source": [
        "print(True, False)"
      ],
      "execution_count": 0,
      "outputs": [
        {
          "output_type": "stream",
          "text": [
            "True False\n"
          ],
          "name": "stdout"
        }
      ]
    },
    {
      "cell_type": "markdown",
      "metadata": {
        "id": "o6Xel8mrj81X",
        "colab_type": "text"
      },
      "source": [
        "Booleans can also be constructed using the ``bool()`` object constructor: values of any other type can be converted to Boolean via predictable rules.\n",
        "For example, any numeric type is False if equal to zero, and True otherwise:"
      ]
    },
    {
      "cell_type": "code",
      "metadata": {
        "id": "10SJ2ajhj81X",
        "colab_type": "code",
        "colab": {},
        "outputId": "afb650cb-9537-452b-d792-ce7155f7737c"
      },
      "source": [
        "bool(2014)"
      ],
      "execution_count": 0,
      "outputs": [
        {
          "output_type": "execute_result",
          "data": {
            "text/plain": [
              "True"
            ]
          },
          "metadata": {
            "tags": []
          },
          "execution_count": 30
        }
      ]
    },
    {
      "cell_type": "code",
      "metadata": {
        "id": "lwxl34-Xj81Z",
        "colab_type": "code",
        "colab": {},
        "outputId": "2f35c750-4a7a-4818-b391-5c27acc3502e"
      },
      "source": [
        "bool(0)"
      ],
      "execution_count": 0,
      "outputs": [
        {
          "output_type": "execute_result",
          "data": {
            "text/plain": [
              "False"
            ]
          },
          "metadata": {
            "tags": []
          },
          "execution_count": 31
        }
      ]
    },
    {
      "cell_type": "code",
      "metadata": {
        "id": "63jIEmOqj81b",
        "colab_type": "code",
        "colab": {},
        "outputId": "ec68aa1e-98ca-4b48-9884-6da717428626"
      },
      "source": [
        "bool(3.1415)"
      ],
      "execution_count": 0,
      "outputs": [
        {
          "output_type": "execute_result",
          "data": {
            "text/plain": [
              "True"
            ]
          },
          "metadata": {
            "tags": []
          },
          "execution_count": 32
        }
      ]
    },
    {
      "cell_type": "markdown",
      "metadata": {
        "id": "JoxTin6Pj81e",
        "colab_type": "text"
      },
      "source": [
        "The Boolean conversion of ``None`` is always False:"
      ]
    },
    {
      "cell_type": "code",
      "metadata": {
        "id": "MaA_0baij81e",
        "colab_type": "code",
        "colab": {},
        "outputId": "4d6db3b0-5fc1-477e-b39e-02169ab8ceba"
      },
      "source": [
        "bool(None)"
      ],
      "execution_count": 0,
      "outputs": [
        {
          "output_type": "execute_result",
          "data": {
            "text/plain": [
              "False"
            ]
          },
          "metadata": {
            "tags": []
          },
          "execution_count": 33
        }
      ]
    },
    {
      "cell_type": "markdown",
      "metadata": {
        "id": "Fydx7lOEj81g",
        "colab_type": "text"
      },
      "source": [
        "For strings, ``bool(s)`` is False for empty strings and True otherwise:"
      ]
    },
    {
      "cell_type": "code",
      "metadata": {
        "id": "wFmR-ohmj81g",
        "colab_type": "code",
        "colab": {},
        "outputId": "1eadfb43-2eba-40cf-c51a-9ac84178eb61"
      },
      "source": [
        "bool(\"\")"
      ],
      "execution_count": 0,
      "outputs": [
        {
          "output_type": "execute_result",
          "data": {
            "text/plain": [
              "False"
            ]
          },
          "metadata": {
            "tags": []
          },
          "execution_count": 34
        }
      ]
    },
    {
      "cell_type": "code",
      "metadata": {
        "id": "jXbrdZhMj81l",
        "colab_type": "code",
        "colab": {},
        "outputId": "a6ced6d9-d6a6-4ef7-b3b6-d0a88133e8f0"
      },
      "source": [
        "bool(\"abc\")"
      ],
      "execution_count": 0,
      "outputs": [
        {
          "output_type": "execute_result",
          "data": {
            "text/plain": [
              "True"
            ]
          },
          "metadata": {
            "tags": []
          },
          "execution_count": 35
        }
      ]
    },
    {
      "cell_type": "markdown",
      "metadata": {
        "id": "h7IqnJkDj81o",
        "colab_type": "text"
      },
      "source": [
        "For sequences, which we'll see in the next section, the Boolean representation is False for empty sequences and True for any other sequences"
      ]
    },
    {
      "cell_type": "code",
      "metadata": {
        "id": "eeNGqeDEj81p",
        "colab_type": "code",
        "colab": {},
        "outputId": "2fe4d070-85c6-4417-e5f5-9c9418142f30"
      },
      "source": [
        "bool([1, 2, 3])"
      ],
      "execution_count": 0,
      "outputs": [
        {
          "output_type": "execute_result",
          "data": {
            "text/plain": [
              "True"
            ]
          },
          "metadata": {
            "tags": []
          },
          "execution_count": 36
        }
      ]
    },
    {
      "cell_type": "code",
      "metadata": {
        "id": "4BQAWrPXj81r",
        "colab_type": "code",
        "colab": {},
        "outputId": "f17c3d9b-be68-434c-fe38-0642a29a253d"
      },
      "source": [
        "bool([])"
      ],
      "execution_count": 0,
      "outputs": [
        {
          "output_type": "execute_result",
          "data": {
            "text/plain": [
              "False"
            ]
          },
          "metadata": {
            "tags": []
          },
          "execution_count": 37
        }
      ]
    },
    {
      "cell_type": "markdown",
      "metadata": {
        "id": "BJH8ZSSsj81v",
        "colab_type": "text"
      },
      "source": [
        "<!--NAVIGATION-->\n",
        "< [Basic Python Semantics: Operators](04-Semantics-Operators.ipynb) | [Contents](Index.ipynb) | [Built-In Data Structures](06-Built-in-Data-Structures.ipynb) >"
      ]
    }
  ]
}