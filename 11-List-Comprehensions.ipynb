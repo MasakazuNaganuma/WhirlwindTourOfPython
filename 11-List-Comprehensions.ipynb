{
  "nbformat": 4,
  "nbformat_minor": 0,
  "metadata": {
    "anaconda-cloud": {},
    "kernelspec": {
      "display_name": "Python 3",
      "language": "python",
      "name": "python3"
    },
    "language_info": {
      "codemirror_mode": {
        "name": "ipython",
        "version": 3
      },
      "file_extension": ".py",
      "mimetype": "text/x-python",
      "name": "python",
      "nbconvert_exporter": "python",
      "pygments_lexer": "ipython3",
      "version": "3.5.1"
    },
    "colab": {
      "name": "11-List-Comprehensions.ipynb",
      "provenance": [],
      "toc_visible": true,
      "include_colab_link": true
    }
  },
  "cells": [
    {
      "cell_type": "markdown",
      "metadata": {
        "id": "view-in-github",
        "colab_type": "text"
      },
      "source": [
        "<a href=\"https://colab.research.google.com/github/MasakazuNaganuma/WhirlwindTourOfPython/blob/master/11-List-Comprehensions.ipynb\" target=\"_parent\"><img src=\"https://colab.research.google.com/assets/colab-badge.svg\" alt=\"Open In Colab\"/></a>"
      ]
    },
    {
      "cell_type": "markdown",
      "metadata": {
        "id": "KqK_4MeXbjwZ",
        "colab_type": "text"
      },
      "source": [
        "<!--BOOK_INFORMATION-->\n",
        "<img align=\"left\" style=\"padding-right:10px;\" src=\"https://github.com/MasakazuNaganuma/WhirlwindTourOfPython/blob/master/fig/cover-small.jpg?raw=1\">\n",
        "*This notebook contains an excerpt from the [Whirlwind Tour of Python](http://www.oreilly.com/programming/free/a-whirlwind-tour-of-python.csp) by Jake VanderPlas; the content is available [on GitHub](https://github.com/jakevdp/WhirlwindTourOfPython).*\n",
        "\n",
        "*The text and code are released under the [CC0](https://github.com/jakevdp/WhirlwindTourOfPython/blob/master/LICENSE) license; see also the companion project, the [Python Data Science Handbook](https://github.com/jakevdp/PythonDataScienceHandbook).*\n"
      ]
    },
    {
      "cell_type": "markdown",
      "metadata": {
        "id": "9x-YgwJnbjwa",
        "colab_type": "text"
      },
      "source": [
        "<!--NAVIGATION-->\n",
        "< [Iterators](10-Iterators.ipynb) | [Contents](Index.ipynb) | [Generators](12-Generators.ipynb) >"
      ]
    },
    {
      "cell_type": "markdown",
      "metadata": {
        "id": "l-_1gwZfbjwb",
        "colab_type": "text"
      },
      "source": [
        "#リスト内包表記\n",
        "# List Comprehensions\n"
      ]
    },
    {
      "cell_type": "markdown",
      "metadata": {
        "id": "P8tx0RrObjwb",
        "colab_type": "text"
      },
      "source": [
        "If you read enough Python code, you'll eventually come across the terse and efficient construction known as a *list comprehension*.\n",
        "This is one feature of Python I expect you will fall in love with if you've not used it before; it looks something like this:\n",
        "\n",
        "Pythonのコードを十分に読めば、*リスト内包表記*として知られている簡潔で効率的な構造に出くわすことができるでしょう。\n",
        "これはPythonの機能の一つで、まだ使ったことのない人はきっと気に入ると思います。"
      ]
    },
    {
      "cell_type": "code",
      "metadata": {
        "id": "5rk6-EbUbjwc",
        "colab_type": "code",
        "colab": {},
        "outputId": "acced4dc-9c27-4eba-a139-c6e0eda31b3b"
      },
      "source": [
        "[i for i in range(20) if i % 3 > 0]"
      ],
      "execution_count": 0,
      "outputs": [
        {
          "output_type": "execute_result",
          "data": {
            "text/plain": [
              "[1, 2, 4, 5, 7, 8, 10, 11, 13, 14, 16, 17, 19]"
            ]
          },
          "metadata": {
            "tags": []
          },
          "execution_count": 1
        }
      ]
    },
    {
      "cell_type": "markdown",
      "metadata": {
        "id": "psXktKlrbjwg",
        "colab_type": "text"
      },
      "source": [
        "The result of this is a list of numbers which excludes multiples of 3.\n",
        "While this example may seem a bit confusing at first, as familiarity with Python grows, reading and writing list comprehensions will become second nature.\n",
        "\n",
        "その結果、3の倍数を除いた数のリストができあがりました。\n",
        "この例は最初は少し戸惑うかもしれませんが、Pythonに慣れてくると、リスト内包表記の読み書きが第二の自然になってきます。"
      ]
    },
    {
      "cell_type": "markdown",
      "metadata": {
        "id": "7JCDiMqGbjwh",
        "colab_type": "text"
      },
      "source": [
        "## 基本的なリスト内包表記\n",
        "## Basic List Comprehensions\n",
        "List comprehensions are simply a way to compress a list-building for-loop into a single short, readable line.\n",
        "For example, here is a loop that constructs a list of the first 12 square integers:\n",
        "\n",
        "リスト内包表記とは、リスト構築のためのループを1つの短くて読みやすい行に圧縮するための簡単な方法です。\n",
        "例えば、最初の12平方整数のリストを作成するループを以下に示します。"
      ]
    },
    {
      "cell_type": "code",
      "metadata": {
        "id": "dw_GkTv2bjwh",
        "colab_type": "code",
        "colab": {},
        "outputId": "e53e66b3-54f9-4083-c9c2-d25abacc63e4"
      },
      "source": [
        "L = []\n",
        "for n in range(12):\n",
        "    L.append(n ** 2)\n",
        "L"
      ],
      "execution_count": 0,
      "outputs": [
        {
          "output_type": "execute_result",
          "data": {
            "text/plain": [
              "[0, 1, 4, 9, 16, 25, 36, 49, 64, 81, 100, 121]"
            ]
          },
          "metadata": {
            "tags": []
          },
          "execution_count": 2
        }
      ]
    },
    {
      "cell_type": "markdown",
      "metadata": {
        "id": "bWGC5k57bjwk",
        "colab_type": "text"
      },
      "source": [
        "The list comprehension equivalent of this is the following:\n",
        "\n",
        "これに相当するリスト内包表記は以下の通りです。"
      ]
    },
    {
      "cell_type": "code",
      "metadata": {
        "id": "oY6vPFTsbjwk",
        "colab_type": "code",
        "colab": {},
        "outputId": "0163763b-8d4c-4b35-e942-2d75d47493de"
      },
      "source": [
        "[n ** 2 for n in range(12)]"
      ],
      "execution_count": 0,
      "outputs": [
        {
          "output_type": "execute_result",
          "data": {
            "text/plain": [
              "[0, 1, 4, 9, 16, 25, 36, 49, 64, 81, 100, 121]"
            ]
          },
          "metadata": {
            "tags": []
          },
          "execution_count": 3
        }
      ]
    },
    {
      "cell_type": "markdown",
      "metadata": {
        "id": "gA8G8lSsbjwo",
        "colab_type": "text"
      },
      "source": [
        "As with many Python statements, you can almost read-off the meaning of this statement in plain English: \"construct a list consisting of the square of ``n`` for each ``n`` up to 12\".\n",
        "\n",
        "This basic syntax, then, is ``[``*``expr``* ``for`` *``var``* ``in`` *``iterable``*``]``, where *``expr``* is any valid expression, *``var``* is a variable name, and *``iterable``* is any iterable Python object.\n",
        "\n",
        "多くの Python 文と同様に、この文の意味を平易な英語でほとんど読み飛ばすことができます。多くのPythonの文と同様に、この文の意味を簡単な英語で読み取ることができます。\n",
        "\n",
        "この基本的な構文は ``[``*``expr``* ``for`` *``var``* ``in`` *``iterable``*``]`` であり、*``expr``* は有効な式、*``var``* は変数名、*``iterable``* は反復可能な Python オブジェクトです。"
      ]
    },
    {
      "cell_type": "markdown",
      "metadata": {
        "id": "zL4s3n5jbjwo",
        "colab_type": "text"
      },
      "source": [
        "## ♪ ♪ 複数回のイテレーション\n",
        "## Multiple Iteration\n",
        "Sometimes you want to build a list not just from one value, but from two. To do this, simply add another ``for`` expression in the comprehension:\n",
        "\n",
        "1つの値からだけでなく、2つの値からリストを作成したいこともあるでしょう。これを行うには、単に内包文の中に別の``for``式を追加するだけです。"
      ]
    },
    {
      "cell_type": "code",
      "metadata": {
        "id": "Vd9_Gl3dbjwp",
        "colab_type": "code",
        "colab": {},
        "outputId": "b6c6d4f5-8344-4a1d-fb47-5718caa3ed44"
      },
      "source": [
        "[(i, j) for i in range(2) for j in range(3)]"
      ],
      "execution_count": 0,
      "outputs": [
        {
          "output_type": "execute_result",
          "data": {
            "text/plain": [
              "[(0, 0), (0, 1), (0, 2), (1, 0), (1, 1), (1, 2)]"
            ]
          },
          "metadata": {
            "tags": []
          },
          "execution_count": 4
        }
      ]
    },
    {
      "cell_type": "markdown",
      "metadata": {
        "id": "uvzuATHmbjwr",
        "colab_type": "text"
      },
      "source": [
        "Notice that the second ``for`` expression acts as the interior index, varying the fastest in the resulting list.\n",
        "This type of construction can be extended to three, four, or more iterators within the comprehension, though at some point code readibility will suffer!\n",
        "\n",
        "2番目の ``for`` 式が内部インデックスとして機能し、結果として得られるリストの中で最も速く変化することに注目してください。\n",
        "このタイプの構文は、内包の中で3つ、4つ、またはそれ以上のイテレータに拡張することができますが、ある時点でコードの可読性が損なわれます!"
      ]
    },
    {
      "cell_type": "markdown",
      "metadata": {
        "id": "kAYARfGMbjws",
        "colab_type": "text"
      },
      "source": [
        "## イテレータの条件式\n",
        "## Conditionals on the Iterator\n",
        "You can further control the iteration by adding a conditional to the end of the expression.\n",
        "In the first example of the section, we iterated over all numbers from 1 to 20, but left-out multiples of 3.\n",
        "Look at this again, and notice the construction:\n",
        "\n",
        "式の最後に条件を追加することで、繰り返しをさらに制御することができます。\n",
        "このセクションの最初の例では、1から20までのすべての数値を反復処理しましたが、3の倍数は除外しました。\n",
        "これをもう一度見てください。"
      ]
    },
    {
      "cell_type": "code",
      "metadata": {
        "id": "z0P_eFlsbjws",
        "colab_type": "code",
        "colab": {},
        "outputId": "abe509b3-73b6-4f55-da92-5154aea4590b"
      },
      "source": [
        "[val for val in range(20) if val % 3 > 0]"
      ],
      "execution_count": 0,
      "outputs": [
        {
          "output_type": "execute_result",
          "data": {
            "text/plain": [
              "[1, 2, 4, 5, 7, 8, 10, 11, 13, 14, 16, 17, 19]"
            ]
          },
          "metadata": {
            "tags": []
          },
          "execution_count": 5
        }
      ]
    },
    {
      "cell_type": "markdown",
      "metadata": {
        "id": "9uPX0-Z2bjwv",
        "colab_type": "text"
      },
      "source": [
        "The expression ``(i % 3 > 0)`` evaluates to ``True`` unless ``val`` is divisible by 3.\n",
        "Again, the English language meaning can be immediately read off: \"Construct a list of values for each value up to 20, but only if the value is not divisible by 3\".\n",
        "Once you are comfortable with it, this is much easier to write – and to understand at a glance – than the equivalent loop syntax:\n",
        "\n",
        "式 ``(i % 3 > 0)`` は ``val`` が 3 で割り切れる場合を除いて ``True`` と評価されます。\n",
        "ここでも、英語の意味はすぐに読み取れます。\"20までの各値の値のリストを構築するが、その値が3で割り切れない場合に限る」という意味です。\n",
        "一度慣れてしまえば、これは同等のループ構文よりもはるかに書きやすく、一目で理解できます。"
      ]
    },
    {
      "cell_type": "code",
      "metadata": {
        "id": "4gqGRq2pbjwv",
        "colab_type": "code",
        "colab": {},
        "outputId": "b387851b-fdac-4051-dfcc-61028e599252"
      },
      "source": [
        "L = []\n",
        "for val in range(20):\n",
        "    if val % 3:\n",
        "        L.append(val)\n",
        "L"
      ],
      "execution_count": 0,
      "outputs": [
        {
          "output_type": "execute_result",
          "data": {
            "text/plain": [
              "[1, 2, 4, 5, 7, 8, 10, 11, 13, 14, 16, 17, 19]"
            ]
          },
          "metadata": {
            "tags": []
          },
          "execution_count": 6
        }
      ]
    },
    {
      "cell_type": "markdown",
      "metadata": {
        "id": "JWZGVSWYbjwy",
        "colab_type": "text"
      },
      "source": [
        "## 値に対する条件式\n",
        "## Conditionals on the Value\n",
        "If you've programmed in C, you might be familiar with the single-line conditional enabled by the ``?`` operator:\n",
        "\n",
        "C言語でプログラムを書いたことがある人ならば、 ``?``演算子を使って一行条件を指定することに慣れているかもしれません。\n",
        "``` C\n",
        "int absval = (val < 0) ? -val : val\n",
        "```\n",
        "Python has something very similar to this, which is most often used within list comprehensions, ``lambda`` functions, and other places where a simple expression is desired:\n",
        "\n",
        "Pythonにもこれに非常に似たものがあり、リスト内包表記や ``lambda`` 関数など、シンプルな式が必要な場所でよく使われています。"
      ]
    },
    {
      "cell_type": "code",
      "metadata": {
        "id": "XMZTFlFkbjwy",
        "colab_type": "code",
        "colab": {},
        "outputId": "a8e0b71a-77ff-48f8-bb66-10dab28eedb1"
      },
      "source": [
        "val = -10\n",
        "val if val >= 0 else -val"
      ],
      "execution_count": 0,
      "outputs": [
        {
          "output_type": "execute_result",
          "data": {
            "text/plain": [
              "10"
            ]
          },
          "metadata": {
            "tags": []
          },
          "execution_count": 7
        }
      ]
    },
    {
      "cell_type": "markdown",
      "metadata": {
        "id": "QlFSD2APbjw1",
        "colab_type": "text"
      },
      "source": [
        "We see that this simply duplicates the functionality of the built-in ``abs()`` function, but the construction lets you do some really interesting things within list comprehensions.\n",
        "This is getting pretty complicated now, but you could do something like this:\n",
        "\n",
        "これは単に組み込みの ``abs()`` 関数の機能を複製しただけのものですが、リスト内包表記の中で面白いことができるようになりました。\n",
        "これはかなり複雑になってきましたが、次のようなことができます。"
      ]
    },
    {
      "cell_type": "code",
      "metadata": {
        "id": "LU_iFfjfbjw1",
        "colab_type": "code",
        "colab": {},
        "outputId": "d1796978-1758-4fc6-f34c-1b5a5e61594d"
      },
      "source": [
        "[val if val % 2 else -val\n",
        " for val in range(20) if val % 3]"
      ],
      "execution_count": 0,
      "outputs": [
        {
          "output_type": "execute_result",
          "data": {
            "text/plain": [
              "[1, -2, -4, 5, 7, -8, -10, 11, 13, -14, -16, 17, 19]"
            ]
          },
          "metadata": {
            "tags": []
          },
          "execution_count": 8
        }
      ]
    },
    {
      "cell_type": "markdown",
      "metadata": {
        "id": "xp_TTM_mbjw4",
        "colab_type": "text"
      },
      "source": [
        "Note the line break within the list comprehension before the ``for`` expression: this is valid in Python, and is often a nice way to break-up long list comprehensions for greater readibility.\n",
        "Look this over: what we're doing is constructing a list, leaving out multiples of 3, and negating all mutliples of 2.\n",
        "\n",
        "``for``式の前のリスト内包表記の改行に注意してください。 これはPythonで有効であり、長いリスト内包表記をより読みやすくするために分割するための良い方法です。\n",
        "これを見てください。私たちがやっていることはリストを構築し、3の倍数を除外し、2の倍数をすべて否定しています。"
      ]
    },
    {
      "cell_type": "markdown",
      "metadata": {
        "id": "DSCg0iLebjw4",
        "colab_type": "text"
      },
      "source": [
        "Once you understand the dynamics of list comprehensions, it's straightforward to move on to other types of comprehensions. The syntax is largely the same; the only difference is the type of bracket you use.\n",
        "\n",
        "For example, with curly braces you can create a ``set`` with a *set comprehension*:\n",
        "\n",
        "リスト内包表記の力学を理解したら、他のタイプの内包表記に移るのは簡単です。構文はほぼ同じです。唯一の違いは、使用する中括弧の種類です。\n",
        "\n",
        "例えば、中括弧を使って ``set`` を作成するには *set内包表記* を使います。"
      ]
    },
    {
      "cell_type": "code",
      "metadata": {
        "id": "nzIUuPFVbjw5",
        "colab_type": "code",
        "colab": {},
        "outputId": "aa37a37c-29d9-4a79-82c2-ffe3f6118e1f"
      },
      "source": [
        "{n**2 for n in range(12)}"
      ],
      "execution_count": 0,
      "outputs": [
        {
          "output_type": "execute_result",
          "data": {
            "text/plain": [
              "{0, 1, 4, 9, 16, 25, 36, 49, 64, 81, 100, 121}"
            ]
          },
          "metadata": {
            "tags": []
          },
          "execution_count": 11
        }
      ]
    },
    {
      "cell_type": "markdown",
      "metadata": {
        "id": "0SkVxSgEbjw8",
        "colab_type": "text"
      },
      "source": [
        "Recall that a ``set`` is a collection that contains no duplicates.\n",
        "The set comprehension respects this rule, and eliminates any duplicate entries:\n",
        "\n",
        "``set``とは重複を含まないコレクションであることを思い出してください。\n",
        "set内包表記はこのルールを尊重し，重複する項目を排除します．"
      ]
    },
    {
      "cell_type": "code",
      "metadata": {
        "id": "H1ecah3Pbjw9",
        "colab_type": "code",
        "colab": {},
        "outputId": "a364b6b4-65a3-4d43-8fd4-19d0b2df12b6"
      },
      "source": [
        "{a % 3 for a in range(1000)}"
      ],
      "execution_count": 0,
      "outputs": [
        {
          "output_type": "execute_result",
          "data": {
            "text/plain": [
              "{0, 1, 2}"
            ]
          },
          "metadata": {
            "tags": []
          },
          "execution_count": 12
        }
      ]
    },
    {
      "cell_type": "markdown",
      "metadata": {
        "id": "ymvZY736bjxB",
        "colab_type": "text"
      },
      "source": [
        "With a slight tweak, you can add a colon (``:``) to create a *dict comprehension*:\n",
        "\n",
        "少し手を加えると、コロン(``:``)を追加して *ディクショナリ内包表記* を作成することができます。"
      ]
    },
    {
      "cell_type": "code",
      "metadata": {
        "id": "WYa6oIAgbjxC",
        "colab_type": "code",
        "colab": {},
        "outputId": "fa5b7459-92cd-4188-bb53-dd7246c0c2e0"
      },
      "source": [
        "{n:n**2 for n in range(6)}"
      ],
      "execution_count": 0,
      "outputs": [
        {
          "output_type": "execute_result",
          "data": {
            "text/plain": [
              "{0: 0, 1: 1, 2: 4, 3: 9, 4: 16, 5: 25}"
            ]
          },
          "metadata": {
            "tags": []
          },
          "execution_count": 13
        }
      ]
    },
    {
      "cell_type": "markdown",
      "metadata": {
        "id": "RPxoxjSIbjxE",
        "colab_type": "text"
      },
      "source": [
        "Finally, if you use parentheses rather than square brackets, you get what's called a *generator expression*:\n",
        "\n",
        "最後に、角括弧ではなく括弧を使用すると、*ジェネレータ式*と呼ばれるものが得られます。"
      ]
    },
    {
      "cell_type": "code",
      "metadata": {
        "id": "7mWxA1azbjxE",
        "colab_type": "code",
        "colab": {},
        "outputId": "3c890745-bec5-4fb6-f423-d570df486820"
      },
      "source": [
        "(n**2 for n in range(12))"
      ],
      "execution_count": 0,
      "outputs": [
        {
          "output_type": "execute_result",
          "data": {
            "text/plain": [
              "<generator object <genexpr> at 0x1027a5a50>"
            ]
          },
          "metadata": {
            "tags": []
          },
          "execution_count": 15
        }
      ]
    },
    {
      "cell_type": "markdown",
      "metadata": {
        "id": "TgX8UQOfbjxH",
        "colab_type": "text"
      },
      "source": [
        "A generator expression is essentially a list comprehension in which elements are generated as-needed rather than all at-once, and the simplicity here belies the power of this language feature: we'll explore this more next.\n",
        "\n",
        "ジェネレータ式は、基本的には、すべての要素が一度に生成されるのではなく、必要に応じて生成されるリスト内包表記であり、ここでのシンプルさは、この言語機能の威力を裏切っています：これについては、次の機会に詳しく調べてみましょう。"
      ]
    },
    {
      "cell_type": "markdown",
      "metadata": {
        "id": "CaM9BJ2cbjxH",
        "colab_type": "text"
      },
      "source": [
        "   "
      ]
    },
    {
      "cell_type": "markdown",
      "metadata": {
        "id": "6ceENBepbjxI",
        "colab_type": "text"
      },
      "source": [
        "<!--NAVIGATION-->\n",
        "< [Iterators](10-Iterators.ipynb) | [Contents](Index.ipynb) | [Generators](12-Generators.ipynb) >"
      ]
    }
  ]
}