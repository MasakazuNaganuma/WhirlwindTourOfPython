{
  "nbformat": 4,
  "nbformat_minor": 0,
  "metadata": {
    "anaconda-cloud": {},
    "kernelspec": {
      "display_name": "Python 3",
      "language": "python",
      "name": "python3"
    },
    "language_info": {
      "codemirror_mode": {
        "name": "ipython",
        "version": 3
      },
      "file_extension": ".py",
      "mimetype": "text/x-python",
      "name": "python",
      "nbconvert_exporter": "python",
      "pygments_lexer": "ipython3",
      "version": "3.5.1"
    },
    "colab": {
      "name": "16-Further-Resources.ipynb",
      "provenance": []
    }
  },
  "cells": [
    {
      "cell_type": "markdown",
      "metadata": {
        "id": "A1H0hKUrShPU",
        "colab_type": "text"
      },
      "source": [
        "<!--BOOK_INFORMATION-->\n",
        "<img align=\"left\" style=\"padding-right:10px;\" src=\"https://github.com/MasakazuNaganuma/WhirlwindTourOfPython/blob/master/fig/cover-small.jpg?raw=1\">\n",
        "*This notebook contains an excerpt from the [Whirlwind Tour of Python](http://www.oreilly.com/programming/free/a-whirlwind-tour-of-python.csp) by Jake VanderPlas; the content is available [on GitHub](https://github.com/jakevdp/WhirlwindTourOfPython).*\n",
        "\n",
        "*The text and code are released under the [CC0](https://github.com/jakevdp/WhirlwindTourOfPython/blob/master/LICENSE) license; see also the companion project, the [Python Data Science Handbook](https://github.com/jakevdp/PythonDataScienceHandbook).*\n"
      ]
    },
    {
      "cell_type": "markdown",
      "metadata": {
        "id": "Y31PPOliShPY",
        "colab_type": "text"
      },
      "source": [
        "<!--NAVIGATION-->\n",
        "< [A Preview of Data Science Tools](15-Preview-of-Data-Science-Tools.ipynb) | [Contents](Index.ipynb) | [Appendix: Figure Code](17-Figures.ipynb) >"
      ]
    },
    {
      "cell_type": "markdown",
      "metadata": {
        "id": "mbP3i4NnShPb",
        "colab_type": "text"
      },
      "source": [
        "# さらに学習するためのリソース\n",
        "\n",
        "# Resources for Further Learning"
      ]
    },
    {
      "cell_type": "markdown",
      "metadata": {
        "id": "1A6uc8cTShPd",
        "colab_type": "text"
      },
      "source": [
        "これで、Python言語の旋風ツアーは終わりです。\n",
        "ここまで読んだら、Python言語によって提供される基本的な構文、セマンティクス、操作、機能、そしてさらに探求できるツールやコード構成の概念について理解できたことを願っています。\n",
        "\n",
        "私は、Pythonを使用するデータサイエンティストに最も役立つPython言語の断片とパターンをカバーしようとしましたが、これは決して完全な紹介ではありません。\n",
        "Python言語自体とそれを効果的に使用する方法をさらに深く理解したい場合は、以下のリソースをお勧めします。\n",
        "\n",
        "- [ **Fluent Python** ](http://shop.oreilly.com/product/0636920032519.do) by Luciano Ramalho。これは、標準ライブラリを最大限に活用することを含め、Pythonのベストプラクティスとイディオムを探求する優れたOReillyの本です。\n",
        "- [ **Dive Into Python** ](http://www.diveintopython.net/) by Mark Pilgrim。これは無料のオンラインブックで、Python言語の基礎を完全に紹介しています。\n",
        "- Zed Shawによる[ **Learn Python the Hard Way** ](http://learnpythonthehardway.org/)。この本は「試すことによって学ぶ」アプローチに従い、プログラマーが学ぶことができる最も有用なスキルであるかもしれないものを開発することを意図的に強調します：理解していないことをグーグルする。\n",
        "- [ **Python Essential Reference** ](http://www.dabeaz.com/per.html)by David Beazley。この700ページのモンスターはよく書かれており、Python言語とその組み込みライブラリについて知っておくべき事実上すべてをカバーしています。アプリケーション中心のPythonウォークスルーについては、Beazleyの[ **Python Cookbook** ](http://shop.oreilly.com/product/0636920027072.do)を参照してください。\n",
        "\n",
        "データサイエンスとサイエンスコンピューティング用のPythonツールをさらに詳しく調べるには、次の本をお勧めします。\n",
        "\n",
        "- [ **Pythonデータサイエンスハンドブック** ](http://shop.oreilly.com/product/0636920034919.do)本当にあなたの手で。この本は、このレポートが終わるところから正確に始まり、データの変更や操作から機械学習まで、Pythonのデータサイエンススタックの重要なツールへの包括的なガイドを提供します。\n",
        "- Katie HuffとAnthony Scopatzによる[ **Effective Computation in Physics** ](http://shop.oreilly.com/product/0636920033424.do)は、物理学研究の世界をはるかに超えた人々に適用できます。これは、このレポートで言及されているツールの多くへの優れた入門を含む、科学的コンピューティングへの段階的なゼロからの入門です。\n",
        "- [ **Python for Data Analysis** ](http://shop.oreilly.com/product/0636920023784.do)は、Pandasパッケージの作成者であるWes McKinneyによるものです。この本では、Pandasライブラリーについて詳しく説明し、それを可能にする他のいくつかのツールに関する有用な情報を提供します。\n",
        "\n",
        "最後に、そこに何があるのか​​をさらに詳しく調べるために、以下をお勧めします。\n",
        "\n",
        "- [ **OReilly Python Resources** ](http://shop.oreilly.com/category/browse-subjects/programming/python.do) O'Reillyは、Python自体に関する多数の優れた本と、Pythonの世界の専門トピックを特集しています。\n",
        "- **PyCon**、**SciPy**、および**PyData**。 PyCon、SciPy、およびPyData会議では、毎年何千人もの参加者が集まり、彼らのプログラムの大部分を毎年無料のオンラインビデオとしてアーカイブしています。これらは、Python自体、Pythonパッケージ、および関連トピックについて学ぶための素晴らしいリソースセットに変わりました。講演とチュートリアルの両方の動画をオンラインで検索します。前者は短くなる傾向があり、新しいパッケージや古いパッケージの新鮮な外観をカバーしています。チュートリアルは数時間になる傾向があり、ここで説明したツールの使用方法やその他の使用方法をカバーしています。\n",
        "\n",
        "This concludes our whirlwind tour of the Python language.\n",
        "My hope is that if you read this far, you have an idea of the essential syntax, semantics, operations, and functionality offered by the Python language, as well as some idea of the range of tools and code constructs that you can explore further.\n",
        "\n",
        "I have tried to cover the pieces and patterns in the Python language that will be most useful to a data scientist using Python, but this has by no means been a complete introduction.\n",
        "If you'd like to go deeper in understanding the Python language itself and how to use it effectively, here are a handful of resources I'd recommend:\n",
        "\n",
        "- [*Fluent Python*](http://shop.oreilly.com/product/0636920032519.do) by Luciano Ramalho. This is an excellent OReilly book that explores best practices and idioms for Python, including getting the most out of the standard library.\n",
        "- [*Dive Into Python*](http://www.diveintopython.net/) by Mark Pilgrim. This is a free online book that provides a ground-up introduction to the Python language.\n",
        "- [*Learn Python the Hard Way*](http://learnpythonthehardway.org/) by Zed Shaw. This book follows a \"learn by trying\" approach, and deliberately emphasizes developing what may be the most useful skill a programmer can learn: Googling things you don't understand.\n",
        "- [*Python Essential Reference*](http://www.dabeaz.com/per.html) by David Beazley. This 700-page monster is well-written, and covers virtually everything there is to know about the Python language and its built-in libraries. For a more application-focused Python walk-through, see Beazley's [*Python Cookbook*](http://shop.oreilly.com/product/0636920027072.do).\n",
        "\n",
        "To dig more into Python tools for data science and scientific computing, I recommend the following books:\n",
        "\n",
        "- [*The Python Data Science Handbook*](http://shop.oreilly.com/product/0636920034919.do) by yours truly. This book starts precisely where this report leaves off, and provides a comprehensive guide to the essential tools in Python's data science stack, from data munging and manipulation to machine learning.\n",
        "- [*Effective Computation in Physics*](http://shop.oreilly.com/product/0636920033424.do) by Katie Huff and Anthony Scopatz, is applicable to people far beyond the world of Physics research. It is a step-by-step, ground-up introduction to scientific computing, including an excellent introduction to many of the tools mentioned in this report.\n",
        "- [*Python for Data Analysis*](http://shop.oreilly.com/product/0636920023784.do) by Wes McKinney, creator of the Pandas package. This book covers the Pandas library in detail, as well as giving useful information on some of the other tools that enable it.\n",
        "\n",
        "Finally, for an even broader look at what's out there, I recommend the following:\n",
        "\n",
        "- [*OReilly Python Resources*](http://shop.oreilly.com/category/browse-subjects/programming/python.do) O'Reilly features a number of excellent books on Python itself and specialized topics in the Python world.\n",
        "- *PyCon*, *SciPy*, and *PyData*. The PyCon, SciPy, and PyData conferences draw thousands of attendees each year, and archive the bulk of their programs each year as free online videos. These have turned into an incredible set of resources for learning about Python itself, Python packages, and related topics. Search online for videos of both talks and tutorials: the former tend to be shorter, covering new packages or fresh looks at old ones. The tutorials tend to be several hours, covering the use of the tools mentioned here as well as others."
      ]
    },
    {
      "cell_type": "markdown",
      "metadata": {
        "id": "_ZwxgPBeShPf",
        "colab_type": "text"
      },
      "source": [
        "<!--NAVIGATION-->\n",
        "< [A Preview of Data Science Tools](15-Preview-of-Data-Science-Tools.ipynb) | [Contents](Index.ipynb) | [Appendix: Figure Code](17-Figures.ipynb) >"
      ]
    }
  ]
}