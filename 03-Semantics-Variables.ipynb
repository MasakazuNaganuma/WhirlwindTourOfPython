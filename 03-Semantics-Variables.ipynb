{
  "nbformat": 4,
  "nbformat_minor": 0,
  "metadata": {
    "anaconda-cloud": {},
    "kernelspec": {
      "display_name": "Python 3",
      "language": "python",
      "name": "python3"
    },
    "language_info": {
      "codemirror_mode": {
        "name": "ipython",
        "version": 3
      },
      "file_extension": ".py",
      "mimetype": "text/x-python",
      "name": "python",
      "nbconvert_exporter": "python",
      "pygments_lexer": "ipython3",
      "version": "3.5.1"
    },
    "colab": {
      "name": "03-Semantics-Variables.ipynb",
      "provenance": [],
      "toc_visible": true,
      "include_colab_link": true
    }
  },
  "cells": [
    {
      "cell_type": "markdown",
      "metadata": {
        "id": "view-in-github",
        "colab_type": "text"
      },
      "source": [
        "<a href=\"https://colab.research.google.com/github/MasakazuNaganuma/WhirlwindTourOfPython/blob/master/03-Semantics-Variables.ipynb\" target=\"_parent\"><img src=\"https://colab.research.google.com/assets/colab-badge.svg\" alt=\"Open In Colab\"/></a>"
      ]
    },
    {
      "cell_type": "markdown",
      "metadata": {
        "id": "rHFaGzCefeaO",
        "colab_type": "text"
      },
      "source": [
        "<!--BOOK_INFORMATION-->\n",
        "<img align=\"left\" style=\"padding-right:10px;\" src=\"https://github.com/MasakazuNaganuma/WhirlwindTourOfPython/blob/master/fig/cover-small.jpg?raw=1\">\n",
        "*This notebook contains an excerpt from the [Whirlwind Tour of Python](http://www.oreilly.com/programming/free/a-whirlwind-tour-of-python.csp) by Jake VanderPlas; the content is available [on GitHub](https://github.com/jakevdp/WhirlwindTourOfPython).*\n",
        "\n",
        "*The text and code are released under the [CC0](https://github.com/jakevdp/WhirlwindTourOfPython/blob/master/LICENSE) license; see also the companion project, the [Python Data Science Handbook](https://github.com/jakevdp/PythonDataScienceHandbook).*\n"
      ]
    },
    {
      "cell_type": "markdown",
      "metadata": {
        "id": "eTmLTGkvfeaS",
        "colab_type": "text"
      },
      "source": [
        "<!--NAVIGATION-->\n",
        "< [A Quick Tour of Python Language Syntax](02-Basic-Python-Syntax.ipynb) | [Contents](Index.ipynb) | [Basic Python Semantics: Operators](04-Semantics-Operators.ipynb) >"
      ]
    },
    {
      "cell_type": "markdown",
      "metadata": {
        "id": "koP1jLchfeaV",
        "colab_type": "text"
      },
      "source": [
        "# 基本的なPythonのセマンティクス. 変数とオブジェクト\n",
        "# Basic Python Semantics: Variables and Objects\n"
      ]
    },
    {
      "cell_type": "markdown",
      "metadata": {
        "id": "Y-ppaOqgfeaX",
        "colab_type": "text"
      },
      "source": [
        "このセクションでは、Python言語の基本的なセマンティクスについて説明します。\n",
        "前のセクションで説明した**syntax**とは対照的に、言語の**semantics**は文の意味を含みます。\n",
        "構文についての議論と同様に、ここではPythonの基本的な意味論的な構文のいくつかをプレビューして、次のセクションでのコードを理解するためのより良い参照フレームを提供します。\n",
        "\n",
        "このセクションでは、Pythonスクリプト内でデータを保存、参照、操作する主な方法である**変数**と**オブジェクト**の意味論について説明します。\n",
        "\n",
        "This section will begin to cover the basic semantics of the Python language.\n",
        "As opposed to the *syntax* covered in the previous section, the *semantics* of a language involve the meaning of the statements.\n",
        "As with our discussion of syntax, here we'll preview a few of the essential semantic constructions in Python to give you a better frame of reference for understanding the code in the following sections.\n",
        "\n",
        "This section will cover the semantics of *variables* and *objects*, which are the main ways you store, reference, and operate on data within a Python script.\n"
      ]
    },
    {
      "cell_type": "markdown",
      "metadata": {
        "id": "POAevJAkfeaa",
        "colab_type": "text"
      },
      "source": [
        "## Python の変数はポインタ\n",
        "## Python Variables Are Pointers\n",
        "\n",
        "Pythonで変数を代入するのは、等号（``=``）の左に変数名を置くのと同じくらい簡単です。\n",
        "\n",
        "Assigning variables in Python is as easy as putting a variable name to the left of the equals (``=``) sign:\n",
        "\n",
        "```python\n",
        "# assign 4 to the variable x\n",
        "x = 4\n",
        "```\n",
        "\n",
        "これは簡単そうに見えるかもしれませんが、この操作が何をするのかという間違ったメンタルモデルを持っていると、Pythonのやり方が混乱してしまうかもしれません。\n",
        "ここでは簡単にそれを掘り下げてみましょう。\n",
        "\n",
        "This may seem straightforward, but if you have the wrong mental model of what this operation does, the way Python works may seem confusing.\n",
        "We'll briefly dig into that here.\n",
        "\n",
        "多くのプログラミング言語では、変数はデータを入れるためのコンテナやバケツと考えた方が良いでしょう。\n",
        "例えばC言語では、次のように書きます。\n",
        "\n",
        "In many programming languages, variables are best thought of as containers or buckets into which you put data.\n",
        "So in C, for example, when you write\n",
        "\n",
        "```C\n",
        "// C code\n",
        "int x = 4;\n",
        "```\n",
        "\n",
        "あなたは本質的に ``x`` という名前の \"メモリバケット\" を定義し、そこに ``4`` という値を入れていることになります。\n",
        "対照的にPythonでは、変数はコンテナとしてではなくポインタとして考えた方が良いでしょう。\n",
        "ですから、Pythonでは\n",
        "\n",
        "you are essentially defining a \"memory bucket\" named ``x``, and putting the value ``4`` into it.\n",
        "In Python, by contrast, variables are best thought of not as containers but as pointers.\n",
        "So in Python, when you write\n",
        "\n",
        "```python\n",
        "x = 4\n",
        "```\n",
        "\n",
        "この場合、本質的に ``x`` という名前の **pointer** を定義していることになります。\n",
        "Pythonの変数は様々なオブジェクトを指すだけなので、変数を \"宣言 \"する必要はありませんし、変数が常に同じ型の情報を指すように要求する必要もありません！これはPythonが**dynamically-typed**であると言われている意味です。\n",
        "これはPythonが**dynamically-typed**であると言われている意味です: 変数名は任意の型のオブジェクトを指すことができます。\n",
        "ですから、Pythonでは次のようなことができます。\n",
        "\n",
        "you are essentially defining a *pointer* named ``x`` that points to some other bucket containing the value ``4``.\n",
        "Note one consequence of this: because Python variables just point to various objects, there is no need to \"declare\" the variable, or even require the variable to always point to information of the same type!\n",
        "This is the sense in which people say Python is *dynamically-typed*: variable names can point to objects of any type.\n",
        "So in Python, you can do things like this:"
      ]
    },
    {
      "cell_type": "code",
      "metadata": {
        "id": "3OoMrI4ufeac",
        "colab_type": "code",
        "colab": {}
      },
      "source": [
        "x = 1         # x is an integer\n",
        "x = 'hello'   # now x is a string\n",
        "x = [1, 2, 3] # now x is a list"
      ],
      "execution_count": 0,
      "outputs": []
    },
    {
      "cell_type": "markdown",
      "metadata": {
        "id": "2zbCTvTNfear",
        "colab_type": "text"
      },
      "source": [
        "静的型付けされた言語のユーザは、C言語のような宣言に由来する型の安全性を恋しく思うかもしれませんが、その一方で、C言語のような宣言に由来する型の安全性を恋しく思うかもしれません。\n",
        "\n",
        "While users of statically-typed languages might miss the type-safety that comes with declarations like those found in C,\n",
        "\n",
        "```C\n",
        "int x = 4;\n",
        "```\n",
        "この動的な型付けは、Pythonをとても速く書き、読みやすくしている部分の一つです。\n",
        "\n",
        "this dynamic typing is one of the pieces that makes Python so quick to write and easy to read.\n",
        "\n",
        "この \"ポインタとしての変数 \"のアプローチには、注意しなければならないことがあります。\n",
        "もし、同じ**mutable**オブジェクトを指す2つの変数名がある場合、1つを変更するともう1つも変更されてしまいます。\n",
        "例えば、リストを作成して変更してみましょう。\n",
        "\n",
        "There is a consequence of this \"variable as pointer\" approach that you need to be aware of.\n",
        "If we have two variable names pointing to the same *mutable* object, then changing one will change the other as well!\n",
        "For example, let's create and modify a list:"
      ]
    },
    {
      "cell_type": "code",
      "metadata": {
        "id": "_P4zB6rMfeau",
        "colab_type": "code",
        "colab": {}
      },
      "source": [
        "x = [1, 2, 3]\n",
        "y = x"
      ],
      "execution_count": 0,
      "outputs": []
    },
    {
      "cell_type": "markdown",
      "metadata": {
        "id": "LTFnIhn-fea1",
        "colab_type": "text"
      },
      "source": [
        "2つの変数 ``x`` と ``y`` を作りましたが、これらはどちらも同じオブジェクトを指しています。\n",
        "このため、リストの名前のいずれかを使ってリストを変更すると、\"**他の**\"リストも変更されることがわかります。\n",
        "\n",
        "We've created two variables ``x`` and ``y`` which both point to the same object.\n",
        "Because of this, if we modify the list via one of its names, we'll see that the \"other\" list will be modified as well:"
      ]
    },
    {
      "cell_type": "code",
      "metadata": {
        "id": "9NVV6x44fea2",
        "colab_type": "code",
        "colab": {},
        "outputId": "671a054a-1fa0-49d0-d0ff-1f8c97e6a32f"
      },
      "source": [
        "print(y)"
      ],
      "execution_count": 0,
      "outputs": [
        {
          "output_type": "stream",
          "text": [
            "[1, 2, 3]\n"
          ],
          "name": "stdout"
        }
      ]
    },
    {
      "cell_type": "code",
      "metadata": {
        "id": "ttVMf5Wmfea-",
        "colab_type": "code",
        "colab": {},
        "outputId": "e56798e2-3d07-4a59-86aa-3b658b190f27"
      },
      "source": [
        "x.append(4) # append 4 to the list pointed to by x\n",
        "print(y) # y's list is modified as well!"
      ],
      "execution_count": 0,
      "outputs": [
        {
          "output_type": "stream",
          "text": [
            "[1, 2, 3, 4]\n"
          ],
          "name": "stdout"
        }
      ]
    },
    {
      "cell_type": "markdown",
      "metadata": {
        "id": "-wctpKbBfebC",
        "colab_type": "text"
      },
      "source": [
        "変数をデータを格納するバケットとして誤って考えている場合、この動作は混乱を招くかもしれません。\n",
        "しかし、変数をオブジェクトへのポインタとして正しく考えているのであれば、この動作は理にかなっています。\n",
        "\n",
        "また、\"``=``\"を使って ``x`` に別の値を代入しても ``y`` の値には影響しないことにも注意してください。\n",
        "\n",
        "This behavior might seem confusing if you're wrongly thinking of variables as buckets that contain data.\n",
        "But if you're correctly thinking of variables as pointers to objects, then this behavior makes sense.\n",
        "\n",
        "Note also that if we use \"``=``\" to assign another value to ``x``, this will not affect the value of ``y`` – assignment is simply a change of what object the variable points to:"
      ]
    },
    {
      "cell_type": "code",
      "metadata": {
        "id": "adYu_Bc_febD",
        "colab_type": "code",
        "colab": {},
        "outputId": "3f71047d-0fa2-4cba-ac4a-560da82a5e81"
      },
      "source": [
        "x = 'something else'\n",
        "print(y)  # y is unchanged"
      ],
      "execution_count": 0,
      "outputs": [
        {
          "output_type": "stream",
          "text": [
            "[1, 2, 3, 4]\n"
          ],
          "name": "stdout"
        }
      ]
    },
    {
      "cell_type": "markdown",
      "metadata": {
        "id": "tS8OtAC4febI",
        "colab_type": "text"
      },
      "source": [
        "繰り返しになりますが、 ``x`` と ``y`` をポインタと考え、\"``=``\"演算子を名前の指す場所を変更する演算子と考えれば、これは完全に理にかなっています。\n",
        "\n",
        "このポインタの考え方がPythonの算術演算を追跡するのを難しくしているのではないかと疑問に思うかもしれませんが、Pythonはこれが問題にならないように設定されています。数字や文字列、その他の**単純な型**は不変です: それらの値を変更することはできません。\n",
        "ですから、例えば、以下のような操作を行うことは完全に安全です。\n",
        "\n",
        "\n",
        "Again, this makes perfect sense if you think of ``x`` and ``y`` as pointers, and the \"``=``\" operator as an operation that changes what the name points to.\n",
        "\n",
        "You might wonder whether this pointer idea makes arithmetic operations in Python difficult to track, but Python is set up so that this is not an issue. Numbers, strings, and other *simple types* are immutable: you can't change their value – you can only change what values the variables point to.\n",
        "So, for example, it's perfectly safe to do operations like the following:"
      ]
    },
    {
      "cell_type": "code",
      "metadata": {
        "id": "CR_8scpJfebJ",
        "colab_type": "code",
        "colab": {},
        "outputId": "d7cc4a75-72f8-418f-ca99-5eb22520d279"
      },
      "source": [
        "x = 10\n",
        "y = x\n",
        "x += 5  # add 5 to x's value, and assign it to x\n",
        "print(\"x =\", x)\n",
        "print(\"y =\", y)"
      ],
      "execution_count": 0,
      "outputs": [
        {
          "output_type": "stream",
          "text": [
            "x = 15\n",
            "y = 10\n"
          ],
          "name": "stdout"
        }
      ]
    },
    {
      "cell_type": "markdown",
      "metadata": {
        "id": "1n7xEbzifebM",
        "colab_type": "text"
      },
      "source": [
        "``x += 5`` を呼び出すとき、 ``x`` が指す ``10`` オブジェクトの値を変更しているのではなく、 ``x`` が指す値が ``15`` の新しい整数オブジェクトを指すように変数 ``x`` を変更しているのです。\n",
        "このため、 ``y`` の値はこの操作の影響を受けません。\n",
        "\n",
        "When we call ``x += 5``, we are not modifying the value of the ``10`` object pointed to by ``x``; we are rather changing the variable ``x`` so that it points to a new integer object with value ``15``.\n",
        "For this reason, the value of ``y`` is not affected by the operation."
      ]
    },
    {
      "cell_type": "markdown",
      "metadata": {
        "id": "RrDd0vHffebN",
        "colab_type": "text"
      },
      "source": [
        "## Everything Is an Object\n",
        "\n",
        "Pythonはオブジェクト指向のプログラミング言語で、Pythonではすべてがオブジェクトです。\n",
        "\n",
        "これが何を意味するのかを具体的に説明しましょう。先ほど、変数は単なるポインタであり、変数名自体には型情報がないことを見ました。\n",
        "これにより、Pythonは型なし言語であるという誤った主張をする人がいます。しかし、そうではありません。\n",
        "次のように考えてみてください。\n",
        "\n",
        "\n",
        "Python is an object-oriented programming language, and in Python everything is an object.\n",
        "\n",
        "Let's flesh-out what this means. Earlier we saw that variables are simply pointers, and the variable names themselves have no attached type information.\n",
        "This leads some to claim erroneously that Python is a type-free language. But this is not the case!\n",
        "Consider the following:"
      ]
    },
    {
      "cell_type": "code",
      "metadata": {
        "id": "Pxwd8RuMfebO",
        "colab_type": "code",
        "colab": {},
        "outputId": "40b3d522-28f1-43f4-9501-f312daa030ce"
      },
      "source": [
        "x = 4\n",
        "type(x)"
      ],
      "execution_count": 0,
      "outputs": [
        {
          "output_type": "execute_result",
          "data": {
            "text/plain": [
              "int"
            ]
          },
          "metadata": {
            "tags": []
          },
          "execution_count": 7
        }
      ]
    },
    {
      "cell_type": "code",
      "metadata": {
        "id": "IPWEJk85febR",
        "colab_type": "code",
        "colab": {},
        "outputId": "6ea91614-d737-4c51-8e13-e14506b8fc2d"
      },
      "source": [
        "x = 'hello'\n",
        "type(x)"
      ],
      "execution_count": 0,
      "outputs": [
        {
          "output_type": "execute_result",
          "data": {
            "text/plain": [
              "str"
            ]
          },
          "metadata": {
            "tags": []
          },
          "execution_count": 8
        }
      ]
    },
    {
      "cell_type": "code",
      "metadata": {
        "id": "lftKA6z5febU",
        "colab_type": "code",
        "colab": {},
        "outputId": "43bfead6-3df3-486e-e450-ba0741b209a8"
      },
      "source": [
        "x = 3.14159\n",
        "type(x)"
      ],
      "execution_count": 0,
      "outputs": [
        {
          "output_type": "execute_result",
          "data": {
            "text/plain": [
              "float"
            ]
          },
          "metadata": {
            "tags": []
          },
          "execution_count": 9
        }
      ]
    },
    {
      "cell_type": "markdown",
      "metadata": {
        "id": "c4E9cK-2febZ",
        "colab_type": "text"
      },
      "source": [
        "Pythonには型がありますが、型は変数名ではなく、**オブジェクト自身**にリンクされています。\n",
        "\n",
        "Pythonのようなオブジェクト指向プログラミング言語では、**オブジェクト**とは、データと関連するメタデータや機能を含むエンティティのことです。\n",
        "Pythonではすべてがオブジェクトであり、すべてのエンティティが何らかのメタデータ（**属性**と呼ばれる）と関連する機能（**メソッド**と呼ばれる）を持っていることを意味します。\n",
        "これらの属性とメソッドはドット構文でアクセスできます。\n",
        "\n",
        "例えば、リストにはアイテムをリストに追加する ``append`` メソッドがあり、ドット(\"``.``\")構文を使ってアクセスすることができます。\n",
        "\n",
        "Python has types; however, the types are linked not to the variable names but *to the objects themselves*.\n",
        "\n",
        "In object-oriented programming languages like Python, an *object* is an entity that contains data along with associated metadata and/or functionality.\n",
        "In Python everything is an object, which means every entity has some metadata (called *attributes*) and associated functionality (called *methods*).\n",
        "These attributes and methods are accessed via the dot syntax.\n",
        "\n",
        "For example, before we saw that lists have an ``append`` method, which adds an item to the list, and is accessed via the dot (\"``.``\") syntax:"
      ]
    },
    {
      "cell_type": "code",
      "metadata": {
        "id": "c8YvFe0Zfeba",
        "colab_type": "code",
        "colab": {},
        "outputId": "da272ada-ba77-46ed-b430-469a229c244d"
      },
      "source": [
        "L = [1, 2, 3]\n",
        "L.append(100)\n",
        "print(L)"
      ],
      "execution_count": 0,
      "outputs": [
        {
          "output_type": "stream",
          "text": [
            "[1, 2, 3, 100]\n"
          ],
          "name": "stdout"
        }
      ]
    },
    {
      "cell_type": "markdown",
      "metadata": {
        "id": "ckXi5IP1febd",
        "colab_type": "text"
      },
      "source": [
        "リストのような複合オブジェクトには属性やメソッドがあると予想されるかもしれませんが、Pythonでは単純な型でも属性やメソッドを持っていることがあります。\n",
        "例えば、数値型には ``real``, ``imag`` 属性があり、複素数として見た場合、値の実数部と虚数部を返すようになっています。\n",
        "\n",
        "While it might be expected for compound objects like lists to have attributes and methods, what is sometimes unexpected is that in Python even simple types have attached attributes and methods.\n",
        "For example, numerical types have a ``real`` and ``imag`` attribute that returns the real and imaginary part of the value, if viewed as a complex number:"
      ]
    },
    {
      "cell_type": "code",
      "metadata": {
        "id": "onLCm1usfebe",
        "colab_type": "code",
        "colab": {},
        "outputId": "b9be6b33-844e-4403-9f78-dc3298de4033"
      },
      "source": [
        "x = 4.5\n",
        "print(x.real, \"+\", x.imag, 'i')"
      ],
      "execution_count": 0,
      "outputs": [
        {
          "output_type": "stream",
          "text": [
            "4.5 + 0.0 i\n"
          ],
          "name": "stdout"
        }
      ]
    },
    {
      "cell_type": "markdown",
      "metadata": {
        "id": "VRIkWYPBfebh",
        "colab_type": "text"
      },
      "source": [
        "メソッドは属性と似ていますが、開括弧と閉括弧を使って呼び出すことができる関数であることを除けば、メソッドは属性のようなものです。\n",
        "例えば、浮動小数点数には ``is_integer`` というメソッドがあり、その値が整数であるかどうかをチェックします。\n",
        "\n",
        "Methods are like attributes, except they are functions that you can call using opening and closing parentheses.\n",
        "For example, floating point numbers have a method called ``is_integer`` that checks whether the value is an integer:"
      ]
    },
    {
      "cell_type": "code",
      "metadata": {
        "id": "e-8IeInCfebh",
        "colab_type": "code",
        "colab": {},
        "outputId": "de70d2be-76b7-444a-d3bd-acc30df04114"
      },
      "source": [
        "x = 4.5\n",
        "x.is_integer()"
      ],
      "execution_count": 0,
      "outputs": [
        {
          "output_type": "execute_result",
          "data": {
            "text/plain": [
              "False"
            ]
          },
          "metadata": {
            "tags": []
          },
          "execution_count": 12
        }
      ]
    },
    {
      "cell_type": "code",
      "metadata": {
        "id": "7EPUYHsOfebk",
        "colab_type": "code",
        "colab": {},
        "outputId": "75a207d7-aa4d-426a-8efd-34a351033341"
      },
      "source": [
        "x = 4.0\n",
        "x.is_integer()"
      ],
      "execution_count": 0,
      "outputs": [
        {
          "output_type": "execute_result",
          "data": {
            "text/plain": [
              "True"
            ]
          },
          "metadata": {
            "tags": []
          },
          "execution_count": 13
        }
      ]
    },
    {
      "cell_type": "markdown",
      "metadata": {
        "id": "X4OuU8dRfebo",
        "colab_type": "text"
      },
      "source": [
        "Python のすべてのものがオブジェクトであると言うとき、私たちは本当に **everything** がオブジェクトであることを意味します - オブジェクトの属性やメソッドでさえも、それ自体がオブジェクトであり、それ自身の ``type`` 情報を持っています。\n",
        "\n",
        "When we say that everything in Python is an object, we really mean that *everything* is an object – even the attributes and methods of objects are themselves objects with their own ``type`` information:"
      ]
    },
    {
      "cell_type": "code",
      "metadata": {
        "id": "Xu-Yzw0Ufebo",
        "colab_type": "code",
        "colab": {},
        "outputId": "c853d676-0233-487f-9e20-272adef627a5"
      },
      "source": [
        "type(x.is_integer)"
      ],
      "execution_count": 0,
      "outputs": [
        {
          "output_type": "execute_result",
          "data": {
            "text/plain": [
              "builtin_function_or_method"
            ]
          },
          "metadata": {
            "tags": []
          },
          "execution_count": 14
        }
      ]
    },
    {
      "cell_type": "markdown",
      "metadata": {
        "id": "pONp-3fEfebs",
        "colab_type": "text"
      },
      "source": [
        "Python の everything-is-object デザインの選択により、非常に便利な言語構成が可能になることに気づくでしょう。\n",
        "\n",
        "We'll find that the everything-is-object design choice of Python allows for some very convenient language constructs."
      ]
    },
    {
      "cell_type": "markdown",
      "metadata": {
        "id": "tsLgi5Y-febt",
        "colab_type": "text"
      },
      "source": [
        "<!--NAVIGATION-->\n",
        "< [A Quick Tour of Python Language Syntax](02-Basic-Python-Syntax.ipynb) | [Contents](Index.ipynb) | [Basic Python Semantics: Operators](04-Semantics-Operators.ipynb) >"
      ]
    }
  ]
}