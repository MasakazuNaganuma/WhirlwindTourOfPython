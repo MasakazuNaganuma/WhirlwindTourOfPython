{
  "nbformat": 4,
  "nbformat_minor": 0,
  "metadata": {
    "anaconda-cloud": {},
    "kernelspec": {
      "display_name": "Python 3",
      "language": "python",
      "name": "python3"
    },
    "language_info": {
      "codemirror_mode": {
        "name": "ipython",
        "version": 3
      },
      "file_extension": ".py",
      "mimetype": "text/x-python",
      "name": "python",
      "nbconvert_exporter": "python",
      "pygments_lexer": "ipython3",
      "version": "3.5.1"
    },
    "colab": {
      "name": "12-Generators.ipynb",
      "provenance": [],
      "toc_visible": true,
      "include_colab_link": true
    }
  },
  "cells": [
    {
      "cell_type": "markdown",
      "metadata": {
        "id": "view-in-github",
        "colab_type": "text"
      },
      "source": [
        "<a href=\"https://colab.research.google.com/github/MasakazuNaganuma/WhirlwindTourOfPython/blob/master/12_Generators.ipynb\" target=\"_parent\"><img src=\"https://colab.research.google.com/assets/colab-badge.svg\" alt=\"Open In Colab\"/></a>"
      ]
    },
    {
      "cell_type": "markdown",
      "metadata": {
        "id": "pjuqZb2vexHR",
        "colab_type": "text"
      },
      "source": [
        "<!--BOOK_INFORMATION-->\n",
        "<img align=\"left\" style=\"padding-right:10px;\" src=\"fig/cover-small.jpg\">\n",
        "*This notebook contains an excerpt from the [Whirlwind Tour of Python](http://www.oreilly.com/programming/free/a-whirlwind-tour-of-python.csp) by Jake VanderPlas; the content is available [on GitHub](https://github.com/jakevdp/WhirlwindTourOfPython).*\n",
        "\n",
        "*The text and code are released under the [CC0](https://github.com/jakevdp/WhirlwindTourOfPython/blob/master/LICENSE) license; see also the companion project, the [Python Data Science Handbook](https://github.com/jakevdp/PythonDataScienceHandbook).*\n"
      ]
    },
    {
      "cell_type": "markdown",
      "metadata": {
        "id": "FyoNnIqBexHS",
        "colab_type": "text"
      },
      "source": [
        "<!--NAVIGATION-->\n",
        "< [List Comprehensions](11-List-Comprehensions.ipynb) | [Contents](Index.ipynb) | [Modules and Packages](13-Modules-and-Packages.ipynb) >"
      ]
    },
    {
      "cell_type": "markdown",
      "metadata": {
        "id": "yNYZmLAEexHT",
        "colab_type": "text"
      },
      "source": [
        "# Generators\n",
        "\n",
        "# ジェネレーター"
      ]
    },
    {
      "cell_type": "markdown",
      "metadata": {
        "id": "0mLQRscpexHT",
        "colab_type": "text"
      },
      "source": [
        "Here we'll take a deeper dive into Python generators, including *generator expressions* and *generator functions*.\n",
        "\n",
        "ここでは、ジェネレータ式やジェネレータ関数などのPythonジェネレータについて詳しく説明します。"
      ]
    },
    {
      "cell_type": "markdown",
      "metadata": {
        "id": "qJL8-n3yexHU",
        "colab_type": "text"
      },
      "source": [
        "## Generator Expressions\n",
        "\n",
        "ジェネレータ式"
      ]
    },
    {
      "cell_type": "markdown",
      "metadata": {
        "id": "-8NBItMlexHV",
        "colab_type": "text"
      },
      "source": [
        "The difference between list comprehensions and generator expressions is sometimes confusing; here we'll quickly outline the differences between them:\n",
        "\n",
        "リスト内包表記とジェネレータ式の違いは、時々混乱します。 ここでは、それらの違いについて簡単に説明します。"
      ]
    },
    {
      "cell_type": "markdown",
      "metadata": {
        "id": "xuV8LvLmexHV",
        "colab_type": "text"
      },
      "source": [
        "### List comprehensions use square brackets, while generator expressions use parentheses\n",
        "This is a representative list comprehension:\n",
        "\n",
        "###リスト内包表記は角括弧を使用し、ジェネレーター式は括弧を使用します\n",
        "これは代表的なリストの理解です："
      ]
    },
    {
      "cell_type": "code",
      "metadata": {
        "id": "YjlWmyIyexHW",
        "colab_type": "code",
        "outputId": "ac980a85-9fcd-48f9-eb02-c43658c8124f",
        "colab": {}
      },
      "source": [
        "[n ** 2 for n in range(12)]"
      ],
      "execution_count": 0,
      "outputs": [
        {
          "output_type": "execute_result",
          "data": {
            "text/plain": [
              "[0, 1, 4, 9, 16, 25, 36, 49, 64, 81, 100, 121]"
            ]
          },
          "metadata": {
            "tags": []
          },
          "execution_count": 1
        }
      ]
    },
    {
      "cell_type": "markdown",
      "metadata": {
        "id": "1W1yoOF0exHY",
        "colab_type": "text"
      },
      "source": [
        "While this is a representative generator expression:\n",
        "\n",
        "これは代表的なジェネレータ式ですが、"
      ]
    },
    {
      "cell_type": "code",
      "metadata": {
        "id": "S0oWdLymexHZ",
        "colab_type": "code",
        "outputId": "ba096ee6-32ea-447a-fd19-3d48fc8c8849",
        "colab": {}
      },
      "source": [
        "(n ** 2 for n in range(12))"
      ],
      "execution_count": 0,
      "outputs": [
        {
          "output_type": "execute_result",
          "data": {
            "text/plain": [
              "<generator object <genexpr> at 0x104a60518>"
            ]
          },
          "metadata": {
            "tags": []
          },
          "execution_count": 2
        }
      ]
    },
    {
      "cell_type": "markdown",
      "metadata": {
        "id": "Y3qfEZ5RexHb",
        "colab_type": "text"
      },
      "source": [
        "Notice that printing the generator expression does not print the contents; one way to print the contents of a generator expression is to pass it to the ``list`` constructor:\n",
        "\n",
        "ジェネレータ式を印刷しても内容は印刷されないことに注意してください。 ジェネレータ式の内容を出力する1つの方法は、それを `` list``コンストラクタに渡すことです："
      ]
    },
    {
      "cell_type": "code",
      "metadata": {
        "id": "NkMYmfQXexHc",
        "colab_type": "code",
        "outputId": "ba4164ad-b851-4394-d545-e35c8472b415",
        "colab": {}
      },
      "source": [
        "G = (n ** 2 for n in range(12))\n",
        "list(G)"
      ],
      "execution_count": 0,
      "outputs": [
        {
          "output_type": "execute_result",
          "data": {
            "text/plain": [
              "[0, 1, 4, 9, 16, 25, 36, 49, 64, 81, 100, 121]"
            ]
          },
          "metadata": {
            "tags": []
          },
          "execution_count": 3
        }
      ]
    },
    {
      "cell_type": "markdown",
      "metadata": {
        "id": "qzfbWwh7exHe",
        "colab_type": "text"
      },
      "source": [
        "### A list is a collection of values, while a generator is a recipe for producing values\n",
        "リストは値のコレクションですが、ジェネレータは値を生成するためのレシピです\n",
        "\n",
        "When you create a list, you are actually building a collection of values, and there is some memory cost associated with that.\n",
        "When you create a generator, you are not building a collection of values, but a recipe for producing those values.\n",
        "Both expose the same iterator interface, as we can see here:\n",
        "\n",
        "リストを作成すると、実際には値のコレクションが作成され、それに関連するメモリコストが発生します。 ジェネレータを作成するときは、値のコレクションを作成するのではなく、それらの値を生成するためのレシピを作成します。 ここでわかるように、どちらも同じイテレータインターフェースを公開します。"
      ]
    },
    {
      "cell_type": "code",
      "metadata": {
        "id": "Zuyz_I6dexHe",
        "colab_type": "code",
        "outputId": "e4bda11d-4918-41a7-cba0-3c5b87a3ab4a",
        "colab": {}
      },
      "source": [
        "L = [n ** 2 for n in range(12)]\n",
        "for val in L:\n",
        "    print(val, end=' ')"
      ],
      "execution_count": 0,
      "outputs": [
        {
          "output_type": "stream",
          "text": [
            "0 1 4 9 16 25 36 49 64 81 100 121 "
          ],
          "name": "stdout"
        }
      ]
    },
    {
      "cell_type": "code",
      "metadata": {
        "id": "Q12FhSbZexHg",
        "colab_type": "code",
        "outputId": "3a895a0f-ed76-4817-a920-e15425fa227a",
        "colab": {}
      },
      "source": [
        "G = (n ** 2 for n in range(12))\n",
        "for val in G:\n",
        "    print(val, end=' ')"
      ],
      "execution_count": 0,
      "outputs": [
        {
          "output_type": "stream",
          "text": [
            "0 1 4 9 16 25 36 49 64 81 100 121 "
          ],
          "name": "stdout"
        }
      ]
    },
    {
      "cell_type": "markdown",
      "metadata": {
        "id": "Xb9SYb2nexHi",
        "colab_type": "text"
      },
      "source": [
        "The difference is that a generator expression does not actually compute the values until they are needed.\n",
        "This not only leads to memory efficiency, but to computational efficiency as well!\n",
        "This also means that while the size of a list is limited by available memory, the size of a generator expression is unlimited!\n",
        "\n",
        "An example of an infinite generator expression can be created using the ``count`` iterator defined in ``itertools``:"
      ]
    },
    {
      "cell_type": "code",
      "metadata": {
        "id": "GckwEjkMexHj",
        "colab_type": "code",
        "outputId": "db4aacbe-a5a5-4694-bb87-a121c71d7cbc",
        "colab": {}
      },
      "source": [
        "from itertools import count\n",
        "count()"
      ],
      "execution_count": 0,
      "outputs": [
        {
          "output_type": "execute_result",
          "data": {
            "text/plain": [
              "count(0)"
            ]
          },
          "metadata": {
            "tags": []
          },
          "execution_count": 6
        }
      ]
    },
    {
      "cell_type": "code",
      "metadata": {
        "id": "eRNRkL1VexHk",
        "colab_type": "code",
        "outputId": "865475e8-26ff-4bb0-94a8-8bab82d5e217",
        "colab": {}
      },
      "source": [
        "for i in count():\n",
        "    print(i, end=' ')\n",
        "    if i >= 10: break"
      ],
      "execution_count": 0,
      "outputs": [
        {
          "output_type": "stream",
          "text": [
            "0 1 2 3 4 5 6 7 8 9 10 "
          ],
          "name": "stdout"
        }
      ]
    },
    {
      "cell_type": "markdown",
      "metadata": {
        "id": "HwKhXy9qexHm",
        "colab_type": "text"
      },
      "source": [
        "The ``count`` iterator will go on happily counting forever until you tell it to stop; this makes it convenient to create generators that will also go on forever:\n",
        "\n",
        "カウントイテレータは、ユーザーが停止するように指示するまで、いつまでも楽しくカウントを続けます。 これにより、いつまでも続くジェネレータを作成するのが便利になります。"
      ]
    },
    {
      "cell_type": "code",
      "metadata": {
        "id": "owai0POyexHn",
        "colab_type": "code",
        "outputId": "ba3143c7-562d-4dd0-fbd8-6047cc217f87",
        "colab": {}
      },
      "source": [
        "factors = [2, 3, 5, 7]\n",
        "G = (i for i in count() if all(i % n > 0 for n in factors))\n",
        "for val in G:\n",
        "    print(val, end=' ')\n",
        "    if val > 40: break"
      ],
      "execution_count": 0,
      "outputs": [
        {
          "output_type": "stream",
          "text": [
            "1 11 13 17 19 23 29 31 37 41 "
          ],
          "name": "stdout"
        }
      ]
    },
    {
      "cell_type": "markdown",
      "metadata": {
        "id": "pDaL71o0exHp",
        "colab_type": "text"
      },
      "source": [
        "You might see what we're getting at here: if we were to expand the list of factors appropriately, what we would have the beginnings of is a prime number generator, using the Sieve of Eratosthenes algorithm. We'll explore this more momentarily.\n",
        "\n",
        "ここで何が得られているかがわかると思います。因子のリストを適切に拡張する場合、最初にあるのは、エラトステネスのふるいアルゴリズムを使用した素数ジェネレーターです。 これについては後ほど詳しく説明します。"
      ]
    },
    {
      "cell_type": "markdown",
      "metadata": {
        "id": "DZbL2a26exHp",
        "colab_type": "text"
      },
      "source": [
        "### A list can be iterated multiple times; a generator expression is single-use\n",
        "This is one of those potential gotchas of generator expressions.\n",
        "With a list, we can straightforwardly do this:\n",
        "\n",
        "###リストは複数回繰り返すことができます。 ジェネレータ式は使い捨てです\n",
        "これは、ジェネレーター式の潜在的な問題の1つです。\n",
        "リストがあれば、これを簡単に行うことができます："
      ]
    },
    {
      "cell_type": "code",
      "metadata": {
        "id": "PGe5uUIHexHq",
        "colab_type": "code",
        "outputId": "3a5ac508-a372-4701-9596-d59276ade341",
        "colab": {}
      },
      "source": [
        "L = [n ** 2 for n in range(12)]\n",
        "for val in L:\n",
        "    print(val, end=' ')\n",
        "print()\n",
        "\n",
        "for val in L:\n",
        "    print(val, end=' ')"
      ],
      "execution_count": 0,
      "outputs": [
        {
          "output_type": "stream",
          "text": [
            "0 1 4 9 16 25 36 49 64 81 100 121 \n",
            "0 1 4 9 16 25 36 49 64 81 100 121 "
          ],
          "name": "stdout"
        }
      ]
    },
    {
      "cell_type": "markdown",
      "metadata": {
        "id": "b6i-O5pvexHs",
        "colab_type": "text"
      },
      "source": [
        "A generator expression, on the other hand, is used-up after one iteration:\n",
        "\n",
        "一方、ジェネレータ式は1回の反復後に使い果たされます。"
      ]
    },
    {
      "cell_type": "code",
      "metadata": {
        "id": "X4zfx2xyexHs",
        "colab_type": "code",
        "outputId": "84449860-04b6-4fad-fa4a-97a4310d10bd",
        "colab": {}
      },
      "source": [
        "G = (n ** 2 for n in range(12))\n",
        "list(G)"
      ],
      "execution_count": 0,
      "outputs": [
        {
          "output_type": "execute_result",
          "data": {
            "text/plain": [
              "[0, 1, 4, 9, 16, 25, 36, 49, 64, 81, 100, 121]"
            ]
          },
          "metadata": {
            "tags": []
          },
          "execution_count": 10
        }
      ]
    },
    {
      "cell_type": "code",
      "metadata": {
        "id": "DW4gwnALexHu",
        "colab_type": "code",
        "outputId": "554abc1b-f71f-4458-9901-2f6a47ccb1b8",
        "colab": {}
      },
      "source": [
        "list(G)"
      ],
      "execution_count": 0,
      "outputs": [
        {
          "output_type": "execute_result",
          "data": {
            "text/plain": [
              "[]"
            ]
          },
          "metadata": {
            "tags": []
          },
          "execution_count": 11
        }
      ]
    },
    {
      "cell_type": "markdown",
      "metadata": {
        "id": "eyaAVNQjexHw",
        "colab_type": "text"
      },
      "source": [
        "This can be very useful because it means iteration can be stopped and started:\n",
        "\n",
        "これは、反復を停止および開始できることを意味するため、非常に役立ちます。"
      ]
    },
    {
      "cell_type": "code",
      "metadata": {
        "id": "UiF_zDHsexHw",
        "colab_type": "code",
        "outputId": "08baf145-a208-441b-e14d-4c3643f8b524",
        "colab": {}
      },
      "source": [
        "G = (n**2 for n in range(12))\n",
        "for n in G:\n",
        "    print(n, end=' ')\n",
        "    if n > 30: break\n",
        "\n",
        "print(\"\\ndoing something in between\")\n",
        "\n",
        "for n in G:\n",
        "    print(n, end=' ')"
      ],
      "execution_count": 0,
      "outputs": [
        {
          "output_type": "stream",
          "text": [
            "0 1 4 9 16 25 36 \n",
            "doing something in between\n",
            "49 64 81 100 121 "
          ],
          "name": "stdout"
        }
      ]
    },
    {
      "cell_type": "markdown",
      "metadata": {
        "id": "BllzeZ64exHy",
        "colab_type": "text"
      },
      "source": [
        "One place I've found this useful is when working with collections of data files on disk; it means that you can quite easily analyze them in batches, letting the generator keep track of which ones you have yet to see.\n",
        "\n",
        "私がこれが便利だと思ったのは、ディスク上のデータファイルのコレクションを操作するときです。 つまり、バッチでそれらを非常に簡単に分析できるため、ジェネレーターはまだ表示していないものを追跡できます。\n",
        "\n"
      ]
    },
    {
      "cell_type": "markdown",
      "metadata": {
        "id": "iLEKarlsexHz",
        "colab_type": "text"
      },
      "source": [
        "## Generator Functions: Using ``yield``\n",
        "##ジェネレータ関数： `` yield``の使用\n",
        "\n",
        "We saw in the previous section that list comprehensions are best used to create relatively simple lists, while using a normal ``for`` loop can be better in more complicated situations.\n",
        "The same is true of generator expressions: we can make more complicated generators using *generator functions*, which make use of the ``yield`` statement.\n",
        "\n",
        "Here we have two ways of constructing the same list:\n",
        "\n",
        "前のセクションで説明したように、リストの内包表記は比較的単純なリストを作成するのに最もよく使用されますが、通常の `` for``ループを使用すると、より複雑な状況でより効果的です。\n",
        "同じことがジェネレータ式にも当てはまります： `` yield``ステートメントを利用する*ジェネレータ関数*を使用して、より複雑なジェネレータを作成できます。"
      ]
    },
    {
      "cell_type": "code",
      "metadata": {
        "id": "BfeKj5fZexHz",
        "colab_type": "code",
        "outputId": "a82a1306-b27a-4d18-bfd4-86fb09ebb2cf",
        "colab": {}
      },
      "source": [
        "L1 = [n ** 2 for n in range(12)]\n",
        "\n",
        "L2 = []\n",
        "for n in range(12):\n",
        "    L2.append(n ** 2)\n",
        "\n",
        "print(L1)\n",
        "print(L2)"
      ],
      "execution_count": 0,
      "outputs": [
        {
          "output_type": "stream",
          "text": [
            "[0, 1, 4, 9, 16, 25, 36, 49, 64, 81, 100, 121]\n",
            "[0, 1, 4, 9, 16, 25, 36, 49, 64, 81, 100, 121]\n"
          ],
          "name": "stdout"
        }
      ]
    },
    {
      "cell_type": "markdown",
      "metadata": {
        "id": "EvM3NmKeexH1",
        "colab_type": "text"
      },
      "source": [
        "Similarly, here we have two ways of constructing equivalent generators:\n",
        "\n",
        "同様に、同等のジェネレーターを作成する方法は2つあります。"
      ]
    },
    {
      "cell_type": "code",
      "metadata": {
        "id": "-4mjGKG6exH2",
        "colab_type": "code",
        "outputId": "6702c196-367e-4cfc-e13d-3cfab68f4a36",
        "colab": {}
      },
      "source": [
        "G1 = (n ** 2 for n in range(12))\n",
        "\n",
        "def gen():\n",
        "    for n in range(12):\n",
        "        yield n ** 2\n",
        "\n",
        "G2 = gen()\n",
        "print(*G1)\n",
        "print(*G2)"
      ],
      "execution_count": 0,
      "outputs": [
        {
          "output_type": "stream",
          "text": [
            "0 1 4 9 16 25 36 49 64 81 100 121\n",
            "0 1 4 9 16 25 36 49 64 81 100 121\n"
          ],
          "name": "stdout"
        }
      ]
    },
    {
      "cell_type": "markdown",
      "metadata": {
        "id": "WTWV9o65exH4",
        "colab_type": "text"
      },
      "source": [
        "A generator function is a function that, rather than using ``return`` to return a value once, uses ``yield`` to yield a (potentially infinite) sequence of values.\n",
        "Just as in generator expressions, the state of the generator is preserved between partial iterations, but if we want a fresh copy of the generator we can simply call the function again.\n",
        "\n",
        "ジェネレータ関数は、「return」を使用して値を1回返すのではなく、「yield」を使用して（潜在的に無限の）値のシーケンスを生成する関数です。\n",
        "ジェネレーター式の場合と同様に、ジェネレーターの状態は部分反復の間保持されますが、ジェネレーターの新しいコピーが必要な場合は、関数を再度呼び出すだけで済みます。"
      ]
    },
    {
      "cell_type": "markdown",
      "metadata": {
        "id": "44nyLlc3exH4",
        "colab_type": "text"
      },
      "source": [
        "## Example: Prime Number Generator\n",
        "## 例：素数ジェネレーター\n",
        "---\n",
        "\n",
        "\n",
        "Here I'll show my favorite example of a generator function: a function to generate an unbounded series of prime numbers.\n",
        "A classic algorithm for this is the *Sieve of Eratosthenes*, which works something like this:\n",
        "\n",
        "ここで、ジェネレーター関数の私のお気に入りの例を示します。無限の一連の素数を生成する関数です。\n",
        "このための古典的なアルゴリズムは、*エラトステネスのふるい*で、次のように機能します。"
      ]
    },
    {
      "cell_type": "code",
      "metadata": {
        "id": "oBc7W7whexH5",
        "colab_type": "code",
        "outputId": "2dc4da83-ec81-4c08-cd1c-fcfb40bf0a74",
        "colab": {}
      },
      "source": [
        "# Generate a list of candidates\n",
        "L = [n for n in range(2, 40)]\n",
        "print(L)"
      ],
      "execution_count": 0,
      "outputs": [
        {
          "output_type": "stream",
          "text": [
            "[2, 3, 4, 5, 6, 7, 8, 9, 10, 11, 12, 13, 14, 15, 16, 17, 18, 19, 20, 21, 22, 23, 24, 25, 26, 27, 28, 29, 30, 31, 32, 33, 34, 35, 36, 37, 38, 39]\n"
          ],
          "name": "stdout"
        }
      ]
    },
    {
      "cell_type": "code",
      "metadata": {
        "id": "Z6z0HkKuexH-",
        "colab_type": "code",
        "outputId": "fdb064fc-b0fe-4202-bae4-adeef7e569cb",
        "colab": {}
      },
      "source": [
        "# Remove all multiples of the first value\n",
        "L = [n for n in L if n == L[0] or n % L[0] > 0]\n",
        "print(L)"
      ],
      "execution_count": 0,
      "outputs": [
        {
          "output_type": "stream",
          "text": [
            "[2, 3, 5, 7, 9, 11, 13, 15, 17, 19, 21, 23, 25, 27, 29, 31, 33, 35, 37, 39]\n"
          ],
          "name": "stdout"
        }
      ]
    },
    {
      "cell_type": "code",
      "metadata": {
        "id": "WF0mNfljexIB",
        "colab_type": "code",
        "outputId": "357d23fe-5b2a-43fd-db50-85340a78241d",
        "colab": {}
      },
      "source": [
        "# Remove all multiples of the second value\n",
        "L = [n for n in L if n == L[1] or n % L[1] > 0]\n",
        "print(L)"
      ],
      "execution_count": 0,
      "outputs": [
        {
          "output_type": "stream",
          "text": [
            "[2, 3, 5, 7, 11, 13, 17, 19, 23, 25, 29, 31, 35, 37]\n"
          ],
          "name": "stdout"
        }
      ]
    },
    {
      "cell_type": "code",
      "metadata": {
        "id": "glFyOA-xexID",
        "colab_type": "code",
        "outputId": "4b01259d-2d38-4c14-a0ef-b8bf0b8eef5a",
        "colab": {}
      },
      "source": [
        "# Remove all multiples of the third value\n",
        "L = [n for n in L if n == L[2] or n % L[2] > 0]\n",
        "print(L)"
      ],
      "execution_count": 0,
      "outputs": [
        {
          "output_type": "stream",
          "text": [
            "[2, 3, 5, 7, 11, 13, 17, 19, 23, 29, 31, 37]\n"
          ],
          "name": "stdout"
        }
      ]
    },
    {
      "cell_type": "markdown",
      "metadata": {
        "id": "eRa6ujaTexIE",
        "colab_type": "text"
      },
      "source": [
        "If we repeat this procedure enough times on a large enough list, we can generate as many primes as we wish.\n",
        "\n",
        "Let's encapsulate this logic in a generator function:\n",
        "\n",
        "十分に大きなリストでこの手順を十分に繰り返すと、必要なだけ素数を生成できます。\n",
        "\n",
        "このロジックをジェネレーター関数にカプセル化しましょう。"
      ]
    },
    {
      "cell_type": "code",
      "metadata": {
        "id": "Y9q1sYz2exIF",
        "colab_type": "code",
        "outputId": "8c1cf427-d5f8-40cc-fc24-fe5d5449fdeb",
        "colab": {
          "base_uri": "https://localhost:8080/",
          "height": 34
        }
      },
      "source": [
        "def gen_primes(N):\n",
        "    \"\"\"Generate primes up to N\"\"\"\n",
        "    primes = set()\n",
        "    for n in range(2, N):\n",
        "        if all(n % p > 0 for p in primes):\n",
        "            primes.add(n)\n",
        "            yield n\n",
        "\n",
        "print(*gen_primes(100))"
      ],
      "execution_count": 1,
      "outputs": [
        {
          "output_type": "stream",
          "text": [
            "2 3 5 7 11 13 17 19 23 29 31 37 41 43 47 53 59 61 67 71 73 79 83 89 97\n"
          ],
          "name": "stdout"
        }
      ]
    },
    {
      "cell_type": "markdown",
      "metadata": {
        "id": "UW6xT3KrexIH",
        "colab_type": "text"
      },
      "source": [
        "That's all there is to it!\n",
        "While this is certainly not the most computationally efficient implementation of the Sieve of Eratosthenes, it illustrates how convenient the generator function syntax can be for building more complicated sequences.\n",
        "\n",
        "これですべてです！\n",
        "これは確かにエラトステネスのふるいの最も計算効率の高い実装ではありませんが、より複雑なシーケンスを構築するためにジェネレーター関数構文がいかに便利であるかを示しています。"
      ]
    },
    {
      "cell_type": "markdown",
      "metadata": {
        "id": "C9hxSkaZexIH",
        "colab_type": "text"
      },
      "source": [
        "<!--NAVIGATION-->\n",
        "< [List Comprehensions](11-List-Comprehensions.ipynb) | [Contents](Index.ipynb) | [Modules and Packages](13-Modules-and-Packages.ipynb) >"
      ]
    }
  ]
}