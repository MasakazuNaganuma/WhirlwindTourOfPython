{
  "nbformat": 4,
  "nbformat_minor": 0,
  "metadata": {
    "anaconda-cloud": {},
    "kernelspec": {
      "display_name": "Python 3",
      "language": "python",
      "name": "python3"
    },
    "language_info": {
      "codemirror_mode": {
        "name": "ipython",
        "version": 3
      },
      "file_extension": ".py",
      "mimetype": "text/x-python",
      "name": "python",
      "nbconvert_exporter": "python",
      "pygments_lexer": "ipython3",
      "version": "3.5.1"
    },
    "colab": {
      "name": "01-How-to-Run-Python-Code.ipynb",
      "provenance": [],
      "toc_visible": true,
      "include_colab_link": true
    }
  },
  "cells": [
    {
      "cell_type": "markdown",
      "metadata": {
        "id": "view-in-github",
        "colab_type": "text"
      },
      "source": [
        "<a href=\"https://colab.research.google.com/github/MasakazuNaganuma/WhirlwindTourOfPython/blob/master/01-How-to-Run-Python-Code.ipynb\" target=\"_parent\"><img src=\"https://colab.research.google.com/assets/colab-badge.svg\" alt=\"Open In Colab\"/></a>"
      ]
    },
    {
      "cell_type": "markdown",
      "metadata": {
        "id": "nCy83HrccjlX",
        "colab_type": "text"
      },
      "source": [
        "<!--BOOK_INFORMATION-->\n",
        "<img align=\"left\" style=\"padding-right:10px;\" src=\"https://github.com/MasakazuNaganuma/WhirlwindTourOfPython/blob/master/fig/cover-small.jpg?raw=1\">\n",
        "*This notebook contains an excerpt from the [Whirlwind Tour of Python](http://www.oreilly.com/programming/free/a-whirlwind-tour-of-python.csp) by Jake VanderPlas; the content is available [on GitHub](https://github.com/jakevdp/WhirlwindTourOfPython).*\n",
        "\n",
        "*The text and code are released under the [CC0](https://github.com/jakevdp/WhirlwindTourOfPython/blob/master/LICENSE) license; see also the companion project, the [Python Data Science Handbook](https://github.com/jakevdp/PythonDataScienceHandbook).*\n"
      ]
    },
    {
      "cell_type": "markdown",
      "metadata": {
        "id": "pwNRW2C4cjle",
        "colab_type": "text"
      },
      "source": [
        "<!--NAVIGATION-->\n",
        "< [1. Introduction](00-Introduction.ipynb) | [Contents](Index.ipynb) | [A Quick Tour of Python Language Syntax](02-Basic-Python-Syntax.ipynb) >"
      ]
    },
    {
      "cell_type": "markdown",
      "metadata": {
        "id": "smCz2n7Ncjli",
        "colab_type": "text"
      },
      "source": [
        "# Pythonコードを実行する方法\n",
        "\n",
        "# How to Run Python Code"
      ]
    },
    {
      "cell_type": "markdown",
      "metadata": {
        "id": "ElRZr22jcjlo",
        "colab_type": "text"
      },
      "source": [
        "Pythonは柔軟な言語であり、特定のタスクに応じて使用する方法がいくつかあります。\n",
        "Pythonを他のプログラミング言語と区別する1つの点は、Pythonが**コンパイル**ではなく**解釈**されることです。\n",
        "これは、行ごとに実行されることを意味します。これにより、Fortran、C、Javaなどのコンパイル済み言語では直接実行できない方法でプログラミングをインタラクティブにすることができます。 このセクションでは、Pythonコードを実行する4つの主要な方法について説明します。**Pythonインタープリター**、**IPythonインタープリター**、**自己完結型スクリプト**、または**Jupyterノートブック**です。\n",
        "\n",
        "Python is a flexible language, and there are several ways to use it depending on your particular task.\n",
        "One thing that distinguishes Python from other programming languages is that it is *interpreted* rather than *compiled*.\n",
        "This means that it is executed line by line, which allows programming to be interactive in a way that is not directly possible with compiled languages like Fortran, C, or Java. This section will describe four primary ways you can run Python code: the *Python interpreter*, the *IPython interpreter*, via *Self-contained Scripts*, or in the *Jupyter notebook*."
      ]
    },
    {
      "cell_type": "markdown",
      "metadata": {
        "id": "-ddVS0kVcjls",
        "colab_type": "text"
      },
      "source": [
        "### Pythonインタープリター\n",
        "\n",
        "Pythonコードを実行する最も基本的な方法は、**Pythonインタープリター**内で行ごとに実行することです。\n",
        "Pythonインタープリターを開始するには、Python言語（前のセクションを参照）をインストールし、コマンドプロンプトで\"``python\"``と入力します（Mac OS XおよびUnix / Linuxシステムのターミナル、またはWindowsのコマンドプロンプトアプリケーションを探します）。 ）：\n",
        "```\n",
        "$ python\n",
        "Python 3.5.1 | Continuum Analytics、Inc. | （デフォルト、2015年12月7日、11：24：55）\n",
        "詳細については、「ヘルプ」、「著作権」、「クレジット」、または「ライセンス」と入力してください。\n",
        ">>>\n",
        "```\n",
        "インタープリターを実行すると、コードスニペットの入力と実行を開始できます。\n",
        "ここでは、インタープリターを単純な計算機として使用し、計算を実行して変数に値を割り当てます。\n",
        "```Python\n",
        ">>> 1 + 1\n",
        "2\n",
        ">>> x = 5\n",
        ">>> x * 3\n",
        "15\n",
        "```\n",
        "\n",
        "インタープリターを使用すると、Pythonコードの小さなスニペットを試して、短い操作シーケンスを試すことが非常に便利になります。\n",
        "\n",
        "### The Python Interpreter\n",
        "\n",
        "The most basic way to execute Python code is line by line within the *Python interpreter*.\n",
        "The Python interpreter can be started by installing the Python language (see the previous section) and typing ``python`` at the command prompt (look for the Terminal on Mac OS X and Unix/Linux systems, or the Command Prompt application in Windows):\n",
        "```\n",
        "$ python\n",
        "Python 3.5.1 |Continuum Analytics, Inc.| (default, Dec  7 2015, 11:24:55)\n",
        "Type \"help\", \"copyright\", \"credits\" or \"license\" for more information.\n",
        ">>>\n",
        "```\n",
        "With the interpreter running, you can begin to type and execute code snippets.\n",
        "Here we'll use the interpreter as a simple calculator, performing calculations and assigning values to variables:\n",
        "``` python\n",
        ">>> 1 + 1\n",
        "2\n",
        ">>> x = 5\n",
        ">>> x * 3\n",
        "15\n",
        "```\n",
        "\n",
        "The interpreter makes it very convenient to try out small snippets of Python code and to experiment with short sequences of operations."
      ]
    },
    {
      "cell_type": "markdown",
      "metadata": {
        "id": "WMBxncxycjlv",
        "colab_type": "text"
      },
      "source": [
        "### IPythonインタープリター\n",
        "\n",
        "基本的なPythonインタープリターに多くの時間を費やすと、本格的な対話型開発環境の機能の多くが不足していることがわかります。\n",
        "**IPython**（Interactive Python用）と呼ばれる代替インタープリターがAnacondaディストリビューションにバンドルされており、基本的なPythonインタープリターに対する便利な機能強化のホストが多数含まれています。\n",
        "コマンドプロンプトで `` ipython``と入力すると起動できます：\n",
        "```\n",
        "$ ipython\n",
        "Python 3.5.1 |Continuum Analytics, Inc.| (default, Dec  7 2015, 11:24:55) \n",
        "Type \"copyright\", \"credits\" or \"license\" for more information.\n",
        " \n",
        "IPython 4.0.0 -- An enhanced Interactive Python.\n",
        "?         -> Introduction and overview of IPython's features.\n",
        "%quickref -> Quick reference.\n",
        "help      -> Python's own help system.\n",
        "object?   -> Details about 'object', use 'object??' for extra details.\n",
        " \n",
        "In [1]: \n",
        "```\n",
        "Pythonインタープリターと拡張IPythonインタープリターの主な審美的な違いはコマンドプロンプトにあります。Pythonはデフォルトで ``>>>``を使用しますが、IPythonは番号付きのコマンドを使用します（たとえば ``In [1]：``）。\n",
        "いずれにしても、以前と同じようにコードを1行ずつ実行できます。\n",
        "```ipython\n",
        "[1]で：1 + 1\n",
        "Out [1]：2\n",
        "\n",
        "[2]の場合：x = 5\n",
        "\n",
        "[3]内：x * 3\n",
        "Out [3]：15\n",
        "```\n",
        "入力に番号が付けられているように、各コマンドの出力にも番号が付けられていることに注意してください。\n",
        "IPythonは、さまざまな便利な機能を利用できるようにします。詳しくは、[参考資料](16-Further-Resources.ipynb)を参照してください。\n",
        "\n",
        "### The IPython interpreter\n",
        "\n",
        "If you spend much time with the basic Python interpreter, you'll find that it lacks many of the features of a full-fledged interactive development environment.\n",
        "An alternative interpreter called *IPython* (for Interactive Python) is bundled with the Anaconda distribution, and includes a host of convenient enhancements to the basic Python interpreter.\n",
        "It can be started by typing ``ipython`` at the command prompt:\n",
        "```\n",
        "$ ipython\n",
        "Python 3.5.1 |Continuum Analytics, Inc.| (default, Dec  7 2015, 11:24:55) \n",
        "Type \"copyright\", \"credits\" or \"license\" for more information.\n",
        "\n",
        "IPython 4.0.0 -- An enhanced Interactive Python.\n",
        "?         -> Introduction and overview of IPython's features.\n",
        "%quickref -> Quick reference.\n",
        "help      -> Python's own help system.\n",
        "object?   -> Details about 'object', use 'object??' for extra details.\n",
        "\n",
        "In [1]: \n",
        "```\n",
        "The main aesthetic difference between the Python interpreter and the enhanced IPython interpreter lies in the command prompt: Python uses ``>>>`` by default, while IPython uses numbered commands (e.g. ``In [1]:``).\n",
        "Regardless, we can execute code line by line just as we did before:\n",
        "``` ipython\n",
        "In [1]: 1 + 1\n",
        "Out[1]: 2\n",
        "\n",
        "In [2]: x = 5\n",
        "\n",
        "In [3]: x * 3\n",
        "Out[3]: 15\n",
        "```\n",
        "Note that just as the input is numbered, the output of each command is numbered as well.\n",
        "IPython makes available a wide array of useful features; for some suggestions on where to read more, see [Resources for Further Learning](16-Further-Resources.ipynb)."
      ]
    },
    {
      "cell_type": "markdown",
      "metadata": {
        "id": "fo_fFsO8cjl7",
        "colab_type": "text"
      },
      "source": [
        "### 自己完結型のPythonスクリプト\n",
        "\n",
        "Pythonスニペットを1行ずつ実行すると便利な場合がありますが、より複雑なプログラムの場合は、コードをファイルに保存して一度に実行する方が便利です。\n",
        "慣例により、Pythonスクリプトは**.py**拡張子の付いたファイルに保存されます。\n",
        "たとえば、以下を含む**test.py**というスクリプトを作成してみましょう。\n",
        "``` python\n",
        "# file: test.py\n",
        "print(\"Running test.py\")\n",
        "x = 5\n",
        "print(\"Result is\", 3 * x)\n",
        "```\n",
        "このファイルを実行するには、現在のディレクトリにあることを確認し、コマンドプロンプトで ``python``  **`` filename ``** と入力します。\n",
        "```\n",
        "$ python test.py\n",
        "Running test.py\n",
        "Result is 15\n",
        "```\n",
        "より複雑なプログラムでは、このような自己完結型のスクリプトを作成する必要があります。\n",
        "\n",
        "### Self-contained Python scripts\n",
        "\n",
        "Running Python snippets line by line is useful in some cases, but for more complicated programs it is more convenient to save code to file, and execute it all at once.\n",
        "By convention, Python scripts are saved in files with a *.py* extension.\n",
        "For example, let's create a script called *test.py* which contains the following:\n",
        "``` python\n",
        "# file: test.py\n",
        "print(\"Running test.py\")\n",
        "x = 5\n",
        "print(\"Result is\", 3 * x)\n",
        "```\n",
        "To run this file, we make sure it is in the current directory and type ``python`` *``filename``* at the command prompt:\n",
        "```\n",
        "$ python test.py\n",
        "Running test.py\n",
        "Result is 15\n",
        "```\n",
        "For more complicated programs, creating self-contained scripts like this one is a must."
      ]
    },
    {
      "cell_type": "markdown",
      "metadata": {
        "id": "SAvcZlzDcjl_",
        "colab_type": "text"
      },
      "source": [
        "### Jupyterノートブック\n",
        "\n",
        "インタラクティブターミナルと自己完結型スクリプトの便利なハイブリッドは、**Jupyterノートブック**です。これは、実行可能コード、フォーマットされたテキスト、グラフィックス、さらにはインタラクティブ機能を1つのドキュメントに結合できるドキュメントフォーマットです。\n",
        "ノートブックはPythonのみの形式として始まりましたが、それ以来、多数のプログラミング言語と互換性があり、現在は[ **Jupyter Project** ](https://jupyter.org/)の重要な部分になっています。\n",
        "このノートブックは、開発環境としても、コード、図、データ、テキストを組み合わせた豊富な計算およびデータ駆動型のナラティブを介して作業を共有する手段としても役立ちます。\n",
        "\n",
        "### The Jupyter notebook\n",
        "\n",
        "A useful hybrid of the interactive terminal and the self-contained script is the *Jupyter notebook*, a document format that allows executable code, formatted text, graphics, and even interactive features to be combined into a single document.\n",
        "Though the notebook began as a Python-only format, it has since been made compatible with a large number of programming languages, and is now an essential part of the [*Jupyter Project*](https://jupyter.org/).\n",
        "The notebook is useful both as a development environment, and as a means of sharing work via rich computational and data-driven narratives that mix together code, figures, data, and text."
      ]
    },
    {
      "cell_type": "markdown",
      "metadata": {
        "id": "9E2uQJXacjmC",
        "colab_type": "text"
      },
      "source": [
        "<!--NAVIGATION-->\n",
        "< [1. Introduction](00-Introduction.ipynb) | [Contents](Index.ipynb) | [A Quick Tour of Python Language Syntax](02-Basic-Python-Syntax.ipynb) >"
      ]
    }
  ]
}